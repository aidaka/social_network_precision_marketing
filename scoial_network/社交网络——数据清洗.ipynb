{
 "cells": [
  {
   "cell_type": "code",
   "execution_count": 1,
   "metadata": {
    "collapsed": true
   },
   "outputs": [],
   "source": [
    "%matplotlib  inline\n",
    "import pandas as pd\n",
    "import numpy as np\n",
    "import os\n",
    "import gc\n"
   ]
  },
  {
   "cell_type": "markdown",
   "metadata": {},
   "source": [
    "###  数据读入"
   ]
  },
  {
   "cell_type": "code",
   "execution_count": 8,
   "metadata": {
    "collapsed": false
   },
   "outputs": [
    {
     "data": {
      "text/plain": [
       "['mobi_call_record_0801_0830_1_2.csv',\n",
       " 'mobi_call_record_1130_1215.csv',\n",
       " 'mobi_call_record_1216_1225.csv',\n",
       " 'mobi_call_record_1014_1107_1_2_3.csv',\n",
       " 'mobi_call_record_0801_0830.csv',\n",
       " 'mobi_call_record_1130_1215_1_2.csv',\n",
       " 'mobi_call_record_0801_0830_1.csv',\n",
       " 'mobi_call_record_0831_0918_1.csv',\n",
       " 'mobi_call_record_1216_1225_1.csv',\n",
       " 'mobi_call_record_1014_1107.csv',\n",
       " 'mobi_call_record_0801_0830_1_2_3.csv',\n",
       " 'record_0422_0731_ad',\n",
       " 'mobi_call_record_1108_1129.csv',\n",
       " 'record_0422_0731_ab',\n",
       " 'mobi_call_record_0422_0731.csv',\n",
       " 'mobi_call_record_0831_0918.csv',\n",
       " 'mobi_call_record_0919_1013_1_2_3_4.csv',\n",
       " 'mobi_call_record_1108_1129_1_2_3.csv',\n",
       " 'mobi_call_record_0919_1013.csv',\n",
       " 'mobi_call_record_1108_1129_1_2.csv',\n",
       " 'mobi_call_record_1130_1215_1_2_3.csv',\n",
       " 'mobi_call_record_1108_1129_1.csv',\n",
       " 'mobi_call_record_0919_1013_1_2.csv',\n",
       " 'mobi_call_record_0919_1013_1_2_3.csv',\n",
       " 'mobi_call_record_1014_1107_1.csv',\n",
       " 'mobi_call_record_1216_1225_1_2.csv',\n",
       " 'mobi_call_record_1014_1107_1_2.csv',\n",
       " 'record_0422_0731_ac',\n",
       " 'mobi_call_record_0919_1013_1.csv',\n",
       " 'mobi_call_record_1130_1215_1.csv',\n",
       " 'record_0422_0731_aa']"
      ]
     },
     "execution_count": 8,
     "metadata": {},
     "output_type": "execute_result"
    }
   ],
   "source": [
    "filepath=\"../custorm_age_state/data/mobi\"\n",
    "file_list=os.listdir(filepath)\n",
    "file_list"
   ]
  },
  {
   "cell_type": "code",
   "execution_count": 7,
   "metadata": {
    "collapsed": false
   },
   "outputs": [
    {
     "name": "stdout",
     "output_type": "stream",
     "text": [
      "../custorm_age_state/data/mobi/mobi_call_record_0831_0918.csv\n"
     ]
    },
    {
     "name": "stderr",
     "output_type": "stream",
     "text": [
      "<string>:2: DtypeWarning: Columns (6) have mixed types. Specify dtype option on import or set low_memory=False.\n"
     ]
    },
    {
     "name": "stdout",
     "output_type": "stream",
     "text": [
      "数据重合率为： 1.0\n",
      "../custorm_age_state/data/mobi/mobi_call_record_0919_1013_1_2_3_4.csv\n",
      "数据重合率为： 1.0\n",
      "../custorm_age_state/data/mobi/mobi_call_record_1108_1129_1_2_3.csv\n",
      "数据重合率为： 1.03418169825\n",
      "../custorm_age_state/data/mobi/mobi_call_record_0919_1013.csv\n",
      "数据重合率为： 1.0\n",
      "../custorm_age_state/data/mobi/mobi_call_record_1108_1129_1_2.csv\n",
      "数据重合率为： 1.04941186984\n",
      "../custorm_age_state/data/mobi/mobi_call_record_1130_1215_1_2_3.csv\n"
     ]
    },
    {
     "name": "stderr",
     "output_type": "stream",
     "text": [
      "<string>:2: DtypeWarning: Columns (3,4,6) have mixed types. Specify dtype option on import or set low_memory=False.\n"
     ]
    },
    {
     "name": "stdout",
     "output_type": "stream",
     "text": [
      "数据重合率为： 1.30639784533\n",
      "../custorm_age_state/data/mobi/mobi_call_record_1108_1129_1.csv\n",
      "数据重合率为： 1.0524099138\n",
      "../custorm_age_state/data/mobi/mobi_call_record_0919_1013_1_2.csv\n",
      "数据重合率为： 1.0\n",
      "../custorm_age_state/data/mobi/mobi_call_record_0919_1013_1_2_3.csv\n",
      "数据重合率为： 1.0\n",
      "../custorm_age_state/data/mobi/mobi_call_record_1014_1107_1.csv\n",
      "数据重合率为： 1.02126746793\n",
      "../custorm_age_state/data/mobi/mobi_call_record_1216_1225_1_2.csv\n",
      "数据重合率为： 1.59117632481\n",
      "../custorm_age_state/data/mobi/mobi_call_record_1014_1107_1_2.csv\n",
      "数据重合率为： 1.02282734889\n",
      "../custorm_age_state/data/mobi/mobi_call_record_0919_1013_1.csv\n",
      "数据重合率为： 1.0\n",
      "../custorm_age_state/data/mobi/mobi_call_record_1130_1215_1.csv\n",
      "数据重合率为： 1.30600559143\n",
      "CPU times: user 1h 8min 58s, sys: 3min 1s, total: 1h 11min 59s\n",
      "Wall time: 1h 13min 1s\n"
     ]
    }
   ],
   "source": [
    "%%time\n",
    "for csv in file_list[-14:]:\n",
    "    filename=filepath+\"/\"+csv\n",
    "    print filename\n",
    "    sample=pd.read_csv(filename,index_col=0)\n",
    "    pre=float(sample.shape[0])\n",
    "    sample.drop_duplicates(subset=[\"custorm_id\",\"phone_contact\",\"time_contact\"],inplace=True)\n",
    "    print \"数据重合率为：\",pre/sample.shape[0]\n",
    "    sample.to_csv(filename)\n",
    "    del sample\n",
    "    gc.collect()\n",
    "    "
   ]
  },
  {
   "cell_type": "markdown",
   "metadata": {},
   "source": [
    "###   数据质量观察"
   ]
  },
  {
   "cell_type": "code",
   "execution_count": 16,
   "metadata": {
    "collapsed": false
   },
   "outputs": [],
   "source": [
    "sample.drop_duplicates(subset=[\"custorm_id\",\"phone_contact\",\"time_contact\"],inplace=True)"
   ]
  },
  {
   "cell_type": "code",
   "execution_count": 18,
   "metadata": {
    "collapsed": false
   },
   "outputs": [
    {
     "data": {
      "text/plain": [
       "0.7652948842729971"
      ]
     },
     "execution_count": 18,
     "metadata": {},
     "output_type": "execute_result"
    }
   ],
   "source": [
    "sample.shape[0]/84250000.0"
   ]
  },
  {
   "cell_type": "code",
   "execution_count": 20,
   "metadata": {
    "collapsed": false
   },
   "outputs": [
    {
     "ename": "NameError",
     "evalue": "name 'sample' is not defined",
     "output_type": "error",
     "traceback": [
      "\u001b[1;31m---------------------------------------------------------------------------\u001b[0m",
      "\u001b[1;31mNameError\u001b[0m                                 Traceback (most recent call last)",
      "\u001b[1;32m<ipython-input-20-a249223e4a92>\u001b[0m in \u001b[0;36m<module>\u001b[1;34m()\u001b[0m\n\u001b[1;32m----> 1\u001b[1;33m \u001b[1;32mdel\u001b[0m \u001b[0msample\u001b[0m\u001b[1;33m\u001b[0m\u001b[0m\n\u001b[0m",
      "\u001b[1;31mNameError\u001b[0m: name 'sample' is not defined"
     ]
    }
   ],
   "source": [
    "del sample\n"
   ]
  }
 ],
 "metadata": {
  "kernelspec": {
   "display_name": "Python [Root]",
   "language": "python",
   "name": "Python [Root]"
  },
  "language_info": {
   "codemirror_mode": {
    "name": "ipython",
    "version": 2
   },
   "file_extension": ".py",
   "mimetype": "text/x-python",
   "name": "python",
   "nbconvert_exporter": "python",
   "pygments_lexer": "ipython2",
   "version": "2.7.12"
  }
 },
 "nbformat": 4,
 "nbformat_minor": 0
}

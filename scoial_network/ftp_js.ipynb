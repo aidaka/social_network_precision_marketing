{
 "cells": [
  {
   "cell_type": "markdown",
   "metadata": {},
   "source": [
    "##  python实现支持目录FTP上传下载文件的方法"
   ]
  },
  {
   "cell_type": "code",
   "execution_count": 2,
   "metadata": {
    "collapsed": false
   },
   "outputs": [],
   "source": [
    "import ftplib\n",
    "import os\n",
    "import sys\n",
    "class FTPSync(object):\n",
    "  conn = ftplib.FTP()\n",
    "  def __init__(self,host,port=1990):    \n",
    "    self.conn.connect(host,port)   \n",
    "\n",
    "#   def login(self,username,password):\n",
    "#     self.conn.login(username,password)\n",
    "#     self.conn.set_pasv(False)\n",
    "#     print self.conn.welcome\n",
    "  def login(self):\n",
    "    self.conn.login()\n",
    "    self.conn.set_pasv(False)\n",
    "    print self.conn.welcome\n",
    "    \n",
    "  def test(self,ftp_path):\n",
    "    print ftp_path\n",
    "    print self._is_ftp_dir(ftp_path)\n",
    "    #print self.conn.nlst(ftp_path)\n",
    "    #self.conn.retrlines( 'LIST ./a/b')\n",
    "    #ftp_parent_path = os.path.dirname(ftp_path)\n",
    "    #ftp_dir_name = os.path.basename(ftp_path)\n",
    "    #print ftp_parent_path\n",
    "    #print ftp_dir_name\n",
    "  def _is_ftp_file(self,ftp_path):\n",
    "    try:\n",
    "      if ftp_path in self.conn.nlst(os.path.dirname(ftp_path)):\n",
    "        return True\n",
    "      else:\n",
    "        return False\n",
    "    except ftplib.error_perm,e:\n",
    "      return False\n",
    "  def _ftp_list(self, line):\n",
    "    list = line.split(' ')\n",
    "    if self.ftp_dir_name==list[-1] and list[0].startswith('d'):\n",
    "      self._is_dir = True\n",
    "    \n",
    "  def _is_ftp_dir(self,ftp_path):\n",
    "    ftp_path = ftp_path.rstrip('/')\n",
    "    ftp_parent_path = os.path.dirname(ftp_path)\n",
    "    self.ftp_dir_name = os.path.basename(ftp_path)\n",
    "    self._is_dir = False\n",
    "    if ftp_path == '.' or ftp_path== './' or ftp_path=='':\n",
    "      self._is_dir = True\n",
    "    else:\n",
    "      #this ues callback function ,that will change _is_dir value\n",
    "      try:\n",
    "        self.conn.retrlines('LIST %s' %ftp_parent_path,self._ftp_list)\n",
    "      except ftplib.error_perm,e:\n",
    "        return self._is_dir    \n",
    "    return self._is_dir\n",
    "  def get_file(self,ftp_path,local_path='.'):\n",
    "    ftp_path = ftp_path.rstrip('/')\n",
    "    if self._is_ftp_file(ftp_path):    \n",
    "      file_name = os.path.basename(ftp_path)\n",
    "      #如果本地路径是目录，下载文件到该目录\n",
    "      if os.path.isdir(local_path):\n",
    "        file_handler = open(os.path.join(local_path,file_name), 'wb' )\n",
    "        self.conn.retrbinary(\"RETR %s\" %(ftp_path), file_handler.write) \n",
    "        file_handler.close()\n",
    "      #如果本地路径不是目录，但上层目录存在，则按照本地路径的文件名作为下载的文件名称\n",
    "      elif os.path.isdir(os.path.dirname(local_path)):\n",
    "        file_handler = open(local_path, 'wb' )\n",
    "        self.conn.retrbinary(\"RETR %s\" %(ftp_path), file_handler.write) \n",
    "        file_handler.close()\n",
    "      #如果本地路径不是目录，且上层目录不存在，则退出\n",
    "      else:\n",
    "        print 'EROOR:The dir:%s is not exist' %os.path.dirname(local_path)\n",
    "    else:\n",
    "      print 'EROOR:The ftp file:%s is not exist' %ftp_path\n",
    "  def put_file(self,local_path,ftp_path='.'):\n",
    "    ftp_path = ftp_path.rstrip('/')\n",
    "    if os.path.isfile( local_path ):           \n",
    "      file_handler = open(local_path, \"r\")\n",
    "      local_file_name = os.path.basename(local_path)\n",
    "      #如果远程路径是个目录，则上传文件到这个目录，文件名不变\n",
    "      if self._is_ftp_dir(ftp_path):\n",
    "        self.conn.storbinary('STOR %s'%os.path.join(ftp_path,local_file_name), file_handler)\n",
    "      #如果远程路径的上层是个目录，则上传文件，文件名按照给定命名\n",
    "      elif self._is_ftp_dir(os.path.dirname(ftp_path)): \n",
    "        print 'STOR %s'%ftp_path        \n",
    "        self.conn.storbinary('STOR %s'%ftp_path, file_handler)\n",
    "      #如果远程路径不是目录，且上一层的目录也不存在，则提示给定远程路径错误\n",
    "      else:        \n",
    "        print 'EROOR:The ftp path:%s is error' %ftp_path\n",
    "      file_handler.close()\n",
    "    else:\n",
    "      print 'ERROR:The file:%s is not exist' %local_path\n",
    "  def get_dir(self,ftp_path,local_path='.',begin=True): \n",
    "    ftp_path = ftp_path.rstrip('/')\n",
    "    #当ftp目录存在时下载    \n",
    "    if self._is_ftp_dir(ftp_path):\n",
    "      #如果下载到本地当前目录下，并创建目录\n",
    "      #下载初始化：如果给定的本地路径不存在需要创建，同时将ftp的目录存放在给定的本地目录下。\n",
    "      #ftp目录下文件存放的路径为local_path=local_path+os.path.basename(ftp_path)\n",
    "      #例如：将ftp文件夹a下载到本地的a/b目录下，则ftp的a目录下的文件将下载到本地的a/b/a目录下\n",
    "      if begin:\n",
    "        if not os.path.isdir(local_path):\n",
    "          os.makedirs(local_path)\n",
    "        local_path=os.path.join(local_path,os.path.basename(ftp_path))\n",
    "      #如果本地目录不存在，则创建目录\n",
    "      if not os.path.isdir(local_path):\n",
    "        os.makedirs(local_path)\n",
    "      #进入ftp目录，开始递归查询\n",
    "      self.conn.cwd(ftp_path)\n",
    "      ftp_files = self.conn.nlst()\n",
    "      for file in ftp_files:\n",
    "        local_file = os.path.join(local_path, file)\n",
    "        #如果file ftp路径是目录则递归上传目录（不需要再进行初始化begin的标志修改为False）\n",
    "        #如果file ftp路径是文件则直接上传文件\n",
    "        if self._is_ftp_dir(file):\n",
    "          self.get_dir(file,local_file,False)\n",
    "        else:\n",
    "          self.get_file(file,local_file)\n",
    "      #如果当前ftp目录文件已经遍历完毕返回上一层目录\n",
    "      self.conn.cwd( \"..\" )\n",
    "      return\n",
    "    else:\n",
    "      print 'ERROR:The dir:%s is not exist' %ftp_path\n",
    "      return\n",
    " \n",
    "  def put_dir(self,local_path,ftp_path='.',begin=True):\n",
    "    ftp_path = ftp_path.rstrip('/')\n",
    "    #当本地目录存在时上传\n",
    "    if os.path.isdir(local_path):      \n",
    "      #上传初始化：如果给定的ftp路径不存在需要创建，同时将本地的目录存放在给定的ftp目录下。\n",
    "      #本地目录下文件存放的路径为ftp_path=ftp_path+os.path.basename(local_path)\n",
    "      #例如：将本地文件夹a上传到ftp的a/b目录下，则本地a目录下的文件将上传的ftp的a/b/a目录下\n",
    "      if begin:        \n",
    "        if not self._is_ftp_dir(ftp_path):\n",
    "          self.conn.mkd(ftp_path)\n",
    "        ftp_path=os.path.join(ftp_path,os.path.basename(local_path))          \n",
    "      #如果ftp路径不是目录，则创建目录\n",
    "      if not self._is_ftp_dir(ftp_path):\n",
    "        self.conn.mkd(ftp_path)\n",
    " \n",
    "      #进入本地目录，开始递归查询\n",
    "      os.chdir(local_path)\n",
    "      local_files = os.listdir('.')\n",
    "      for file in local_files:\n",
    "        #如果file本地路径是目录则递归上传目录（不需要再进行初始化begin的标志修改为False）\n",
    "        #如果file本地路径是文件则直接上传文件\n",
    "        if os.path.isdir(file):          \n",
    "          ftp_path=os.path.join(ftp_path,file)\n",
    "          self.put_dir(file,ftp_path,False)\n",
    "        else:\n",
    "          self.put_file(file,ftp_path)\n",
    "      #如果当前本地目录文件已经遍历完毕返回上一层目录\n",
    "      os.chdir( \"..\" )\n",
    "    else:\n",
    "      print 'ERROR:The dir:%s is not exist' %local_path\n",
    "      return\n",
    "\n",
    "    "
   ]
  },
  {
   "cell_type": "code",
   "execution_count": 5,
   "metadata": {
    "collapsed": false
   },
   "outputs": [
    {
     "name": "stdout",
     "output_type": "stream",
     "text": [
      "220 pyftpdlib 1.5.1 ready.\n"
     ]
    },
    {
     "ename": "error_temp",
     "evalue": "421 Active data channel timed out.",
     "output_type": "error",
     "traceback": [
      "\u001b[1;31m---------------------------------------------------------------------------\u001b[0m",
      "\u001b[1;31merror_temp\u001b[0m                                Traceback (most recent call last)",
      "\u001b[1;32m<ipython-input-5-b0168a2050e4>\u001b[0m in \u001b[0;36m<module>\u001b[1;34m()\u001b[0m\n\u001b[0;32m      2\u001b[0m \u001b[0mftp\u001b[0m\u001b[1;33m.\u001b[0m\u001b[0mlogin\u001b[0m\u001b[1;33m(\u001b[0m\u001b[1;33m)\u001b[0m\u001b[1;33m\u001b[0m\u001b[0m\n\u001b[0;32m      3\u001b[0m \u001b[1;31m#上传文件，不重命名\u001b[0m\u001b[1;33m\u001b[0m\u001b[1;33m\u001b[0m\u001b[0m\n\u001b[1;32m----> 4\u001b[1;33m \u001b[0mftp\u001b[0m\u001b[1;33m.\u001b[0m\u001b[0mput_file\u001b[0m\u001b[1;33m(\u001b[0m\u001b[1;34m'crawler_mobi_call_record_hive.csv'\u001b[0m\u001b[1;33m,\u001b[0m\u001b[1;34m'/'\u001b[0m\u001b[1;33m)\u001b[0m\u001b[1;33m\u001b[0m\u001b[0m\n\u001b[0m\u001b[0;32m      5\u001b[0m \u001b[1;31m#上传文件，重命名\u001b[0m\u001b[1;33m\u001b[0m\u001b[1;33m\u001b[0m\u001b[0m\n\u001b[0;32m      6\u001b[0m \u001b[1;31m#ftp.put_file('111.txt','a/112.txt')\u001b[0m\u001b[1;33m\u001b[0m\u001b[1;33m\u001b[0m\u001b[0m\n",
      "\u001b[1;32m<ipython-input-2-377e7950abf4>\u001b[0m in \u001b[0;36mput_file\u001b[1;34m(self, local_path, ftp_path)\u001b[0m\n\u001b[0;32m     78\u001b[0m       \u001b[1;31m#如果远程路径是个目录，则上传文件到这个目录，文件名不变\u001b[0m\u001b[1;33m\u001b[0m\u001b[1;33m\u001b[0m\u001b[0m\n\u001b[0;32m     79\u001b[0m       \u001b[1;32mif\u001b[0m \u001b[0mself\u001b[0m\u001b[1;33m.\u001b[0m\u001b[0m_is_ftp_dir\u001b[0m\u001b[1;33m(\u001b[0m\u001b[0mftp_path\u001b[0m\u001b[1;33m)\u001b[0m\u001b[1;33m:\u001b[0m\u001b[1;33m\u001b[0m\u001b[0m\n\u001b[1;32m---> 80\u001b[1;33m         \u001b[0mself\u001b[0m\u001b[1;33m.\u001b[0m\u001b[0mconn\u001b[0m\u001b[1;33m.\u001b[0m\u001b[0mstorbinary\u001b[0m\u001b[1;33m(\u001b[0m\u001b[1;34m'STOR %s'\u001b[0m\u001b[1;33m%\u001b[0m\u001b[0mos\u001b[0m\u001b[1;33m.\u001b[0m\u001b[0mpath\u001b[0m\u001b[1;33m.\u001b[0m\u001b[0mjoin\u001b[0m\u001b[1;33m(\u001b[0m\u001b[0mftp_path\u001b[0m\u001b[1;33m,\u001b[0m\u001b[0mlocal_file_name\u001b[0m\u001b[1;33m)\u001b[0m\u001b[1;33m,\u001b[0m \u001b[0mfile_handler\u001b[0m\u001b[1;33m)\u001b[0m\u001b[1;33m\u001b[0m\u001b[0m\n\u001b[0m\u001b[0;32m     81\u001b[0m       \u001b[1;31m#如果远程路径的上层是个目录，则上传文件，文件名按照给定命名\u001b[0m\u001b[1;33m\u001b[0m\u001b[1;33m\u001b[0m\u001b[0m\n\u001b[0;32m     82\u001b[0m       \u001b[1;32melif\u001b[0m \u001b[0mself\u001b[0m\u001b[1;33m.\u001b[0m\u001b[0m_is_ftp_dir\u001b[0m\u001b[1;33m(\u001b[0m\u001b[0mos\u001b[0m\u001b[1;33m.\u001b[0m\u001b[0mpath\u001b[0m\u001b[1;33m.\u001b[0m\u001b[0mdirname\u001b[0m\u001b[1;33m(\u001b[0m\u001b[0mftp_path\u001b[0m\u001b[1;33m)\u001b[0m\u001b[1;33m)\u001b[0m\u001b[1;33m:\u001b[0m\u001b[1;33m\u001b[0m\u001b[0m\n",
      "\u001b[1;32m/usr/bin/anaconda2/lib/python2.7/ftplib.pyc\u001b[0m in \u001b[0;36mstorbinary\u001b[1;34m(self, cmd, fp, blocksize, callback, rest)\u001b[0m\n\u001b[0;32m    469\u001b[0m         \"\"\"\n\u001b[0;32m    470\u001b[0m         \u001b[0mself\u001b[0m\u001b[1;33m.\u001b[0m\u001b[0mvoidcmd\u001b[0m\u001b[1;33m(\u001b[0m\u001b[1;34m'TYPE I'\u001b[0m\u001b[1;33m)\u001b[0m\u001b[1;33m\u001b[0m\u001b[0m\n\u001b[1;32m--> 471\u001b[1;33m         \u001b[0mconn\u001b[0m \u001b[1;33m=\u001b[0m \u001b[0mself\u001b[0m\u001b[1;33m.\u001b[0m\u001b[0mtransfercmd\u001b[0m\u001b[1;33m(\u001b[0m\u001b[0mcmd\u001b[0m\u001b[1;33m,\u001b[0m \u001b[0mrest\u001b[0m\u001b[1;33m)\u001b[0m\u001b[1;33m\u001b[0m\u001b[0m\n\u001b[0m\u001b[0;32m    472\u001b[0m         \u001b[1;32mwhile\u001b[0m \u001b[1;36m1\u001b[0m\u001b[1;33m:\u001b[0m\u001b[1;33m\u001b[0m\u001b[0m\n\u001b[0;32m    473\u001b[0m             \u001b[0mbuf\u001b[0m \u001b[1;33m=\u001b[0m \u001b[0mfp\u001b[0m\u001b[1;33m.\u001b[0m\u001b[0mread\u001b[0m\u001b[1;33m(\u001b[0m\u001b[0mblocksize\u001b[0m\u001b[1;33m)\u001b[0m\u001b[1;33m\u001b[0m\u001b[0m\n",
      "\u001b[1;32m/usr/bin/anaconda2/lib/python2.7/ftplib.pyc\u001b[0m in \u001b[0;36mtransfercmd\u001b[1;34m(self, cmd, rest)\u001b[0m\n\u001b[0;32m    374\u001b[0m     \u001b[1;32mdef\u001b[0m \u001b[0mtransfercmd\u001b[0m\u001b[1;33m(\u001b[0m\u001b[0mself\u001b[0m\u001b[1;33m,\u001b[0m \u001b[0mcmd\u001b[0m\u001b[1;33m,\u001b[0m \u001b[0mrest\u001b[0m\u001b[1;33m=\u001b[0m\u001b[0mNone\u001b[0m\u001b[1;33m)\u001b[0m\u001b[1;33m:\u001b[0m\u001b[1;33m\u001b[0m\u001b[0m\n\u001b[0;32m    375\u001b[0m         \u001b[1;34m\"\"\"Like ntransfercmd() but returns only the socket.\"\"\"\u001b[0m\u001b[1;33m\u001b[0m\u001b[0m\n\u001b[1;32m--> 376\u001b[1;33m         \u001b[1;32mreturn\u001b[0m \u001b[0mself\u001b[0m\u001b[1;33m.\u001b[0m\u001b[0mntransfercmd\u001b[0m\u001b[1;33m(\u001b[0m\u001b[0mcmd\u001b[0m\u001b[1;33m,\u001b[0m \u001b[0mrest\u001b[0m\u001b[1;33m)\u001b[0m\u001b[1;33m[\u001b[0m\u001b[1;36m0\u001b[0m\u001b[1;33m]\u001b[0m\u001b[1;33m\u001b[0m\u001b[0m\n\u001b[0m\u001b[0;32m    377\u001b[0m \u001b[1;33m\u001b[0m\u001b[0m\n\u001b[0;32m    378\u001b[0m     \u001b[1;32mdef\u001b[0m \u001b[0mlogin\u001b[0m\u001b[1;33m(\u001b[0m\u001b[0mself\u001b[0m\u001b[1;33m,\u001b[0m \u001b[0muser\u001b[0m \u001b[1;33m=\u001b[0m \u001b[1;34m''\u001b[0m\u001b[1;33m,\u001b[0m \u001b[0mpasswd\u001b[0m \u001b[1;33m=\u001b[0m \u001b[1;34m''\u001b[0m\u001b[1;33m,\u001b[0m \u001b[0macct\u001b[0m \u001b[1;33m=\u001b[0m \u001b[1;34m''\u001b[0m\u001b[1;33m)\u001b[0m\u001b[1;33m:\u001b[0m\u001b[1;33m\u001b[0m\u001b[0m\n",
      "\u001b[1;32m/usr/bin/anaconda2/lib/python2.7/ftplib.pyc\u001b[0m in \u001b[0;36mntransfercmd\u001b[1;34m(self, cmd, rest)\u001b[0m\n\u001b[0;32m    352\u001b[0m                 \u001b[1;32mraise\u001b[0m\u001b[1;33m\u001b[0m\u001b[0m\n\u001b[0;32m    353\u001b[0m         \u001b[1;32melse\u001b[0m\u001b[1;33m:\u001b[0m\u001b[1;33m\u001b[0m\u001b[0m\n\u001b[1;32m--> 354\u001b[1;33m             \u001b[0msock\u001b[0m \u001b[1;33m=\u001b[0m \u001b[0mself\u001b[0m\u001b[1;33m.\u001b[0m\u001b[0mmakeport\u001b[0m\u001b[1;33m(\u001b[0m\u001b[1;33m)\u001b[0m\u001b[1;33m\u001b[0m\u001b[0m\n\u001b[0m\u001b[0;32m    355\u001b[0m             \u001b[1;32mtry\u001b[0m\u001b[1;33m:\u001b[0m\u001b[1;33m\u001b[0m\u001b[0m\n\u001b[0;32m    356\u001b[0m                 \u001b[1;32mif\u001b[0m \u001b[0mrest\u001b[0m \u001b[1;32mis\u001b[0m \u001b[1;32mnot\u001b[0m \u001b[0mNone\u001b[0m\u001b[1;33m:\u001b[0m\u001b[1;33m\u001b[0m\u001b[0m\n",
      "\u001b[1;32m/usr/bin/anaconda2/lib/python2.7/ftplib.pyc\u001b[0m in \u001b[0;36mmakeport\u001b[1;34m(self)\u001b[0m\n\u001b[0;32m    301\u001b[0m         \u001b[0mhost\u001b[0m \u001b[1;33m=\u001b[0m \u001b[0mself\u001b[0m\u001b[1;33m.\u001b[0m\u001b[0msock\u001b[0m\u001b[1;33m.\u001b[0m\u001b[0mgetsockname\u001b[0m\u001b[1;33m(\u001b[0m\u001b[1;33m)\u001b[0m\u001b[1;33m[\u001b[0m\u001b[1;36m0\u001b[0m\u001b[1;33m]\u001b[0m \u001b[1;31m# Get proper host\u001b[0m\u001b[1;33m\u001b[0m\u001b[0m\n\u001b[0;32m    302\u001b[0m         \u001b[1;32mif\u001b[0m \u001b[0mself\u001b[0m\u001b[1;33m.\u001b[0m\u001b[0maf\u001b[0m \u001b[1;33m==\u001b[0m \u001b[0msocket\u001b[0m\u001b[1;33m.\u001b[0m\u001b[0mAF_INET\u001b[0m\u001b[1;33m:\u001b[0m\u001b[1;33m\u001b[0m\u001b[0m\n\u001b[1;32m--> 303\u001b[1;33m             \u001b[0mresp\u001b[0m \u001b[1;33m=\u001b[0m \u001b[0mself\u001b[0m\u001b[1;33m.\u001b[0m\u001b[0msendport\u001b[0m\u001b[1;33m(\u001b[0m\u001b[0mhost\u001b[0m\u001b[1;33m,\u001b[0m \u001b[0mport\u001b[0m\u001b[1;33m)\u001b[0m\u001b[1;33m\u001b[0m\u001b[0m\n\u001b[0m\u001b[0;32m    304\u001b[0m         \u001b[1;32melse\u001b[0m\u001b[1;33m:\u001b[0m\u001b[1;33m\u001b[0m\u001b[0m\n\u001b[0;32m    305\u001b[0m             \u001b[0mresp\u001b[0m \u001b[1;33m=\u001b[0m \u001b[0mself\u001b[0m\u001b[1;33m.\u001b[0m\u001b[0msendeprt\u001b[0m\u001b[1;33m(\u001b[0m\u001b[0mhost\u001b[0m\u001b[1;33m,\u001b[0m \u001b[0mport\u001b[0m\u001b[1;33m)\u001b[0m\u001b[1;33m\u001b[0m\u001b[0m\n",
      "\u001b[1;32m/usr/bin/anaconda2/lib/python2.7/ftplib.pyc\u001b[0m in \u001b[0;36msendport\u001b[1;34m(self, host, port)\u001b[0m\n\u001b[0;32m    262\u001b[0m         \u001b[0mbytes\u001b[0m \u001b[1;33m=\u001b[0m \u001b[0mhbytes\u001b[0m \u001b[1;33m+\u001b[0m \u001b[0mpbytes\u001b[0m\u001b[1;33m\u001b[0m\u001b[0m\n\u001b[0;32m    263\u001b[0m         \u001b[0mcmd\u001b[0m \u001b[1;33m=\u001b[0m \u001b[1;34m'PORT '\u001b[0m \u001b[1;33m+\u001b[0m \u001b[1;34m','\u001b[0m\u001b[1;33m.\u001b[0m\u001b[0mjoin\u001b[0m\u001b[1;33m(\u001b[0m\u001b[0mbytes\u001b[0m\u001b[1;33m)\u001b[0m\u001b[1;33m\u001b[0m\u001b[0m\n\u001b[1;32m--> 264\u001b[1;33m         \u001b[1;32mreturn\u001b[0m \u001b[0mself\u001b[0m\u001b[1;33m.\u001b[0m\u001b[0mvoidcmd\u001b[0m\u001b[1;33m(\u001b[0m\u001b[0mcmd\u001b[0m\u001b[1;33m)\u001b[0m\u001b[1;33m\u001b[0m\u001b[0m\n\u001b[0m\u001b[0;32m    265\u001b[0m \u001b[1;33m\u001b[0m\u001b[0m\n\u001b[0;32m    266\u001b[0m     \u001b[1;32mdef\u001b[0m \u001b[0msendeprt\u001b[0m\u001b[1;33m(\u001b[0m\u001b[0mself\u001b[0m\u001b[1;33m,\u001b[0m \u001b[0mhost\u001b[0m\u001b[1;33m,\u001b[0m \u001b[0mport\u001b[0m\u001b[1;33m)\u001b[0m\u001b[1;33m:\u001b[0m\u001b[1;33m\u001b[0m\u001b[0m\n",
      "\u001b[1;32m/usr/bin/anaconda2/lib/python2.7/ftplib.pyc\u001b[0m in \u001b[0;36mvoidcmd\u001b[1;34m(self, cmd)\u001b[0m\n\u001b[0;32m    252\u001b[0m         \u001b[1;34m\"\"\"Send a command and expect a response beginning with '2'.\"\"\"\u001b[0m\u001b[1;33m\u001b[0m\u001b[0m\n\u001b[0;32m    253\u001b[0m         \u001b[0mself\u001b[0m\u001b[1;33m.\u001b[0m\u001b[0mputcmd\u001b[0m\u001b[1;33m(\u001b[0m\u001b[0mcmd\u001b[0m\u001b[1;33m)\u001b[0m\u001b[1;33m\u001b[0m\u001b[0m\n\u001b[1;32m--> 254\u001b[1;33m         \u001b[1;32mreturn\u001b[0m \u001b[0mself\u001b[0m\u001b[1;33m.\u001b[0m\u001b[0mvoidresp\u001b[0m\u001b[1;33m(\u001b[0m\u001b[1;33m)\u001b[0m\u001b[1;33m\u001b[0m\u001b[0m\n\u001b[0m\u001b[0;32m    255\u001b[0m \u001b[1;33m\u001b[0m\u001b[0m\n\u001b[0;32m    256\u001b[0m     \u001b[1;32mdef\u001b[0m \u001b[0msendport\u001b[0m\u001b[1;33m(\u001b[0m\u001b[0mself\u001b[0m\u001b[1;33m,\u001b[0m \u001b[0mhost\u001b[0m\u001b[1;33m,\u001b[0m \u001b[0mport\u001b[0m\u001b[1;33m)\u001b[0m\u001b[1;33m:\u001b[0m\u001b[1;33m\u001b[0m\u001b[0m\n",
      "\u001b[1;32m/usr/bin/anaconda2/lib/python2.7/ftplib.pyc\u001b[0m in \u001b[0;36mvoidresp\u001b[1;34m(self)\u001b[0m\n\u001b[0;32m    227\u001b[0m     \u001b[1;32mdef\u001b[0m \u001b[0mvoidresp\u001b[0m\u001b[1;33m(\u001b[0m\u001b[0mself\u001b[0m\u001b[1;33m)\u001b[0m\u001b[1;33m:\u001b[0m\u001b[1;33m\u001b[0m\u001b[0m\n\u001b[0;32m    228\u001b[0m         \u001b[1;34m\"\"\"Expect a response beginning with '2'.\"\"\"\u001b[0m\u001b[1;33m\u001b[0m\u001b[0m\n\u001b[1;32m--> 229\u001b[1;33m         \u001b[0mresp\u001b[0m \u001b[1;33m=\u001b[0m \u001b[0mself\u001b[0m\u001b[1;33m.\u001b[0m\u001b[0mgetresp\u001b[0m\u001b[1;33m(\u001b[0m\u001b[1;33m)\u001b[0m\u001b[1;33m\u001b[0m\u001b[0m\n\u001b[0m\u001b[0;32m    230\u001b[0m         \u001b[1;32mif\u001b[0m \u001b[0mresp\u001b[0m\u001b[1;33m[\u001b[0m\u001b[1;33m:\u001b[0m\u001b[1;36m1\u001b[0m\u001b[1;33m]\u001b[0m \u001b[1;33m!=\u001b[0m \u001b[1;34m'2'\u001b[0m\u001b[1;33m:\u001b[0m\u001b[1;33m\u001b[0m\u001b[0m\n\u001b[0;32m    231\u001b[0m             \u001b[1;32mraise\u001b[0m \u001b[0merror_reply\u001b[0m\u001b[1;33m,\u001b[0m \u001b[0mresp\u001b[0m\u001b[1;33m\u001b[0m\u001b[0m\n",
      "\u001b[1;32m/usr/bin/anaconda2/lib/python2.7/ftplib.pyc\u001b[0m in \u001b[0;36mgetresp\u001b[1;34m(self)\u001b[0m\n\u001b[0;32m    220\u001b[0m             \u001b[1;32mreturn\u001b[0m \u001b[0mresp\u001b[0m\u001b[1;33m\u001b[0m\u001b[0m\n\u001b[0;32m    221\u001b[0m         \u001b[1;32mif\u001b[0m \u001b[0mc\u001b[0m \u001b[1;33m==\u001b[0m \u001b[1;34m'4'\u001b[0m\u001b[1;33m:\u001b[0m\u001b[1;33m\u001b[0m\u001b[0m\n\u001b[1;32m--> 222\u001b[1;33m             \u001b[1;32mraise\u001b[0m \u001b[0merror_temp\u001b[0m\u001b[1;33m,\u001b[0m \u001b[0mresp\u001b[0m\u001b[1;33m\u001b[0m\u001b[0m\n\u001b[0m\u001b[0;32m    223\u001b[0m         \u001b[1;32mif\u001b[0m \u001b[0mc\u001b[0m \u001b[1;33m==\u001b[0m \u001b[1;34m'5'\u001b[0m\u001b[1;33m:\u001b[0m\u001b[1;33m\u001b[0m\u001b[0m\n\u001b[0;32m    224\u001b[0m             \u001b[1;32mraise\u001b[0m \u001b[0merror_perm\u001b[0m\u001b[1;33m,\u001b[0m \u001b[0mresp\u001b[0m\u001b[1;33m\u001b[0m\u001b[0m\n",
      "\u001b[1;31merror_temp\u001b[0m: 421 Active data channel timed out."
     ]
    }
   ],
   "source": [
    "ftp = FTPSync('172.17.9.35')\n",
    "ftp.login()\n",
    "#上传文件，不重命名\n",
    "ftp.put_file('crawler_mobi_call_record_hive.csv','/')\n",
    "#上传文件，重命名\n",
    "#ftp.put_file('111.txt','a/112.txt')\n",
    "#下载文件，不重命名\n",
    "# ftp.get_file('wydf.rar')\n",
    "# 下载文件，重命名\n",
    "#ftp.get_file('/a/111.txt',r'D:\\112.txt')\n",
    "#下载到已经存在的文件夹\n",
    "#ftp.get_dir('a/b/c',r'D:\\\\a')\n",
    "#下载到不存在的文件夹\n",
    "#ftp.get_dir('a/b/c',r'D:\\\\aa')\n",
    "#上传到已经存在的文件夹\n",
    "#   ftp.put_dir('b','a')\n",
    "#上传到不存在的文件夹\n",
    "#   ftp.put_dir('b','aa/B/')"
   ]
  },
  {
   "cell_type": "markdown",
   "metadata": {},
   "source": [
    "## 实现ftp服务器"
   ]
  },
  {
   "cell_type": "code",
   "execution_count": null,
   "metadata": {
    "collapsed": true
   },
   "outputs": [],
   "source": [
    "from pyftpdlib.authorizers import DummyAuthorizer\n",
    "from pyftpdlib.handlers import FTPHandler\n",
    "from pyftpdlib.servers import FTPServer\n",
    "\n",
    "authorizer = DummyAuthorizer()\n",
    "authorizer.add_user(\"user\", \"12345\", \"E:\\spark\", perm=\"elradfmw\")\n",
    "authorizer.add_anonymous(\"E:\\spark\")\n",
    "handler = FTPHandler\n",
    "handler.authorizer = authorizer\n",
    "\n",
    "server = FTPServer((\"172.17.1.106\", 1990), handler)\n",
    "server.serve_forever()"
   ]
  },
  {
   "cell_type": "code",
   "execution_count": 17,
   "metadata": {
    "collapsed": false
   },
   "outputs": [
    {
     "name": "stdout",
     "output_type": "stream",
     "text": [
      "-rw-rw-rw-   1 owner    group     1846896 Jan 18 08:51 crawler_mobi_call_record_hive.zip\n"
     ]
    },
    {
     "ename": "error",
     "evalue": "[Errno 110] Connection timed out",
     "output_type": "error",
     "traceback": [
      "\u001b[1;31m---------------------------------------------------------------------------\u001b[0m",
      "\u001b[1;31merror\u001b[0m                                     Traceback (most recent call last)",
      "\u001b[1;32m<ipython-input-17-fe97f9d29997>\u001b[0m in \u001b[0;36m<module>\u001b[1;34m()\u001b[0m\n\u001b[0;32m      7\u001b[0m \u001b[0mf_h\u001b[0m\u001b[1;33m=\u001b[0m\u001b[0mopen\u001b[0m\u001b[1;33m(\u001b[0m\u001b[1;34m\"crawler_mobi_call_record_hive.zip\"\u001b[0m\u001b[1;33m)\u001b[0m\u001b[1;33m\u001b[0m\u001b[0m\n\u001b[0;32m      8\u001b[0m \u001b[1;31m# %time ftp.retrbinary(\"RETR dss_market.csv\",f_h,buffsize)\u001b[0m\u001b[1;33m\u001b[0m\u001b[1;33m\u001b[0m\u001b[0m\n\u001b[1;32m----> 9\u001b[1;33m \u001b[0mftp\u001b[0m\u001b[1;33m.\u001b[0m\u001b[0mstorbinary\u001b[0m\u001b[1;33m(\u001b[0m\u001b[1;34m\"STOR crawler_mobi_call_record_hive.zip\"\u001b[0m\u001b[1;33m,\u001b[0m\u001b[0mf_h\u001b[0m\u001b[1;33m,\u001b[0m\u001b[0mbuffsize\u001b[0m\u001b[1;33m)\u001b[0m\u001b[1;33m\u001b[0m\u001b[0m\n\u001b[0m\u001b[0;32m     10\u001b[0m \u001b[0mf_h\u001b[0m\u001b[1;33m.\u001b[0m\u001b[0mclose\u001b[0m\u001b[1;33m(\u001b[0m\u001b[1;33m)\u001b[0m\u001b[1;33m\u001b[0m\u001b[0m\n",
      "\u001b[1;32m/usr/bin/anaconda2/lib/python2.7/ftplib.pyc\u001b[0m in \u001b[0;36mstorbinary\u001b[1;34m(self, cmd, fp, blocksize, callback, rest)\u001b[0m\n\u001b[0;32m    473\u001b[0m             \u001b[0mbuf\u001b[0m \u001b[1;33m=\u001b[0m \u001b[0mfp\u001b[0m\u001b[1;33m.\u001b[0m\u001b[0mread\u001b[0m\u001b[1;33m(\u001b[0m\u001b[0mblocksize\u001b[0m\u001b[1;33m)\u001b[0m\u001b[1;33m\u001b[0m\u001b[0m\n\u001b[0;32m    474\u001b[0m             \u001b[1;32mif\u001b[0m \u001b[1;32mnot\u001b[0m \u001b[0mbuf\u001b[0m\u001b[1;33m:\u001b[0m \u001b[1;32mbreak\u001b[0m\u001b[1;33m\u001b[0m\u001b[0m\n\u001b[1;32m--> 475\u001b[1;33m             \u001b[0mconn\u001b[0m\u001b[1;33m.\u001b[0m\u001b[0msendall\u001b[0m\u001b[1;33m(\u001b[0m\u001b[0mbuf\u001b[0m\u001b[1;33m)\u001b[0m\u001b[1;33m\u001b[0m\u001b[0m\n\u001b[0m\u001b[0;32m    476\u001b[0m             \u001b[1;32mif\u001b[0m \u001b[0mcallback\u001b[0m\u001b[1;33m:\u001b[0m \u001b[0mcallback\u001b[0m\u001b[1;33m(\u001b[0m\u001b[0mbuf\u001b[0m\u001b[1;33m)\u001b[0m\u001b[1;33m\u001b[0m\u001b[0m\n\u001b[0;32m    477\u001b[0m         \u001b[0mconn\u001b[0m\u001b[1;33m.\u001b[0m\u001b[0mclose\u001b[0m\u001b[1;33m(\u001b[0m\u001b[1;33m)\u001b[0m\u001b[1;33m\u001b[0m\u001b[0m\n",
      "\u001b[1;32m/usr/bin/anaconda2/lib/python2.7/socket.pyc\u001b[0m in \u001b[0;36mmeth\u001b[1;34m(name, self, *args)\u001b[0m\n\u001b[0;32m    226\u001b[0m \u001b[1;33m\u001b[0m\u001b[0m\n\u001b[0;32m    227\u001b[0m \u001b[1;32mdef\u001b[0m \u001b[0mmeth\u001b[0m\u001b[1;33m(\u001b[0m\u001b[0mname\u001b[0m\u001b[1;33m,\u001b[0m\u001b[0mself\u001b[0m\u001b[1;33m,\u001b[0m\u001b[1;33m*\u001b[0m\u001b[0margs\u001b[0m\u001b[1;33m)\u001b[0m\u001b[1;33m:\u001b[0m\u001b[1;33m\u001b[0m\u001b[0m\n\u001b[1;32m--> 228\u001b[1;33m     \u001b[1;32mreturn\u001b[0m \u001b[0mgetattr\u001b[0m\u001b[1;33m(\u001b[0m\u001b[0mself\u001b[0m\u001b[1;33m.\u001b[0m\u001b[0m_sock\u001b[0m\u001b[1;33m,\u001b[0m\u001b[0mname\u001b[0m\u001b[1;33m)\u001b[0m\u001b[1;33m(\u001b[0m\u001b[1;33m*\u001b[0m\u001b[0margs\u001b[0m\u001b[1;33m)\u001b[0m\u001b[1;33m\u001b[0m\u001b[0m\n\u001b[0m\u001b[0;32m    229\u001b[0m \u001b[1;33m\u001b[0m\u001b[0m\n\u001b[0;32m    230\u001b[0m \u001b[1;32mfor\u001b[0m \u001b[0m_m\u001b[0m \u001b[1;32min\u001b[0m \u001b[0m_socketmethods\u001b[0m\u001b[1;33m:\u001b[0m\u001b[1;33m\u001b[0m\u001b[0m\n",
      "\u001b[1;31merror\u001b[0m: [Errno 110] Connection timed out"
     ]
    }
   ],
   "source": [
    "import ftplib\n",
    "ftp=ftplib.FTP()\n",
    "dd=ftp.connect(\"172.17.9.35\",\"1990\",30)\n",
    "ftp.login()\n",
    "ftp.dir()\n",
    "buffsize=8000\n",
    "f_h=open(\"crawler_mobi_call_record_hive.zip\")\n",
    "# %time ftp.retrbinary(\"RETR dss_market.csv\",f_h,buffsize)\n",
    "ftp.storbinary(\"STOR crawler_mobi_call_record_hive.zip\",f_h,buffsize)\n",
    "f_h.close()"
   ]
  },
  {
   "cell_type": "code",
   "execution_count": 35,
   "metadata": {
    "collapsed": false
   },
   "outputs": [
    {
     "data": {
      "text/plain": [
       "8192"
      ]
     },
     "execution_count": 35,
     "metadata": {},
     "output_type": "execute_result"
    }
   ],
   "source": [
    "import ftplib\n",
    "ftp=ftplib.FTP()\n",
    "dd=ftp.connect(\"192.168.70.149\",\"1990\",30)\n",
    "ftp.login()\n",
    "ftp.dir()\n",
    "buffsize=1024000\n",
    "f_h=open(\"dss_market.csv\",\"wb\").write\n",
    "%time ftp.retrbinary(\"RETR dss_market.csv\",f_h,buffsize)"
   ]
  }
 ],
 "metadata": {
  "kernelspec": {
   "display_name": "Python [Root]",
   "language": "python",
   "name": "Python [Root]"
  },
  "language_info": {
   "codemirror_mode": {
    "name": "ipython",
    "version": 2
   },
   "file_extension": ".py",
   "mimetype": "text/x-python",
   "name": "python",
   "nbconvert_exporter": "python",
   "pygments_lexer": "ipython2",
   "version": "2.7.12"
  }
 },
 "nbformat": 4,
 "nbformat_minor": 0
}

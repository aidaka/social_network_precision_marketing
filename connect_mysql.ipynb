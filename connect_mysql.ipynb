{
 "metadata": {
  "name": ""
 },
 "nbformat": 3,
 "nbformat_minor": 0,
 "worksheets": [
  {
   "cells": [
    {
     "cell_type": "code",
     "collapsed": false,
     "input": [
      "from sqlalchemy import create_engine, text, Column, Integer, String, Sequence  \n",
      "from sqlalchemy.ext.declarative import declarative_base  \n",
      "from sqlalchemy.orm import sessionmaker  \n",
      "# create the engine for oracle db  \n",
      "# we need to install cx_Oracle and sqlalchemy in advance. \n",
      "password='uyRLbUF2BIFJhSlvWn{NX>WE}QKghn'\n",
      "db_engine=create_engine('mysql://fangju:QY3[pVFUFiCO(woo)e2O5<9na9O7ir@192.168.2.83:3359/data_analysis',echo=True)  \n",
      "conn=db_engine.connect().connection\n",
      "# Session = sessionmaker(bind=db_engine)  \n",
      "# session = Session() \n",
      "# dd=session.execute(text(\"select * from fj_market_sented_all limit 100\"))"
     ],
     "language": "python",
     "metadata": {},
     "outputs": [],
     "prompt_number": "*"
    },
    {
     "cell_type": "code",
     "collapsed": true,
     "input": [
      "%time data=pd.read_sql_query(\"select * from fj_market_sented_all\",con=conn)\n"
     ],
     "language": "python",
     "metadata": {},
     "outputs": [],
     "prompt_number": "*"
    },
    {
     "cell_type": "code",
     "collapsed": false,
     "input": [],
     "language": "python",
     "metadata": {},
     "outputs": []
    },
    {
     "cell_type": "code",
     "collapsed": false,
     "input": [
      "create_engine?"
     ],
     "language": "python",
     "metadata": {},
     "outputs": [],
     "prompt_number": 25
    }
   ],
   "metadata": {}
  }
 ]
}
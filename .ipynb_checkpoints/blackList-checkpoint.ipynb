{
 "cells": [
  {
   "cell_type": "code",
   "execution_count": 7,
   "metadata": {
    "collapsed": false
   },
   "outputs": [],
   "source": [
    "\n",
    "def convert_df_parqut():\n",
    "    import pandas as pd\n",
    "    app_call=pd.read_csv(r\".\\data\\app_call_record_blacklist.csv\")\n",
    "    app_call_df=sqlContext.createDataFrame(app_call)\n",
    "    app_call_df.saveAsParquetFile(r\".\\data\\app_call_record_blacklist.pqf\")"
   ]
  },
  {
   "cell_type": "code",
   "execution_count": 124,
   "metadata": {
    "collapsed": false
   },
   "outputs": [
    {
     "data": {
      "text/plain": [
       "DataFrame[custorm_id: string, number: string, name: string, call_time: string, type: string, time: string, name_null: int]"
      ]
     },
     "execution_count": 124,
     "metadata": {},
     "output_type": "execute_result"
    }
   ],
   "source": [
    "from pyspark.sql.functions import  *\n",
    "sc.Se\n",
    "record_blacklist=sqlContext.sql(\"\"\"select custorm_id,number,name,call_time,type,cast(time as float) as time,(case when name is null then 1 else 0 end) as name_null  \n",
    "                from crawler.app_call_record_hive A\n",
    "                left outer join (select distinct mobi_no from gdl.gdl_cust_reg_info) B on A.number=B.mobi_no\n",
    "                where B.mobi_no is NUll and cast(number as float)>13000000000  and cast(number as float)<19000000000 \n",
    "                and cast(name as float) is  NUll  and   length(name)<11\n",
    "                \"\"\")\n",
    "record_blacklist.cache()\n"
   ]
  },
  {
   "cell_type": "code",
   "execution_count": 141,
   "metadata": {
    "collapsed": false
   },
   "outputs": [],
   "source": [
    "blacklist=[u'诈骗',u'经理',u'总',u'老板',u'司机',u'会计',u'律师',u'房',u'暖气',u'出租',u'未知',u'主管',u'排风'\n",
    "        ,u'客户',u'顺丰',u'圆通',u'申通',u'中通',u'韵达',u'要货',u'电信',u'联通',u'移动',u'临时',u'零时',u'先生'\n",
    "        ,u'小姐',u'名字',u'土豆粉',u'废品',u'客人',u'电脑',u'网管',u'前台',u'卖',u'现金贷',u'拖车',u'预定',u'暖气'\n",
    "        ,u'分期',u'面试',u'学车',u'搬运',u'注册',u'传单',u'专线',u'师傅',u'老师',u'微粒贷',u'厅长',u'临时',u'信用卡'\n",
    "        ,u'手机',u'礼品',u'卖',u'设计',u'麦当劳',u'护照',u'修配',u'邮政',u'辅导',u'招商',u'业务',u'业主',u'空调'\n",
    "        ,u'开锁',u'工作',u'快餐',u'信托',u'照相',u'化妆',u'信用',u'市场',u'牙医',u'教练',u'电焊',u'贷',u'中石',u'办证'\n",
    "        ,u'必胜客',u'火锅',u'物流',u'婚庆',u'汇通',u'馆',u'股票',u'同事',u'防盗',u'概念',u'光纤',u'工程',u'理发',u'市长'\n",
    "        ,u'新号',u'租车',u'自来水',u'挖掘',u'开锁',u'还款',u'店',u'车',u'电话',u'发票',u'中介',u'监控',u'租',u'五粮液',u'快递',u\"租\"\n",
    "        ,u\"宜信\",u\"金融\",u\"办卡\",u\"中介\",u\"银行\",u\"公司\"]\n"
   ]
  },
  {
   "cell_type": "code",
   "execution_count": 143,
   "metadata": {
    "collapsed": false
   },
   "outputs": [
    {
     "data": {
      "text/plain": [
       "DataFrame[custorm_id: string, number: string, name: string, call_time: string, type: string, time: string, name_null: int]"
      ]
     },
     "execution_count": 143,
     "metadata": {},
     "output_type": "execute_result"
    }
   ],
   "source": [
    "call_blacklist=record_blacklist[instr(record_blacklist.name,u\"证券\")!=0] \n",
    "\n",
    "for word in blacklist:\n",
    "    temp=record_blacklist[instr(record_blacklist.name,word)!=0] \n",
    "    call_blacklist=call_blacklist.unionAll(temp)\n",
    "\n",
    "call_blacklist.cache()"
   ]
  },
  {
   "cell_type": "code",
   "execution_count": 145,
   "metadata": {
    "collapsed": false
   },
   "outputs": [],
   "source": [
    "sc=sc.setLogLevel(\"WARN\")"
   ]
  },
  {
   "cell_type": "code",
   "execution_count": 1,
   "metadata": {
    "collapsed": false
   },
   "outputs": [],
   "source": [
    "call_blacklist=call_blacklist.dropDuplicates()\n",
    "call_blacklist.cache()"
   ]
  },
  {
   "cell_type": "code",
   "execution_count": 4,
   "metadata": {
    "collapsed": false
   },
   "outputs": [
    {
     "data": {
      "text/plain": [
       "DataFrame[custorm_id: string, number: string, name: string, call_time: string, type: string, time: string, name_null: int]"
      ]
     },
     "execution_count": 4,
     "metadata": {},
     "output_type": "execute_result"
    }
   ],
   "source": [
    "call_blacklist.saveAsParquetFile(\"phoneNet/records_blacklist.pqt\")"
   ]
  },
  {
   "cell_type": "code",
   "execution_count": 6,
   "metadata": {
    "collapsed": false
   },
   "outputs": [
    {
     "name": "stderr",
     "output_type": "stream",
     "text": [
      "/opt/cloudera/parcels/CDH-5.7.1-1.cdh5.7.1.p0.11/lib/spark/python/pyspark/sql/dataframe.py:121: UserWarning: saveAsParquetFile is deprecated. Use write.parquet() instead.\n",
      "  warnings.warn(\"saveAsParquetFile is deprecated. Use write.parquet() instead.\")\n"
     ]
    }
   ],
   "source": []
  },
  {
   "cell_type": "code",
   "execution_count": 2,
   "metadata": {
    "collapsed": false
   },
   "outputs": [
    {
     "name": "stdout",
     "output_type": "stream",
     "text": [
      "0        0      /user/yudang.wei/phoneNet/call_record.pqt\n",
      "0        0      /user/yudang.wei/phoneNet/record_features_Vector.pqt\n",
      "0        0      /user/yudang.wei/phoneNet/record_whitelist_features.pqt\n",
      "452.0 M  1.3 G  /user/yudang.wei/phoneNet/records_blacklist.pqt\n"
     ]
    }
   ],
   "source": [
    "%%sh \n",
    "hdfs dfs -du -h  /user/yudang.wei/phoneNet"
   ]
  }
 ],
 "metadata": {},
 "nbformat": 4,
 "nbformat_minor": 0
}

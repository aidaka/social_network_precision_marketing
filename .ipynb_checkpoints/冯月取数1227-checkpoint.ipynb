{
 "cells": [
  {
   "cell_type": "code",
   "execution_count": 1,
   "metadata": {
    "collapsed": false,
    "scrolled": true
   },
   "outputs": [
    {
     "name": "stderr",
     "output_type": "stream",
     "text": [
      "<string>:2: DtypeWarning: Columns (6) have mixed types. Specify dtype option on import or set low_memory=False.\n"
     ]
    },
    {
     "name": "stdout",
     "output_type": "stream",
     "text": [
      "CPU times: user 1min 9s, sys: 7.52 s, total: 1min 16s\n",
      "Wall time: 1min 16s\n"
     ]
    }
   ],
   "source": [
    "%matplotlib  inline\n",
    "import pandas  as pd \n",
    "import numpy as np\n",
    "%time metadata=pd.read_csv(\"custorm_age_state/data/mobi/mobi_call_record_0801_0830_1_2.csv\",index_col=0)\n",
    "# ,parse_dates=[\"call_time\"]"
   ]
  },
  {
   "cell_type": "markdown",
   "metadata": {},
   "source": [
    "# 合并准备数据"
   ]
  },
  {
   "cell_type": "code",
   "execution_count": 2,
   "metadata": {
    "collapsed": false
   },
   "outputs": [
    {
     "data": {
      "text/html": [
       "<div>\n",
       "<table border=\"1\" class=\"dataframe\">\n",
       "  <thead>\n",
       "    <tr style=\"text-align: right;\">\n",
       "      <th></th>\n",
       "      <th>custorm_id</th>\n",
       "      <th>login_name</th>\n",
       "      <th>type_contact</th>\n",
       "      <th>num_contact</th>\n",
       "      <th>time_contact</th>\n",
       "      <th>phone_contact</th>\n",
       "      <th>type_call</th>\n",
       "    </tr>\n",
       "  </thead>\n",
       "  <tbody>\n",
       "    <tr>\n",
       "      <th>0</th>\n",
       "      <td>3283806.0</td>\n",
       "      <td>1.523690e+10</td>\n",
       "      <td>1.0</td>\n",
       "      <td>85.0</td>\n",
       "      <td>2016-04-19 08:31:36</td>\n",
       "      <td>1.31237e+10</td>\n",
       "      <td>1.0</td>\n",
       "    </tr>\n",
       "    <tr>\n",
       "      <th>1</th>\n",
       "      <td>3283806.0</td>\n",
       "      <td>1.523690e+10</td>\n",
       "      <td>1.0</td>\n",
       "      <td>104.0</td>\n",
       "      <td>2016-04-19 07:50:59</td>\n",
       "      <td>1.31237e+10</td>\n",
       "      <td>1.0</td>\n",
       "    </tr>\n",
       "    <tr>\n",
       "      <th>2</th>\n",
       "      <td>3283806.0</td>\n",
       "      <td>1.523690e+10</td>\n",
       "      <td>1.0</td>\n",
       "      <td>47.0</td>\n",
       "      <td>2016-04-19 07:33:36</td>\n",
       "      <td>1.31937e+10</td>\n",
       "      <td>1.0</td>\n",
       "    </tr>\n",
       "  </tbody>\n",
       "</table>\n",
       "</div>"
      ],
      "text/plain": [
       "   custorm_id    login_name  type_contact  num_contact         time_contact  \\\n",
       "0   3283806.0  1.523690e+10           1.0         85.0  2016-04-19 08:31:36   \n",
       "1   3283806.0  1.523690e+10           1.0        104.0  2016-04-19 07:50:59   \n",
       "2   3283806.0  1.523690e+10           1.0         47.0  2016-04-19 07:33:36   \n",
       "\n",
       "  phone_contact  type_call  \n",
       "0   1.31237e+10        1.0  \n",
       "1   1.31237e+10        1.0  \n",
       "2   1.31937e+10        1.0  "
      ]
     },
     "execution_count": 2,
     "metadata": {},
     "output_type": "execute_result"
    }
   ],
   "source": [
    "metadata.head(3)"
   ]
  },
  {
   "cell_type": "code",
   "execution_count": 3,
   "metadata": {
    "collapsed": false
   },
   "outputs": [
    {
     "name": "stdout",
     "output_type": "stream",
     "text": [
      "元数据有数据条目 (84360000, 7)\n",
      "元数据有已有用户 52246\n",
      "元数据有潜在用户 8863900\n"
     ]
    }
   ],
   "source": [
    "print '元数据有数据条目',metadata.shape\n",
    "print '元数据有已有用户',metadata.custorm_id.unique().size\n",
    "print '元数据有潜在用户',metadata.phone_contact.unique().size"
   ]
  },
  {
   "cell_type": "markdown",
   "metadata": {},
   "source": [
    "### 特征1:联系人数目"
   ]
  },
  {
   "cell_type": "code",
   "execution_count": 4,
   "metadata": {
    "collapsed": false
   },
   "outputs": [
    {
     "name": "stdout",
     "output_type": "stream",
     "text": [
      "CPU times: user 7min 18s, sys: 2.75 s, total: 7min 21s\n",
      "Wall time: 7min 20s\n"
     ]
    }
   ],
   "source": [
    "%time cust_num=metadata.groupby('phone_contact').apply(lambda x:len(set(x.custorm_id.values)))"
   ]
  },
  {
   "cell_type": "code",
   "execution_count": 25,
   "metadata": {
    "collapsed": false,
    "scrolled": true
   },
   "outputs": [
    {
     "data": {
      "text/plain": [
       "phone_contact\n",
       "1.003627e+10    1\n",
       "1.005121e+10    2\n",
       "1.005271e+10    1\n",
       "dtype: int64"
      ]
     },
     "execution_count": 25,
     "metadata": {},
     "output_type": "execute_result"
    }
   ],
   "source": [
    "cust_num.head(3)"
   ]
  },
  {
   "cell_type": "code",
   "execution_count": null,
   "metadata": {
    "collapsed": true
   },
   "outputs": [],
   "source": []
  },
  {
   "cell_type": "code",
   "execution_count": 31,
   "metadata": {
    "collapsed": true
   },
   "outputs": [
    {
     "data": {
      "text/plain": [
       "1      6839898\n",
       "2       286824\n",
       "3        47809\n",
       "4        14165\n",
       "5         6104\n",
       "6         3082\n",
       "7         1828\n",
       "8         1128\n",
       "9          764\n",
       "10         537\n",
       "11         376\n",
       "12         267\n",
       "13         219\n",
       "14         175\n",
       "15         121\n",
       "17          93\n",
       "16          82\n",
       "18          79\n",
       "19          59\n",
       "24          52\n",
       "23          42\n",
       "21          42\n",
       "20          39\n",
       "27          37\n",
       "22          33\n",
       "26          32\n",
       "25          29\n",
       "31          18\n",
       "29          17\n",
       "28          17\n",
       "        ...   \n",
       "162          1\n",
       "177          1\n",
       "352          1\n",
       "262          1\n",
       "300          1\n",
       "307          1\n",
       "316          1\n",
       "123          1\n",
       "368          1\n",
       "380          1\n",
       "435          1\n",
       "137          1\n",
       "85           1\n",
       "113          1\n",
       "80           1\n",
       "694          1\n",
       "61           1\n",
       "64           1\n",
       "68           1\n",
       "73           1\n",
       "75           1\n",
       "82           1\n",
       "112          1\n",
       "84           1\n",
       "86           1\n",
       "91           1\n",
       "100          1\n",
       "101          1\n",
       "104          1\n",
       "924          1\n",
       "dtype: int64"
      ]
     },
     "execution_count": 31,
     "metadata": {},
     "output_type": "execute_result"
    }
   ],
   "source": [
    "cust_num.value_counts()"
   ]
  },
  {
   "cell_type": "code",
   "execution_count": 58,
   "metadata": {
    "collapsed": false,
    "scrolled": true
   },
   "outputs": [],
   "source": [
    "ss=pd.concat([cust_num,record_time_BA],axis=1)\n",
    "sss=ss[ss[0].apply(lambda x:1<x<10)]"
   ]
  },
  {
   "cell_type": "code",
   "execution_count": 60,
   "metadata": {
    "collapsed": false,
    "scrolled": true
   },
   "outputs": [
    {
     "data": {
      "text/plain": [
       "(361704, 8)"
      ]
     },
     "execution_count": 60,
     "metadata": {},
     "output_type": "execute_result"
    }
   ],
   "source": [
    "sss.shape"
   ]
  },
  {
   "cell_type": "code",
   "execution_count": 80,
   "metadata": {
    "collapsed": false
   },
   "outputs": [
    {
     "data": {
      "text/plain": [
       "array([  1.00512100e+10,   1.01908522e+10,   1.02110101e+10, ...,\n",
       "         1.92937602e+10,   1.92937610e+10,   1.96856287e+10])"
      ]
     },
     "execution_count": 80,
     "metadata": {},
     "output_type": "execute_result"
    }
   ],
   "source": [
    "sss.index.values"
   ]
  },
  {
   "cell_type": "code",
   "execution_count": null,
   "metadata": {
    "collapsed": false,
    "scrolled": true
   },
   "outputs": [],
   "source": []
  },
  {
   "cell_type": "code",
   "execution_count": 19,
   "metadata": {
    "collapsed": false
   },
   "outputs": [
    {
     "data": {
      "text/plain": [
       "51027"
      ]
     },
     "execution_count": 19,
     "metadata": {},
     "output_type": "execute_result"
    }
   ],
   "source": [
    "app_call_record['custorm_id'].unique().size"
   ]
  },
  {
   "cell_type": "code",
   "execution_count": 19,
   "metadata": {
    "collapsed": false
   },
   "outputs": [
    {
     "data": {
      "text/plain": [
       "51027"
      ]
     },
     "execution_count": 19,
     "metadata": {},
     "output_type": "execute_result"
    }
   ],
   "source": [
    "app_call_record['custorm_id'].unique().size"
   ]
  },
  {
   "cell_type": "markdown",
   "metadata": {},
   "source": [
    "# 清洗数据"
   ]
  },
  {
   "cell_type": "code",
   "execution_count": 6,
   "metadata": {
    "collapsed": false
   },
   "outputs": [
    {
     "name": "stdout",
     "output_type": "stream",
     "text": [
      "CPU times: user 18.8 s, sys: 1.3 s, total: 20.1 s\n",
      "Wall time: 20.1 s\n"
     ]
    }
   ],
   "source": [
    "%time app_call_record=app_call_record[app_call_record.phone_contact.apply(lambda x:13000000000< x <19000000000 )]"
   ]
  },
  {
   "cell_type": "code",
   "execution_count": 7,
   "metadata": {
    "collapsed": false
   },
   "outputs": [
    {
     "data": {
      "text/plain": [
       "(71221273, 7)"
      ]
     },
     "execution_count": 7,
     "metadata": {},
     "output_type": "execute_result"
    }
   ],
   "source": [
    "app_call_record.shape"
   ]
  },
  {
   "cell_type": "markdown",
   "metadata": {},
   "source": [
    "# 特征工程"
   ]
  },
  {
   "cell_type": "code",
   "execution_count": 8,
   "metadata": {
    "collapsed": false
   },
   "outputs": [],
   "source": [
    "def get_time_interval(x):\n",
    "    if len(x)!=19:return 0\n",
    "    temp=int(x[11:13])\n",
    "    if 1<=temp<=6:return 6\n",
    "    elif 7<=temp<=12:return 12\n",
    "    elif 13<=temp<=18:return 18\n",
    "    elif 19<=temp<=20:return 20\n",
    "    elif 21<=temp<=22:return 22\n",
    "    else: return 24"
   ]
  },
  {
   "cell_type": "code",
   "execution_count": 9,
   "metadata": {
    "collapsed": false
   },
   "outputs": [
    {
     "name": "stdout",
     "output_type": "stream",
     "text": [
      "CPU times: user 59.1 s, sys: 800 ms, total: 59.9 s\n",
      "Wall time: 59.8 s\n"
     ]
    }
   ],
   "source": [
    "# 所属时间段：6为1-6；12为7-12；18为13-18；20为19-20；22为21-22；其他为24\n",
    "%time app_call_record['time_interval']=app_call_record['time_contact'].apply(lambda x :get_time_interval(x))"
   ]
  },
  {
   "cell_type": "code",
   "execution_count": 10,
   "metadata": {
    "collapsed": false
   },
   "outputs": [
    {
     "data": {
      "text/html": [
       "<div>\n",
       "<table border=\"1\" class=\"dataframe\">\n",
       "  <thead>\n",
       "    <tr style=\"text-align: right;\">\n",
       "      <th></th>\n",
       "      <th>custorm_id</th>\n",
       "      <th>login_name</th>\n",
       "      <th>type_contact</th>\n",
       "      <th>num_contact</th>\n",
       "      <th>time_contact</th>\n",
       "      <th>phone_contact</th>\n",
       "      <th>type_call</th>\n",
       "      <th>time_interval</th>\n",
       "    </tr>\n",
       "  </thead>\n",
       "  <tbody>\n",
       "    <tr>\n",
       "      <th>0</th>\n",
       "      <td>3283806.0</td>\n",
       "      <td>1.523690e+10</td>\n",
       "      <td>1.0</td>\n",
       "      <td>85.0</td>\n",
       "      <td>2016-04-19 08:31:36</td>\n",
       "      <td>1.31237e+10</td>\n",
       "      <td>1.0</td>\n",
       "      <td>12</td>\n",
       "    </tr>\n",
       "    <tr>\n",
       "      <th>1</th>\n",
       "      <td>3283806.0</td>\n",
       "      <td>1.523690e+10</td>\n",
       "      <td>1.0</td>\n",
       "      <td>104.0</td>\n",
       "      <td>2016-04-19 07:50:59</td>\n",
       "      <td>1.31237e+10</td>\n",
       "      <td>1.0</td>\n",
       "      <td>12</td>\n",
       "    </tr>\n",
       "    <tr>\n",
       "      <th>2</th>\n",
       "      <td>3283806.0</td>\n",
       "      <td>1.523690e+10</td>\n",
       "      <td>1.0</td>\n",
       "      <td>47.0</td>\n",
       "      <td>2016-04-19 07:33:36</td>\n",
       "      <td>1.31937e+10</td>\n",
       "      <td>1.0</td>\n",
       "      <td>12</td>\n",
       "    </tr>\n",
       "  </tbody>\n",
       "</table>\n",
       "</div>"
      ],
      "text/plain": [
       "   custorm_id    login_name  type_contact  num_contact         time_contact  \\\n",
       "0   3283806.0  1.523690e+10           1.0         85.0  2016-04-19 08:31:36   \n",
       "1   3283806.0  1.523690e+10           1.0        104.0  2016-04-19 07:50:59   \n",
       "2   3283806.0  1.523690e+10           1.0         47.0  2016-04-19 07:33:36   \n",
       "\n",
       "  phone_contact  type_call  time_interval  \n",
       "0   1.31237e+10        1.0             12  \n",
       "1   1.31237e+10        1.0             12  \n",
       "2   1.31937e+10        1.0             12  "
      ]
     },
     "execution_count": 10,
     "metadata": {},
     "output_type": "execute_result"
    }
   ],
   "source": [
    "app_call_record.head(3)"
   ]
  },
  {
   "cell_type": "code",
   "execution_count": 18,
   "metadata": {
    "collapsed": false
   },
   "outputs": [
    {
     "name": "stdout",
     "output_type": "stream",
     "text": [
      "排序已经完成\n",
      "通话时常变量已经完成\n",
      "来电排序已经完成\n",
      "来电通话时常变量已经完成\n",
      "去电排序已经完成\n",
      "去电通话时常变量已经完成\n",
      "CPU times: user 1min 21s, sys: 4.81 s, total: 1min 26s\n",
      "Wall time: 1min 26s\n"
     ]
    }
   ],
   "source": [
    "%%time\n",
    "# time_stats={\"total_time\":np.sum,\"avg_time\":np.avg}\n",
    "def get_stats(grouped,feature):\n",
    "    stats=[\"sum\",\"mean\",\"count\",\"std\",\"max\",\"min\",\"median\"]\n",
    "    prefix=feature+\"_\"\n",
    "    grouped=grouped[feature].agg(stats).add_prefix(prefix)\n",
    "    return grouped\n",
    "# call_contact_gap=app_call_record_group[\"contact_gap\"].agg(get_stats).add_prefix(\"contact_gap_\")\n",
    "## 总计\n",
    "app_call_record_group=app_call_record.groupby([\"phone_contact\"])\n",
    "print '排序已经完成'\n",
    "record_time=get_stats(app_call_record_group,\"num_contact\")\n",
    "print '通话时常变量已经完成'\n",
    "# record_contact_gap=get_stats(app_call_record_group,\"contact_gap\")\n",
    "# print '通话间隔变量已经完成'\n",
    "## 来电\n",
    "app_call_record_group_BA=app_call_record[app_call_record.type_call==2].groupby([\"phone_contact\"])\n",
    "print '来电排序已经完成'\n",
    "record_time_BA=get_stats(app_call_record_group_BA,\"num_contact\").add_suffix('_come')\n",
    "print '来电通话时常变量已经完成'\n",
    "# record_contact_gap_BA=get_stats(app_call_record_group_BA,\"contact_gap\").add_suffix('_come')\n",
    "\n",
    "## 去电\n",
    "app_call_record_group_AB=app_call_record[app_call_record.type_call==1].groupby([\"phone_contact\"])\n",
    "print '去电排序已经完成'\n",
    "record_time_AB=get_stats(app_call_record_group_AB,\"num_contact\").add_suffix('_call_to')\n",
    "print '去电通话时常变量已经完成'\n",
    "# record_contact_gap_AB=get_stats(app_call_record_group_BA,\"contact_gap\").add_suffix('_call_to')\n",
    "\n",
    "\n",
    "## 未接\n",
    "# app_call_record_group_miss=app_call_record[app_call_record.type_call==3].groupby([\"custorm_id\",\"login_name\",\"phone_contact\"])[\"type\"].count().add_suffix(\"_miss\")\n",
    "\n",
    "\n",
    "## 合并\n"
   ]
  },
  {
   "cell_type": "markdown",
   "metadata": {},
   "source": [
    "### 特征2:主叫总时长、主叫总次数、平均时长"
   ]
  },
  {
   "cell_type": "code",
   "execution_count": 21,
   "metadata": {
    "collapsed": false
   },
   "outputs": [
    {
     "data": {
      "text/html": [
       "<div>\n",
       "<table border=\"1\" class=\"dataframe\">\n",
       "  <thead>\n",
       "    <tr style=\"text-align: right;\">\n",
       "      <th></th>\n",
       "      <th>num_contact_sum_come</th>\n",
       "      <th>num_contact_mean_come</th>\n",
       "      <th>num_contact_count_come</th>\n",
       "      <th>num_contact_std_come</th>\n",
       "      <th>num_contact_max_come</th>\n",
       "      <th>num_contact_min_come</th>\n",
       "      <th>num_contact_median_come</th>\n",
       "    </tr>\n",
       "    <tr>\n",
       "      <th>phone_contact</th>\n",
       "      <th></th>\n",
       "      <th></th>\n",
       "      <th></th>\n",
       "      <th></th>\n",
       "      <th></th>\n",
       "      <th></th>\n",
       "      <th></th>\n",
       "    </tr>\n",
       "  </thead>\n",
       "  <tbody>\n",
       "    <tr>\n",
       "      <th>1.003627e+10</th>\n",
       "      <td>34.0</td>\n",
       "      <td>34.0</td>\n",
       "      <td>1</td>\n",
       "      <td>NaN</td>\n",
       "      <td>34.0</td>\n",
       "      <td>34.0</td>\n",
       "      <td>34.0</td>\n",
       "    </tr>\n",
       "    <tr>\n",
       "      <th>1.005121e+10</th>\n",
       "      <td>110.0</td>\n",
       "      <td>55.0</td>\n",
       "      <td>2</td>\n",
       "      <td>9.899495</td>\n",
       "      <td>62.0</td>\n",
       "      <td>48.0</td>\n",
       "      <td>55.0</td>\n",
       "    </tr>\n",
       "    <tr>\n",
       "      <th>1.005271e+10</th>\n",
       "      <td>18.0</td>\n",
       "      <td>18.0</td>\n",
       "      <td>1</td>\n",
       "      <td>NaN</td>\n",
       "      <td>18.0</td>\n",
       "      <td>18.0</td>\n",
       "      <td>18.0</td>\n",
       "    </tr>\n",
       "  </tbody>\n",
       "</table>\n",
       "</div>"
      ],
      "text/plain": [
       "               num_contact_sum_come  num_contact_mean_come  \\\n",
       "phone_contact                                                \n",
       "1.003627e+10                   34.0                   34.0   \n",
       "1.005121e+10                  110.0                   55.0   \n",
       "1.005271e+10                   18.0                   18.0   \n",
       "\n",
       "               num_contact_count_come  num_contact_std_come  \\\n",
       "phone_contact                                                 \n",
       "1.003627e+10                        1                   NaN   \n",
       "1.005121e+10                        2              9.899495   \n",
       "1.005271e+10                        1                   NaN   \n",
       "\n",
       "               num_contact_max_come  num_contact_min_come  \\\n",
       "phone_contact                                               \n",
       "1.003627e+10                   34.0                  34.0   \n",
       "1.005121e+10                   62.0                  48.0   \n",
       "1.005271e+10                   18.0                  18.0   \n",
       "\n",
       "               num_contact_median_come  \n",
       "phone_contact                           \n",
       "1.003627e+10                      34.0  \n",
       "1.005121e+10                      55.0  \n",
       "1.005271e+10                      18.0  "
      ]
     },
     "execution_count": 21,
     "metadata": {},
     "output_type": "execute_result"
    }
   ],
   "source": [
    "record_time_BA.head(3)"
   ]
  },
  {
   "cell_type": "code",
   "execution_count": 22,
   "metadata": {
    "collapsed": false
   },
   "outputs": [
    {
     "data": {
      "text/plain": [
       "(5068109, 7)"
      ]
     },
     "execution_count": 22,
     "metadata": {},
     "output_type": "execute_result"
    }
   ],
   "source": [
    "record_time_BA.shape"
   ]
  },
  {
   "cell_type": "markdown",
   "metadata": {},
   "source": [
    "### 特征3:被叫总时长、被叫总次数、平均时长"
   ]
  },
  {
   "cell_type": "code",
   "execution_count": 23,
   "metadata": {
    "collapsed": false
   },
   "outputs": [
    {
     "data": {
      "text/html": [
       "<div>\n",
       "<table border=\"1\" class=\"dataframe\">\n",
       "  <thead>\n",
       "    <tr style=\"text-align: right;\">\n",
       "      <th></th>\n",
       "      <th>num_contact_sum_call_to</th>\n",
       "      <th>num_contact_mean_call_to</th>\n",
       "      <th>num_contact_count_call_to</th>\n",
       "      <th>num_contact_std_call_to</th>\n",
       "      <th>num_contact_max_call_to</th>\n",
       "      <th>num_contact_min_call_to</th>\n",
       "      <th>num_contact_median_call_to</th>\n",
       "    </tr>\n",
       "    <tr>\n",
       "      <th>phone_contact</th>\n",
       "      <th></th>\n",
       "      <th></th>\n",
       "      <th></th>\n",
       "      <th></th>\n",
       "      <th></th>\n",
       "      <th></th>\n",
       "      <th></th>\n",
       "    </tr>\n",
       "  </thead>\n",
       "  <tbody>\n",
       "    <tr>\n",
       "      <th>1.008608e+10</th>\n",
       "      <td>102.0</td>\n",
       "      <td>102.0</td>\n",
       "      <td>1</td>\n",
       "      <td>NaN</td>\n",
       "      <td>102.0</td>\n",
       "      <td>102.0</td>\n",
       "      <td>102.0</td>\n",
       "    </tr>\n",
       "    <tr>\n",
       "      <th>1.008610e+10</th>\n",
       "      <td>13.0</td>\n",
       "      <td>13.0</td>\n",
       "      <td>1</td>\n",
       "      <td>NaN</td>\n",
       "      <td>13.0</td>\n",
       "      <td>13.0</td>\n",
       "      <td>13.0</td>\n",
       "    </tr>\n",
       "    <tr>\n",
       "      <th>1.008611e+10</th>\n",
       "      <td>1.0</td>\n",
       "      <td>1.0</td>\n",
       "      <td>1</td>\n",
       "      <td>NaN</td>\n",
       "      <td>1.0</td>\n",
       "      <td>1.0</td>\n",
       "      <td>1.0</td>\n",
       "    </tr>\n",
       "  </tbody>\n",
       "</table>\n",
       "</div>"
      ],
      "text/plain": [
       "               num_contact_sum_call_to  num_contact_mean_call_to  \\\n",
       "phone_contact                                                      \n",
       "1.008608e+10                     102.0                     102.0   \n",
       "1.008610e+10                      13.0                      13.0   \n",
       "1.008611e+10                       1.0                       1.0   \n",
       "\n",
       "               num_contact_count_call_to  num_contact_std_call_to  \\\n",
       "phone_contact                                                       \n",
       "1.008608e+10                           1                      NaN   \n",
       "1.008610e+10                           1                      NaN   \n",
       "1.008611e+10                           1                      NaN   \n",
       "\n",
       "               num_contact_max_call_to  num_contact_min_call_to  \\\n",
       "phone_contact                                                     \n",
       "1.008608e+10                     102.0                    102.0   \n",
       "1.008610e+10                      13.0                     13.0   \n",
       "1.008611e+10                       1.0                      1.0   \n",
       "\n",
       "               num_contact_median_call_to  \n",
       "phone_contact                              \n",
       "1.008608e+10                        102.0  \n",
       "1.008610e+10                         13.0  \n",
       "1.008611e+10                          1.0  "
      ]
     },
     "execution_count": 23,
     "metadata": {},
     "output_type": "execute_result"
    }
   ],
   "source": [
    "record_time_AB.head(3)"
   ]
  },
  {
   "cell_type": "code",
   "execution_count": 24,
   "metadata": {
    "collapsed": false
   },
   "outputs": [
    {
     "data": {
      "text/plain": [
       "(4897966, 7)"
      ]
     },
     "execution_count": 24,
     "metadata": {},
     "output_type": "execute_result"
    }
   ],
   "source": [
    "record_time_AB.shape"
   ]
  },
  {
   "cell_type": "markdown",
   "metadata": {},
   "source": [
    "### 特征4:总时长、总次数、平均时长"
   ]
  },
  {
   "cell_type": "code",
   "execution_count": null,
   "metadata": {
    "collapsed": true
   },
   "outputs": [],
   "source": []
  },
  {
   "cell_type": "markdown",
   "metadata": {},
   "source": [
    "### 特征5:时间段特征"
   ]
  },
  {
   "cell_type": "code",
   "execution_count": 73,
   "metadata": {
    "collapsed": true
   },
   "outputs": [
    {
     "data": {
      "text/html": [
       "<div>\n",
       "<table border=\"1\" class=\"dataframe\">\n",
       "  <thead>\n",
       "    <tr style=\"text-align: right;\">\n",
       "      <th></th>\n",
       "      <th>custorm_id</th>\n",
       "      <th>login_name</th>\n",
       "      <th>type_contact</th>\n",
       "      <th>num_contact</th>\n",
       "      <th>time_contact</th>\n",
       "      <th>phone_contact</th>\n",
       "      <th>type_call</th>\n",
       "      <th>time_interval</th>\n",
       "    </tr>\n",
       "  </thead>\n",
       "  <tbody>\n",
       "    <tr>\n",
       "      <th>0</th>\n",
       "      <td>3283806.0</td>\n",
       "      <td>1.523690e+10</td>\n",
       "      <td>1.0</td>\n",
       "      <td>85.0</td>\n",
       "      <td>2016-04-19 08:31:36</td>\n",
       "      <td>1.31237e+10</td>\n",
       "      <td>1.0</td>\n",
       "      <td>12</td>\n",
       "    </tr>\n",
       "    <tr>\n",
       "      <th>1</th>\n",
       "      <td>3283806.0</td>\n",
       "      <td>1.523690e+10</td>\n",
       "      <td>1.0</td>\n",
       "      <td>104.0</td>\n",
       "      <td>2016-04-19 07:50:59</td>\n",
       "      <td>1.31237e+10</td>\n",
       "      <td>1.0</td>\n",
       "      <td>12</td>\n",
       "    </tr>\n",
       "    <tr>\n",
       "      <th>2</th>\n",
       "      <td>3283806.0</td>\n",
       "      <td>1.523690e+10</td>\n",
       "      <td>1.0</td>\n",
       "      <td>47.0</td>\n",
       "      <td>2016-04-19 07:33:36</td>\n",
       "      <td>1.31937e+10</td>\n",
       "      <td>1.0</td>\n",
       "      <td>12</td>\n",
       "    </tr>\n",
       "    <tr>\n",
       "      <th>3</th>\n",
       "      <td>3283806.0</td>\n",
       "      <td>1.523690e+10</td>\n",
       "      <td>1.0</td>\n",
       "      <td>17.0</td>\n",
       "      <td>2016-04-18 13:58:26</td>\n",
       "      <td>1.84398e+10</td>\n",
       "      <td>1.0</td>\n",
       "      <td>18</td>\n",
       "    </tr>\n",
       "    <tr>\n",
       "      <th>4</th>\n",
       "      <td>3283806.0</td>\n",
       "      <td>1.523690e+10</td>\n",
       "      <td>1.0</td>\n",
       "      <td>113.0</td>\n",
       "      <td>2016-04-18 13:30:58</td>\n",
       "      <td>1.384e+10</td>\n",
       "      <td>2.0</td>\n",
       "      <td>18</td>\n",
       "    </tr>\n",
       "    <tr>\n",
       "      <th>5</th>\n",
       "      <td>3283806.0</td>\n",
       "      <td>1.523690e+10</td>\n",
       "      <td>1.0</td>\n",
       "      <td>22.0</td>\n",
       "      <td>2016-04-18 12:48:19</td>\n",
       "      <td>1.58931e+10</td>\n",
       "      <td>1.0</td>\n",
       "      <td>12</td>\n",
       "    </tr>\n",
       "    <tr>\n",
       "      <th>6</th>\n",
       "      <td>3283806.0</td>\n",
       "      <td>1.523690e+10</td>\n",
       "      <td>1.0</td>\n",
       "      <td>28.0</td>\n",
       "      <td>2016-04-18 12:47:30</td>\n",
       "      <td>1.84398e+10</td>\n",
       "      <td>1.0</td>\n",
       "      <td>12</td>\n",
       "    </tr>\n",
       "    <tr>\n",
       "      <th>9</th>\n",
       "      <td>3283806.0</td>\n",
       "      <td>1.523690e+10</td>\n",
       "      <td>1.0</td>\n",
       "      <td>242.0</td>\n",
       "      <td>2016-04-18 10:09:04</td>\n",
       "      <td>1.58931e+10</td>\n",
       "      <td>2.0</td>\n",
       "      <td>12</td>\n",
       "    </tr>\n",
       "    <tr>\n",
       "      <th>10</th>\n",
       "      <td>3283806.0</td>\n",
       "      <td>1.523690e+10</td>\n",
       "      <td>1.0</td>\n",
       "      <td>23.0</td>\n",
       "      <td>2016-04-18 09:57:18</td>\n",
       "      <td>1.84398e+10</td>\n",
       "      <td>1.0</td>\n",
       "      <td>12</td>\n",
       "    </tr>\n",
       "    <tr>\n",
       "      <th>11</th>\n",
       "      <td>3283806.0</td>\n",
       "      <td>1.523690e+10</td>\n",
       "      <td>1.0</td>\n",
       "      <td>34.0</td>\n",
       "      <td>2016-04-18 09:52:33</td>\n",
       "      <td>1.84398e+10</td>\n",
       "      <td>2.0</td>\n",
       "      <td>12</td>\n",
       "    </tr>\n",
       "    <tr>\n",
       "      <th>12</th>\n",
       "      <td>3283806.0</td>\n",
       "      <td>1.523690e+10</td>\n",
       "      <td>1.0</td>\n",
       "      <td>29.0</td>\n",
       "      <td>2016-04-18 09:03:18</td>\n",
       "      <td>1.84398e+10</td>\n",
       "      <td>1.0</td>\n",
       "      <td>12</td>\n",
       "    </tr>\n",
       "    <tr>\n",
       "      <th>13</th>\n",
       "      <td>3283806.0</td>\n",
       "      <td>1.523690e+10</td>\n",
       "      <td>1.0</td>\n",
       "      <td>22.0</td>\n",
       "      <td>2016-04-18 09:02:22</td>\n",
       "      <td>1.35989e+10</td>\n",
       "      <td>2.0</td>\n",
       "      <td>12</td>\n",
       "    </tr>\n",
       "    <tr>\n",
       "      <th>14</th>\n",
       "      <td>3283806.0</td>\n",
       "      <td>1.523690e+10</td>\n",
       "      <td>1.0</td>\n",
       "      <td>5.0</td>\n",
       "      <td>2016-04-18 04:56:59</td>\n",
       "      <td>1.59383e+10</td>\n",
       "      <td>2.0</td>\n",
       "      <td>6</td>\n",
       "    </tr>\n",
       "    <tr>\n",
       "      <th>15</th>\n",
       "      <td>3283806.0</td>\n",
       "      <td>1.523690e+10</td>\n",
       "      <td>1.0</td>\n",
       "      <td>70.0</td>\n",
       "      <td>2016-04-17 18:33:28</td>\n",
       "      <td>1.59383e+10</td>\n",
       "      <td>2.0</td>\n",
       "      <td>18</td>\n",
       "    </tr>\n",
       "    <tr>\n",
       "      <th>16</th>\n",
       "      <td>3283806.0</td>\n",
       "      <td>1.523690e+10</td>\n",
       "      <td>1.0</td>\n",
       "      <td>37.0</td>\n",
       "      <td>2016-04-17 09:56:59</td>\n",
       "      <td>1.58931e+10</td>\n",
       "      <td>2.0</td>\n",
       "      <td>12</td>\n",
       "    </tr>\n",
       "    <tr>\n",
       "      <th>18</th>\n",
       "      <td>3283806.0</td>\n",
       "      <td>1.523690e+10</td>\n",
       "      <td>1.0</td>\n",
       "      <td>41.0</td>\n",
       "      <td>2016-04-17 09:14:42</td>\n",
       "      <td>1.3804e+10</td>\n",
       "      <td>1.0</td>\n",
       "      <td>12</td>\n",
       "    </tr>\n",
       "    <tr>\n",
       "      <th>19</th>\n",
       "      <td>3283806.0</td>\n",
       "      <td>1.523690e+10</td>\n",
       "      <td>2.0</td>\n",
       "      <td>42.0</td>\n",
       "      <td>2016-04-17 09:05:13</td>\n",
       "      <td>1.30286e+10</td>\n",
       "      <td>1.0</td>\n",
       "      <td>12</td>\n",
       "    </tr>\n",
       "    <tr>\n",
       "      <th>20</th>\n",
       "      <td>3283806.0</td>\n",
       "      <td>1.523690e+10</td>\n",
       "      <td>1.0</td>\n",
       "      <td>5.0</td>\n",
       "      <td>2016-04-17 08:31:56</td>\n",
       "      <td>1.3804e+10</td>\n",
       "      <td>1.0</td>\n",
       "      <td>12</td>\n",
       "    </tr>\n",
       "    <tr>\n",
       "      <th>21</th>\n",
       "      <td>3283806.0</td>\n",
       "      <td>1.523690e+10</td>\n",
       "      <td>1.0</td>\n",
       "      <td>24.0</td>\n",
       "      <td>2016-04-17 08:31:11</td>\n",
       "      <td>1.3804e+10</td>\n",
       "      <td>1.0</td>\n",
       "      <td>12</td>\n",
       "    </tr>\n",
       "    <tr>\n",
       "      <th>22</th>\n",
       "      <td>3283806.0</td>\n",
       "      <td>1.523690e+10</td>\n",
       "      <td>1.0</td>\n",
       "      <td>12.0</td>\n",
       "      <td>2016-04-17 08:23:42</td>\n",
       "      <td>1.35989e+10</td>\n",
       "      <td>2.0</td>\n",
       "      <td>12</td>\n",
       "    </tr>\n",
       "    <tr>\n",
       "      <th>23</th>\n",
       "      <td>3283806.0</td>\n",
       "      <td>1.523690e+10</td>\n",
       "      <td>1.0</td>\n",
       "      <td>47.0</td>\n",
       "      <td>2016-04-17 08:19:52</td>\n",
       "      <td>1.30286e+10</td>\n",
       "      <td>2.0</td>\n",
       "      <td>12</td>\n",
       "    </tr>\n",
       "    <tr>\n",
       "      <th>24</th>\n",
       "      <td>3283806.0</td>\n",
       "      <td>1.523690e+10</td>\n",
       "      <td>1.0</td>\n",
       "      <td>22.0</td>\n",
       "      <td>2016-04-17 08:05:30</td>\n",
       "      <td>1.35989e+10</td>\n",
       "      <td>1.0</td>\n",
       "      <td>12</td>\n",
       "    </tr>\n",
       "    <tr>\n",
       "      <th>25</th>\n",
       "      <td>3283806.0</td>\n",
       "      <td>1.523690e+10</td>\n",
       "      <td>1.0</td>\n",
       "      <td>20.0</td>\n",
       "      <td>2016-04-17 08:04:09</td>\n",
       "      <td>1.3804e+10</td>\n",
       "      <td>2.0</td>\n",
       "      <td>12</td>\n",
       "    </tr>\n",
       "    <tr>\n",
       "      <th>26</th>\n",
       "      <td>3283806.0</td>\n",
       "      <td>1.523690e+10</td>\n",
       "      <td>1.0</td>\n",
       "      <td>10.0</td>\n",
       "      <td>2016-04-17 07:11:48</td>\n",
       "      <td>1.50396e+10</td>\n",
       "      <td>2.0</td>\n",
       "      <td>12</td>\n",
       "    </tr>\n",
       "    <tr>\n",
       "      <th>27</th>\n",
       "      <td>3283806.0</td>\n",
       "      <td>1.523690e+10</td>\n",
       "      <td>1.0</td>\n",
       "      <td>49.0</td>\n",
       "      <td>2016-04-16 15:12:37</td>\n",
       "      <td>1.31237e+10</td>\n",
       "      <td>1.0</td>\n",
       "      <td>18</td>\n",
       "    </tr>\n",
       "    <tr>\n",
       "      <th>28</th>\n",
       "      <td>3283806.0</td>\n",
       "      <td>1.523690e+10</td>\n",
       "      <td>1.0</td>\n",
       "      <td>12.0</td>\n",
       "      <td>2016-04-16 13:34:20</td>\n",
       "      <td>1.50396e+10</td>\n",
       "      <td>2.0</td>\n",
       "      <td>18</td>\n",
       "    </tr>\n",
       "    <tr>\n",
       "      <th>29</th>\n",
       "      <td>3283806.0</td>\n",
       "      <td>1.523690e+10</td>\n",
       "      <td>1.0</td>\n",
       "      <td>27.0</td>\n",
       "      <td>2016-04-16 12:22:36</td>\n",
       "      <td>1.31937e+10</td>\n",
       "      <td>1.0</td>\n",
       "      <td>12</td>\n",
       "    </tr>\n",
       "    <tr>\n",
       "      <th>30</th>\n",
       "      <td>3283806.0</td>\n",
       "      <td>1.523690e+10</td>\n",
       "      <td>1.0</td>\n",
       "      <td>45.0</td>\n",
       "      <td>2016-04-16 10:40:07</td>\n",
       "      <td>1.58908e+10</td>\n",
       "      <td>2.0</td>\n",
       "      <td>12</td>\n",
       "    </tr>\n",
       "    <tr>\n",
       "      <th>31</th>\n",
       "      <td>3283806.0</td>\n",
       "      <td>1.523690e+10</td>\n",
       "      <td>1.0</td>\n",
       "      <td>17.0</td>\n",
       "      <td>2016-04-16 10:35:12</td>\n",
       "      <td>1.39397e+10</td>\n",
       "      <td>2.0</td>\n",
       "      <td>12</td>\n",
       "    </tr>\n",
       "    <tr>\n",
       "      <th>32</th>\n",
       "      <td>3283806.0</td>\n",
       "      <td>1.523690e+10</td>\n",
       "      <td>1.0</td>\n",
       "      <td>78.0</td>\n",
       "      <td>2016-04-15 15:48:45</td>\n",
       "      <td>1.52363e+10</td>\n",
       "      <td>1.0</td>\n",
       "      <td>18</td>\n",
       "    </tr>\n",
       "    <tr>\n",
       "      <th>...</th>\n",
       "      <td>...</td>\n",
       "      <td>...</td>\n",
       "      <td>...</td>\n",
       "      <td>...</td>\n",
       "      <td>...</td>\n",
       "      <td>...</td>\n",
       "      <td>...</td>\n",
       "      <td>...</td>\n",
       "    </tr>\n",
       "    <tr>\n",
       "      <th>9964</th>\n",
       "      <td>2918204.0</td>\n",
       "      <td>1.527084e+10</td>\n",
       "      <td>1.0</td>\n",
       "      <td>31.0</td>\n",
       "      <td>2016-03-18 11:01:41</td>\n",
       "      <td>13979195758</td>\n",
       "      <td>1.0</td>\n",
       "      <td>12</td>\n",
       "    </tr>\n",
       "    <tr>\n",
       "      <th>9965</th>\n",
       "      <td>2918204.0</td>\n",
       "      <td>1.527084e+10</td>\n",
       "      <td>2.0</td>\n",
       "      <td>38.0</td>\n",
       "      <td>2016-03-18 10:29:06</td>\n",
       "      <td>13047973198</td>\n",
       "      <td>1.0</td>\n",
       "      <td>12</td>\n",
       "    </tr>\n",
       "    <tr>\n",
       "      <th>9966</th>\n",
       "      <td>2918204.0</td>\n",
       "      <td>1.527084e+10</td>\n",
       "      <td>1.0</td>\n",
       "      <td>40.0</td>\n",
       "      <td>2016-03-18 10:28:03</td>\n",
       "      <td>13687002203</td>\n",
       "      <td>1.0</td>\n",
       "      <td>12</td>\n",
       "    </tr>\n",
       "    <tr>\n",
       "      <th>9967</th>\n",
       "      <td>2918204.0</td>\n",
       "      <td>1.527084e+10</td>\n",
       "      <td>1.0</td>\n",
       "      <td>17.0</td>\n",
       "      <td>2016-03-18 10:26:52</td>\n",
       "      <td>13687002203</td>\n",
       "      <td>1.0</td>\n",
       "      <td>12</td>\n",
       "    </tr>\n",
       "    <tr>\n",
       "      <th>9968</th>\n",
       "      <td>2918204.0</td>\n",
       "      <td>1.527084e+10</td>\n",
       "      <td>1.0</td>\n",
       "      <td>25.0</td>\n",
       "      <td>2016-03-18 10:25:47</td>\n",
       "      <td>13047973198</td>\n",
       "      <td>2.0</td>\n",
       "      <td>12</td>\n",
       "    </tr>\n",
       "    <tr>\n",
       "      <th>9970</th>\n",
       "      <td>2918204.0</td>\n",
       "      <td>1.527084e+10</td>\n",
       "      <td>1.0</td>\n",
       "      <td>52.0</td>\n",
       "      <td>2016-03-18 08:47:01</td>\n",
       "      <td>13979541660</td>\n",
       "      <td>2.0</td>\n",
       "      <td>12</td>\n",
       "    </tr>\n",
       "    <tr>\n",
       "      <th>9971</th>\n",
       "      <td>2918204.0</td>\n",
       "      <td>1.527084e+10</td>\n",
       "      <td>1.0</td>\n",
       "      <td>400.0</td>\n",
       "      <td>2016-03-17 21:49:39</td>\n",
       "      <td>13047973198</td>\n",
       "      <td>2.0</td>\n",
       "      <td>22</td>\n",
       "    </tr>\n",
       "    <tr>\n",
       "      <th>9972</th>\n",
       "      <td>2918204.0</td>\n",
       "      <td>1.527084e+10</td>\n",
       "      <td>1.0</td>\n",
       "      <td>30.0</td>\n",
       "      <td>2016-03-17 17:21:47</td>\n",
       "      <td>13979541660</td>\n",
       "      <td>1.0</td>\n",
       "      <td>18</td>\n",
       "    </tr>\n",
       "    <tr>\n",
       "      <th>9977</th>\n",
       "      <td>2918204.0</td>\n",
       "      <td>1.527084e+10</td>\n",
       "      <td>1.0</td>\n",
       "      <td>46.0</td>\n",
       "      <td>2016-03-17 11:14:20</td>\n",
       "      <td>13979541660</td>\n",
       "      <td>2.0</td>\n",
       "      <td>12</td>\n",
       "    </tr>\n",
       "    <tr>\n",
       "      <th>9978</th>\n",
       "      <td>2918204.0</td>\n",
       "      <td>1.527084e+10</td>\n",
       "      <td>1.0</td>\n",
       "      <td>43.0</td>\n",
       "      <td>2016-03-17 10:26:48</td>\n",
       "      <td>13979541660</td>\n",
       "      <td>2.0</td>\n",
       "      <td>12</td>\n",
       "    </tr>\n",
       "    <tr>\n",
       "      <th>9980</th>\n",
       "      <td>2918204.0</td>\n",
       "      <td>1.527084e+10</td>\n",
       "      <td>1.0</td>\n",
       "      <td>18.0</td>\n",
       "      <td>2016-03-17 09:46:33</td>\n",
       "      <td>17087567426</td>\n",
       "      <td>2.0</td>\n",
       "      <td>12</td>\n",
       "    </tr>\n",
       "    <tr>\n",
       "      <th>9981</th>\n",
       "      <td>2918204.0</td>\n",
       "      <td>1.527084e+10</td>\n",
       "      <td>1.0</td>\n",
       "      <td>37.0</td>\n",
       "      <td>2016-03-17 09:41:47</td>\n",
       "      <td>13979541660</td>\n",
       "      <td>2.0</td>\n",
       "      <td>12</td>\n",
       "    </tr>\n",
       "    <tr>\n",
       "      <th>9982</th>\n",
       "      <td>2918204.0</td>\n",
       "      <td>1.527084e+10</td>\n",
       "      <td>1.0</td>\n",
       "      <td>38.0</td>\n",
       "      <td>2016-03-17 07:45:43</td>\n",
       "      <td>15070038344</td>\n",
       "      <td>2.0</td>\n",
       "      <td>12</td>\n",
       "    </tr>\n",
       "    <tr>\n",
       "      <th>9983</th>\n",
       "      <td>2918204.0</td>\n",
       "      <td>1.527084e+10</td>\n",
       "      <td>1.0</td>\n",
       "      <td>102.0</td>\n",
       "      <td>2016-03-16 21:43:37</td>\n",
       "      <td>13979541660</td>\n",
       "      <td>2.0</td>\n",
       "      <td>22</td>\n",
       "    </tr>\n",
       "    <tr>\n",
       "      <th>9984</th>\n",
       "      <td>2918204.0</td>\n",
       "      <td>1.527084e+10</td>\n",
       "      <td>1.0</td>\n",
       "      <td>395.0</td>\n",
       "      <td>2016-03-16 18:41:28</td>\n",
       "      <td>13979541660</td>\n",
       "      <td>2.0</td>\n",
       "      <td>18</td>\n",
       "    </tr>\n",
       "    <tr>\n",
       "      <th>9985</th>\n",
       "      <td>2918204.0</td>\n",
       "      <td>1.527084e+10</td>\n",
       "      <td>1.0</td>\n",
       "      <td>28.0</td>\n",
       "      <td>2016-03-16 18:36:49</td>\n",
       "      <td>13979541660</td>\n",
       "      <td>1.0</td>\n",
       "      <td>18</td>\n",
       "    </tr>\n",
       "    <tr>\n",
       "      <th>9986</th>\n",
       "      <td>2918204.0</td>\n",
       "      <td>1.527084e+10</td>\n",
       "      <td>1.0</td>\n",
       "      <td>101.0</td>\n",
       "      <td>2016-03-16 17:25:59</td>\n",
       "      <td>18807099960</td>\n",
       "      <td>2.0</td>\n",
       "      <td>18</td>\n",
       "    </tr>\n",
       "    <tr>\n",
       "      <th>9987</th>\n",
       "      <td>2918204.0</td>\n",
       "      <td>1.527084e+10</td>\n",
       "      <td>1.0</td>\n",
       "      <td>60.0</td>\n",
       "      <td>2016-03-15 21:05:36</td>\n",
       "      <td>13979195758</td>\n",
       "      <td>2.0</td>\n",
       "      <td>22</td>\n",
       "    </tr>\n",
       "    <tr>\n",
       "      <th>9988</th>\n",
       "      <td>2918204.0</td>\n",
       "      <td>1.527084e+10</td>\n",
       "      <td>1.0</td>\n",
       "      <td>499.0</td>\n",
       "      <td>2016-03-15 11:34:57</td>\n",
       "      <td>13539755298</td>\n",
       "      <td>2.0</td>\n",
       "      <td>12</td>\n",
       "    </tr>\n",
       "    <tr>\n",
       "      <th>9989</th>\n",
       "      <td>2918204.0</td>\n",
       "      <td>1.527084e+10</td>\n",
       "      <td>1.0</td>\n",
       "      <td>16.0</td>\n",
       "      <td>2016-03-14 15:53:10</td>\n",
       "      <td>13979541660</td>\n",
       "      <td>2.0</td>\n",
       "      <td>18</td>\n",
       "    </tr>\n",
       "    <tr>\n",
       "      <th>9990</th>\n",
       "      <td>2918204.0</td>\n",
       "      <td>1.527084e+10</td>\n",
       "      <td>1.0</td>\n",
       "      <td>21.0</td>\n",
       "      <td>2016-03-14 15:35:12</td>\n",
       "      <td>13979541660</td>\n",
       "      <td>2.0</td>\n",
       "      <td>18</td>\n",
       "    </tr>\n",
       "    <tr>\n",
       "      <th>9991</th>\n",
       "      <td>2918204.0</td>\n",
       "      <td>1.527084e+10</td>\n",
       "      <td>1.0</td>\n",
       "      <td>74.0</td>\n",
       "      <td>2016-03-14 15:15:10</td>\n",
       "      <td>13979541660</td>\n",
       "      <td>2.0</td>\n",
       "      <td>18</td>\n",
       "    </tr>\n",
       "    <tr>\n",
       "      <th>9992</th>\n",
       "      <td>2918204.0</td>\n",
       "      <td>1.527084e+10</td>\n",
       "      <td>2.0</td>\n",
       "      <td>206.0</td>\n",
       "      <td>2016-03-13 21:06:08</td>\n",
       "      <td>15170722662</td>\n",
       "      <td>1.0</td>\n",
       "      <td>22</td>\n",
       "    </tr>\n",
       "    <tr>\n",
       "      <th>9993</th>\n",
       "      <td>2918204.0</td>\n",
       "      <td>1.527084e+10</td>\n",
       "      <td>1.0</td>\n",
       "      <td>41.0</td>\n",
       "      <td>2016-03-13 18:29:56</td>\n",
       "      <td>13979541660</td>\n",
       "      <td>2.0</td>\n",
       "      <td>18</td>\n",
       "    </tr>\n",
       "    <tr>\n",
       "      <th>9994</th>\n",
       "      <td>2918204.0</td>\n",
       "      <td>1.527084e+10</td>\n",
       "      <td>1.0</td>\n",
       "      <td>203.0</td>\n",
       "      <td>2016-03-13 17:12:36</td>\n",
       "      <td>13979541660</td>\n",
       "      <td>2.0</td>\n",
       "      <td>18</td>\n",
       "    </tr>\n",
       "    <tr>\n",
       "      <th>9995</th>\n",
       "      <td>2918204.0</td>\n",
       "      <td>1.527084e+10</td>\n",
       "      <td>1.0</td>\n",
       "      <td>104.0</td>\n",
       "      <td>2016-03-13 16:58:05</td>\n",
       "      <td>13479178086</td>\n",
       "      <td>1.0</td>\n",
       "      <td>18</td>\n",
       "    </tr>\n",
       "    <tr>\n",
       "      <th>9996</th>\n",
       "      <td>2918204.0</td>\n",
       "      <td>1.527084e+10</td>\n",
       "      <td>1.0</td>\n",
       "      <td>153.0</td>\n",
       "      <td>2016-03-13 16:52:44</td>\n",
       "      <td>13979541660</td>\n",
       "      <td>2.0</td>\n",
       "      <td>18</td>\n",
       "    </tr>\n",
       "    <tr>\n",
       "      <th>9997</th>\n",
       "      <td>2918204.0</td>\n",
       "      <td>1.527084e+10</td>\n",
       "      <td>1.0</td>\n",
       "      <td>54.0</td>\n",
       "      <td>2016-03-13 14:59:44</td>\n",
       "      <td>15879107317</td>\n",
       "      <td>1.0</td>\n",
       "      <td>18</td>\n",
       "    </tr>\n",
       "    <tr>\n",
       "      <th>9998</th>\n",
       "      <td>2918204.0</td>\n",
       "      <td>1.527084e+10</td>\n",
       "      <td>1.0</td>\n",
       "      <td>20.0</td>\n",
       "      <td>2016-03-12 20:01:59</td>\n",
       "      <td>18611210734</td>\n",
       "      <td>2.0</td>\n",
       "      <td>20</td>\n",
       "    </tr>\n",
       "    <tr>\n",
       "      <th>9999</th>\n",
       "      <td>2918204.0</td>\n",
       "      <td>1.527084e+10</td>\n",
       "      <td>1.0</td>\n",
       "      <td>14.0</td>\n",
       "      <td>2016-03-12 19:43:56</td>\n",
       "      <td>15070016832</td>\n",
       "      <td>2.0</td>\n",
       "      <td>20</td>\n",
       "    </tr>\n",
       "  </tbody>\n",
       "</table>\n",
       "<p>71221273 rows × 8 columns</p>\n",
       "</div>"
      ],
      "text/plain": [
       "      custorm_id    login_name  type_contact  num_contact  \\\n",
       "0      3283806.0  1.523690e+10           1.0         85.0   \n",
       "1      3283806.0  1.523690e+10           1.0        104.0   \n",
       "2      3283806.0  1.523690e+10           1.0         47.0   \n",
       "3      3283806.0  1.523690e+10           1.0         17.0   \n",
       "4      3283806.0  1.523690e+10           1.0        113.0   \n",
       "5      3283806.0  1.523690e+10           1.0         22.0   \n",
       "6      3283806.0  1.523690e+10           1.0         28.0   \n",
       "9      3283806.0  1.523690e+10           1.0        242.0   \n",
       "10     3283806.0  1.523690e+10           1.0         23.0   \n",
       "11     3283806.0  1.523690e+10           1.0         34.0   \n",
       "12     3283806.0  1.523690e+10           1.0         29.0   \n",
       "13     3283806.0  1.523690e+10           1.0         22.0   \n",
       "14     3283806.0  1.523690e+10           1.0          5.0   \n",
       "15     3283806.0  1.523690e+10           1.0         70.0   \n",
       "16     3283806.0  1.523690e+10           1.0         37.0   \n",
       "18     3283806.0  1.523690e+10           1.0         41.0   \n",
       "19     3283806.0  1.523690e+10           2.0         42.0   \n",
       "20     3283806.0  1.523690e+10           1.0          5.0   \n",
       "21     3283806.0  1.523690e+10           1.0         24.0   \n",
       "22     3283806.0  1.523690e+10           1.0         12.0   \n",
       "23     3283806.0  1.523690e+10           1.0         47.0   \n",
       "24     3283806.0  1.523690e+10           1.0         22.0   \n",
       "25     3283806.0  1.523690e+10           1.0         20.0   \n",
       "26     3283806.0  1.523690e+10           1.0         10.0   \n",
       "27     3283806.0  1.523690e+10           1.0         49.0   \n",
       "28     3283806.0  1.523690e+10           1.0         12.0   \n",
       "29     3283806.0  1.523690e+10           1.0         27.0   \n",
       "30     3283806.0  1.523690e+10           1.0         45.0   \n",
       "31     3283806.0  1.523690e+10           1.0         17.0   \n",
       "32     3283806.0  1.523690e+10           1.0         78.0   \n",
       "...          ...           ...           ...          ...   \n",
       "9964   2918204.0  1.527084e+10           1.0         31.0   \n",
       "9965   2918204.0  1.527084e+10           2.0         38.0   \n",
       "9966   2918204.0  1.527084e+10           1.0         40.0   \n",
       "9967   2918204.0  1.527084e+10           1.0         17.0   \n",
       "9968   2918204.0  1.527084e+10           1.0         25.0   \n",
       "9970   2918204.0  1.527084e+10           1.0         52.0   \n",
       "9971   2918204.0  1.527084e+10           1.0        400.0   \n",
       "9972   2918204.0  1.527084e+10           1.0         30.0   \n",
       "9977   2918204.0  1.527084e+10           1.0         46.0   \n",
       "9978   2918204.0  1.527084e+10           1.0         43.0   \n",
       "9980   2918204.0  1.527084e+10           1.0         18.0   \n",
       "9981   2918204.0  1.527084e+10           1.0         37.0   \n",
       "9982   2918204.0  1.527084e+10           1.0         38.0   \n",
       "9983   2918204.0  1.527084e+10           1.0        102.0   \n",
       "9984   2918204.0  1.527084e+10           1.0        395.0   \n",
       "9985   2918204.0  1.527084e+10           1.0         28.0   \n",
       "9986   2918204.0  1.527084e+10           1.0        101.0   \n",
       "9987   2918204.0  1.527084e+10           1.0         60.0   \n",
       "9988   2918204.0  1.527084e+10           1.0        499.0   \n",
       "9989   2918204.0  1.527084e+10           1.0         16.0   \n",
       "9990   2918204.0  1.527084e+10           1.0         21.0   \n",
       "9991   2918204.0  1.527084e+10           1.0         74.0   \n",
       "9992   2918204.0  1.527084e+10           2.0        206.0   \n",
       "9993   2918204.0  1.527084e+10           1.0         41.0   \n",
       "9994   2918204.0  1.527084e+10           1.0        203.0   \n",
       "9995   2918204.0  1.527084e+10           1.0        104.0   \n",
       "9996   2918204.0  1.527084e+10           1.0        153.0   \n",
       "9997   2918204.0  1.527084e+10           1.0         54.0   \n",
       "9998   2918204.0  1.527084e+10           1.0         20.0   \n",
       "9999   2918204.0  1.527084e+10           1.0         14.0   \n",
       "\n",
       "             time_contact phone_contact  type_call  time_interval  \n",
       "0     2016-04-19 08:31:36   1.31237e+10        1.0             12  \n",
       "1     2016-04-19 07:50:59   1.31237e+10        1.0             12  \n",
       "2     2016-04-19 07:33:36   1.31937e+10        1.0             12  \n",
       "3     2016-04-18 13:58:26   1.84398e+10        1.0             18  \n",
       "4     2016-04-18 13:30:58     1.384e+10        2.0             18  \n",
       "5     2016-04-18 12:48:19   1.58931e+10        1.0             12  \n",
       "6     2016-04-18 12:47:30   1.84398e+10        1.0             12  \n",
       "9     2016-04-18 10:09:04   1.58931e+10        2.0             12  \n",
       "10    2016-04-18 09:57:18   1.84398e+10        1.0             12  \n",
       "11    2016-04-18 09:52:33   1.84398e+10        2.0             12  \n",
       "12    2016-04-18 09:03:18   1.84398e+10        1.0             12  \n",
       "13    2016-04-18 09:02:22   1.35989e+10        2.0             12  \n",
       "14    2016-04-18 04:56:59   1.59383e+10        2.0              6  \n",
       "15    2016-04-17 18:33:28   1.59383e+10        2.0             18  \n",
       "16    2016-04-17 09:56:59   1.58931e+10        2.0             12  \n",
       "18    2016-04-17 09:14:42    1.3804e+10        1.0             12  \n",
       "19    2016-04-17 09:05:13   1.30286e+10        1.0             12  \n",
       "20    2016-04-17 08:31:56    1.3804e+10        1.0             12  \n",
       "21    2016-04-17 08:31:11    1.3804e+10        1.0             12  \n",
       "22    2016-04-17 08:23:42   1.35989e+10        2.0             12  \n",
       "23    2016-04-17 08:19:52   1.30286e+10        2.0             12  \n",
       "24    2016-04-17 08:05:30   1.35989e+10        1.0             12  \n",
       "25    2016-04-17 08:04:09    1.3804e+10        2.0             12  \n",
       "26    2016-04-17 07:11:48   1.50396e+10        2.0             12  \n",
       "27    2016-04-16 15:12:37   1.31237e+10        1.0             18  \n",
       "28    2016-04-16 13:34:20   1.50396e+10        2.0             18  \n",
       "29    2016-04-16 12:22:36   1.31937e+10        1.0             12  \n",
       "30    2016-04-16 10:40:07   1.58908e+10        2.0             12  \n",
       "31    2016-04-16 10:35:12   1.39397e+10        2.0             12  \n",
       "32    2016-04-15 15:48:45   1.52363e+10        1.0             18  \n",
       "...                   ...           ...        ...            ...  \n",
       "9964  2016-03-18 11:01:41   13979195758        1.0             12  \n",
       "9965  2016-03-18 10:29:06   13047973198        1.0             12  \n",
       "9966  2016-03-18 10:28:03   13687002203        1.0             12  \n",
       "9967  2016-03-18 10:26:52   13687002203        1.0             12  \n",
       "9968  2016-03-18 10:25:47   13047973198        2.0             12  \n",
       "9970  2016-03-18 08:47:01   13979541660        2.0             12  \n",
       "9971  2016-03-17 21:49:39   13047973198        2.0             22  \n",
       "9972  2016-03-17 17:21:47   13979541660        1.0             18  \n",
       "9977  2016-03-17 11:14:20   13979541660        2.0             12  \n",
       "9978  2016-03-17 10:26:48   13979541660        2.0             12  \n",
       "9980  2016-03-17 09:46:33   17087567426        2.0             12  \n",
       "9981  2016-03-17 09:41:47   13979541660        2.0             12  \n",
       "9982  2016-03-17 07:45:43   15070038344        2.0             12  \n",
       "9983  2016-03-16 21:43:37   13979541660        2.0             22  \n",
       "9984  2016-03-16 18:41:28   13979541660        2.0             18  \n",
       "9985  2016-03-16 18:36:49   13979541660        1.0             18  \n",
       "9986  2016-03-16 17:25:59   18807099960        2.0             18  \n",
       "9987  2016-03-15 21:05:36   13979195758        2.0             22  \n",
       "9988  2016-03-15 11:34:57   13539755298        2.0             12  \n",
       "9989  2016-03-14 15:53:10   13979541660        2.0             18  \n",
       "9990  2016-03-14 15:35:12   13979541660        2.0             18  \n",
       "9991  2016-03-14 15:15:10   13979541660        2.0             18  \n",
       "9992  2016-03-13 21:06:08   15170722662        1.0             22  \n",
       "9993  2016-03-13 18:29:56   13979541660        2.0             18  \n",
       "9994  2016-03-13 17:12:36   13979541660        2.0             18  \n",
       "9995  2016-03-13 16:58:05   13479178086        1.0             18  \n",
       "9996  2016-03-13 16:52:44   13979541660        2.0             18  \n",
       "9997  2016-03-13 14:59:44   15879107317        1.0             18  \n",
       "9998  2016-03-12 20:01:59   18611210734        2.0             20  \n",
       "9999  2016-03-12 19:43:56   15070016832        2.0             20  \n",
       "\n",
       "[71221273 rows x 8 columns]"
      ]
     },
     "execution_count": 73,
     "metadata": {},
     "output_type": "execute_result"
    }
   ],
   "source": [
    "metadata_mini"
   ]
  },
  {
   "cell_type": "code",
   "execution_count": 75,
   "metadata": {
    "collapsed": false
   },
   "outputs": [
    {
     "data": {
      "text/plain": [
       "phone_contact  time_interval\n",
       "1.003627e+10   18                 34.0\n",
       "1.005121e+10   12                 48.0\n",
       "               18                 62.0\n",
       "1.005271e+10   18                 18.0\n",
       "1.005921e+10   12                  6.0\n",
       "1.006934e+10   12                240.0\n",
       "1.006986e+10   18                  9.0\n",
       "1.007491e+10   12                 41.0\n",
       "1.008608e+10   12                102.0\n",
       "1.008610e+10   24                 13.0\n",
       "1.008611e+10   12                  1.0\n",
       "1.008612e+10   24                  1.0\n",
       "1.008670e+10   18                 25.0\n",
       "               20                  1.0\n",
       "1.010087e+10   12                581.0\n",
       "               18                105.0\n",
       "1.010522e+10   18                204.0\n",
       "1.010562e+10   18                 31.0\n",
       "               18                927.0\n",
       "               18                182.0\n",
       "1.010563e+10   18                 44.0\n",
       "1.010584e+10   18                 20.0\n",
       "               12                 17.0\n",
       "1.010598e+10   12               2423.0\n",
       "               18               4044.0\n",
       "               20                820.0\n",
       "1.011505e+10   22                 14.0\n",
       "1.012050e+10   12                 54.0\n",
       "1.012856e+10   24                103.0\n",
       "1.015601e+10   20                 52.0\n",
       "                                 ...  \n",
       "1.982734e+10   6                  21.0\n",
       "1.982992e+10   20                  6.0\n",
       "1.983976e+10   18                 22.0\n",
       "1.984745e+10   12                 10.0\n",
       "1.984834e+10   20                 31.0\n",
       "1.985815e+10   18                 16.0\n",
       "1.986250e+10   12                 20.0\n",
       "1.988180e+10   18                 13.0\n",
       "1.988971e+10   12                 21.0\n",
       "1.990430e+10   18                 43.0\n",
       "1.990461e+10   12                  7.0\n",
       "1.990989e+10   12                  5.0\n",
       "1.991476e+10   18                 21.0\n",
       "1.991979e+10   12                 24.0\n",
       "1.992141e+10   18                 12.0\n",
       "1.992526e+10   12                 72.0\n",
       "1.993578e+10   18                 11.0\n",
       "1.993686e+10   18                  8.0\n",
       "1.994511e+10   18                 18.0\n",
       "1.994584e+10   6                  18.0\n",
       "1.995025e+10   12                  8.0\n",
       "1.995106e+10   12                  6.0\n",
       "1.995975e+10   6                  12.0\n",
       "1.996148e+10   12                 15.0\n",
       "1.996392e+10   12                 45.0\n",
       "1.996645e+10   18                 14.0\n",
       "1.997056e+10   12                 21.0\n",
       "1.997314e+10   12                 14.0\n",
       "1.998236e+10   22                  6.0\n",
       "1.999672e+10   12                  7.0\n",
       "dtype: float64"
      ]
     },
     "execution_count": 75,
     "metadata": {},
     "output_type": "execute_result"
    }
   ],
   "source": [
    "%time app_call_record.groupby(['phone_contact','time_interval']).apply(lambda x: sum(x.num_contact))"
   ]
  },
  {
   "cell_type": "code",
   "execution_count": null,
   "metadata": {
    "collapsed": true
   },
   "outputs": [],
   "source": [
    "%time app_call_record.groupby(['phone_contact','time_interval']).count()"
   ]
  },
  {
   "cell_type": "markdown",
   "metadata": {},
   "source": [
    "### 合并特征"
   ]
  },
  {
   "cell_type": "code",
   "execution_count": 69,
   "metadata": {
    "collapsed": false
   },
   "outputs": [
    {
     "data": {
      "text/html": [
       "<div>\n",
       "<table border=\"1\" class=\"dataframe\">\n",
       "  <thead>\n",
       "    <tr style=\"text-align: right;\">\n",
       "      <th></th>\n",
       "      <th>0</th>\n",
       "      <th>num_contact_sum_come</th>\n",
       "      <th>num_contact_mean_come</th>\n",
       "      <th>num_contact_count_come</th>\n",
       "      <th>num_contact_std_come</th>\n",
       "      <th>num_contact_max_come</th>\n",
       "      <th>num_contact_min_come</th>\n",
       "      <th>num_contact_median_come</th>\n",
       "      <th>num_contact_sum_come</th>\n",
       "      <th>num_contact_mean_come</th>\n",
       "      <th>num_contact_count_come</th>\n",
       "      <th>num_contact_std_come</th>\n",
       "      <th>num_contact_max_come</th>\n",
       "      <th>num_contact_min_come</th>\n",
       "      <th>num_contact_median_come</th>\n",
       "      <th>time_interval</th>\n",
       "    </tr>\n",
       "  </thead>\n",
       "  <tbody>\n",
       "  </tbody>\n",
       "</table>\n",
       "</div>"
      ],
      "text/plain": [
       "Empty DataFrame\n",
       "Columns: [0, num_contact_sum_come, num_contact_mean_come, num_contact_count_come, num_contact_std_come, num_contact_max_come, num_contact_min_come, num_contact_median_come, num_contact_sum_come, num_contact_mean_come, num_contact_count_come, num_contact_std_come, num_contact_max_come, num_contact_min_come, num_contact_median_come, time_interval]\n",
       "Index: []"
      ]
     },
     "execution_count": 69,
     "metadata": {},
     "output_type": "execute_result"
    }
   ],
   "source": [
    "pd.concat([sss,record_time_BA,],axis=1,join='inner').head(3)"
   ]
  },
  {
   "cell_type": "code",
   "execution_count": null,
   "metadata": {
    "collapsed": true
   },
   "outputs": [],
   "source": []
  }
 ],
 "metadata": {
  "kernelspec": {
   "display_name": "Python [Root]",
   "language": "python",
   "name": "Python [Root]"
  },
  "language_info": {
   "codemirror_mode": {
    "name": "ipython",
    "version": 2
   },
   "file_extension": ".py",
   "mimetype": "text/x-python",
   "name": "python",
   "nbconvert_exporter": "python",
   "pygments_lexer": "ipython2",
   "version": "2.7.12"
  }
 },
 "nbformat": 4,
 "nbformat_minor": 0
}

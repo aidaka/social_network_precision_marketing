{
 "cells": [
  {
   "cell_type": "code",
   "execution_count": 1,
   "metadata": {
    "collapsed": true
   },
   "outputs": [],
   "source": [
    "from impala.dbapi  import connect\n",
    "from sqlalchemy import *  \n",
    "from sqlalchemy.sql import select  \n",
    "from sqlalchemy.schema import *  \n",
    "import numpy as np\n",
    "import pandas as pd\n",
    "from sqlalchemy.orm import sessionmaker\n",
    "conn=connect(host=\"192.168.61.168\",port=21050,auth_mechanism=\"GSSAPI\")\n",
    "cur=conn.cursor()"
   ]
  },
  {
   "cell_type": "code",
   "execution_count": 2,
   "metadata": {
    "collapsed": true
   },
   "outputs": [],
   "source": [
    "sql='''\n",
    "select number,-- 手机号\n",
    "count(distinct custorm_id) as cust_num, -- 与其联系的用户个数\n",
    "count(custorm_id) as freq_num,-- 用户与其联系总次数\n",
    "sum(cast(time as float)) as total_time, --  用户与其联系总时间\n",
    "avg(cast(time as float)) as avg_time, -- 用户与其联系平均时间\n",
    "count(case when type=\"1\" then number end) as  call_to_cust,-- 用户打给他的次数\n",
    "sum(case when type=\"1\" then cast(time as float) end) as  call_to_cust_total_time, -- 用户打给他总时长\n",
    "sum(case when type=\"1\" then cast(time as float)  end)/(count(case when type=\"1\" then number end)+1) as  call_to_cust_avg_time, -- 用户打给他平均时长\n",
    "count(case when type=\"2\" then number end) as  cust_to_him, -- 他打给用户的次数\n",
    "sum(case when type=\"2\" then cast(time as float)  end) as  cust_to_him_total_time, -- 他打给用户总时长\n",
    "sum(case when type=\"2\" then cast(time as float)  end)/(count(case when type=\"2\" then number end)+1) as  cust_to_him_avg_time, --他打给用户平均时长\n",
    "count(case when type=\"3\" then number end) as  cust_miss_him, -- 用户未接的次数\n",
    "sum(case when substring(call_time,12,2) between \"01\" and \"06\" then 1 end) as one_six, -- 1-6\n",
    "sum(case when substring(call_time,12,2) between \"01\" and \"06\" then cast(time as float)  end) as one_six_total_time,-- 1-6总时长\n",
    "sum(case when substring(call_time,12,2) between \"01\" and \"06\" then cast(time as float)  end)/(sum(case when substring(call_time,12,2) between \"01\" and \"06\" then 1 \n",
    "end)+1) as one_six_avg_time,-- 1-6平均时长\n",
    "sum(case when substring(call_time,12,2) between \"07\" and \"12\" then 1 end) as seven_tw, -- 7-12\n",
    "sum(case when substring(call_time,12,2) between \"07\" and \"12\" then cast(time as float)  end) as seven_tw_total_time,-- 7-12总时长\n",
    "sum(case when substring(call_time,12,2) between \"07\" and \"12\" then cast(time as float)  end)/(sum(case when substring(call_time,12,2) between \"07\" and \"12\" then 1 end)\n",
    " +1) as seven_tw_avg_time,-- 7-12平均时长\n",
    "sum(case when substring(call_time,12,2) between \"13\" and \"18\" then 1 end) as thir_eig,  -- 13 -18\n",
    "sum(case when substring(call_time,12,2) between \"13\" and \"18\" then cast(time as float)  end) as thir_eig_total_time,-- 13-18总时长\n",
    "sum(case when substring(call_time,12,2) between \"13\" and \"18\" then cast(time as float)  end)/(sum(case when substring(call_time,12,2) between \"13\" and \"18\" then 1 end) \n",
    "+1) as thir_eig_avg_time,-- 13-18平均时长\n",
    "sum(case when substring(call_time,12,2) between \"19\" and \"20\" then 1 end) as nin_twenty, -- 19-20\n",
    "sum(case when substring(call_time,12,2) between \"19\" and \"20\" then cast(time as float)  end) as nin_twenty_total_time,-- 19-20总时长\n",
    "sum(case when substring(call_time,12,2) between \"19\" and \"20\" then cast(time as float)  end)/(sum(case when substring(call_time,12,2) between \"19\" and \"20\" then 1 end)\n",
    "+1) as nin_twenty_avg_time,-- 19-20平均时长\n",
    "sum(case when substring(call_time,12,2) between \"21\" and \"22\" then 1 end) as twenty_one_two, -- 21-22\n",
    "sum(case when substring(call_time,12,2) between \"21\" and \"22\" then cast(time as float) end) as twenty_one_two_total_time,-- 21-22总时长\n",
    "sum(case when substring(call_time,12,2) between \"21\" and \"22\" then cast(time as float)  end)/(sum(case when substring(call_time,12,2) between \"21\" and \"22\" then 1 end)\n",
    "+1) as twenty_one_two_avg_time,-- 21-22平均时长\n",
    "sum(case when substring(call_time,12,2) in (\"23\",\"24\",\"00\")  then 1 end)  as sleep, -- 23，24，00 \n",
    "sum(case when substring(call_time,12,2) in (\"23\",\"24\",\"00\")  then cast(time as float)  end) as sleep_total_time,-- 23，24，00 总时长\n",
    "sum(case when substring(call_time,12,2) in (\"23\",\"24\",\"00\")  then cast(time as float)  end)/(sum(case when substring(call_time,12,2) in (\"23\",\"24\",\"00\")  then 1 end) \n",
    "+1) as sleep_avg_time -- 23，24，00 平均时长\n",
    " from   crawler.app_call_record_hive  A left outer join (select distinct mobi_no from gdl.gdl_cust_reg_info)  B on\n",
    "A.number=B.mobi_no\n",
    "where  B.mobi_no is Null and  \n",
    "cast(number as float)>13000000000\n",
    "and cast(number as float)<19000000000\n",
    "group by number,name  having cust_num=4\n",
    "'''\n"
   ]
  },
  {
   "cell_type": "code",
   "execution_count": 5,
   "metadata": {
    "collapsed": true
   },
   "outputs": [],
   "source": [
    "sql='''\n",
    "select * from dsst.avaya_original_2\n",
    "'''"
   ]
  },
  {
   "cell_type": "code",
   "execution_count": 6,
   "metadata": {
    "collapsed": false
   },
   "outputs": [],
   "source": [
    "query=pd.read_sql_query(sql,conn,chunksize=1000)\n",
    "# cur.execute(sql)"
   ]
  },
  {
   "cell_type": "code",
   "execution_count": 7,
   "metadata": {
    "collapsed": true
   },
   "outputs": [],
   "source": [
    "def ToDisk(filename):\n",
    "    first=query.next()\n",
    "    first.to_csv(filename,encoding=\"utf-8\")\n",
    "    for line in query:\n",
    "        line.to_csv(filename,header=False,mode=\"a+\",encoding=\"utf-8\")"
   ]
  },
  {
   "cell_type": "code",
   "execution_count": 8,
   "metadata": {
    "collapsed": true
   },
   "outputs": [],
   "source": [
    "%time ToDisk('fy_avaya_o2.csv')"
   ]
  },
  {
   "cell_type": "code",
   "execution_count": 13,
   "metadata": {
    "collapsed": false
   },
   "outputs": [
    {
     "name": "stdout",
     "output_type": "stream",
     "text": [
      "rz\r",
      "**\u0018B00000000000000\r",
      "�\u0011**\u0018B00000000000000\r",
      "�\u0011\u0018\u0018\u0018\u0018\u0018\u0018\u0018\u0018\u0018\u0018\b\b\b\b\b\b\b\b\b\b"
     ]
    }
   ],
   "source": [
    "%%sh\n",
    "sz fdl_number.csv"
   ]
  },
  {
   "cell_type": "code",
   "execution_count": 16,
   "metadata": {
    "collapsed": false
   },
   "outputs": [
    {
     "ename": "IOError",
     "evalue": "[Errno 2] No such file or directory: '/user/hive/warehouse/crawler.db/app_call_record_hive/dt=2016-09-27'",
     "output_type": "error",
     "traceback": [
      "\u001b[1;31m---------------------------------------------------------------------------\u001b[0m",
      "\u001b[1;31mIOError\u001b[0m                                   Traceback (most recent call last)",
      "\u001b[1;32m<ipython-input-16-21bb2214d571>\u001b[0m in \u001b[0;36m<module>\u001b[1;34m()\u001b[0m\n\u001b[1;32m----> 1\u001b[1;33m \u001b[0ma\u001b[0m\u001b[1;33m=\u001b[0m\u001b[0mopen\u001b[0m\u001b[1;33m(\u001b[0m\u001b[1;34m'/user/hive/warehouse/crawler.db/app_call_record_hive/dt=2016-09-27'\u001b[0m\u001b[1;33m)\u001b[0m\u001b[1;33m\u001b[0m\u001b[0m\n\u001b[0m",
      "\u001b[1;31mIOError\u001b[0m: [Errno 2] No such file or directory: '/user/hive/warehouse/crawler.db/app_call_record_hive/dt=2016-09-27'"
     ]
    }
   ],
   "source": [
    "a=open('/user/hive/warehouse/crawler.db/app_call_record_hive/dt=2016-09-27')"
   ]
  },
  {
   "cell_type": "code",
   "execution_count": null,
   "metadata": {
    "collapsed": true
   },
   "outputs": [],
   "source": [
    "def "
   ]
  },
  {
   "cell_type": "code",
   "execution_count": 1,
   "metadata": {
    "collapsed": false
   },
   "outputs": [
    {
     "name": "stdout",
     "output_type": "stream",
     "text": [
      "heelo\n"
     ]
    }
   ],
   "source": [
    "print 'heelo'"
   ]
  },
  {
   "cell_type": "code",
   "execution_count": null,
   "metadata": {
    "collapsed": true
   },
   "outputs": [],
   "source": []
  }
 ],
 "metadata": {
  "kernelspec": {
   "display_name": "Python [Root]",
   "language": "python",
   "name": "Python [Root]"
  },
  "language_info": {
   "codemirror_mode": {
    "name": "ipython",
    "version": 2
   },
   "file_extension": ".py",
   "mimetype": "text/x-python",
   "name": "python",
   "nbconvert_exporter": "python",
   "pygments_lexer": "ipython2",
   "version": "2.7.12"
  }
 },
 "nbformat": 4,
 "nbformat_minor": 0
}

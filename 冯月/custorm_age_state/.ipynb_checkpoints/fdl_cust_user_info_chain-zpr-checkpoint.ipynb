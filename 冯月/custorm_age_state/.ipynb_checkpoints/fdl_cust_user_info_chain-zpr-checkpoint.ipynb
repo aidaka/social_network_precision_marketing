{
 "cells": [
  {
   "cell_type": "markdown",
   "metadata": {
    "collapsed": false
   },
   "source": [
    "## 一、fdl_cust_user_info_chain  \n",
    "- 2.6 G    7.9 G     /user/hive/warehouse/fdl.db/fdl_cust_user_info_chain  \n",
    "- sql:select id,cust_name,id_no,mobi_no,reg_src from fdl.fdl_cust_user_info_chain  limit 10"
   ]
  },
  {
   "cell_type": "code",
   "execution_count": null,
   "metadata": {
    "collapsed": true
   },
   "outputs": [],
   "source": [
    "###   数据获取"
   ]
  },
  {
   "cell_type": "code",
   "execution_count": 30,
   "metadata": {
    "collapsed": true
   },
   "outputs": [],
   "source": [
    "from impala.dbapi  import connect\n",
    "from sqlalchemy import *  \n",
    "from sqlalchemy.sql import select  \n",
    "from sqlalchemy.schema import *  \n",
    "import numpy as np\n",
    "import pandas as pd\n",
    "from sqlalchemy.orm import sessionmaker\n",
    "conn=connect(host=\"192.168.61.168\",port=21050,user=\"yudang.wei\",password=\"19900410w\",auth_mechanism=\"GSSAPI\")"
   ]
  },
  {
   "cell_type": "code",
   "execution_count": 19,
   "metadata": {
    "collapsed": false
   },
   "outputs": [],
   "source": [
    "query=pd.read_sql_query(\"select id,cust_name,id_no,mobi_no,reg_src from fdl.fdl_cust_user_info_chain\",conn,chunksize=10000)"
   ]
  },
  {
   "cell_type": "code",
   "execution_count": 49,
   "metadata": {
    "collapsed": true
   },
   "outputs": [],
   "source": [
    "def ToDisk(filename,query):\n",
    "    first=query.next()\n",
    "    first.to_csv(filename,encoding=\"utf-8\")\n",
    "    for line in query:\n",
    "        line.to_csv(filename,header=False,mode=\"a+\",encoding=\"utf-8\")"
   ]
  },
  {
   "cell_type": "markdown",
   "metadata": {},
   "source": [
    "### 数据处理"
   ]
  },
  {
   "cell_type": "markdown",
   "metadata": {},
   "source": [
    "#### 1.去重"
   ]
  },
  {
   "cell_type": "code",
   "execution_count": 5,
   "metadata": {
    "collapsed": false
   },
   "outputs": [
    {
     "name": "stderr",
     "output_type": "stream",
     "text": [
      "/usr/bin/anaconda2/lib/python2.7/site-packages/IPython/core/interactiveshell.py:2723: DtypeWarning: Columns (4) have mixed types. Specify dtype option on import or set low_memory=False.\n",
      "  interactivity=interactivity, compiler=compiler, result=result)\n"
     ]
    }
   ],
   "source": [
    "cust_user_info=pd.read_csv(\"data/fdl_cust_user_info_chain.csv\",index_col=0)"
   ]
  },
  {
   "cell_type": "code",
   "execution_count": 8,
   "metadata": {
    "collapsed": false
   },
   "outputs": [],
   "source": [
    "cust_user_info.drop_duplicates().to_csv(\"data/fdl_cust_user_info_chain.csv\")"
   ]
  },
  {
   "cell_type": "markdown",
   "metadata": {},
   "source": [
    "#### 2.数据质量描述"
   ]
  },
  {
   "cell_type": "code",
   "execution_count": 50,
   "metadata": {
    "collapsed": true
   },
   "outputs": [],
   "source": [
    "cust_user_info=pd.read_csv(\"data/fdl_cust_user_info_chain.csv\",index_col=1)\n",
    "cust_user_info.drop(['Unnamed: 0'],inplace=True,axis=1)"
   ]
  },
  {
   "cell_type": "markdown",
   "metadata": {},
   "source": [
    "###  5685171 用户"
   ]
  },
  {
   "cell_type": "code",
   "execution_count": 13,
   "metadata": {
    "collapsed": false
   },
   "outputs": [
    {
     "data": {
      "text/plain": [
       "(5685171, 5)"
      ]
     },
     "execution_count": 13,
     "metadata": {},
     "output_type": "execute_result"
    }
   ],
   "source": [
    "cust_user_info.shape"
   ]
  },
  {
   "cell_type": "code",
   "execution_count": 53,
   "metadata": {
    "collapsed": false
   },
   "outputs": [
    {
     "data": {
      "text/html": [
       "<div>\n",
       "<table border=\"1\" class=\"dataframe\">\n",
       "  <thead>\n",
       "    <tr style=\"text-align: right;\">\n",
       "      <th></th>\n",
       "      <th>cust_name</th>\n",
       "      <th>id_no</th>\n",
       "      <th>mobi_no</th>\n",
       "      <th>reg_src</th>\n",
       "    </tr>\n",
       "    <tr>\n",
       "      <th>id</th>\n",
       "      <th></th>\n",
       "      <th></th>\n",
       "      <th></th>\n",
       "      <th></th>\n",
       "    </tr>\n",
       "  </thead>\n",
       "  <tbody>\n",
       "    <tr>\n",
       "      <th>5798</th>\n",
       "      <td>戴俊安</td>\n",
       "      <td>371311198712212615</td>\n",
       "      <td>18267179687</td>\n",
       "      <td>Android</td>\n",
       "    </tr>\n",
       "    <tr>\n",
       "      <th>20995</th>\n",
       "      <td>肖艳平</td>\n",
       "      <td>430204197010230028</td>\n",
       "      <td>18607337862</td>\n",
       "      <td>Android</td>\n",
       "    </tr>\n",
       "    <tr>\n",
       "      <th>25064</th>\n",
       "      <td>申俊鹤</td>\n",
       "      <td>410526199107059570</td>\n",
       "      <td>13253382545</td>\n",
       "      <td>Android</td>\n",
       "    </tr>\n",
       "  </tbody>\n",
       "</table>\n",
       "</div>"
      ],
      "text/plain": [
       "      cust_name               id_no      mobi_no  reg_src\n",
       "id                                                       \n",
       "5798        戴俊安  371311198712212615  18267179687  Android\n",
       "20995       肖艳平  430204197010230028  18607337862  Android\n",
       "25064       申俊鹤  410526199107059570  13253382545  Android"
      ]
     },
     "execution_count": 53,
     "metadata": {},
     "output_type": "execute_result"
    }
   ],
   "source": [
    "cust_user_info.head(3)"
   ]
  },
  {
   "cell_type": "code",
   "execution_count": 36,
   "metadata": {
    "collapsed": false
   },
   "outputs": [
    {
     "name": "stdout",
     "output_type": "stream",
     "text": [
      "姓名的缺失值数量： 533021\n",
      "身份证信息的缺失值数量： 535374\n",
      "手机号码的缺失值数量： 0\n",
      "注册设备的缺失值数量： 0\n"
     ]
    }
   ],
   "source": [
    "print \"姓名的缺失值数量：\",cust_user_info[cust_user_info.cust_name.isnull()==True].shape[0]\n",
    "print \"身份证信息的缺失值数量：\",cust_user_info[cust_user_info.id_no.isnull()==True].shape[0]\n",
    "print \"手机号码的缺失值数量：\",cust_user_info[cust_user_info.mobi_no.isnull()==True].shape[0]\n",
    "print \"注册设备的缺失值数量：\",cust_user_info[cust_user_info.reg_src.isnull()==True].shape[0]"
   ]
  },
  {
   "cell_type": "markdown",
   "metadata": {},
   "source": [
    "##   二、crawl_mobile_call_record_hive\n",
    "- 文件太大按照partitions 进行查询，从而避免了内存溢出\n",
    "- 数据量：2602069606"
   ]
  },
  {
   "cell_type": "markdown",
   "metadata": {},
   "source": [
    "### 1.分区查询"
   ]
  },
  {
   "cell_type": "code",
   "execution_count": 25,
   "metadata": {
    "collapsed": false
   },
   "outputs": [],
   "source": [
    "mobi_call_records_partitions=pd.read_sql_query(\"show partitions crawler.crawl_mobile_call_record_hive\",conn,index_col=\"dt\")"
   ]
  },
  {
   "cell_type": "code",
   "execution_count": 26,
   "metadata": {
    "collapsed": false
   },
   "outputs": [],
   "source": [
    "mobi_call_records_partitions.to_csv(\"data/mobi_call_records_partitions.csv\")"
   ]
  },
  {
   "cell_type": "markdown",
   "metadata": {},
   "source": [
    "### 2.数据抽取"
   ]
  },
  {
   "cell_type": "code",
   "execution_count": 31,
   "metadata": {
    "collapsed": false
   },
   "outputs": [],
   "source": [
    "mobi_call_records_partitions=pd.read_csv(\"data/mobi_call_records_partitions.csv\",index_col=0,parse_dates=[\"dt\"]).sortlevel()"
   ]
  },
  {
   "cell_type": "code",
   "execution_count": 56,
   "metadata": {
    "collapsed": true
   },
   "outputs": [],
   "source": [
    "butket=[\"2016-09-25\",\"2016-10-31\"]\n",
    "conds=[\"where A.dt>'2016-04-22' and A.dt<'2016-08-01'\",\" where A.dt>'2016-08-01' and A.dt<'2016-09-19'\", \\\n",
    "       \"where A.dt>'2016-09-19' and A.dt<'2016-10-14'\",\" where A.dt>'2016-10-14' and A.dt<'2016-11-08'\", \\\n",
    "       \"where A.dt>'2016-11-08' and  A.dt<'2016-11-30'\",\" where A.dt>'2016-11-30'and A.dt<'2016-12-16'\", \\\n",
    "       \"where A.dt>'2016-12-16' and  A.dt<'2016-12-26'\"]\n",
    "names=[\"data/mobi/mobi_call_record_0422_0731.csv\",\"data/mobi/mobi_call_record_0801_0918.csv\",\"data/mobi/mobi_call_record_0919_1013.csv\",\\\n",
    "      \"data/mobi/mobi_call_record_1014_1107.csv\",\"data/mobi/mobi_call_record_1108_1129.csv\",\"data/mobi/mobi_call_record_1130_1215.csv\",\\\n",
    "    \"data/mobi/mobi_call_record_1216_1225.csv\"]"
   ]
  },
  {
   "cell_type": "code",
   "execution_count": null,
   "metadata": {
    "collapsed": true
   },
   "outputs": [],
   "source": [
    "%%time\n",
    "query_collect=[]\n",
    "for con_name in zip(conds,names):\n",
    "#     print con_name\n",
    "    call_record_sql=\"select custorm_id,login_name,type_contact,num_contact,time_contact,phone_contact,type_call from crawler.crawl_mobile_call_record_hive  A \"\n",
    "    call_record_sql=call_record_sql+con_name[0]\n",
    "    filename=con_name[1]\n",
    "    query=pd.read_sql_query(call_record_sql,conn,chunksize=10000)\n",
    "    query_collect.append([query,filename])"
   ]
  },
  {
   "cell_type": "code",
   "execution_count": 60,
   "metadata": {
    "collapsed": false
   },
   "outputs": [],
   "source": [
    "def ToDisk(file_qury):\n",
    "    query=file_qury[0]\n",
    "    filename=file_qury[1]\n",
    "    first=query.next()\n",
    "    first.to_csv(filename,encoding=\"utf-8\")\n",
    "    for line in query:\n",
    "        line.to_csv(filename,header=False,mode=\"a+\",encoding=\"utf-8\")"
   ]
  },
  {
   "cell_type": "code",
   "execution_count": 62,
   "metadata": {
    "collapsed": false
   },
   "outputs": [
    {
     "ename": "StopIteration",
     "evalue": "",
     "output_type": "error",
     "traceback": [
      "\u001b[1;31m---------------------------------------------------------------------------\u001b[0m",
      "\u001b[1;31mStopIteration\u001b[0m                             Traceback (most recent call last)",
      "\u001b[1;32m<ipython-input-62-d7b22322b1f0>\u001b[0m in \u001b[0;36m<module>\u001b[1;34m()\u001b[0m\n\u001b[1;32m----> 1\u001b[1;33m \u001b[0mget_ipython\u001b[0m\u001b[1;33m(\u001b[0m\u001b[1;33m)\u001b[0m\u001b[1;33m.\u001b[0m\u001b[0mrun_cell_magic\u001b[0m\u001b[1;33m(\u001b[0m\u001b[1;34mu'time'\u001b[0m\u001b[1;33m,\u001b[0m \u001b[1;34mu''\u001b[0m\u001b[1;33m,\u001b[0m \u001b[1;34mu'from multiprocessing.dummy  import Pool\\npool=Pool(7)\\npool.map(ToDisk,query_collect)\\npool.close()\\npool.join()'\u001b[0m\u001b[1;33m)\u001b[0m\u001b[1;33m\u001b[0m\u001b[0m\n\u001b[0m",
      "\u001b[1;32m/usr/bin/anaconda2/lib/python2.7/site-packages/IPython/core/interactiveshell.pyc\u001b[0m in \u001b[0;36mrun_cell_magic\u001b[1;34m(self, magic_name, line, cell)\u001b[0m\n\u001b[0;32m   2118\u001b[0m             \u001b[0mmagic_arg_s\u001b[0m \u001b[1;33m=\u001b[0m \u001b[0mself\u001b[0m\u001b[1;33m.\u001b[0m\u001b[0mvar_expand\u001b[0m\u001b[1;33m(\u001b[0m\u001b[0mline\u001b[0m\u001b[1;33m,\u001b[0m \u001b[0mstack_depth\u001b[0m\u001b[1;33m)\u001b[0m\u001b[1;33m\u001b[0m\u001b[0m\n\u001b[0;32m   2119\u001b[0m             \u001b[1;32mwith\u001b[0m \u001b[0mself\u001b[0m\u001b[1;33m.\u001b[0m\u001b[0mbuiltin_trap\u001b[0m\u001b[1;33m:\u001b[0m\u001b[1;33m\u001b[0m\u001b[0m\n\u001b[1;32m-> 2120\u001b[1;33m                 \u001b[0mresult\u001b[0m \u001b[1;33m=\u001b[0m \u001b[0mfn\u001b[0m\u001b[1;33m(\u001b[0m\u001b[0mmagic_arg_s\u001b[0m\u001b[1;33m,\u001b[0m \u001b[0mcell\u001b[0m\u001b[1;33m)\u001b[0m\u001b[1;33m\u001b[0m\u001b[0m\n\u001b[0m\u001b[0;32m   2121\u001b[0m             \u001b[1;32mreturn\u001b[0m \u001b[0mresult\u001b[0m\u001b[1;33m\u001b[0m\u001b[0m\n\u001b[0;32m   2122\u001b[0m \u001b[1;33m\u001b[0m\u001b[0m\n",
      "\u001b[1;32m<decorator-gen-60>\u001b[0m in \u001b[0;36mtime\u001b[1;34m(self, line, cell, local_ns)\u001b[0m\n",
      "\u001b[1;32m/usr/bin/anaconda2/lib/python2.7/site-packages/IPython/core/magic.pyc\u001b[0m in \u001b[0;36m<lambda>\u001b[1;34m(f, *a, **k)\u001b[0m\n\u001b[0;32m    191\u001b[0m     \u001b[1;31m# but it's overkill for just that one bit of state.\u001b[0m\u001b[1;33m\u001b[0m\u001b[1;33m\u001b[0m\u001b[0m\n\u001b[0;32m    192\u001b[0m     \u001b[1;32mdef\u001b[0m \u001b[0mmagic_deco\u001b[0m\u001b[1;33m(\u001b[0m\u001b[0marg\u001b[0m\u001b[1;33m)\u001b[0m\u001b[1;33m:\u001b[0m\u001b[1;33m\u001b[0m\u001b[0m\n\u001b[1;32m--> 193\u001b[1;33m         \u001b[0mcall\u001b[0m \u001b[1;33m=\u001b[0m \u001b[1;32mlambda\u001b[0m \u001b[0mf\u001b[0m\u001b[1;33m,\u001b[0m \u001b[1;33m*\u001b[0m\u001b[0ma\u001b[0m\u001b[1;33m,\u001b[0m \u001b[1;33m**\u001b[0m\u001b[0mk\u001b[0m\u001b[1;33m:\u001b[0m \u001b[0mf\u001b[0m\u001b[1;33m(\u001b[0m\u001b[1;33m*\u001b[0m\u001b[0ma\u001b[0m\u001b[1;33m,\u001b[0m \u001b[1;33m**\u001b[0m\u001b[0mk\u001b[0m\u001b[1;33m)\u001b[0m\u001b[1;33m\u001b[0m\u001b[0m\n\u001b[0m\u001b[0;32m    194\u001b[0m \u001b[1;33m\u001b[0m\u001b[0m\n\u001b[0;32m    195\u001b[0m         \u001b[1;32mif\u001b[0m \u001b[0mcallable\u001b[0m\u001b[1;33m(\u001b[0m\u001b[0marg\u001b[0m\u001b[1;33m)\u001b[0m\u001b[1;33m:\u001b[0m\u001b[1;33m\u001b[0m\u001b[0m\n",
      "\u001b[1;32m/usr/bin/anaconda2/lib/python2.7/site-packages/IPython/core/magics/execution.pyc\u001b[0m in \u001b[0;36mtime\u001b[1;34m(self, line, cell, local_ns)\u001b[0m\n\u001b[0;32m   1175\u001b[0m         \u001b[1;32melse\u001b[0m\u001b[1;33m:\u001b[0m\u001b[1;33m\u001b[0m\u001b[0m\n\u001b[0;32m   1176\u001b[0m             \u001b[0mst\u001b[0m \u001b[1;33m=\u001b[0m \u001b[0mclock2\u001b[0m\u001b[1;33m(\u001b[0m\u001b[1;33m)\u001b[0m\u001b[1;33m\u001b[0m\u001b[0m\n\u001b[1;32m-> 1177\u001b[1;33m             \u001b[1;32mexec\u001b[0m\u001b[1;33m(\u001b[0m\u001b[0mcode\u001b[0m\u001b[1;33m,\u001b[0m \u001b[0mglob\u001b[0m\u001b[1;33m,\u001b[0m \u001b[0mlocal_ns\u001b[0m\u001b[1;33m)\u001b[0m\u001b[1;33m\u001b[0m\u001b[0m\n\u001b[0m\u001b[0;32m   1178\u001b[0m             \u001b[0mend\u001b[0m \u001b[1;33m=\u001b[0m \u001b[0mclock2\u001b[0m\u001b[1;33m(\u001b[0m\u001b[1;33m)\u001b[0m\u001b[1;33m\u001b[0m\u001b[0m\n\u001b[0;32m   1179\u001b[0m             \u001b[0mout\u001b[0m \u001b[1;33m=\u001b[0m \u001b[0mNone\u001b[0m\u001b[1;33m\u001b[0m\u001b[0m\n",
      "\u001b[1;32m<timed exec>\u001b[0m in \u001b[0;36m<module>\u001b[1;34m()\u001b[0m\n",
      "\u001b[1;32m/usr/bin/anaconda2/lib/python2.7/multiprocessing/pool.pyc\u001b[0m in \u001b[0;36mmap\u001b[1;34m(self, func, iterable, chunksize)\u001b[0m\n\u001b[0;32m    249\u001b[0m         '''\n\u001b[0;32m    250\u001b[0m         \u001b[1;32massert\u001b[0m \u001b[0mself\u001b[0m\u001b[1;33m.\u001b[0m\u001b[0m_state\u001b[0m \u001b[1;33m==\u001b[0m \u001b[0mRUN\u001b[0m\u001b[1;33m\u001b[0m\u001b[0m\n\u001b[1;32m--> 251\u001b[1;33m         \u001b[1;32mreturn\u001b[0m \u001b[0mself\u001b[0m\u001b[1;33m.\u001b[0m\u001b[0mmap_async\u001b[0m\u001b[1;33m(\u001b[0m\u001b[0mfunc\u001b[0m\u001b[1;33m,\u001b[0m \u001b[0miterable\u001b[0m\u001b[1;33m,\u001b[0m \u001b[0mchunksize\u001b[0m\u001b[1;33m)\u001b[0m\u001b[1;33m.\u001b[0m\u001b[0mget\u001b[0m\u001b[1;33m(\u001b[0m\u001b[1;33m)\u001b[0m\u001b[1;33m\u001b[0m\u001b[0m\n\u001b[0m\u001b[0;32m    252\u001b[0m \u001b[1;33m\u001b[0m\u001b[0m\n\u001b[0;32m    253\u001b[0m     \u001b[1;32mdef\u001b[0m \u001b[0mimap\u001b[0m\u001b[1;33m(\u001b[0m\u001b[0mself\u001b[0m\u001b[1;33m,\u001b[0m \u001b[0mfunc\u001b[0m\u001b[1;33m,\u001b[0m \u001b[0miterable\u001b[0m\u001b[1;33m,\u001b[0m \u001b[0mchunksize\u001b[0m\u001b[1;33m=\u001b[0m\u001b[1;36m1\u001b[0m\u001b[1;33m)\u001b[0m\u001b[1;33m:\u001b[0m\u001b[1;33m\u001b[0m\u001b[0m\n",
      "\u001b[1;32m/usr/bin/anaconda2/lib/python2.7/multiprocessing/pool.pyc\u001b[0m in \u001b[0;36mget\u001b[1;34m(self, timeout)\u001b[0m\n\u001b[0;32m    565\u001b[0m             \u001b[1;32mreturn\u001b[0m \u001b[0mself\u001b[0m\u001b[1;33m.\u001b[0m\u001b[0m_value\u001b[0m\u001b[1;33m\u001b[0m\u001b[0m\n\u001b[0;32m    566\u001b[0m         \u001b[1;32melse\u001b[0m\u001b[1;33m:\u001b[0m\u001b[1;33m\u001b[0m\u001b[0m\n\u001b[1;32m--> 567\u001b[1;33m             \u001b[1;32mraise\u001b[0m \u001b[0mself\u001b[0m\u001b[1;33m.\u001b[0m\u001b[0m_value\u001b[0m\u001b[1;33m\u001b[0m\u001b[0m\n\u001b[0m\u001b[0;32m    568\u001b[0m \u001b[1;33m\u001b[0m\u001b[0m\n\u001b[0;32m    569\u001b[0m     \u001b[1;32mdef\u001b[0m \u001b[0m_set\u001b[0m\u001b[1;33m(\u001b[0m\u001b[0mself\u001b[0m\u001b[1;33m,\u001b[0m \u001b[0mi\u001b[0m\u001b[1;33m,\u001b[0m \u001b[0mobj\u001b[0m\u001b[1;33m)\u001b[0m\u001b[1;33m:\u001b[0m\u001b[1;33m\u001b[0m\u001b[0m\n",
      "\u001b[1;31mStopIteration\u001b[0m: "
     ]
    }
   ],
   "source": [
    "%%time\n",
    "from multiprocessing.dummy  import Pool\n",
    "pool=Pool(7)\n",
    "pool.map(ToDisk,query_collect)\n",
    "pool.close()\n",
    "pool.join()\n"
   ]
  },
  {
   "cell_type": "code",
   "execution_count": 47,
   "metadata": {
    "collapsed": false
   },
   "outputs": [
    {
     "name": "stdout",
     "output_type": "stream",
     "text": [
      "select custorm_id,login_name,type_contact,num_contact,time_contact,phone_contact,type_call from crawler.crawl_mobile_call_record_hive  A where A.dt>'2016-12-16' and  A.dt<'2016-12-26'\n"
     ]
    }
   ],
   "source": [
    "query=pd.read_sql_query(call_record_sql,conn,chunksize=10000)\n",
    "print call_record_sql"
   ]
  },
  {
   "cell_type": "markdown",
   "metadata": {},
   "source": [
    "### 3.数据质量"
   ]
  },
  {
   "cell_type": "code",
   "execution_count": 103,
   "metadata": {
    "collapsed": true
   },
   "outputs": [],
   "source": [
    "call_record_0925=pd.read_csv(\"data/call_record_0925.csv\",index_col=1).drop(['Unnamed: 0'],axis=1)\n",
    "call_record_0926_1031=pd.read_csv(\"data/call_record_0926_1031.csv\",index_col=1).drop(['Unnamed: 0'],axis=1)\n",
    "call_record_1101=pd.read_csv(\"data/call_record_1101.csv\",index_col=1).drop(['Unnamed: 0'],axis=1)"
   ]
  },
  {
   "cell_type": "code",
   "execution_count": 108,
   "metadata": {
    "collapsed": false
   },
   "outputs": [
    {
     "name": "stdout",
     "output_type": "stream",
     "text": [
      "2016年9月25日之前数据量： 70341735\n",
      "2016年9月26日到10月31日数据量： 40508506\n",
      "2016年11月1日之后数据量： 69258991\n"
     ]
    }
   ],
   "source": [
    "print \"2016年9月25日之前数据量：\",call_record_0925.shape[0]\n",
    "print \"2016年9月26日到10月31日数据量：\",call_record_0926_1031.shape[0]\n",
    "print \"2016年11月1日之后数据量：\",call_record_1101.shape[0]"
   ]
  },
  {
   "cell_type": "code",
   "execution_count": 106,
   "metadata": {
    "collapsed": false
   },
   "outputs": [
    {
     "data": {
      "text/html": [
       "<div>\n",
       "<table border=\"1\" class=\"dataframe\">\n",
       "  <thead>\n",
       "    <tr style=\"text-align: right;\">\n",
       "      <th></th>\n",
       "      <th>name</th>\n",
       "      <th>number</th>\n",
       "      <th>call_time</th>\n",
       "      <th>type</th>\n",
       "      <th>time</th>\n",
       "    </tr>\n",
       "    <tr>\n",
       "      <th>custorm_id</th>\n",
       "      <th></th>\n",
       "      <th></th>\n",
       "      <th></th>\n",
       "      <th></th>\n",
       "      <th></th>\n",
       "    </tr>\n",
       "  </thead>\n",
       "  <tbody>\n",
       "    <tr>\n",
       "      <th>3700004</th>\n",
       "      <td>孙松强</td>\n",
       "      <td>15738505375</td>\n",
       "      <td>2016-09-16 14:16:16</td>\n",
       "      <td>1</td>\n",
       "      <td>5.0</td>\n",
       "    </tr>\n",
       "    <tr>\n",
       "      <th>3700004</th>\n",
       "      <td>孙松强</td>\n",
       "      <td>15738505375</td>\n",
       "      <td>2016-09-16 13:56:47</td>\n",
       "      <td>1</td>\n",
       "      <td>26.0</td>\n",
       "    </tr>\n",
       "    <tr>\n",
       "      <th>3700004</th>\n",
       "      <td>孙松强</td>\n",
       "      <td>15738505375</td>\n",
       "      <td>2016-09-16 13:30:51</td>\n",
       "      <td>1</td>\n",
       "      <td>48.0</td>\n",
       "    </tr>\n",
       "    <tr>\n",
       "      <th>3700004</th>\n",
       "      <td>孙松强</td>\n",
       "      <td>15738505375</td>\n",
       "      <td>2016-09-16 13:12:45</td>\n",
       "      <td>2</td>\n",
       "      <td>62.0</td>\n",
       "    </tr>\n",
       "    <tr>\n",
       "      <th>3700004</th>\n",
       "      <td>孙松强</td>\n",
       "      <td>15738505375</td>\n",
       "      <td>2016-09-16 11:45:34</td>\n",
       "      <td>2</td>\n",
       "      <td>78.0</td>\n",
       "    </tr>\n",
       "    <tr>\n",
       "      <th>3700004</th>\n",
       "      <td>孙松强</td>\n",
       "      <td>15738505375</td>\n",
       "      <td>2016-09-16 11:35:14</td>\n",
       "      <td>2</td>\n",
       "      <td>0.0</td>\n",
       "    </tr>\n",
       "    <tr>\n",
       "      <th>3700004</th>\n",
       "      <td>孙松强</td>\n",
       "      <td>15738505375</td>\n",
       "      <td>2016-09-16 11:35:00</td>\n",
       "      <td>3</td>\n",
       "      <td>0.0</td>\n",
       "    </tr>\n",
       "    <tr>\n",
       "      <th>3700004</th>\n",
       "      <td>孙松强</td>\n",
       "      <td>15738505375</td>\n",
       "      <td>2016-09-16 11:15:35</td>\n",
       "      <td>2</td>\n",
       "      <td>69.0</td>\n",
       "    </tr>\n",
       "    <tr>\n",
       "      <th>3700004</th>\n",
       "      <td>孙松强</td>\n",
       "      <td>15738505375</td>\n",
       "      <td>2016-09-16 09:33:32</td>\n",
       "      <td>2</td>\n",
       "      <td>327.0</td>\n",
       "    </tr>\n",
       "    <tr>\n",
       "      <th>3700004</th>\n",
       "      <td>陈</td>\n",
       "      <td>13783226625</td>\n",
       "      <td>2016-09-15 15:14:51</td>\n",
       "      <td>3</td>\n",
       "      <td>0.0</td>\n",
       "    </tr>\n",
       "  </tbody>\n",
       "</table>\n",
       "</div>"
      ],
      "text/plain": [
       "           name       number            call_time  type   time\n",
       "custorm_id                                                    \n",
       "3700004     孙松强  15738505375  2016-09-16 14:16:16     1    5.0\n",
       "3700004     孙松强  15738505375  2016-09-16 13:56:47     1   26.0\n",
       "3700004     孙松强  15738505375  2016-09-16 13:30:51     1   48.0\n",
       "3700004     孙松强  15738505375  2016-09-16 13:12:45     2   62.0\n",
       "3700004     孙松强  15738505375  2016-09-16 11:45:34     2   78.0\n",
       "3700004     孙松强  15738505375  2016-09-16 11:35:14     2    0.0\n",
       "3700004     孙松强  15738505375  2016-09-16 11:35:00     3    0.0\n",
       "3700004     孙松强  15738505375  2016-09-16 11:15:35     2   69.0\n",
       "3700004     孙松强  15738505375  2016-09-16 09:33:32     2  327.0\n",
       "3700004       陈  13783226625  2016-09-15 15:14:51     3    0.0"
      ]
     },
     "execution_count": 106,
     "metadata": {},
     "output_type": "execute_result"
    }
   ],
   "source": [
    "call_record_0925.head(10)"
   ]
  },
  {
   "cell_type": "code",
   "execution_count": 109,
   "metadata": {
    "collapsed": true
   },
   "outputs": [],
   "source": [
    "call_record_0925.drop_duplicates(inplace=True)\n",
    "call_record_0926_1031.drop_duplicates(inplace=True)\n",
    "call_record_1101.drop_duplicates(inplace=True)"
   ]
  },
  {
   "cell_type": "code",
   "execution_count": 119,
   "metadata": {
    "collapsed": false
   },
   "outputs": [
    {
     "name": "stdout",
     "output_type": "stream",
     "text": [
      "2016年9月25日之前数据量： 32922996 0.468043559062\n",
      "2016年9月26日到10月31日数据量： 16584652 0.409411593703\n",
      "2016年11月1日之后数据量： 23303039 0.336462294116\n"
     ]
    }
   ],
   "source": [
    "print \"2016年9月25日之前数据量：\",call_record_0925.shape[0],call_record_0925.shape[0]/70341735.0\n",
    "print \"2016年9月26日到10月31日数据量：\",call_record_0926_1031.shape[0],call_record_0926_1031.shape[0]/40508506.0\n",
    "print \"2016年11月1日之后数据量：\",call_record_1101.shape[0],call_record_1101.shape[0]/69258991.0"
   ]
  },
  {
   "cell_type": "code",
   "execution_count": 122,
   "metadata": {
    "collapsed": false
   },
   "outputs": [
    {
     "name": "stdout",
     "output_type": "stream",
     "text": [
      "姓名的缺失率： 0.344638896169\n",
      "手机号码的缺失率： 0.0\n",
      "通话时长的缺失率： 0.779447502287\n"
     ]
    }
   ],
   "source": [
    "print \"姓名的缺失率：\",call_record_0925[call_record_0925.name.isnull()==True].shape[0]/ 32922996.0\n",
    "print \"手机号码的缺失率：\",call_record_0925[call_record_0925.number.isnull()==True].shape[0]/ 32922996.0\n",
    "print \"通话时长的缺失率：\",call_record_0925[call_record_0925.time.isnull()==True].shape[0]/ 32922996.0"
   ]
  },
  {
   "cell_type": "markdown",
   "metadata": {},
   "source": [
    "### 4.数据整合"
   ]
  },
  {
   "cell_type": "code",
   "execution_count": 123,
   "metadata": {
    "collapsed": true
   },
   "outputs": [],
   "source": [
    "pd.concat([call_record_0925,call_record_0926_1031,call_record_1101]).to_csv(\"data/app_call_record_hive\")"
   ]
  },
  {
   "cell_type": "markdown",
   "metadata": {},
   "source": [
    "##  三、数据分析\n",
    "为了讨论方便，我们将主键用户成为**A**,通话对方称为**B**"
   ]
  },
  {
   "cell_type": "code",
   "execution_count": 2,
   "metadata": {
    "collapsed": true
   },
   "outputs": [
    {
     "ename": "TypeError",
     "evalue": "Cannot convert input to Timestamp",
     "output_type": "error",
     "traceback": [
      "\u001b[1;31m---------------------------------------------------------------------------\u001b[0m",
      "\u001b[1;31mTypeError\u001b[0m                                 Traceback (most recent call last)",
      "\u001b[1;32m<ipython-input-2-a5c4184df0f9>\u001b[0m in \u001b[0;36m<module>\u001b[1;34m()\u001b[0m\n\u001b[0;32m      1\u001b[0m \u001b[0mcall_record\u001b[0m\u001b[1;33m=\u001b[0m\u001b[0mpd\u001b[0m\u001b[1;33m.\u001b[0m\u001b[0mread_csv\u001b[0m\u001b[1;33m(\u001b[0m\u001b[1;34m\"data/app_call_record_hive1.csv\"\u001b[0m\u001b[1;33m,\u001b[0m\u001b[0mindex_col\u001b[0m\u001b[1;33m=\u001b[0m\u001b[1;36m0\u001b[0m\u001b[1;33m)\u001b[0m\u001b[1;33m\u001b[0m\u001b[0m\n\u001b[0;32m      2\u001b[0m \u001b[1;31m# call_record=call_record[call_record.call_time!=\"0001-05-05 07:00:50\"]\u001b[0m\u001b[1;33m\u001b[0m\u001b[1;33m\u001b[0m\u001b[0m\n\u001b[1;32m----> 3\u001b[1;33m \u001b[0mcall_record\u001b[0m\u001b[1;33m.\u001b[0m\u001b[0mcall_time\u001b[0m\u001b[1;33m=\u001b[0m\u001b[0mpd\u001b[0m\u001b[1;33m.\u001b[0m\u001b[0mTimestamp\u001b[0m\u001b[1;33m(\u001b[0m\u001b[0mcall_record\u001b[0m\u001b[1;33m.\u001b[0m\u001b[0mcall_time\u001b[0m\u001b[1;33m)\u001b[0m\u001b[1;33m\u001b[0m\u001b[0m\n\u001b[0m",
      "\u001b[1;32mpandas/tslib.pyx\u001b[0m in \u001b[0;36mpandas.tslib.Timestamp.__new__ (pandas/tslib.c:9203)\u001b[1;34m()\u001b[0m\n",
      "\u001b[1;32mpandas/tslib.pyx\u001b[0m in \u001b[0;36mpandas.tslib.convert_to_tsobject (pandas/tslib.c:25854)\u001b[1;34m()\u001b[0m\n",
      "\u001b[1;31mTypeError\u001b[0m: Cannot convert input to Timestamp"
     ]
    }
   ],
   "source": [
    "call_record=pd.read_csv(\"data/app_call_record_hive1.csv\",index_col=0,parse_dates=[\"call_time\"])\n",
    "# call_record=call_record[call_record.call_time!=\"0001-05-05 07:00:50\"]\n",
    "call_record.call_time=pd.Timestamp(call_record.call_time)"
   ]
  },
  {
   "cell_type": "code",
   "execution_count": 9,
   "metadata": {
    "collapsed": false
   },
   "outputs": [],
   "source": [
    "# call_record.call_time=map(pd.Timestamp,call_record.call_time.values)"
   ]
  },
  {
   "cell_type": "code",
   "execution_count": 10,
   "metadata": {
    "collapsed": false
   },
   "outputs": [
    {
     "name": "stderr",
     "output_type": "stream",
     "text": [
      "/usr/bin/anaconda2/lib/python2.7/site-packages/IPython/core/interactiveshell.py:2723: DtypeWarning: Columns (4) have mixed types. Specify dtype option on import or set low_memory=False.\n",
      "  interactivity=interactivity, compiler=compiler, result=result)\n"
     ]
    }
   ],
   "source": [
    "cust_user_info=pd.read_csv(\"data/fdl_cust_user_info_chain.csv\",index_col=1)\n",
    "cust_user_info.drop(['Unnamed: 0'],inplace=True,axis=1)"
   ]
  },
  {
   "cell_type": "code",
   "execution_count": 11,
   "metadata": {
    "collapsed": false
   },
   "outputs": [
    {
     "name": "stdout",
     "output_type": "stream",
     "text": [
      "通话记录数据量 68755648\n",
      "个人信息数据量 5685171\n"
     ]
    }
   ],
   "source": [
    "print \"通话记录数据量\",call_record.shape[0]\n",
    "print \"个人信息数据量\",cust_user_info.shape[0]"
   ]
  },
  {
   "cell_type": "markdown",
   "metadata": {},
   "source": [
    "### 1.通话记录数据描述统计"
   ]
  },
  {
   "cell_type": "code",
   "execution_count": 12,
   "metadata": {
    "collapsed": false
   },
   "outputs": [
    {
     "name": "stdout",
     "output_type": "stream",
     "text": [
      "A数据量:  607569\n",
      "number 数据量：  1817445\n"
     ]
    }
   ],
   "source": [
    "custorm_unique=call_record.index.unique()\n",
    "print \"A数据量: \",custorm_unique.shape[0]\n",
    "number_unique=call_record.number.unique()\n",
    "print \"number 数据量： \",number_unique.shape[0]"
   ]
  },
  {
   "cell_type": "code",
   "execution_count": 217,
   "metadata": {
    "collapsed": false
   },
   "outputs": [],
   "source": [
    "dd=call_record.ix[ 3640004,:]"
   ]
  },
  {
   "cell_type": "code",
   "execution_count": 149,
   "metadata": {
    "collapsed": false
   },
   "outputs": [],
   "source": [
    "def fillName(df):\n",
    "    df[\"name\"].ffill(inplace=True)\n",
    "    \n",
    "    df.sort_values(\"call_time\",inplace=True)\n",
    "    df[\"contact_gap\"]=((df.call_time-df[\"call_time\"].shift(1))/np.timedelta64(1,\"D\")).bfill(limit =1)\n",
    "    return df\n",
    "\n",
    "def contact_features(df):\n",
    "    time_stats=pd.DataFrame(df.time.describe())\n",
    "    \n",
    "    \n",
    "    return time_stats\n",
    "# dd.groupby(\"number\",as_index=False).apply(fillName)"
   ]
  },
  {
   "cell_type": "code",
   "execution_count": 212,
   "metadata": {
    "collapsed": false
   },
   "outputs": [
    {
     "data": {
      "text/html": [
       "<div>\n",
       "<table border=\"1\" class=\"dataframe\">\n",
       "  <thead>\n",
       "    <tr style=\"text-align: right;\">\n",
       "      <th></th>\n",
       "      <th></th>\n",
       "      <th>sum</th>\n",
       "      <th>amax</th>\n",
       "      <th>count_nonzero</th>\n",
       "    </tr>\n",
       "    <tr>\n",
       "      <th>number</th>\n",
       "      <th>name</th>\n",
       "      <th></th>\n",
       "      <th></th>\n",
       "      <th></th>\n",
       "    </tr>\n",
       "  </thead>\n",
       "  <tbody>\n",
       "    <tr>\n",
       "      <th>15073476987</th>\n",
       "      <th>取</th>\n",
       "      <td>0.0</td>\n",
       "      <td>0.0</td>\n",
       "      <td>0.0</td>\n",
       "    </tr>\n",
       "    <tr>\n",
       "      <th>15211849182</th>\n",
       "      <th>小蒋</th>\n",
       "      <td>12.0</td>\n",
       "      <td>12.0</td>\n",
       "      <td>1.0</td>\n",
       "    </tr>\n",
       "  </tbody>\n",
       "</table>\n",
       "</div>"
      ],
      "text/plain": [
       "                   sum  amax  count_nonzero\n",
       "number      name                           \n",
       "15073476987 取      0.0   0.0            0.0\n",
       "15211849182 小蒋    12.0  12.0            1.0"
      ]
     },
     "execution_count": 212,
     "metadata": {},
     "output_type": "execute_result"
    }
   ],
   "source": [
    "nn=dd.groupby([\"number\",\"name\"])\n",
    "nn[\"time\"].agg([np.sum,np.max,np.count_nonzero])"
   ]
  },
  {
   "cell_type": "code",
   "execution_count": 219,
   "metadata": {
    "collapsed": false
   },
   "outputs": [],
   "source": [
    "call_record_hour=call_record.groupby(\"number\",as_index=False).apply(fillName)"
   ]
  },
  {
   "cell_type": "code",
   "execution_count": 220,
   "metadata": {
    "collapsed": false
   },
   "outputs": [],
   "source": [
    "call_record_hour.to_csv(\"data/call_record_hour.csv\")"
   ]
  },
  {
   "cell_type": "code",
   "execution_count": 143,
   "metadata": {
    "collapsed": false
   },
   "outputs": [
    {
     "data": {
      "text/html": [
       "<div>\n",
       "<table border=\"1\" class=\"dataframe\">\n",
       "  <thead>\n",
       "    <tr style=\"text-align: right;\">\n",
       "      <th></th>\n",
       "      <th></th>\n",
       "      <th>time_count</th>\n",
       "      <th>time_mean</th>\n",
       "      <th>time_std</th>\n",
       "      <th>time_min</th>\n",
       "      <th>time_25%</th>\n",
       "      <th>time_50%</th>\n",
       "      <th>time_75%</th>\n",
       "      <th>time_max</th>\n",
       "    </tr>\n",
       "    <tr>\n",
       "      <th>number</th>\n",
       "      <th>name</th>\n",
       "      <th></th>\n",
       "      <th></th>\n",
       "      <th></th>\n",
       "      <th></th>\n",
       "      <th></th>\n",
       "      <th></th>\n",
       "      <th></th>\n",
       "      <th></th>\n",
       "    </tr>\n",
       "  </thead>\n",
       "  <tbody>\n",
       "    <tr>\n",
       "      <th>15073476987</th>\n",
       "      <th>取</th>\n",
       "      <td>1.0</td>\n",
       "      <td>0.0</td>\n",
       "      <td>NaN</td>\n",
       "      <td>0.0</td>\n",
       "      <td>0.0</td>\n",
       "      <td>0.0</td>\n",
       "      <td>0.0</td>\n",
       "      <td>0.0</td>\n",
       "    </tr>\n",
       "    <tr>\n",
       "      <th>15211849182</th>\n",
       "      <th>小蒋</th>\n",
       "      <td>3.0</td>\n",
       "      <td>10.0</td>\n",
       "      <td>9.165151</td>\n",
       "      <td>0.0</td>\n",
       "      <td>6.0</td>\n",
       "      <td>12.0</td>\n",
       "      <td>15.0</td>\n",
       "      <td>18.0</td>\n",
       "    </tr>\n",
       "  </tbody>\n",
       "</table>\n",
       "</div>"
      ],
      "text/plain": [
       "                  time_count  time_mean  time_std  time_min  time_25%  \\\n",
       "number      name                                                        \n",
       "15073476987 取            1.0        0.0       NaN       0.0       0.0   \n",
       "15211849182 小蒋           3.0       10.0  9.165151       0.0       6.0   \n",
       "\n",
       "                  time_50%  time_75%  time_max  \n",
       "number      name                                \n",
       "15073476987 取          0.0       0.0       0.0  \n",
       "15211849182 小蒋        12.0      15.0      18.0  "
      ]
     },
     "execution_count": 143,
     "metadata": {},
     "output_type": "execute_result"
    }
   ],
   "source": [
    "ff.add_prefix(\"time_\")"
   ]
  },
  {
   "cell_type": "code",
   "execution_count": 45,
   "metadata": {
    "collapsed": false
   },
   "outputs": [],
   "source": [
    "import time\n",
    "d1=time.strptime(\"2016-09-08 12:35:48\", \"%Y-%m-%d %H:%M:%S\")\n",
    "d2=time.strptime(\"2016-09-10 17:35:48\", \"%Y-%m-%d %H:%M:%S\")\n",
    "ccc=pd.Timestamp(\"2016-09-10 17:35:48\")\n",
    "ccc1=pd.Timestamp(\"2016-09-08 12:35:48\")\n",
    "ff=[\"2016-09-08 12:35:48\",\"2016-09-08 12:35:48\"]"
   ]
  },
  {
   "cell_type": "code",
   "execution_count": 23,
   "metadata": {
    "collapsed": false
   },
   "outputs": [
    {
     "data": {
      "text/plain": [
       "17"
      ]
     },
     "execution_count": 23,
     "metadata": {},
     "output_type": "execute_result"
    }
   ],
   "source": [
    "ccc.hour"
   ]
  },
  {
   "cell_type": "code",
   "execution_count": 54,
   "metadata": {
    "collapsed": false
   },
   "outputs": [
    {
     "data": {
      "text/html": [
       "<div>\n",
       "<table border=\"1\" class=\"dataframe\">\n",
       "  <thead>\n",
       "    <tr style=\"text-align: right;\">\n",
       "      <th></th>\n",
       "      <th>name</th>\n",
       "      <th>number</th>\n",
       "      <th>call_time</th>\n",
       "      <th>type</th>\n",
       "      <th>time</th>\n",
       "    </tr>\n",
       "    <tr>\n",
       "      <th>custorm_id</th>\n",
       "      <th></th>\n",
       "      <th></th>\n",
       "      <th></th>\n",
       "      <th></th>\n",
       "      <th></th>\n",
       "    </tr>\n",
       "  </thead>\n",
       "  <tbody>\n",
       "    <tr>\n",
       "      <th>3471926</th>\n",
       "      <td>阿飞</td>\n",
       "      <td>13736223373</td>\n",
       "      <td>0001-05-05 07:00:50</td>\n",
       "      <td>2</td>\n",
       "      <td>0.0</td>\n",
       "    </tr>\n",
       "    <tr>\n",
       "      <th>3471926</th>\n",
       "      <td>NaN</td>\n",
       "      <td>13800138000</td>\n",
       "      <td>0001-05-05 07:00:50</td>\n",
       "      <td>1</td>\n",
       "      <td>0.0</td>\n",
       "    </tr>\n",
       "    <tr>\n",
       "      <th>3397424</th>\n",
       "      <td>阿飞</td>\n",
       "      <td>13736223373</td>\n",
       "      <td>0001-05-05 07:00:50</td>\n",
       "      <td>2</td>\n",
       "      <td>NaN</td>\n",
       "    </tr>\n",
       "    <tr>\n",
       "      <th>3397424</th>\n",
       "      <td>NaN</td>\n",
       "      <td>13800138000</td>\n",
       "      <td>0001-05-05 07:00:50</td>\n",
       "      <td>1</td>\n",
       "      <td>NaN</td>\n",
       "    </tr>\n",
       "  </tbody>\n",
       "</table>\n",
       "</div>"
      ],
      "text/plain": [
       "           name       number            call_time  type  time\n",
       "custorm_id                                                   \n",
       "3471926      阿飞  13736223373  0001-05-05 07:00:50     2   0.0\n",
       "3471926     NaN  13800138000  0001-05-05 07:00:50     1   0.0\n",
       "3397424      阿飞  13736223373  0001-05-05 07:00:50     2   NaN\n",
       "3397424     NaN  13800138000  0001-05-05 07:00:50     1   NaN"
      ]
     },
     "execution_count": 54,
     "metadata": {},
     "output_type": "execute_result"
    }
   ],
   "source": [
    "call_record[call_record.call_time!=\"0001-05-05 07:00:50\"]"
   ]
  }
 ],
 "metadata": {
  "kernelspec": {
   "display_name": "Python [Root]",
   "language": "python",
   "name": "Python [Root]"
  },
  "language_info": {
   "codemirror_mode": {
    "name": "ipython",
    "version": 2
   },
   "file_extension": ".py",
   "mimetype": "text/x-python",
   "name": "python",
   "nbconvert_exporter": "python",
   "pygments_lexer": "ipython2",
   "version": "2.7.12"
  }
 },
 "nbformat": 4,
 "nbformat_minor": 0
}

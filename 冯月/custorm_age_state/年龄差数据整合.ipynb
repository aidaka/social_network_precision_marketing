{
 "cells": [
  {
   "cell_type": "code",
   "execution_count": 2,
   "metadata": {
    "collapsed": false
   },
   "outputs": [],
   "source": [
    "%matplotlib  inline\n",
    "import pandas  as pd \n",
    "import numpy as np\n",
    "app_call_record=pd.read_csv(\"data/call_record_hour.csv\",index_col=0,parse_dates=[\"call_time\"])"
   ]
  },
  {
   "cell_type": "code",
   "execution_count": 3,
   "metadata": {
    "collapsed": false
   },
   "outputs": [],
   "source": [
    "# app_call_record.drop(['Unnamed: 0'],inplace=True,axis=1)"
   ]
  },
  {
   "cell_type": "code",
   "execution_count": 4,
   "metadata": {
    "collapsed": false
   },
   "outputs": [],
   "source": [
    "# app_call_record=app_call_record[:100000]\n",
    "app_call_record.time.ffill(limit=3,inplace=True)"
   ]
  },
  {
   "cell_type": "code",
   "execution_count": 5,
   "metadata": {
    "collapsed": false
   },
   "outputs": [
    {
     "data": {
      "text/html": [
       "<div>\n",
       "<table border=\"1\" class=\"dataframe\">\n",
       "  <thead>\n",
       "    <tr style=\"text-align: right;\">\n",
       "      <th></th>\n",
       "      <th>custorm_id</th>\n",
       "      <th>name</th>\n",
       "      <th>number</th>\n",
       "      <th>call_time</th>\n",
       "      <th>type</th>\n",
       "      <th>time</th>\n",
       "      <th>contact_gap</th>\n",
       "    </tr>\n",
       "  </thead>\n",
       "  <tbody>\n",
       "    <tr>\n",
       "      <th>0</th>\n",
       "      <td>4335793</td>\n",
       "      <td>赖立新</td>\n",
       "      <td>13001011021</td>\n",
       "      <td>2016-11-04 10:17:24</td>\n",
       "      <td>2</td>\n",
       "      <td>22.0</td>\n",
       "      <td>NaN</td>\n",
       "    </tr>\n",
       "    <tr>\n",
       "      <th>1</th>\n",
       "      <td>3157627</td>\n",
       "      <td>13001016170</td>\n",
       "      <td>13001016170</td>\n",
       "      <td>2016-11-30 08:08:13</td>\n",
       "      <td>2</td>\n",
       "      <td>0.0</td>\n",
       "      <td>NaN</td>\n",
       "    </tr>\n",
       "    <tr>\n",
       "      <th>2</th>\n",
       "      <td>2559110</td>\n",
       "      <td>8613001018225</td>\n",
       "      <td>13001018225</td>\n",
       "      <td>2016-06-30 10:32:02</td>\n",
       "      <td>2</td>\n",
       "      <td>0.0</td>\n",
       "      <td>0.000313</td>\n",
       "    </tr>\n",
       "  </tbody>\n",
       "</table>\n",
       "</div>"
      ],
      "text/plain": [
       "   custorm_id           name       number           call_time  type  time  \\\n",
       "0     4335793            赖立新  13001011021 2016-11-04 10:17:24     2  22.0   \n",
       "1     3157627    13001016170  13001016170 2016-11-30 08:08:13     2   0.0   \n",
       "2     2559110  8613001018225  13001018225 2016-06-30 10:32:02     2   0.0   \n",
       "\n",
       "   contact_gap  \n",
       "0          NaN  \n",
       "1          NaN  \n",
       "2     0.000313  "
      ]
     },
     "execution_count": 5,
     "metadata": {},
     "output_type": "execute_result"
    }
   ],
   "source": [
    "app_call_record.head(3)"
   ]
  },
  {
   "cell_type": "markdown",
   "metadata": {},
   "source": [
    "## 特征工程"
   ]
  },
  {
   "cell_type": "code",
   "execution_count": 6,
   "metadata": {
    "collapsed": false
   },
   "outputs": [],
   "source": [
    "# time_stats={\"total_time\":np.sum,\"avg_time\":np.avg}\n",
    "app_call_record_group=app_call_record.groupby([\"custorm_id\",\"name\",\"number\"])\n",
    "def get_stats(grouped,feature):\n",
    "    stats=[\"sum\",\"mean\",\"count\",\"std\",\"max\",\"min\",\"median\"]\n",
    "    prefix=feature+\"_\"\n",
    "    grouped=grouped[feature].agg(stats).add_prefix(prefix)\n",
    "    return grouped\n",
    "# call_contact_gap=app_call_record_group[\"contact_gap\"].agg(get_stats).add_prefix(\"contact_gap_\")\n",
    "## 总计\n",
    "app_call_record_group=app_call_record.groupby([\"custorm_id\",\"name\",\"number\"])\n",
    "record_time=get_stats(app_call_record_group,\"time\")\n",
    "record_contact_gap=get_stats(app_call_record_group,\"contact_gap\")\n",
    "\n",
    "## 来电\n",
    "app_call_record_group_BA=app_call_record[app_call_record.type==1].groupby([\"custorm_id\",\"name\",\"number\"])\n",
    "record_time_BA=get_stats(app_call_record_group_BA,\"time\").add_suffix('_come')\n",
    "record_contact_gap_BA=get_stats(app_call_record_group_BA,\"contact_gap\").add_suffix('_come')\n",
    "\n",
    "## 去电\n",
    "app_call_record_group_AB=app_call_record[app_call_record.type==2].groupby([\"custorm_id\",\"name\",\"number\"])\n",
    "record_time_AB=get_stats(app_call_record_group_BA,\"time\").add_suffix('_call_to')\n",
    "record_contact_gap_AB=get_stats(app_call_record_group_BA,\"contact_gap\").add_suffix('_call_to')\n",
    "\n",
    "## 未接\n",
    "app_call_record_group_miss=app_call_record[app_call_record.type==3].groupby([\"custorm_id\",\"name\",\"number\"])[\"type\"].count().add_suffix(\"_miss\")\n",
    "\n",
    "\n",
    "## 合并\n"
   ]
  },
  {
   "cell_type": "code",
   "execution_count": 7,
   "metadata": {
    "collapsed": false
   },
   "outputs": [],
   "source": [
    "contact_info=pd.concat([record_time,record_contact_gap,record_time_AB,record_contact_gap_AB,record_time_BA,record_contact_gap_BA],axis=1)"
   ]
  },
  {
   "cell_type": "code",
   "execution_count": 8,
   "metadata": {
    "collapsed": false
   },
   "outputs": [
    {
     "data": {
      "text/html": [
       "<div>\n",
       "<table border=\"1\" class=\"dataframe\">\n",
       "  <thead>\n",
       "    <tr style=\"text-align: right;\">\n",
       "      <th></th>\n",
       "      <th></th>\n",
       "      <th></th>\n",
       "      <th>time_sum</th>\n",
       "      <th>time_mean</th>\n",
       "      <th>time_count</th>\n",
       "      <th>time_std</th>\n",
       "      <th>time_max</th>\n",
       "      <th>time_min</th>\n",
       "      <th>time_median</th>\n",
       "      <th>contact_gap_sum</th>\n",
       "      <th>contact_gap_mean</th>\n",
       "      <th>contact_gap_count</th>\n",
       "      <th>...</th>\n",
       "      <th>time_max_come</th>\n",
       "      <th>time_min_come</th>\n",
       "      <th>time_median_come</th>\n",
       "      <th>contact_gap_sum_come</th>\n",
       "      <th>contact_gap_mean_come</th>\n",
       "      <th>contact_gap_count_come</th>\n",
       "      <th>contact_gap_std_come</th>\n",
       "      <th>contact_gap_max_come</th>\n",
       "      <th>contact_gap_min_come</th>\n",
       "      <th>contact_gap_median_come</th>\n",
       "    </tr>\n",
       "    <tr>\n",
       "      <th>custorm_id</th>\n",
       "      <th>name</th>\n",
       "      <th>number</th>\n",
       "      <th></th>\n",
       "      <th></th>\n",
       "      <th></th>\n",
       "      <th></th>\n",
       "      <th></th>\n",
       "      <th></th>\n",
       "      <th></th>\n",
       "      <th></th>\n",
       "      <th></th>\n",
       "      <th></th>\n",
       "      <th></th>\n",
       "      <th></th>\n",
       "      <th></th>\n",
       "      <th></th>\n",
       "      <th></th>\n",
       "      <th></th>\n",
       "      <th></th>\n",
       "      <th></th>\n",
       "      <th></th>\n",
       "      <th></th>\n",
       "      <th></th>\n",
       "    </tr>\n",
       "  </thead>\n",
       "  <tbody>\n",
       "    <tr>\n",
       "      <th rowspan=\"3\" valign=\"top\">21</th>\n",
       "      <th>奉三哥</th>\n",
       "      <th>13982597188</th>\n",
       "      <td>33.0</td>\n",
       "      <td>11.0</td>\n",
       "      <td>3</td>\n",
       "      <td>0.0</td>\n",
       "      <td>11.0</td>\n",
       "      <td>11.0</td>\n",
       "      <td>11.0</td>\n",
       "      <td>1.495035</td>\n",
       "      <td>0.299007</td>\n",
       "      <td>5</td>\n",
       "      <td>...</td>\n",
       "      <td>11.0</td>\n",
       "      <td>11.0</td>\n",
       "      <td>11.0</td>\n",
       "      <td>0.745995</td>\n",
       "      <td>0.745995</td>\n",
       "      <td>1.0</td>\n",
       "      <td>NaN</td>\n",
       "      <td>0.745995</td>\n",
       "      <td>0.745995</td>\n",
       "      <td>0.745995</td>\n",
       "    </tr>\n",
       "    <tr>\n",
       "      <th>强哥</th>\n",
       "      <th>13982205543</th>\n",
       "      <td>66.0</td>\n",
       "      <td>22.0</td>\n",
       "      <td>3</td>\n",
       "      <td>0.0</td>\n",
       "      <td>22.0</td>\n",
       "      <td>22.0</td>\n",
       "      <td>22.0</td>\n",
       "      <td>0.874387</td>\n",
       "      <td>0.218597</td>\n",
       "      <td>4</td>\n",
       "      <td>...</td>\n",
       "      <td>NaN</td>\n",
       "      <td>NaN</td>\n",
       "      <td>NaN</td>\n",
       "      <td>NaN</td>\n",
       "      <td>NaN</td>\n",
       "      <td>NaN</td>\n",
       "      <td>NaN</td>\n",
       "      <td>NaN</td>\n",
       "      <td>NaN</td>\n",
       "      <td>NaN</td>\n",
       "    </tr>\n",
       "    <tr>\n",
       "      <th>晗晗</th>\n",
       "      <th>18200290490</th>\n",
       "      <td>NaN</td>\n",
       "      <td>NaN</td>\n",
       "      <td>0</td>\n",
       "      <td>NaN</td>\n",
       "      <td>NaN</td>\n",
       "      <td>NaN</td>\n",
       "      <td>NaN</td>\n",
       "      <td>19.193565</td>\n",
       "      <td>1.129033</td>\n",
       "      <td>17</td>\n",
       "      <td>...</td>\n",
       "      <td>NaN</td>\n",
       "      <td>NaN</td>\n",
       "      <td>NaN</td>\n",
       "      <td>1.102130</td>\n",
       "      <td>0.220426</td>\n",
       "      <td>5.0</td>\n",
       "      <td>0.339781</td>\n",
       "      <td>0.781157</td>\n",
       "      <td>0.002176</td>\n",
       "      <td>0.007789</td>\n",
       "    </tr>\n",
       "  </tbody>\n",
       "</table>\n",
       "<p>3 rows × 42 columns</p>\n",
       "</div>"
      ],
      "text/plain": [
       "                             time_sum  time_mean  time_count  time_std  \\\n",
       "custorm_id name number                                                   \n",
       "21         奉三哥  13982597188      33.0       11.0           3       0.0   \n",
       "           强哥   13982205543      66.0       22.0           3       0.0   \n",
       "           晗晗   18200290490       NaN        NaN           0       NaN   \n",
       "\n",
       "                             time_max  time_min  time_median  contact_gap_sum  \\\n",
       "custorm_id name number                                                          \n",
       "21         奉三哥  13982597188      11.0      11.0         11.0         1.495035   \n",
       "           强哥   13982205543      22.0      22.0         22.0         0.874387   \n",
       "           晗晗   18200290490       NaN       NaN          NaN        19.193565   \n",
       "\n",
       "                             contact_gap_mean  contact_gap_count  \\\n",
       "custorm_id name number                                             \n",
       "21         奉三哥  13982597188          0.299007                  5   \n",
       "           强哥   13982205543          0.218597                  4   \n",
       "           晗晗   18200290490          1.129033                 17   \n",
       "\n",
       "                                      ...             time_max_come  \\\n",
       "custorm_id name number                ...                             \n",
       "21         奉三哥  13982597188           ...                      11.0   \n",
       "           强哥   13982205543           ...                       NaN   \n",
       "           晗晗   18200290490           ...                       NaN   \n",
       "\n",
       "                             time_min_come  time_median_come  \\\n",
       "custorm_id name number                                         \n",
       "21         奉三哥  13982597188           11.0              11.0   \n",
       "           强哥   13982205543            NaN               NaN   \n",
       "           晗晗   18200290490            NaN               NaN   \n",
       "\n",
       "                             contact_gap_sum_come  contact_gap_mean_come  \\\n",
       "custorm_id name number                                                     \n",
       "21         奉三哥  13982597188              0.745995               0.745995   \n",
       "           强哥   13982205543                   NaN                    NaN   \n",
       "           晗晗   18200290490              1.102130               0.220426   \n",
       "\n",
       "                             contact_gap_count_come  contact_gap_std_come  \\\n",
       "custorm_id name number                                                      \n",
       "21         奉三哥  13982597188                     1.0                   NaN   \n",
       "           强哥   13982205543                     NaN                   NaN   \n",
       "           晗晗   18200290490                     5.0              0.339781   \n",
       "\n",
       "                             contact_gap_max_come  contact_gap_min_come  \\\n",
       "custorm_id name number                                                    \n",
       "21         奉三哥  13982597188              0.745995              0.745995   \n",
       "           强哥   13982205543                   NaN                   NaN   \n",
       "           晗晗   18200290490              0.781157              0.002176   \n",
       "\n",
       "                             contact_gap_median_come  \n",
       "custorm_id name number                                \n",
       "21         奉三哥  13982597188                 0.745995  \n",
       "           强哥   13982205543                      NaN  \n",
       "           晗晗   18200290490                 0.007789  \n",
       "\n",
       "[3 rows x 42 columns]"
      ]
     },
     "execution_count": 8,
     "metadata": {},
     "output_type": "execute_result"
    }
   ],
   "source": [
    "contact_info.head(3)"
   ]
  },
  {
   "cell_type": "markdown",
   "metadata": {},
   "source": [
    "## 通话记录分析\n",
    "- 2439440 个联系对"
   ]
  },
  {
   "cell_type": "markdown",
   "metadata": {},
   "source": [
    "### 1.数据读取"
   ]
  },
  {
   "cell_type": "code",
   "execution_count": 3,
   "metadata": {
    "collapsed": false
   },
   "outputs": [
    {
     "name": "stderr",
     "output_type": "stream",
     "text": [
      "/usr/bin/anaconda2/lib/python2.7/site-packages/IPython/core/interactiveshell.py:2723: DtypeWarning: Columns (4) have mixed types. Specify dtype option on import or set low_memory=False.\n",
      "  interactivity=interactivity, compiler=compiler, result=result)\n"
     ]
    }
   ],
   "source": [
    "cust_user_info=pd.read_csv(\"data/fdl_cust_user_info_chain.csv\",index_col=1)\n",
    "cust_user_info.drop(['Unnamed: 0'],inplace=True,axis=1)\n",
    "connect_info=pd.read_csv(\"contact_info.csv\",index_col=0)\n",
    "cust_user_info=cust_user_info.drop_duplicates(subset=[\"id_no\"])\n"
   ]
  },
  {
   "cell_type": "markdown",
   "metadata": {},
   "source": [
    "### 2.数据概况"
   ]
  },
  {
   "cell_type": "code",
   "execution_count": 4,
   "metadata": {
    "collapsed": false
   },
   "outputs": [
    {
     "data": {
      "text/html": [
       "<div>\n",
       "<table border=\"1\" class=\"dataframe\">\n",
       "  <thead>\n",
       "    <tr style=\"text-align: right;\">\n",
       "      <th></th>\n",
       "      <th>cust_name</th>\n",
       "      <th>id_no</th>\n",
       "      <th>mobi_no</th>\n",
       "      <th>reg_src</th>\n",
       "    </tr>\n",
       "    <tr>\n",
       "      <th>id</th>\n",
       "      <th></th>\n",
       "      <th></th>\n",
       "      <th></th>\n",
       "      <th></th>\n",
       "    </tr>\n",
       "  </thead>\n",
       "  <tbody>\n",
       "    <tr>\n",
       "      <th>5798</th>\n",
       "      <td>戴俊安</td>\n",
       "      <td>371311198712212615</td>\n",
       "      <td>18267179687</td>\n",
       "      <td>Android</td>\n",
       "    </tr>\n",
       "    <tr>\n",
       "      <th>20995</th>\n",
       "      <td>肖艳平</td>\n",
       "      <td>430204197010230028</td>\n",
       "      <td>18607337862</td>\n",
       "      <td>Android</td>\n",
       "    </tr>\n",
       "    <tr>\n",
       "      <th>25064</th>\n",
       "      <td>申俊鹤</td>\n",
       "      <td>410526199107059570</td>\n",
       "      <td>13253382545</td>\n",
       "      <td>Android</td>\n",
       "    </tr>\n",
       "  </tbody>\n",
       "</table>\n",
       "</div>"
      ],
      "text/plain": [
       "      cust_name               id_no      mobi_no  reg_src\n",
       "id                                                       \n",
       "5798        戴俊安  371311198712212615  18267179687  Android\n",
       "20995       肖艳平  430204197010230028  18607337862  Android\n",
       "25064       申俊鹤  410526199107059570  13253382545  Android"
      ]
     },
     "execution_count": 4,
     "metadata": {},
     "output_type": "execute_result"
    }
   ],
   "source": [
    "cust_user_info.head(3)"
   ]
  },
  {
   "cell_type": "code",
   "execution_count": 5,
   "metadata": {
    "collapsed": false
   },
   "outputs": [
    {
     "data": {
      "text/html": [
       "<div>\n",
       "<table border=\"1\" class=\"dataframe\">\n",
       "  <thead>\n",
       "    <tr style=\"text-align: right;\">\n",
       "      <th></th>\n",
       "      <th>name</th>\n",
       "      <th>number</th>\n",
       "      <th>time_sum</th>\n",
       "      <th>time_mean</th>\n",
       "      <th>time_count</th>\n",
       "      <th>time_std</th>\n",
       "      <th>time_max</th>\n",
       "      <th>time_min</th>\n",
       "      <th>time_median</th>\n",
       "      <th>contact_gap_sum</th>\n",
       "      <th>...</th>\n",
       "      <th>time_max_come</th>\n",
       "      <th>time_min_come</th>\n",
       "      <th>time_median_come</th>\n",
       "      <th>contact_gap_sum_come</th>\n",
       "      <th>contact_gap_mean_come</th>\n",
       "      <th>contact_gap_count_come</th>\n",
       "      <th>contact_gap_std_come</th>\n",
       "      <th>contact_gap_max_come</th>\n",
       "      <th>contact_gap_min_come</th>\n",
       "      <th>contact_gap_median_come</th>\n",
       "    </tr>\n",
       "    <tr>\n",
       "      <th>custorm_id</th>\n",
       "      <th></th>\n",
       "      <th></th>\n",
       "      <th></th>\n",
       "      <th></th>\n",
       "      <th></th>\n",
       "      <th></th>\n",
       "      <th></th>\n",
       "      <th></th>\n",
       "      <th></th>\n",
       "      <th></th>\n",
       "      <th></th>\n",
       "      <th></th>\n",
       "      <th></th>\n",
       "      <th></th>\n",
       "      <th></th>\n",
       "      <th></th>\n",
       "      <th></th>\n",
       "      <th></th>\n",
       "      <th></th>\n",
       "      <th></th>\n",
       "      <th></th>\n",
       "    </tr>\n",
       "  </thead>\n",
       "  <tbody>\n",
       "    <tr>\n",
       "      <th>21</th>\n",
       "      <td>奉三哥</td>\n",
       "      <td>13982597188</td>\n",
       "      <td>33.0</td>\n",
       "      <td>11.0</td>\n",
       "      <td>3</td>\n",
       "      <td>0.0</td>\n",
       "      <td>11.0</td>\n",
       "      <td>11.0</td>\n",
       "      <td>11.0</td>\n",
       "      <td>1.495035</td>\n",
       "      <td>...</td>\n",
       "      <td>11.0</td>\n",
       "      <td>11.0</td>\n",
       "      <td>11.0</td>\n",
       "      <td>0.745995</td>\n",
       "      <td>0.745995</td>\n",
       "      <td>1.0</td>\n",
       "      <td>NaN</td>\n",
       "      <td>0.745995</td>\n",
       "      <td>0.745995</td>\n",
       "      <td>0.745995</td>\n",
       "    </tr>\n",
       "    <tr>\n",
       "      <th>21</th>\n",
       "      <td>强哥</td>\n",
       "      <td>13982205543</td>\n",
       "      <td>66.0</td>\n",
       "      <td>22.0</td>\n",
       "      <td>3</td>\n",
       "      <td>0.0</td>\n",
       "      <td>22.0</td>\n",
       "      <td>22.0</td>\n",
       "      <td>22.0</td>\n",
       "      <td>0.874387</td>\n",
       "      <td>...</td>\n",
       "      <td>NaN</td>\n",
       "      <td>NaN</td>\n",
       "      <td>NaN</td>\n",
       "      <td>NaN</td>\n",
       "      <td>NaN</td>\n",
       "      <td>NaN</td>\n",
       "      <td>NaN</td>\n",
       "      <td>NaN</td>\n",
       "      <td>NaN</td>\n",
       "      <td>NaN</td>\n",
       "    </tr>\n",
       "    <tr>\n",
       "      <th>21</th>\n",
       "      <td>晗晗</td>\n",
       "      <td>18200290490</td>\n",
       "      <td>NaN</td>\n",
       "      <td>NaN</td>\n",
       "      <td>0</td>\n",
       "      <td>NaN</td>\n",
       "      <td>NaN</td>\n",
       "      <td>NaN</td>\n",
       "      <td>NaN</td>\n",
       "      <td>19.193565</td>\n",
       "      <td>...</td>\n",
       "      <td>NaN</td>\n",
       "      <td>NaN</td>\n",
       "      <td>NaN</td>\n",
       "      <td>1.102130</td>\n",
       "      <td>0.220426</td>\n",
       "      <td>5.0</td>\n",
       "      <td>0.339781</td>\n",
       "      <td>0.781157</td>\n",
       "      <td>0.002176</td>\n",
       "      <td>0.007789</td>\n",
       "    </tr>\n",
       "  </tbody>\n",
       "</table>\n",
       "<p>3 rows × 44 columns</p>\n",
       "</div>"
      ],
      "text/plain": [
       "           name       number  time_sum  time_mean  time_count  time_std  \\\n",
       "custorm_id                                                                \n",
       "21          奉三哥  13982597188      33.0       11.0           3       0.0   \n",
       "21           强哥  13982205543      66.0       22.0           3       0.0   \n",
       "21           晗晗  18200290490       NaN        NaN           0       NaN   \n",
       "\n",
       "            time_max  time_min  time_median  contact_gap_sum  \\\n",
       "custorm_id                                                     \n",
       "21              11.0      11.0         11.0         1.495035   \n",
       "21              22.0      22.0         22.0         0.874387   \n",
       "21               NaN       NaN          NaN        19.193565   \n",
       "\n",
       "                     ...             time_max_come  time_min_come  \\\n",
       "custorm_id           ...                                            \n",
       "21                   ...                      11.0           11.0   \n",
       "21                   ...                       NaN            NaN   \n",
       "21                   ...                       NaN            NaN   \n",
       "\n",
       "            time_median_come  contact_gap_sum_come  contact_gap_mean_come  \\\n",
       "custorm_id                                                                  \n",
       "21                      11.0              0.745995               0.745995   \n",
       "21                       NaN                   NaN                    NaN   \n",
       "21                       NaN              1.102130               0.220426   \n",
       "\n",
       "            contact_gap_count_come  contact_gap_std_come  \\\n",
       "custorm_id                                                 \n",
       "21                             1.0                   NaN   \n",
       "21                             NaN                   NaN   \n",
       "21                             5.0              0.339781   \n",
       "\n",
       "            contact_gap_max_come  contact_gap_min_come  \\\n",
       "custorm_id                                               \n",
       "21                      0.745995              0.745995   \n",
       "21                           NaN                   NaN   \n",
       "21                      0.781157              0.002176   \n",
       "\n",
       "            contact_gap_median_come  \n",
       "custorm_id                           \n",
       "21                         0.745995  \n",
       "21                              NaN  \n",
       "21                         0.007789  \n",
       "\n",
       "[3 rows x 44 columns]"
      ]
     },
     "execution_count": 5,
     "metadata": {},
     "output_type": "execute_result"
    }
   ],
   "source": [
    "connect_info.head(3)"
   ]
  },
  {
   "cell_type": "markdown",
   "metadata": {},
   "source": [
    "### 3.描述性统计\n",
    "- 缺失值处理\n",
    "- 异常值处理\n"
   ]
  },
  {
   "cell_type": "code",
   "execution_count": 6,
   "metadata": {
    "collapsed": false
   },
   "outputs": [],
   "source": [
    "connect_info.ffill(limit=2,inplace=True)\n",
    "connect_info.fillna(0.0,inplace=True)"
   ]
  },
  {
   "cell_type": "markdown",
   "metadata": {},
   "source": [
    "#### 异常值处理条件\n",
    "- connect_info.time_sum>0.0"
   ]
  },
  {
   "cell_type": "code",
   "execution_count": 7,
   "metadata": {
    "collapsed": false
   },
   "outputs": [],
   "source": [
    "cond=(connect_info.time_sum>0.0)&(connect_info.time_mean<1800.0) &(connect_info.time_mean>11.5)\n",
    "connect_info=connect_info[cond]"
   ]
  },
  {
   "cell_type": "markdown",
   "metadata": {},
   "source": [
    "**A的数量**"
   ]
  },
  {
   "cell_type": "code",
   "execution_count": 8,
   "metadata": {
    "collapsed": false
   },
   "outputs": [
    {
     "data": {
      "text/plain": [
       "(484715,)"
      ]
     },
     "execution_count": 8,
     "metadata": {},
     "output_type": "execute_result"
    }
   ],
   "source": [
    "connect_info.index.unique().shape"
   ]
  },
  {
   "cell_type": "markdown",
   "metadata": {},
   "source": [
    "**B的数量**"
   ]
  },
  {
   "cell_type": "code",
   "execution_count": 9,
   "metadata": {
    "collapsed": false
   },
   "outputs": [
    {
     "data": {
      "text/plain": [
       "(942111,)"
      ]
     },
     "execution_count": 9,
     "metadata": {},
     "output_type": "execute_result"
    }
   ],
   "source": [
    "connect_info.number.unique().shape"
   ]
  },
  {
   "cell_type": "markdown",
   "metadata": {},
   "source": [
    "### 4.数据合并"
   ]
  },
  {
   "cell_type": "code",
   "execution_count": 10,
   "metadata": {
    "collapsed": false
   },
   "outputs": [
    {
     "data": {
      "text/html": [
       "<div>\n",
       "<table border=\"1\" class=\"dataframe\">\n",
       "  <thead>\n",
       "    <tr style=\"text-align: right;\">\n",
       "      <th></th>\n",
       "      <th>cust_name</th>\n",
       "      <th>id_no</th>\n",
       "      <th>mobi_no</th>\n",
       "      <th>reg_src</th>\n",
       "    </tr>\n",
       "    <tr>\n",
       "      <th>id</th>\n",
       "      <th></th>\n",
       "      <th></th>\n",
       "      <th></th>\n",
       "      <th></th>\n",
       "    </tr>\n",
       "  </thead>\n",
       "  <tbody>\n",
       "    <tr>\n",
       "      <th>21</th>\n",
       "      <td>席文娅</td>\n",
       "      <td>510902199303259523</td>\n",
       "      <td>15082532895</td>\n",
       "      <td>Android</td>\n",
       "    </tr>\n",
       "    <tr>\n",
       "      <th>69</th>\n",
       "      <td>向坤</td>\n",
       "      <td>433101198908151011</td>\n",
       "      <td>18974340855</td>\n",
       "      <td>Web</td>\n",
       "    </tr>\n",
       "    <tr>\n",
       "      <th>102</th>\n",
       "      <td>郝宝雷</td>\n",
       "      <td>371121198712080079</td>\n",
       "      <td>15762351555</td>\n",
       "      <td>Android</td>\n",
       "    </tr>\n",
       "    <tr>\n",
       "      <th>105</th>\n",
       "      <td>钟伟</td>\n",
       "      <td>510124197510240011</td>\n",
       "      <td>18681376638</td>\n",
       "      <td>Android</td>\n",
       "    </tr>\n",
       "    <tr>\n",
       "      <th>122</th>\n",
       "      <td>黄伟</td>\n",
       "      <td>340104198908261012</td>\n",
       "      <td>18956080650</td>\n",
       "      <td>Web</td>\n",
       "    </tr>\n",
       "    <tr>\n",
       "      <th>143</th>\n",
       "      <td>洪子杰</td>\n",
       "      <td>445121199109242033</td>\n",
       "      <td>13421060652</td>\n",
       "      <td>Android</td>\n",
       "    </tr>\n",
       "    <tr>\n",
       "      <th>156</th>\n",
       "      <td>代攀攀</td>\n",
       "      <td>513030199212291033</td>\n",
       "      <td>15982108919</td>\n",
       "      <td>Android</td>\n",
       "    </tr>\n",
       "    <tr>\n",
       "      <th>163</th>\n",
       "      <td>冯浩</td>\n",
       "      <td>120225198908272535</td>\n",
       "      <td>13022212202</td>\n",
       "      <td>Android</td>\n",
       "    </tr>\n",
       "    <tr>\n",
       "      <th>169</th>\n",
       "      <td>杨帆</td>\n",
       "      <td>610331198703261217</td>\n",
       "      <td>18629240052</td>\n",
       "      <td>Android</td>\n",
       "    </tr>\n",
       "    <tr>\n",
       "      <th>170</th>\n",
       "      <td>徐立民</td>\n",
       "      <td>330521198109274614</td>\n",
       "      <td>15393728333</td>\n",
       "      <td>Android</td>\n",
       "    </tr>\n",
       "  </tbody>\n",
       "</table>\n",
       "</div>"
      ],
      "text/plain": [
       "    cust_name               id_no      mobi_no  reg_src\n",
       "id                                                     \n",
       "21        席文娅  510902199303259523  15082532895  Android\n",
       "69         向坤  433101198908151011  18974340855      Web\n",
       "102       郝宝雷  371121198712080079  15762351555  Android\n",
       "105        钟伟  510124197510240011  18681376638  Android\n",
       "122        黄伟  340104198908261012  18956080650      Web\n",
       "143       洪子杰  445121199109242033  13421060652  Android\n",
       "156       代攀攀  513030199212291033  15982108919  Android\n",
       "163        冯浩  120225198908272535  13022212202  Android\n",
       "169        杨帆  610331198703261217  18629240052  Android\n",
       "170       徐立民  330521198109274614  15393728333  Android"
      ]
     },
     "execution_count": 10,
     "metadata": {},
     "output_type": "execute_result"
    }
   ],
   "source": [
    "unique_id=connect_info.index.unique()\n",
    "cust_user_info.ix[unique_id,:].head(10)"
   ]
  },
  {
   "cell_type": "code",
   "execution_count": 11,
   "metadata": {
    "collapsed": true
   },
   "outputs": [],
   "source": [
    "cust_user_info.index.name=\"custorm_id\"\n",
    "cust_user_info.rename(columns={\"mobi_no\":\"number\"},inplace=True)\n"
   ]
  },
  {
   "cell_type": "code",
   "execution_count": 12,
   "metadata": {
    "collapsed": false
   },
   "outputs": [],
   "source": [
    "user_info=cust_user_info[[\"id_no\",\"cust_name\"]]\n",
    "join_on_custorm_id=connect_info.join(user_info.add_suffix(\"_A\"))\n",
    "contact_info=pd.merge(join_on_custorm_id,cust_user_info,on=\"number\",how=\"inner\",left_index=True)"
   ]
  },
  {
   "cell_type": "code",
   "execution_count": 13,
   "metadata": {
    "collapsed": false
   },
   "outputs": [
    {
     "data": {
      "text/html": [
       "<div>\n",
       "<table border=\"1\" class=\"dataframe\">\n",
       "  <thead>\n",
       "    <tr style=\"text-align: right;\">\n",
       "      <th></th>\n",
       "      <th>name</th>\n",
       "      <th>number</th>\n",
       "      <th>time_sum</th>\n",
       "      <th>time_mean</th>\n",
       "      <th>time_count</th>\n",
       "      <th>time_std</th>\n",
       "      <th>time_max</th>\n",
       "      <th>time_min</th>\n",
       "      <th>time_median</th>\n",
       "      <th>contact_gap_sum</th>\n",
       "      <th>...</th>\n",
       "      <th>contact_gap_count_come</th>\n",
       "      <th>contact_gap_std_come</th>\n",
       "      <th>contact_gap_max_come</th>\n",
       "      <th>contact_gap_min_come</th>\n",
       "      <th>contact_gap_median_come</th>\n",
       "      <th>id_no_A</th>\n",
       "      <th>cust_name_A</th>\n",
       "      <th>cust_name</th>\n",
       "      <th>id_no</th>\n",
       "      <th>reg_src</th>\n",
       "    </tr>\n",
       "    <tr>\n",
       "      <th>custorm_id</th>\n",
       "      <th></th>\n",
       "      <th></th>\n",
       "      <th></th>\n",
       "      <th></th>\n",
       "      <th></th>\n",
       "      <th></th>\n",
       "      <th></th>\n",
       "      <th></th>\n",
       "      <th></th>\n",
       "      <th></th>\n",
       "      <th></th>\n",
       "      <th></th>\n",
       "      <th></th>\n",
       "      <th></th>\n",
       "      <th></th>\n",
       "      <th></th>\n",
       "      <th></th>\n",
       "      <th></th>\n",
       "      <th></th>\n",
       "      <th></th>\n",
       "      <th></th>\n",
       "    </tr>\n",
       "  </thead>\n",
       "  <tbody>\n",
       "    <tr>\n",
       "      <th>2627919</th>\n",
       "      <td>强哥</td>\n",
       "      <td>13982205543</td>\n",
       "      <td>66.0</td>\n",
       "      <td>22.0</td>\n",
       "      <td>3</td>\n",
       "      <td>0.0</td>\n",
       "      <td>22.0</td>\n",
       "      <td>22.0</td>\n",
       "      <td>22.0</td>\n",
       "      <td>0.874387</td>\n",
       "      <td>...</td>\n",
       "      <td>1.0</td>\n",
       "      <td>0.000000</td>\n",
       "      <td>0.745995</td>\n",
       "      <td>0.745995</td>\n",
       "      <td>0.745995</td>\n",
       "      <td>510902199303259523</td>\n",
       "      <td>席文娅</td>\n",
       "      <td>唐强</td>\n",
       "      <td>510902198905027856</td>\n",
       "      <td>iOS</td>\n",
       "    </tr>\n",
       "    <tr>\n",
       "      <th>1429386</th>\n",
       "      <td>晗晗</td>\n",
       "      <td>18200290490</td>\n",
       "      <td>66.0</td>\n",
       "      <td>22.0</td>\n",
       "      <td>0</td>\n",
       "      <td>0.0</td>\n",
       "      <td>22.0</td>\n",
       "      <td>22.0</td>\n",
       "      <td>22.0</td>\n",
       "      <td>19.193565</td>\n",
       "      <td>...</td>\n",
       "      <td>5.0</td>\n",
       "      <td>0.339781</td>\n",
       "      <td>0.781157</td>\n",
       "      <td>0.002176</td>\n",
       "      <td>0.007789</td>\n",
       "      <td>510902199303259523</td>\n",
       "      <td>席文娅</td>\n",
       "      <td>王芷晗</td>\n",
       "      <td>51090219950831950X</td>\n",
       "      <td>MQQ</td>\n",
       "    </tr>\n",
       "    <tr>\n",
       "      <th>1429386</th>\n",
       "      <td>王子涵</td>\n",
       "      <td>18200290490</td>\n",
       "      <td>25.0</td>\n",
       "      <td>25.0</td>\n",
       "      <td>1</td>\n",
       "      <td>0.0</td>\n",
       "      <td>25.0</td>\n",
       "      <td>25.0</td>\n",
       "      <td>25.0</td>\n",
       "      <td>33.172002</td>\n",
       "      <td>...</td>\n",
       "      <td>1.0</td>\n",
       "      <td>3.011260</td>\n",
       "      <td>33.172002</td>\n",
       "      <td>33.172002</td>\n",
       "      <td>33.172002</td>\n",
       "      <td>510902199102048471</td>\n",
       "      <td>李高龙</td>\n",
       "      <td>王芷晗</td>\n",
       "      <td>51090219950831950X</td>\n",
       "      <td>MQQ</td>\n",
       "    </tr>\n",
       "  </tbody>\n",
       "</table>\n",
       "<p>3 rows × 49 columns</p>\n",
       "</div>"
      ],
      "text/plain": [
       "           name       number  time_sum  time_mean  time_count  time_std  \\\n",
       "custorm_id                                                                \n",
       "2627919      强哥  13982205543      66.0       22.0           3       0.0   \n",
       "1429386      晗晗  18200290490      66.0       22.0           0       0.0   \n",
       "1429386     王子涵  18200290490      25.0       25.0           1       0.0   \n",
       "\n",
       "            time_max  time_min  time_median  contact_gap_sum   ...     \\\n",
       "custorm_id                                                     ...      \n",
       "2627919         22.0      22.0         22.0         0.874387   ...      \n",
       "1429386         22.0      22.0         22.0        19.193565   ...      \n",
       "1429386         25.0      25.0         25.0        33.172002   ...      \n",
       "\n",
       "            contact_gap_count_come  contact_gap_std_come  \\\n",
       "custorm_id                                                 \n",
       "2627919                        1.0              0.000000   \n",
       "1429386                        5.0              0.339781   \n",
       "1429386                        1.0              3.011260   \n",
       "\n",
       "            contact_gap_max_come  contact_gap_min_come  \\\n",
       "custorm_id                                               \n",
       "2627919                 0.745995              0.745995   \n",
       "1429386                 0.781157              0.002176   \n",
       "1429386                33.172002             33.172002   \n",
       "\n",
       "            contact_gap_median_come             id_no_A  cust_name_A  \\\n",
       "custorm_id                                                             \n",
       "2627919                    0.745995  510902199303259523          席文娅   \n",
       "1429386                    0.007789  510902199303259523          席文娅   \n",
       "1429386                   33.172002  510902199102048471          李高龙   \n",
       "\n",
       "            cust_name               id_no  reg_src  \n",
       "custorm_id                                          \n",
       "2627919            唐强  510902198905027856      iOS  \n",
       "1429386           王芷晗  51090219950831950X      MQQ  \n",
       "1429386           王芷晗  51090219950831950X      MQQ  \n",
       "\n",
       "[3 rows x 49 columns]"
      ]
     },
     "execution_count": 13,
     "metadata": {},
     "output_type": "execute_result"
    }
   ],
   "source": [
    "contact_info.head(3)"
   ]
  },
  {
   "cell_type": "code",
   "execution_count": 14,
   "metadata": {
    "collapsed": false
   },
   "outputs": [],
   "source": [
    "\n",
    "## 出生年\n",
    "contact_info[\"age_A\"]=contact_info.id_no_A.str.slice(6,10).astype(\"float\")\n",
    "contact_info[\"age\"]=contact_info.id_no.str.slice(6,10).astype(\"float\")\n",
    "contact_info[\"age_Gap\"]=contact_info.age-contact_info.age_A\n",
    "##出生月\n",
    "contact_info[\"born_month\"]=contact_info.id_no.str.slice(10,12).astype(\"float\")\n",
    "contact_info[\"born_month_A\"]=contact_info.id_no_A.str.slice(10,12).astype(\"float\")\n",
    "## 性别\n",
    "contact_info[\"sex_A\"]=contact_info.id_no_A.str.slice(16,17)\n",
    "contact_info[\"sex\"]=contact_info.id_no.str.slice(16,17)\n",
    "\n",
    "##省份\n",
    "contact_info[\"id_province\"]=contact_info.id_no.str.slice(0,2)\n",
    "contact_info[\"id_province_A\"]=contact_info.id_no_A.str.slice(0,2)\n",
    "contact_info[\"same_province\"]=contact_info.id_province==contact_info.id_province_A\n",
    "## 城市\n",
    "contact_info[\"id_city\"]=contact_info.id_no.str.slice(2,4)\n",
    "contact_info[\"id_city_A\"]=contact_info.id_no_A.str.slice(2,4)\n",
    "contact_info[\"same_city\"]=contact_info.id_city==contact_info.id_city_A"
   ]
  },
  {
   "cell_type": "code",
   "execution_count": 15,
   "metadata": {
    "collapsed": false
   },
   "outputs": [],
   "source": [
    "def gg(ff):\n",
    "    return len(str(ff))\n",
    "dropData=(contact_info.age_A.apply(gg)==6)&(contact_info.age_A<2003)&(contact_info.age<2003)&(contact_info.age>1940)\n",
    "contact_info=contact_info[dropData]"
   ]
  },
  {
   "cell_type": "markdown",
   "metadata": {},
   "source": [
    "### 5.数据分析"
   ]
  },
  {
   "cell_type": "markdown",
   "metadata": {},
   "source": [
    "#### 1.出生年月分布"
   ]
  },
  {
   "cell_type": "code",
   "execution_count": 16,
   "metadata": {
    "collapsed": false
   },
   "outputs": [
    {
     "data": {
      "text/plain": [
       "<matplotlib.axes._subplots.AxesSubplot at 0x7f9c6c47f2d0>"
      ]
     },
     "execution_count": 16,
     "metadata": {},
     "output_type": "execute_result"
    },
    {
     "data": {
      "image/png": "[encoded data removed]",
      "text/plain": [
       "<matplotlib.figure.Figure at 0x7f9c9e123510>"
      ]
     },
     "metadata": {},
     "output_type": "display_data"
    }
   ],
   "source": [
    "contact_info.age.plot.hist(bins=60,xlim=[1940.0,2004.0])"
   ]
  },
  {
   "cell_type": "code",
   "execution_count": 17,
   "metadata": {
    "collapsed": true
   },
   "outputs": [],
   "source": [
    "import matplotlib.pyplot as plt  \n",
    "import matplotlib as mpl  \n",
    "mpl.rc('figure', figsize=(8, 6))\n",
    "font = {'family' : 'monospace',\n",
    "          'weight' : 'bold',\n",
    "          'size'   : 30.2}\n",
    "mpl.rc(\"font\",**font)\n",
    "mpl.rc('lines', lw=2, c='r')"
   ]
  },
  {
   "cell_type": "code",
   "execution_count": 18,
   "metadata": {
    "collapsed": true
   },
   "outputs": [],
   "source": [
    "def getPlot(Gap,string,figsize=(60,40),xs= -50,xe=50):\n",
    "    c = map(lambda x:\"%.2f\" %x,np.random.rand(49))\n",
    "    Gap[string].plot.bar(title=string,rot=50,color=c,figsize= figsize,xlim=[xs,xe])"
   ]
  },
  {
   "cell_type": "code",
   "execution_count": 19,
   "metadata": {
    "collapsed": false
   },
   "outputs": [
    {
     "data": {
      "text/plain": [
       "Index([u'name', u'number', u'time_sum', u'time_mean', u'time_count',\n",
       "       u'time_std', u'time_max', u'time_min', u'time_median',\n",
       "       u'contact_gap_sum', u'contact_gap_mean', u'contact_gap_count',\n",
       "       u'contact_gap_std', u'contact_gap_max', u'contact_gap_min',\n",
       "       u'contact_gap_median', u'time_sum_call_to', u'time_mean_call_to',\n",
       "       u'time_count_call_to', u'time_std_call_to', u'time_max_call_to',\n",
       "       u'time_min_call_to', u'time_median_call_to', u'contact_gap_sum_call_to',\n",
       "       u'contact_gap_mean_call_to', u'contact_gap_count_call_to',\n",
       "       u'contact_gap_std_call_to', u'contact_gap_max_call_to',\n",
       "       u'contact_gap_min_call_to', u'contact_gap_median_call_to',\n",
       "       u'time_sum_come', u'time_mean_come', u'time_count_come',\n",
       "       u'time_std_come', u'time_max_come', u'time_min_come',\n",
       "       u'time_median_come', u'contact_gap_sum_come', u'contact_gap_mean_come',\n",
       "       u'contact_gap_count_come', u'contact_gap_std_come',\n",
       "       u'contact_gap_max_come', u'contact_gap_min_come',\n",
       "       u'contact_gap_median_come', u'id_no_A', u'cust_name_A', u'cust_name',\n",
       "       u'id_no', u'reg_src', u'age_A', u'age', u'age_Gap', u'born_month',\n",
       "       u'born_month_A', u'sex_A', u'sex', u'id_province', u'id_province_A',\n",
       "       u'same_province', u'id_city', u'id_city_A', u'same_city'],\n",
       "      dtype='object')"
      ]
     },
     "execution_count": 19,
     "metadata": {},
     "output_type": "execute_result"
    }
   ],
   "source": [
    "contact_info.columns"
   ]
  },
  {
   "cell_type": "code",
   "execution_count": 20,
   "metadata": {
    "collapsed": true
   },
   "outputs": [],
   "source": [
    "# getPlot(contact_info,\"age_Gap\")"
   ]
  },
  {
   "cell_type": "code",
   "execution_count": 21,
   "metadata": {
    "collapsed": false
   },
   "outputs": [],
   "source": [
    "contact_info.to_csv(\"data/call_recod_infomation.csv\")"
   ]
  }
 ],
 "metadata": {
  "kernelspec": {
   "display_name": "Python [Root]",
   "language": "python",
   "name": "Python [Root]"
  },
  "language_info": {
   "codemirror_mode": {
    "name": "ipython",
    "version": 2
   },
   "file_extension": ".py",
   "mimetype": "text/x-python",
   "name": "python",
   "nbconvert_exporter": "python",
   "pygments_lexer": "ipython2",
   "version": "2.7.12"
  }
 },
 "nbformat": 4,
 "nbformat_minor": 0
}

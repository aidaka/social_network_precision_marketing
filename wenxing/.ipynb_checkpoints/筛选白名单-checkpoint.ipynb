{
 "cells": [
  {
   "cell_type": "code",
   "execution_count": 149,
   "metadata": {
    "collapsed": true
   },
   "outputs": [],
   "source": [
    "import pandas as pd\n",
    "import numpy as np"
   ]
  },
  {
   "cell_type": "code",
   "execution_count": 150,
   "metadata": {
    "collapsed": true
   },
   "outputs": [],
   "source": [
    "data = pd.read_csv('data_sample_real.csv')\n",
    "data_soucrce = pd.read_csv('fdl_cust_uas_appl_cust_info.csv',index_col=0)"
   ]
  },
  {
   "cell_type": "code",
   "execution_count": 151,
   "metadata": {
    "collapsed": false
   },
   "outputs": [
    {
     "data": {
      "text/html": [
       "<div>\n",
       "<table border=\"1\" class=\"dataframe\">\n",
       "  <thead>\n",
       "    <tr style=\"text-align: right;\">\n",
       "      <th></th>\n",
       "      <th>name</th>\n",
       "      <th>id_no</th>\n",
       "      <th>mobi_no</th>\n",
       "      <th>bank_no</th>\n",
       "      <th>order_num</th>\n",
       "    </tr>\n",
       "  </thead>\n",
       "  <tbody>\n",
       "    <tr>\n",
       "      <th>0</th>\n",
       "      <td>����ϲ</td>\n",
       "      <td>110105196409027000</td>\n",
       "      <td>135****1267</td>\n",
       "      <td>43406200****0695</td>\n",
       "      <td>6</td>\n",
       "    </tr>\n",
       "    <tr>\n",
       "      <th>1</th>\n",
       "      <td>������</td>\n",
       "      <td>150102197206082000</td>\n",
       "      <td>136****0459</td>\n",
       "      <td>62260901****1867</td>\n",
       "      <td>13</td>\n",
       "    </tr>\n",
       "    <tr>\n",
       "      <th>2</th>\n",
       "      <td>��ٻ</td>\n",
       "      <td>411328198709025000</td>\n",
       "      <td>132****4509</td>\n",
       "      <td>62122640****6603</td>\n",
       "      <td>4</td>\n",
       "    </tr>\n",
       "  </tbody>\n",
       "</table>\n",
       "</div>"
      ],
      "text/plain": [
       "     name               id_no      mobi_no           bank_no  order_num\n",
       "0   ����ϲ  110105196409027000  135****1267  43406200****0695          6\n",
       "1  ������  150102197206082000  136****0459  62260901****1867         13\n",
       "2     ��ٻ  411328198709025000  132****4509  62122640****6603          4"
      ]
     },
     "execution_count": 151,
     "metadata": {},
     "output_type": "execute_result"
    }
   ],
   "source": [
    "data.head(3)"
   ]
  },
  {
   "cell_type": "code",
   "execution_count": 152,
   "metadata": {
    "collapsed": false
   },
   "outputs": [
    {
     "data": {
      "text/html": [
       "<div>\n",
       "<table border=\"1\" class=\"dataframe\">\n",
       "  <thead>\n",
       "    <tr style=\"text-align: right;\">\n",
       "      <th></th>\n",
       "      <th>union_id</th>\n",
       "      <th>id_no</th>\n",
       "      <th>bank_card_no</th>\n",
       "      <th>mobi_no</th>\n",
       "    </tr>\n",
       "  </thead>\n",
       "  <tbody>\n",
       "    <tr>\n",
       "      <th>0</th>\n",
       "      <td>e35d84192d954b53988f56a91b9a5ba5</td>\n",
       "      <td>23102619830202CZ1.</td>\n",
       "      <td>621700006002f.f .8X</td>\n",
       "      <td>1557350b3fb15fff0dda7c30bedb1622bd1</td>\n",
       "    </tr>\n",
       "    <tr>\n",
       "      <th>1</th>\n",
       "      <td>ca2d9ac20b304ef1801ff81b71bfb160</td>\n",
       "      <td>53332519950506ed0C</td>\n",
       "      <td>621226251300d.fgXZ.</td>\n",
       "      <td>159850ed8ef346747f3f29dbb67ffab582f</td>\n",
       "    </tr>\n",
       "    <tr>\n",
       "      <th>2</th>\n",
       "      <td>efc7d7b08cb84cdbb08d8761a8972649</td>\n",
       "      <td>15232719900414dd1e</td>\n",
       "      <td>621559060900deegeeX</td>\n",
       "      <td>133dcc6121319f29b9fbf81e327ed2a73b0</td>\n",
       "    </tr>\n",
       "  </tbody>\n",
       "</table>\n",
       "</div>"
      ],
      "text/plain": [
       "                           union_id               id_no         bank_card_no  \\\n",
       "0  e35d84192d954b53988f56a91b9a5ba5  23102619830202CZ1.  621700006002f.f .8X   \n",
       "1  ca2d9ac20b304ef1801ff81b71bfb160  53332519950506ed0C  621226251300d.fgXZ.   \n",
       "2  efc7d7b08cb84cdbb08d8761a8972649  15232719900414dd1e  621559060900deegeeX   \n",
       "\n",
       "                               mobi_no  \n",
       "0  1557350b3fb15fff0dda7c30bedb1622bd1  \n",
       "1  159850ed8ef346747f3f29dbb67ffab582f  \n",
       "2  133dcc6121319f29b9fbf81e327ed2a73b0  "
      ]
     },
     "execution_count": 152,
     "metadata": {},
     "output_type": "execute_result"
    }
   ],
   "source": [
    "data_soucrce.head(3)"
   ]
  },
  {
   "cell_type": "code",
   "execution_count": 153,
   "metadata": {
    "collapsed": false
   },
   "outputs": [
    {
     "data": {
      "text/plain": [
       "(16671423, 4)"
      ]
     },
     "execution_count": 153,
     "metadata": {},
     "output_type": "execute_result"
    }
   ],
   "source": [
    "data_soucrce.shape"
   ]
  },
  {
   "cell_type": "code",
   "execution_count": 154,
   "metadata": {
    "collapsed": false
   },
   "outputs": [],
   "source": [
    "data_soucrce=data_soucrce.drop_duplicates(['id_no','mobi_no'])"
   ]
  },
  {
   "cell_type": "code",
   "execution_count": 155,
   "metadata": {
    "collapsed": false
   },
   "outputs": [
    {
     "data": {
      "text/plain": [
       "(7832510, 4)"
      ]
     },
     "execution_count": 155,
     "metadata": {},
     "output_type": "execute_result"
    }
   ],
   "source": [
    "data_soucrce.shape\n"
   ]
  },
  {
   "cell_type": "code",
   "execution_count": 156,
   "metadata": {
    "collapsed": false
   },
   "outputs": [],
   "source": [
    "data.id_no=data.id_no.str.slice(0,14)\n",
    "data.mobi_no=data.mobi_no.str.slice(0,3)\n",
    "data.bank_no=data.bank_no.str.slice(0,8)\n",
    "data['code']=data.id_no+data.mobi_no"
   ]
  },
  {
   "cell_type": "code",
   "execution_count": null,
   "metadata": {
    "collapsed": false
   },
   "outputs": [],
   "source": [
    "\n",
    "data_soucrce.id_no=data_soucrce.id_no.str.slice(0,14)\n",
    "data_soucrce.mobi_no=data_soucrce.mobi_no.str.slice(0,3)\n",
    "data_soucrce.bank_card_no=data_soucrce.bank_card_no.str.slice(0,8)\n",
    "data_soucrce['code']=data_soucrce.id_no+data_soucrce.mobi_no"
   ]
  },
  {
   "cell_type": "code",
   "execution_count": null,
   "metadata": {
    "collapsed": false
   },
   "outputs": [],
   "source": [
    "\n",
    "inter=np.intersect1d(data.code.values,data_soucrce.code.values)"
   ]
  },
  {
   "cell_type": "code",
   "execution_count": null,
   "metadata": {
    "collapsed": false
   },
   "outputs": [],
   "source": [
    "inter.shape"
   ]
  },
  {
   "cell_type": "code",
   "execution_count": null,
   "metadata": {
    "collapsed": false
   },
   "outputs": [],
   "source": [
    "print inter"
   ]
  },
  {
   "cell_type": "code",
   "execution_count": null,
   "metadata": {
    "collapsed": false
   },
   "outputs": [],
   "source": [
    "\n",
    "data.head(3)"
   ]
  },
  {
   "cell_type": "code",
   "execution_count": null,
   "metadata": {
    "collapsed": false
   },
   "outputs": [],
   "source": [
    "data_soucrce.head(3)"
   ]
  },
  {
   "cell_type": "code",
   "execution_count": null,
   "metadata": {
    "collapsed": false
   },
   "outputs": [],
   "source": [
    "inter_id_no=np.intersect1d(data.id_no.values,data_soucrce.id_no.values)"
   ]
  },
  {
   "cell_type": "code",
   "execution_count": null,
   "metadata": {
    "collapsed": false
   },
   "outputs": [],
   "source": [
    "print inter_id_no"
   ]
  },
  {
   "cell_type": "code",
   "execution_count": null,
   "metadata": {
    "collapsed": false
   },
   "outputs": [],
   "source": [
    "inter_id_no.shape"
   ]
  },
  {
   "cell_type": "code",
   "execution_count": null,
   "metadata": {
    "collapsed": false
   },
   "outputs": [],
   "source": [
    "data.set_index('id_no').ix[inter_id_no]"
   ]
  },
  {
   "cell_type": "code",
   "execution_count": null,
   "metadata": {
    "collapsed": false
   },
   "outputs": [],
   "source": [
    "data.to_csv('white_name_list.csv')"
   ]
  },
  {
   "cell_type": "code",
   "execution_count": null,
   "metadata": {
    "collapsed": false
   },
   "outputs": [],
   "source": [
    "data.set_index('id_no').ix[inter_id_no,:]"
   ]
  },
  {
   "cell_type": "code",
   "execution_count": null,
   "metadata": {
    "collapsed": true
   },
   "outputs": [],
   "source": []
  },
  {
   "cell_type": "code",
   "execution_count": null,
   "metadata": {
    "collapsed": false
   },
   "outputs": [],
   "source": [
    "print data"
   ]
  },
  {
   "cell_type": "code",
   "execution_count": null,
   "metadata": {
    "collapsed": false
   },
   "outputs": [],
   "source": [
    "data=data.set_index('id_no')"
   ]
  },
  {
   "cell_type": "code",
   "execution_count": null,
   "metadata": {
    "collapsed": true
   },
   "outputs": [],
   "source": [
    "data = data.ix[inter_id_no]"
   ]
  },
  {
   "cell_type": "code",
   "execution_count": null,
   "metadata": {
    "collapsed": false
   },
   "outputs": [],
   "source": [
    "print data\n",
    "\n"
   ]
  },
  {
   "cell_type": "code",
   "execution_count": null,
   "metadata": {
    "collapsed": true
   },
   "outputs": [],
   "source": [
    "data.to_csv('repeatdata.csv')"
   ]
  },
  {
   "cell_type": "code",
   "execution_count": null,
   "metadata": {
    "collapsed": false
   },
   "outputs": [],
   "source": [
    "data_soucrce.bank_card_no.unique().shape"
   ]
  },
  {
   "cell_type": "code",
   "execution_count": null,
   "metadata": {
    "collapsed": false
   },
   "outputs": [],
   "source": [
    ".unique().shape"
   ]
  }
 ],
 "metadata": {
  "kernelspec": {
   "display_name": "Python [Root]",
   "language": "python",
   "name": "Python [Root]"
  },
  "language_info": {
   "codemirror_mode": {
    "name": "ipython",
    "version": 2
   },
   "file_extension": ".py",
   "mimetype": "text/x-python",
   "name": "python",
   "nbconvert_exporter": "python",
   "pygments_lexer": "ipython2",
   "version": "2.7.12"
  }
 },
 "nbformat": 4,
 "nbformat_minor": 0
}

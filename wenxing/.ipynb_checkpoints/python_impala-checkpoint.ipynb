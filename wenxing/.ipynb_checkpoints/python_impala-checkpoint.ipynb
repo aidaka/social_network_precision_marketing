{
 "cells": [
  {
   "cell_type": "markdown",
   "metadata": {},
   "source": [
    "###   数据获取"
   ]
  },
  {
   "cell_type": "code",
   "execution_count": 2,
   "metadata": {
    "collapsed": true
   },
   "outputs": [],
   "source": [
    "from impala.dbapi  import connect\n",
    "from sqlalchemy import *  \n",
    "from sqlalchemy.sql import select  \n",
    "from sqlalchemy.schema import *  \n",
    "import numpy as np\n",
    "import pandas as pd\n",
    "from sqlalchemy.orm import sessionmaker\n",
    "conn=connect(host=\"192.168.61.168\",port=21050,user=\"yudang.wei\",password=\"19900410w\",auth_mechanism=\"GSSAPI\")"
   ]
  },
  {
   "cell_type": "code",
   "execution_count": 3,
   "metadata": {
    "collapsed": false
   },
   "outputs": [],
   "source": [
    "query=pd.read_sql_query(\"select * from dsst.fdl_cust_uas_appl_cust_info\",conn,chunksize=10000)"
   ]
  },
  {
   "cell_type": "code",
   "execution_count": 4,
   "metadata": {
    "collapsed": true
   },
   "outputs": [],
   "source": [
    "def ToDisk(filename,query):\n",
    "    first=query.next()\n",
    "    first.to_csv(filename,encoding=\"utf-8\")\n",
    "    for line in query:\n",
    "        line.to_csv(filename,header=False,mode=\"a+\",encoding=\"utf-8\")"
   ]
  },
  {
   "cell_type": "code",
   "execution_count": 5,
   "metadata": {
    "collapsed": false
   },
   "outputs": [
    {
     "name": "stdout",
     "output_type": "stream",
     "text": [
      "CPU times: user 5.32 s, sys: 59 ms, total: 5.38 s\n",
      "Wall time: 6.42 s\n"
     ]
    }
   ],
   "source": [
    "%time ToDisk(\"wenxing/.csv\",query)"
   ]
  }
 ],
 "metadata": {
  "kernelspec": {
   "display_name": "Python [Root]",
   "language": "python",
   "name": "Python [Root]"
  },
  "language_info": {
   "codemirror_mode": {
    "name": "ipython",
    "version": 2
   },
   "file_extension": ".py",
   "mimetype": "text/x-python",
   "name": "python",
   "nbconvert_exporter": "python",
   "pygments_lexer": "ipython2",
   "version": "2.7.12"
  }
 },
 "nbformat": 4,
 "nbformat_minor": 0
}

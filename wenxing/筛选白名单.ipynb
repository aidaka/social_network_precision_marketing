{
 "cells": [
  {
   "cell_type": "code",
   "execution_count": 3,
   "metadata": {
    "collapsed": true
   },
   "outputs": [],
   "source": [
    "import pandas as pd\n",
    "import numpy as np"
   ]
  },
  {
   "cell_type": "code",
   "execution_count": null,
   "metadata": {
    "collapsed": true
   },
   "outputs": [],
   "source": [
    "#data = pd.read_csv('data_sample_real.csv')\n",
    "data_soucrce = pd.read_csv('fdl_cust_uas_appl_cust_info.csv',index_col=0)"
   ]
  },
  {
   "cell_type": "code",
   "execution_count": 5,
   "metadata": {
    "collapsed": false
   },
   "outputs": [
    {
     "data": {
      "text/plain": [
       "pandas.core.series.Series"
      ]
     },
     "execution_count": 5,
     "metadata": {},
     "output_type": "execute_result"
    }
   ],
   "source": [
    "type(data_soucrce.id_no)"
   ]
  },
  {
   "cell_type": "code",
   "execution_count": 51,
   "metadata": {
    "collapsed": false
   },
   "outputs": [
    {
     "data": {
      "text/html": [
       "<div>\n",
       "<table border=\"1\" class=\"dataframe\">\n",
       "  <thead>\n",
       "    <tr style=\"text-align: right;\">\n",
       "      <th></th>\n",
       "      <th>name</th>\n",
       "      <th>id_no</th>\n",
       "      <th>mobi_no</th>\n",
       "      <th>bank_no</th>\n",
       "      <th>order_num</th>\n",
       "    </tr>\n",
       "  </thead>\n",
       "  <tbody>\n",
       "    <tr>\n",
       "      <th>0</th>\n",
       "      <td>����ϲ</td>\n",
       "      <td>110105196409027000</td>\n",
       "      <td>135****1267</td>\n",
       "      <td>43406200****0695</td>\n",
       "      <td>6</td>\n",
       "    </tr>\n",
       "    <tr>\n",
       "      <th>1</th>\n",
       "      <td>������</td>\n",
       "      <td>150102197206082000</td>\n",
       "      <td>136****0459</td>\n",
       "      <td>62260901****1867</td>\n",
       "      <td>13</td>\n",
       "    </tr>\n",
       "    <tr>\n",
       "      <th>2</th>\n",
       "      <td>��ٻ</td>\n",
       "      <td>411328198709025000</td>\n",
       "      <td>132****4509</td>\n",
       "      <td>62122640****6603</td>\n",
       "      <td>4</td>\n",
       "    </tr>\n",
       "  </tbody>\n",
       "</table>\n",
       "</div>"
      ],
      "text/plain": [
       "     name               id_no      mobi_no           bank_no  order_num\n",
       "0   ����ϲ  110105196409027000  135****1267  43406200****0695          6\n",
       "1  ������  150102197206082000  136****0459  62260901****1867         13\n",
       "2     ��ٻ  411328198709025000  132****4509  62122640****6603          4"
      ]
     },
     "execution_count": 51,
     "metadata": {},
     "output_type": "execute_result"
    }
   ],
   "source": [
    "data.head(3)"
   ]
  },
  {
   "cell_type": "code",
   "execution_count": 52,
   "metadata": {
    "collapsed": false
   },
   "outputs": [
    {
     "data": {
      "text/html": [
       "<div>\n",
       "<table border=\"1\" class=\"dataframe\">\n",
       "  <thead>\n",
       "    <tr style=\"text-align: right;\">\n",
       "      <th></th>\n",
       "      <th>union_id</th>\n",
       "      <th>id_no</th>\n",
       "      <th>bank_card_no</th>\n",
       "      <th>mobi_no</th>\n",
       "    </tr>\n",
       "  </thead>\n",
       "  <tbody>\n",
       "    <tr>\n",
       "      <th>0</th>\n",
       "      <td>e35d84192d954b53988f56a91b9a5ba5</td>\n",
       "      <td>23102619830202CZ1.</td>\n",
       "      <td>621700006002f.f .8X</td>\n",
       "      <td>1557350b3fb15fff0dda7c30bedb1622bd1</td>\n",
       "    </tr>\n",
       "    <tr>\n",
       "      <th>1</th>\n",
       "      <td>ca2d9ac20b304ef1801ff81b71bfb160</td>\n",
       "      <td>53332519950506ed0C</td>\n",
       "      <td>621226251300d.fgXZ.</td>\n",
       "      <td>159850ed8ef346747f3f29dbb67ffab582f</td>\n",
       "    </tr>\n",
       "    <tr>\n",
       "      <th>2</th>\n",
       "      <td>efc7d7b08cb84cdbb08d8761a8972649</td>\n",
       "      <td>15232719900414dd1e</td>\n",
       "      <td>621559060900deegeeX</td>\n",
       "      <td>133dcc6121319f29b9fbf81e327ed2a73b0</td>\n",
       "    </tr>\n",
       "  </tbody>\n",
       "</table>\n",
       "</div>"
      ],
      "text/plain": [
       "                           union_id               id_no         bank_card_no  \\\n",
       "0  e35d84192d954b53988f56a91b9a5ba5  23102619830202CZ1.  621700006002f.f .8X   \n",
       "1  ca2d9ac20b304ef1801ff81b71bfb160  53332519950506ed0C  621226251300d.fgXZ.   \n",
       "2  efc7d7b08cb84cdbb08d8761a8972649  15232719900414dd1e  621559060900deegeeX   \n",
       "\n",
       "                               mobi_no  \n",
       "0  1557350b3fb15fff0dda7c30bedb1622bd1  \n",
       "1  159850ed8ef346747f3f29dbb67ffab582f  \n",
       "2  133dcc6121319f29b9fbf81e327ed2a73b0  "
      ]
     },
     "execution_count": 52,
     "metadata": {},
     "output_type": "execute_result"
    }
   ],
   "source": [
    "data_soucrce.head(3)"
   ]
  },
  {
   "cell_type": "code",
   "execution_count": 53,
   "metadata": {
    "collapsed": false
   },
   "outputs": [
    {
     "data": {
      "text/plain": [
       "(16671423, 4)"
      ]
     },
     "execution_count": 53,
     "metadata": {},
     "output_type": "execute_result"
    }
   ],
   "source": [
    "data_soucrce.shape"
   ]
  },
  {
   "cell_type": "code",
   "execution_count": 54,
   "metadata": {
    "collapsed": false
   },
   "outputs": [],
   "source": [
    "data_soucrce=data_soucrce.drop_duplicates(['union_id','id_no','mobi_no'])"
   ]
  },
  {
   "cell_type": "code",
   "execution_count": 55,
   "metadata": {
    "collapsed": false
   },
   "outputs": [
    {
     "data": {
      "text/plain": [
       "(7832510, 4)"
      ]
     },
     "execution_count": 55,
     "metadata": {},
     "output_type": "execute_result"
    }
   ],
   "source": [
    "data_soucrce.shape\n"
   ]
  },
  {
   "cell_type": "code",
   "execution_count": null,
   "metadata": {
    "collapsed": true
   },
   "outputs": [],
   "source": [
    "data.id_no=data.id_no.str.slice(0,14)\n",
    "data.mobi_no=data.mobi_no.str.slice(0,3)\n",
    "data.bank_no=data.bank_no.str.slice(0,8)\n",
    "data['code']=data.id_no+data.mobi_no"
   ]
  },
  {
   "cell_type": "code",
   "execution_count": 1,
   "metadata": {
    "collapsed": false
   },
   "outputs": [
    {
     "ename": "NameError",
     "evalue": "name 'data' is not defined",
     "output_type": "error",
     "traceback": [
      "\u001b[1;31m---------------------------------------------------------------------------\u001b[0m",
      "\u001b[1;31mNameError\u001b[0m                                 Traceback (most recent call last)",
      "\u001b[1;32m<ipython-input-1-d98c99fad78d>\u001b[0m in \u001b[0;36m<module>\u001b[1;34m()\u001b[0m\n\u001b[1;32m----> 1\u001b[1;33m \u001b[0mdata\u001b[0m\u001b[1;33m.\u001b[0m\u001b[0mid_no\u001b[0m\u001b[1;33m\u001b[0m\u001b[0m\n\u001b[0m",
      "\u001b[1;31mNameError\u001b[0m: name 'data' is not defined"
     ]
    }
   ],
   "source": [
    "data.id_no"
   ]
  },
  {
   "cell_type": "code",
   "execution_count": null,
   "metadata": {
    "collapsed": true
   },
   "outputs": [],
   "source": [
    "data_soucrce.union_id = data_soucrce.union_id\n",
    "data_soucrce.id_no=data_soucrce.id_no.str.slice(0,14)\n",
    "data_soucrce.mobi_no=data_soucrce.mobi_no.str.slice(0,3)\n",
    "data_soucrce.bank_card_no=data_soucrce.bank_card_no.str.slice(0,8)\n",
    "data_soucrce['code']=data_soucrce.id_no+data_soucrce.mobi_no"
   ]
  },
  {
   "cell_type": "code",
   "execution_count": 57,
   "metadata": {
    "collapsed": false
   },
   "outputs": [],
   "source": [
    "data_sample_real.csv"
   ]
  },
  {
   "cell_type": "code",
   "execution_count": 58,
   "metadata": {
    "collapsed": false
   },
   "outputs": [],
   "source": [
    "\n",
    "inter=np.intersect1d(data.code.values,data_soucrce.code.values)"
   ]
  },
  {
   "cell_type": "code",
   "execution_count": 59,
   "metadata": {
    "collapsed": false
   },
   "outputs": [
    {
     "data": {
      "text/plain": [
       "(97,)"
      ]
     },
     "execution_count": 59,
     "metadata": {},
     "output_type": "execute_result"
    }
   ],
   "source": [
    "inter.shape"
   ]
  },
  {
   "cell_type": "code",
   "execution_count": 60,
   "metadata": {
    "collapsed": false
   },
   "outputs": [
    {
     "name": "stdout",
     "output_type": "stream",
     "text": [
      "['13022919820403139' '13028119841024186' '14010519850104186'\n",
      " '14270319781126138' '15020519810603150' '15270119890704139'\n",
      " '21028119811027134' '21038119861212150' '22010419680417181'\n",
      " '22020419790210138' '31010619800831139' '31010619810407139'\n",
      " '31010919820716134' '31010919840115138' '31011019781112139'\n",
      " '31011519790121137' '31011519810707139' '32010219720429136'\n",
      " '32028319861124139' '32058319831123137' '32082119860720139'\n",
      " '32088219891021138' '32088219900505187' '32091119890720158'\n",
      " '32092419911010187' '32132219870125187' '32132319890604152'\n",
      " '33030419860503138' '33032319740127137' '33032619850921135'\n",
      " '33038219830828137' '33038219831024137' '33042119810719138'\n",
      " '33042119921211158' '33050119820519135' '33102319810727137'\n",
      " '34022219870418150' '34082519950120159' '34122319871008159'\n",
      " '34222119830815152' '34222419910810182' '34262319901124186'\n",
      " '34262319960609137' '35030119880408181' '35032119780728139'\n",
      " '35052119880425158' '35052119881002136' '35052119900216135'\n",
      " '35052119931225159' '35058319891128159' '35062319880213150'\n",
      " '35220119860213158' '36010319801103139' '37018119880809155'\n",
      " '37078619931129156' '37132519850903158' '37152419900620182'\n",
      " '41018219930620150' '41102419900211135' '42030019751005138'\n",
      " '42032119860318136' '42900519890315158' '42900619900603186'\n",
      " '43010519791019139' '43068119890306186' '43100319831111137'\n",
      " '43293019811004186' '44010319771231186' '44058219901212159'\n",
      " '44060219871213139' '44068219960527137' '44098119920701137'\n",
      " '44132219910914135' '44162419840222137' '44182719920903137'\n",
      " '44190019840712159' '44522419880918159' '44528119860820135'\n",
      " '44528119900901139' '45080219881213187' '45082119920510185'\n",
      " '45092219890202136' '45092319890916182' '50022819910726187'\n",
      " '50022819921201158' '51020219800303136' '51020219810409136'\n",
      " '51072219890619182' '51092119910308132' '51100219850810151'\n",
      " '51152319861014182' '51162319890614157' '51382219900709181'\n",
      " '53011119720222138' '61011319870323186' '61012119860220135'\n",
      " '61052819700506158']\n"
     ]
    }
   ],
   "source": [
    "print inter"
   ]
  },
  {
   "cell_type": "code",
   "execution_count": 61,
   "metadata": {
    "collapsed": false
   },
   "outputs": [
    {
     "data": {
      "text/html": [
       "<div>\n",
       "<table border=\"1\" class=\"dataframe\">\n",
       "  <thead>\n",
       "    <tr style=\"text-align: right;\">\n",
       "      <th></th>\n",
       "      <th>name</th>\n",
       "      <th>id_no</th>\n",
       "      <th>mobi_no</th>\n",
       "      <th>bank_no</th>\n",
       "      <th>order_num</th>\n",
       "      <th>code</th>\n",
       "    </tr>\n",
       "  </thead>\n",
       "  <tbody>\n",
       "    <tr>\n",
       "      <th>0</th>\n",
       "      <td>����ϲ</td>\n",
       "      <td>11010519640902</td>\n",
       "      <td>135</td>\n",
       "      <td>43406200</td>\n",
       "      <td>6</td>\n",
       "      <td>11010519640902135</td>\n",
       "    </tr>\n",
       "    <tr>\n",
       "      <th>1</th>\n",
       "      <td>������</td>\n",
       "      <td>15010219720608</td>\n",
       "      <td>136</td>\n",
       "      <td>62260901</td>\n",
       "      <td>13</td>\n",
       "      <td>15010219720608136</td>\n",
       "    </tr>\n",
       "    <tr>\n",
       "      <th>2</th>\n",
       "      <td>��ٻ</td>\n",
       "      <td>41132819870902</td>\n",
       "      <td>132</td>\n",
       "      <td>62122640</td>\n",
       "      <td>4</td>\n",
       "      <td>41132819870902132</td>\n",
       "    </tr>\n",
       "  </tbody>\n",
       "</table>\n",
       "</div>"
      ],
      "text/plain": [
       "     name           id_no mobi_no   bank_no  order_num               code\n",
       "0   ����ϲ  11010519640902     135  43406200          6  11010519640902135\n",
       "1  ������  15010219720608     136  62260901         13  15010219720608136\n",
       "2     ��ٻ  41132819870902     132  62122640          4  41132819870902132"
      ]
     },
     "execution_count": 61,
     "metadata": {},
     "output_type": "execute_result"
    }
   ],
   "source": [
    "\n",
    "data.head(3)"
   ]
  },
  {
   "cell_type": "code",
   "execution_count": 62,
   "metadata": {
    "collapsed": false
   },
   "outputs": [
    {
     "data": {
      "text/html": [
       "<div>\n",
       "<table border=\"1\" class=\"dataframe\">\n",
       "  <thead>\n",
       "    <tr style=\"text-align: right;\">\n",
       "      <th></th>\n",
       "      <th>union_id</th>\n",
       "      <th>id_no</th>\n",
       "      <th>bank_card_no</th>\n",
       "      <th>mobi_no</th>\n",
       "      <th>code</th>\n",
       "    </tr>\n",
       "  </thead>\n",
       "  <tbody>\n",
       "    <tr>\n",
       "      <th>0</th>\n",
       "      <td>e35d84192d954b53988f56a91b9a5ba5</td>\n",
       "      <td>23102619830202</td>\n",
       "      <td>62170000</td>\n",
       "      <td>155</td>\n",
       "      <td>23102619830202155</td>\n",
       "    </tr>\n",
       "    <tr>\n",
       "      <th>1</th>\n",
       "      <td>ca2d9ac20b304ef1801ff81b71bfb160</td>\n",
       "      <td>53332519950506</td>\n",
       "      <td>62122625</td>\n",
       "      <td>159</td>\n",
       "      <td>53332519950506159</td>\n",
       "    </tr>\n",
       "    <tr>\n",
       "      <th>2</th>\n",
       "      <td>efc7d7b08cb84cdbb08d8761a8972649</td>\n",
       "      <td>15232719900414</td>\n",
       "      <td>62155906</td>\n",
       "      <td>133</td>\n",
       "      <td>15232719900414133</td>\n",
       "    </tr>\n",
       "  </tbody>\n",
       "</table>\n",
       "</div>"
      ],
      "text/plain": [
       "                           union_id           id_no bank_card_no mobi_no  \\\n",
       "0  e35d84192d954b53988f56a91b9a5ba5  23102619830202     62170000     155   \n",
       "1  ca2d9ac20b304ef1801ff81b71bfb160  53332519950506     62122625     159   \n",
       "2  efc7d7b08cb84cdbb08d8761a8972649  15232719900414     62155906     133   \n",
       "\n",
       "                code  \n",
       "0  23102619830202155  \n",
       "1  53332519950506159  \n",
       "2  15232719900414133  "
      ]
     },
     "execution_count": 62,
     "metadata": {},
     "output_type": "execute_result"
    }
   ],
   "source": [
    "data_soucrce.head(3)"
   ]
  },
  {
   "cell_type": "code",
   "execution_count": 63,
   "metadata": {
    "collapsed": false
   },
   "outputs": [],
   "source": [
    "inter_id_no=np.intersect1d(data.id_no.values,data_soucrce.id_no.values)"
   ]
  },
  {
   "cell_type": "code",
   "execution_count": 64,
   "metadata": {
    "collapsed": false
   },
   "outputs": [
    {
     "name": "stdout",
     "output_type": "stream",
     "text": [
      "['11010219690503' '11010219791001' '11010219810716' ..., '62052319870925'\n",
      " '63280119900215' '65422319840118']\n"
     ]
    }
   ],
   "source": [
    "print inter_id_no"
   ]
  },
  {
   "cell_type": "code",
   "execution_count": null,
   "metadata": {
    "collapsed": false
   },
   "outputs": [],
   "source": [
    "inter_id_no.shape"
   ]
  },
  {
   "cell_type": "code",
   "execution_count": 65,
   "metadata": {
    "collapsed": false
   },
   "outputs": [],
   "source": [
    "data_soucrce = data_soucrce.set_index('id_no').ix[inter_id_no]"
   ]
  },
  {
   "cell_type": "code",
   "execution_count": null,
   "metadata": {
    "collapsed": false
   },
   "outputs": [],
   "source": [
    "print data_soucrce"
   ]
  },
  {
   "cell_type": "code",
   "execution_count": 66,
   "metadata": {
    "collapsed": true
   },
   "outputs": [],
   "source": [
    "data_soucrce.to_csv('white_list_name.csv')"
   ]
  },
  {
   "cell_type": "code",
   "execution_count": null,
   "metadata": {
    "collapsed": false
   },
   "outputs": [],
   "source": [
    "data.set_index('id_no').ix[inter_id_no]\n"
   ]
  },
  {
   "cell_type": "code",
   "execution_count": null,
   "metadata": {
    "collapsed": false
   },
   "outputs": [],
   "source": [
    "data.to_csv('try.csv')"
   ]
  },
  {
   "cell_type": "code",
   "execution_count": 67,
   "metadata": {
    "collapsed": false
   },
   "outputs": [
    {
     "data": {
      "text/html": [
       "<div>\n",
       "<table border=\"1\" class=\"dataframe\">\n",
       "  <thead>\n",
       "    <tr style=\"text-align: right;\">\n",
       "      <th></th>\n",
       "      <th>name</th>\n",
       "      <th>mobi_no</th>\n",
       "      <th>bank_no</th>\n",
       "      <th>order_num</th>\n",
       "      <th>code</th>\n",
       "    </tr>\n",
       "    <tr>\n",
       "      <th>id_no</th>\n",
       "      <th></th>\n",
       "      <th></th>\n",
       "      <th></th>\n",
       "      <th></th>\n",
       "      <th></th>\n",
       "    </tr>\n",
       "  </thead>\n",
       "  <tbody>\n",
       "    <tr>\n",
       "      <th>11010219690503</th>\n",
       "      <td>������</td>\n",
       "      <td>139</td>\n",
       "      <td>62122602</td>\n",
       "      <td>4</td>\n",
       "      <td>11010219690503139</td>\n",
       "    </tr>\n",
       "    <tr>\n",
       "      <th>11010219791001</th>\n",
       "      <td>��ΰ��</td>\n",
       "      <td>138</td>\n",
       "      <td>43674200</td>\n",
       "      <td>4</td>\n",
       "      <td>11010219791001138</td>\n",
       "    </tr>\n",
       "    <tr>\n",
       "      <th>11010219810716</th>\n",
       "      <td>����</td>\n",
       "      <td>157</td>\n",
       "      <td>45635101</td>\n",
       "      <td>5</td>\n",
       "      <td>11010219810716157</td>\n",
       "    </tr>\n",
       "    <tr>\n",
       "      <th>11010219840227</th>\n",
       "      <td>����</td>\n",
       "      <td>158</td>\n",
       "      <td>62148501</td>\n",
       "      <td>4</td>\n",
       "      <td>11010219840227158</td>\n",
       "    </tr>\n",
       "    <tr>\n",
       "      <th>11010219861017</th>\n",
       "      <td>��ٻٻ</td>\n",
       "      <td>186</td>\n",
       "      <td>62148501</td>\n",
       "      <td>6</td>\n",
       "      <td>11010219861017186</td>\n",
       "    </tr>\n",
       "    <tr>\n",
       "      <th>11010419811005</th>\n",
       "      <td>��˼</td>\n",
       "      <td>139</td>\n",
       "      <td>62220002</td>\n",
       "      <td>7</td>\n",
       "      <td>11010419811005139</td>\n",
       "    </tr>\n",
       "    <tr>\n",
       "      <th>11010419820817</th>\n",
       "      <td>����</td>\n",
       "      <td>138</td>\n",
       "      <td>62258810</td>\n",
       "      <td>4</td>\n",
       "      <td>11010419820817138</td>\n",
       "    </tr>\n",
       "    <tr>\n",
       "      <th>11010519750512</th>\n",
       "      <td>������</td>\n",
       "      <td>138</td>\n",
       "      <td>60138201</td>\n",
       "      <td>5</td>\n",
       "      <td>11010519750512138</td>\n",
       "    </tr>\n",
       "    <tr>\n",
       "      <th>11010519800220</th>\n",
       "      <td>����</td>\n",
       "      <td>136</td>\n",
       "      <td>62177307</td>\n",
       "      <td>14</td>\n",
       "      <td>11010519800220136</td>\n",
       "    </tr>\n",
       "    <tr>\n",
       "      <th>11010519820830</th>\n",
       "      <td>��һƽ</td>\n",
       "      <td>138</td>\n",
       "      <td>62270000</td>\n",
       "      <td>7</td>\n",
       "      <td>11010519820830138</td>\n",
       "    </tr>\n",
       "    <tr>\n",
       "      <th>11010519880818</th>\n",
       "      <td>���</td>\n",
       "      <td>158</td>\n",
       "      <td>62258801</td>\n",
       "      <td>10</td>\n",
       "      <td>11010519880818158</td>\n",
       "    </tr>\n",
       "    <tr>\n",
       "      <th>11010519880914</th>\n",
       "      <td>�����</td>\n",
       "      <td>158</td>\n",
       "      <td>62122602</td>\n",
       "      <td>18</td>\n",
       "      <td>11010519880914158</td>\n",
       "    </tr>\n",
       "    <tr>\n",
       "      <th>11010619781114</th>\n",
       "      <td>�Ʒ�ϼ</td>\n",
       "      <td>138</td>\n",
       "      <td>62220843</td>\n",
       "      <td>4</td>\n",
       "      <td>11010619781114138</td>\n",
       "    </tr>\n",
       "    <tr>\n",
       "      <th>11010619901011</th>\n",
       "      <td>����</td>\n",
       "      <td>185</td>\n",
       "      <td>62170000</td>\n",
       "      <td>4</td>\n",
       "      <td>11010619901011185</td>\n",
       "    </tr>\n",
       "    <tr>\n",
       "      <th>11010819701120</th>\n",
       "      <td>����Ƽ</td>\n",
       "      <td>136</td>\n",
       "      <td>43674200</td>\n",
       "      <td>7</td>\n",
       "      <td>11010819701120136</td>\n",
       "    </tr>\n",
       "    <tr>\n",
       "      <th>11010819780507</th>\n",
       "      <td>���</td>\n",
       "      <td>138</td>\n",
       "      <td>62260901</td>\n",
       "      <td>4</td>\n",
       "      <td>11010819780507138</td>\n",
       "    </tr>\n",
       "    <tr>\n",
       "      <th>11010819820108</th>\n",
       "      <td>�μ���</td>\n",
       "      <td>135</td>\n",
       "      <td>95588002</td>\n",
       "      <td>8</td>\n",
       "      <td>11010819820108135</td>\n",
       "    </tr>\n",
       "    <tr>\n",
       "      <th>11010819850612</th>\n",
       "      <td>������</td>\n",
       "      <td>185</td>\n",
       "      <td>62270000</td>\n",
       "      <td>7</td>\n",
       "      <td>11010819850612185</td>\n",
       "    </tr>\n",
       "    <tr>\n",
       "      <th>11010819901026</th>\n",
       "      <td>������</td>\n",
       "      <td>136</td>\n",
       "      <td>62258801</td>\n",
       "      <td>4</td>\n",
       "      <td>11010819901026136</td>\n",
       "    </tr>\n",
       "    <tr>\n",
       "      <th>11010919860211</th>\n",
       "      <td>��˼˼</td>\n",
       "      <td>138</td>\n",
       "      <td>62220802</td>\n",
       "      <td>4</td>\n",
       "      <td>11010919860211138</td>\n",
       "    </tr>\n",
       "    <tr>\n",
       "      <th>11011119881125</th>\n",
       "      <td>����</td>\n",
       "      <td>134</td>\n",
       "      <td>62148501</td>\n",
       "      <td>5</td>\n",
       "      <td>11011119881125134</td>\n",
       "    </tr>\n",
       "    <tr>\n",
       "      <th>12010319690810</th>\n",
       "      <td>��Ц÷</td>\n",
       "      <td>139</td>\n",
       "      <td>60138202</td>\n",
       "      <td>6</td>\n",
       "      <td>12010319690810139</td>\n",
       "    </tr>\n",
       "    <tr>\n",
       "      <th>12022119870221</th>\n",
       "      <td>��ɺɺ</td>\n",
       "      <td>186</td>\n",
       "      <td>45635102</td>\n",
       "      <td>4</td>\n",
       "      <td>12022119870221186</td>\n",
       "    </tr>\n",
       "    <tr>\n",
       "      <th>12022119890925</th>\n",
       "      <td>�����</td>\n",
       "      <td>136</td>\n",
       "      <td>62220203</td>\n",
       "      <td>17</td>\n",
       "      <td>12022119890925136</td>\n",
       "    </tr>\n",
       "    <tr>\n",
       "      <th>12022219701116</th>\n",
       "      <td>������</td>\n",
       "      <td>136</td>\n",
       "      <td>62148601</td>\n",
       "      <td>4</td>\n",
       "      <td>12022219701116136</td>\n",
       "    </tr>\n",
       "    <tr>\n",
       "      <th>12022219870518</th>\n",
       "      <td>����֥</td>\n",
       "      <td>182</td>\n",
       "      <td>62122602</td>\n",
       "      <td>6</td>\n",
       "      <td>12022219870518182</td>\n",
       "    </tr>\n",
       "    <tr>\n",
       "      <th>12022219891009</th>\n",
       "      <td>��׿</td>\n",
       "      <td>155</td>\n",
       "      <td>62258801</td>\n",
       "      <td>16</td>\n",
       "      <td>12022219891009155</td>\n",
       "    </tr>\n",
       "    <tr>\n",
       "      <th>12022219931025</th>\n",
       "      <td>����</td>\n",
       "      <td>182</td>\n",
       "      <td>62258812</td>\n",
       "      <td>4</td>\n",
       "      <td>12022219931025182</td>\n",
       "    </tr>\n",
       "    <tr>\n",
       "      <th>12022519850921</th>\n",
       "      <td>�زʾ�</td>\n",
       "      <td>136</td>\n",
       "      <td>62260902</td>\n",
       "      <td>5</td>\n",
       "      <td>12022519850921136</td>\n",
       "    </tr>\n",
       "    <tr>\n",
       "      <th>12022519881005</th>\n",
       "      <td>�޴���</td>\n",
       "      <td>137</td>\n",
       "      <td>62170012</td>\n",
       "      <td>7</td>\n",
       "      <td>12022519881005137</td>\n",
       "    </tr>\n",
       "    <tr>\n",
       "      <th>...</th>\n",
       "      <td>...</td>\n",
       "      <td>...</td>\n",
       "      <td>...</td>\n",
       "      <td>...</td>\n",
       "      <td>...</td>\n",
       "    </tr>\n",
       "    <tr>\n",
       "      <th>61011319870323</th>\n",
       "      <td>����</td>\n",
       "      <td>186</td>\n",
       "      <td>62148502</td>\n",
       "      <td>7</td>\n",
       "      <td>61011319870323186</td>\n",
       "    </tr>\n",
       "    <tr>\n",
       "      <th>61011419800705</th>\n",
       "      <td>�λ�÷</td>\n",
       "      <td>153</td>\n",
       "      <td>62178536</td>\n",
       "      <td>7</td>\n",
       "      <td>61011419800705153</td>\n",
       "    </tr>\n",
       "    <tr>\n",
       "      <th>61012119860220</th>\n",
       "      <td>���ǿ</td>\n",
       "      <td>135</td>\n",
       "      <td>62148391</td>\n",
       "      <td>6</td>\n",
       "      <td>61012119860220135</td>\n",
       "    </tr>\n",
       "    <tr>\n",
       "      <th>61030319871221</th>\n",
       "      <td>��ݼ��</td>\n",
       "      <td>186</td>\n",
       "      <td>62266202</td>\n",
       "      <td>6</td>\n",
       "      <td>61030319871221186</td>\n",
       "    </tr>\n",
       "    <tr>\n",
       "      <th>61032219831002</th>\n",
       "      <td>������</td>\n",
       "      <td>150</td>\n",
       "      <td>62258801</td>\n",
       "      <td>6</td>\n",
       "      <td>61032219831002150</td>\n",
       "    </tr>\n",
       "    <tr>\n",
       "      <th>61032219840822</th>\n",
       "      <td>������</td>\n",
       "      <td>158</td>\n",
       "      <td>62170000</td>\n",
       "      <td>4</td>\n",
       "      <td>61032219840822158</td>\n",
       "    </tr>\n",
       "    <tr>\n",
       "      <th>61042419870121</th>\n",
       "      <td>������</td>\n",
       "      <td>152</td>\n",
       "      <td>62266223</td>\n",
       "      <td>5</td>\n",
       "      <td>61042419870121152</td>\n",
       "    </tr>\n",
       "    <tr>\n",
       "      <th>61042419880929</th>\n",
       "      <td>�޾�</td>\n",
       "      <td>180</td>\n",
       "      <td>62220812</td>\n",
       "      <td>4</td>\n",
       "      <td>61042419880929180</td>\n",
       "    </tr>\n",
       "    <tr>\n",
       "      <th>61042719870204</th>\n",
       "      <td>���</td>\n",
       "      <td>137</td>\n",
       "      <td>62148329</td>\n",
       "      <td>8</td>\n",
       "      <td>61042719870204137</td>\n",
       "    </tr>\n",
       "    <tr>\n",
       "      <th>61050219920103</th>\n",
       "      <td>���</td>\n",
       "      <td>188</td>\n",
       "      <td>62220220</td>\n",
       "      <td>6</td>\n",
       "      <td>61050219920103188</td>\n",
       "    </tr>\n",
       "    <tr>\n",
       "      <th>61052319920723</th>\n",
       "      <td>����</td>\n",
       "      <td>151</td>\n",
       "      <td>62179032</td>\n",
       "      <td>4</td>\n",
       "      <td>61052319920723151</td>\n",
       "    </tr>\n",
       "    <tr>\n",
       "      <th>61052419900220</th>\n",
       "      <td>���</td>\n",
       "      <td>159</td>\n",
       "      <td>62270041</td>\n",
       "      <td>5</td>\n",
       "      <td>61052419900220159</td>\n",
       "    </tr>\n",
       "    <tr>\n",
       "      <th>61052419911023</th>\n",
       "      <td>������</td>\n",
       "      <td>180</td>\n",
       "      <td>62270038</td>\n",
       "      <td>4</td>\n",
       "      <td>61052419911023180</td>\n",
       "    </tr>\n",
       "    <tr>\n",
       "      <th>61052819700506</th>\n",
       "      <td>�����</td>\n",
       "      <td>158</td>\n",
       "      <td>62122605</td>\n",
       "      <td>5</td>\n",
       "      <td>61052819700506158</td>\n",
       "    </tr>\n",
       "    <tr>\n",
       "      <th>61052819841013</th>\n",
       "      <td>������</td>\n",
       "      <td>180</td>\n",
       "      <td>62270042</td>\n",
       "      <td>5</td>\n",
       "      <td>61052819841013180</td>\n",
       "    </tr>\n",
       "    <tr>\n",
       "      <th>61060219870914</th>\n",
       "      <td>����</td>\n",
       "      <td>182</td>\n",
       "      <td>62266202</td>\n",
       "      <td>7</td>\n",
       "      <td>61060219870914182</td>\n",
       "    </tr>\n",
       "    <tr>\n",
       "      <th>61212719770616</th>\n",
       "      <td>������</td>\n",
       "      <td>137</td>\n",
       "      <td>62122626</td>\n",
       "      <td>10</td>\n",
       "      <td>61212719770616137</td>\n",
       "    </tr>\n",
       "    <tr>\n",
       "      <th>61252219860819</th>\n",
       "      <td>����</td>\n",
       "      <td>151</td>\n",
       "      <td>62178684</td>\n",
       "      <td>4</td>\n",
       "      <td>61252219860819151</td>\n",
       "    </tr>\n",
       "    <tr>\n",
       "      <th>61252519951006</th>\n",
       "      <td>��ٻ</td>\n",
       "      <td>189</td>\n",
       "      <td>62178536</td>\n",
       "      <td>4</td>\n",
       "      <td>61252519951006189</td>\n",
       "    </tr>\n",
       "    <tr>\n",
       "      <th>61270119880213</th>\n",
       "      <td>������</td>\n",
       "      <td>187</td>\n",
       "      <td>62178536</td>\n",
       "      <td>5</td>\n",
       "      <td>61270119880213187</td>\n",
       "    </tr>\n",
       "    <tr>\n",
       "      <th>61273119890220</th>\n",
       "      <td>����</td>\n",
       "      <td>152</td>\n",
       "      <td>62166136</td>\n",
       "      <td>9</td>\n",
       "      <td>61273119890220152</td>\n",
       "    </tr>\n",
       "    <tr>\n",
       "      <th>61273119920801</th>\n",
       "      <td>�߼�</td>\n",
       "      <td>132</td>\n",
       "      <td>62270002</td>\n",
       "      <td>4</td>\n",
       "      <td>61273119920801132</td>\n",
       "    </tr>\n",
       "    <tr>\n",
       "      <th>62010219650308</th>\n",
       "      <td>���ݾ�</td>\n",
       "      <td>135</td>\n",
       "      <td>62220836</td>\n",
       "      <td>4</td>\n",
       "      <td>62010219650308135</td>\n",
       "    </tr>\n",
       "    <tr>\n",
       "      <th>62010219700215</th>\n",
       "      <td>���Ǿ�</td>\n",
       "      <td>189</td>\n",
       "      <td>62170042</td>\n",
       "      <td>14</td>\n",
       "      <td>62010219700215189</td>\n",
       "    </tr>\n",
       "    <tr>\n",
       "      <th>62010219830515</th>\n",
       "      <td>��ݺ</td>\n",
       "      <td>138</td>\n",
       "      <td>62176802</td>\n",
       "      <td>7</td>\n",
       "      <td>62010219830515138</td>\n",
       "    </tr>\n",
       "    <tr>\n",
       "      <th>62010219890528</th>\n",
       "      <td>�</td>\n",
       "      <td>186</td>\n",
       "      <td>62270000</td>\n",
       "      <td>4</td>\n",
       "      <td>62010219890528186</td>\n",
       "    </tr>\n",
       "    <tr>\n",
       "      <th>62050319820820</th>\n",
       "      <td>������</td>\n",
       "      <td>136</td>\n",
       "      <td>62284803</td>\n",
       "      <td>4</td>\n",
       "      <td>62050319820820136</td>\n",
       "    </tr>\n",
       "    <tr>\n",
       "      <th>62052319870925</th>\n",
       "      <td>���ķ�</td>\n",
       "      <td>136</td>\n",
       "      <td>62170042</td>\n",
       "      <td>7</td>\n",
       "      <td>62052319870925136</td>\n",
       "    </tr>\n",
       "    <tr>\n",
       "      <th>63280119900215</th>\n",
       "      <td>���ľ�</td>\n",
       "      <td>189</td>\n",
       "      <td>62270044</td>\n",
       "      <td>4</td>\n",
       "      <td>63280119900215189</td>\n",
       "    </tr>\n",
       "    <tr>\n",
       "      <th>65422319840118</th>\n",
       "      <td>������</td>\n",
       "      <td>133</td>\n",
       "      <td>62252131</td>\n",
       "      <td>5</td>\n",
       "      <td>65422319840118133</td>\n",
       "    </tr>\n",
       "  </tbody>\n",
       "</table>\n",
       "<p>1027 rows × 5 columns</p>\n",
       "</div>"
      ],
      "text/plain": [
       "                  name mobi_no   bank_no  order_num               code\n",
       "id_no                                                                 \n",
       "11010219690503  ������     139  62122602          4  11010219690503139\n",
       "11010219791001   ��ΰ��     138  43674200          4  11010219791001138\n",
       "11010219810716    ����     157  45635101          5  11010219810716157\n",
       "11010219840227    ����     158  62148501          4  11010219840227158\n",
       "11010219861017    ��ٻٻ     186  62148501          6  11010219861017186\n",
       "11010419811005     ��˼     139  62220002          7  11010419811005139\n",
       "11010419820817    ����     138  62258810          4  11010419820817138\n",
       "11010519750512  ������     138  60138201          5  11010519750512138\n",
       "11010519800220    ����     136  62177307         14  11010519800220136\n",
       "11010519820830    ��һƽ     138  62270000          7  11010519820830138\n",
       "11010519880818     ���     158  62258801         10  11010519880818158\n",
       "11010519880914   �����     158  62122602         18  11010519880914158\n",
       "11010619781114    �Ʒ�ϼ     138  62220843          4  11010619781114138\n",
       "11010619901011    ����     185  62170000          4  11010619901011185\n",
       "11010819701120   ����Ƽ     136  43674200          7  11010819701120136\n",
       "11010819780507    ���     138  62260901          4  11010819780507138\n",
       "11010819820108   �μ���     135  95588002          8  11010819820108135\n",
       "11010819850612  ������     185  62270000          7  11010819850612185\n",
       "11010819901026  ������     136  62258801          4  11010819901026136\n",
       "11010919860211    ��˼˼     138  62220802          4  11010919860211138\n",
       "11011119881125    ����     134  62148501          5  11011119881125134\n",
       "12010319690810    ��Ц÷     139  60138202          6  12010319690810139\n",
       "12022119870221    ��ɺɺ     186  45635102          4  12022119870221186\n",
       "12022119890925   �����     136  62220203         17  12022119890925136\n",
       "12022219701116  ������     136  62148601          4  12022219701116136\n",
       "12022219870518   ����֥     182  62122602          6  12022219870518182\n",
       "12022219891009     ��׿     155  62258801         16  12022219891009155\n",
       "12022219931025    ����     182  62258812          4  12022219931025182\n",
       "12022519850921    �زʾ�     136  62260902          5  12022519850921136\n",
       "12022519881005   �޴���     137  62170012          7  12022519881005137\n",
       "...                ...     ...       ...        ...                ...\n",
       "61011319870323    ����     186  62148502          7  61011319870323186\n",
       "61011419800705    �λ�÷     153  62178536          7  61011419800705153\n",
       "61012119860220    ���ǿ     135  62148391          6  61012119860220135\n",
       "61030319871221   ��ݼ��     186  62266202          6  61030319871221186\n",
       "61032219831002  ������     150  62258801          6  61032219831002150\n",
       "61032219840822  ������     158  62170000          4  61032219840822158\n",
       "61042419870121  ������     152  62266223          5  61042419870121152\n",
       "61042419880929     �޾�     180  62220812          4  61042419880929180\n",
       "61042719870204     ���     137  62148329          8  61042719870204137\n",
       "61050219920103     ���     188  62220220          6  61050219920103188\n",
       "61052319920723    ����     151  62179032          4  61052319920723151\n",
       "61052419900220     ���     159  62270041          5  61052419900220159\n",
       "61052419911023  ������     180  62270038          4  61052419911023180\n",
       "61052819700506   �����     158  62122605          5  61052819700506158\n",
       "61052819841013  ������     180  62270042          5  61052819841013180\n",
       "61060219870914    ����     182  62266202          7  61060219870914182\n",
       "61212719770616  ������     137  62122626         10  61212719770616137\n",
       "61252219860819    ����     151  62178684          4  61252219860819151\n",
       "61252519951006     ��ٻ     189  62178536          4  61252519951006189\n",
       "61270119880213  ������     187  62178536          5  61270119880213187\n",
       "61273119890220    ����     152  62166136          9  61273119890220152\n",
       "61273119920801     �߼�     132  62270002          4  61273119920801132\n",
       "62010219650308   ���ݾ�     135  62220836          4  62010219650308135\n",
       "62010219700215   ���Ǿ�     189  62170042         14  62010219700215189\n",
       "62010219830515     ��ݺ     138  62176802          7  62010219830515138\n",
       "62010219890528      �     186  62270000          4  62010219890528186\n",
       "62050319820820  ������     136  62284803          4  62050319820820136\n",
       "62052319870925   ���ķ�     136  62170042          7  62052319870925136\n",
       "63280119900215   ���ľ�     189  62270044          4  63280119900215189\n",
       "65422319840118  ������     133  62252131          5  65422319840118133\n",
       "\n",
       "[1027 rows x 5 columns]"
      ]
     },
     "execution_count": 67,
     "metadata": {},
     "output_type": "execute_result"
    }
   ],
   "source": [
    "data.set_index('id_no').ix[inter_id_no,:]"
   ]
  },
  {
   "cell_type": "code",
   "execution_count": null,
   "metadata": {
    "collapsed": true
   },
   "outputs": [],
   "source": []
  },
  {
   "cell_type": "code",
   "execution_count": null,
   "metadata": {
    "collapsed": false
   },
   "outputs": [],
   "source": [
    "print data"
   ]
  },
  {
   "cell_type": "code",
   "execution_count": null,
   "metadata": {
    "collapsed": false
   },
   "outputs": [],
   "source": [
    "data=data.set_index('id_no')"
   ]
  },
  {
   "cell_type": "code",
   "execution_count": null,
   "metadata": {
    "collapsed": true
   },
   "outputs": [],
   "source": []
  },
  {
   "cell_type": "code",
   "execution_count": null,
   "metadata": {
    "collapsed": false
   },
   "outputs": [],
   "source": [
    "print data\n",
    "\n"
   ]
  },
  {
   "cell_type": "code",
   "execution_count": null,
   "metadata": {
    "collapsed": true
   },
   "outputs": [],
   "source": [
    "data.to_csv('repeatdata.csv')"
   ]
  },
  {
   "cell_type": "code",
   "execution_count": null,
   "metadata": {
    "collapsed": false
   },
   "outputs": [],
   "source": [
    "data_soucrce.bank_card_no.unique().shape"
   ]
  },
  {
   "cell_type": "code",
   "execution_count": null,
   "metadata": {
    "collapsed": false
   },
   "outputs": [],
   "source": [
    ".unique().shape"
   ]
  }
 ],
 "metadata": {
  "kernelspec": {
   "display_name": "Python [Root]",
   "language": "python",
   "name": "Python [Root]"
  },
  "language_info": {
   "codemirror_mode": {
    "name": "ipython",
    "version": 2
   },
   "file_extension": ".py",
   "mimetype": "text/x-python",
   "name": "python",
   "nbconvert_exporter": "python",
   "pygments_lexer": "ipython2",
   "version": "2.7.12"
  }
 },
 "nbformat": 4,
 "nbformat_minor": 0
}

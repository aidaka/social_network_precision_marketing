{
 "cells": [
  {
   "cell_type": "markdown",
   "metadata": {},
   "source": [
    "##  社交网络分析数据处理"
   ]
  },
  {
   "cell_type": "code",
   "execution_count": 64,
   "metadata": {
    "collapsed": false
   },
   "outputs": [],
   "source": [
    "def time_stats(dfGroupData):\n",
    "    dfGroupData = dfGroupData.agg( countDistinct(\"custorm_id\").alias(\"cust_num\"),\n",
    "                                            count(\"time\").alias(\"freq_num\"),\n",
    "                                            sum(\"time\").alias(\"sum_time\"),  ## 时间的总计\n",
    "                                            avg(\"time\").alias(\"avg_time\"),\n",
    "                                            max(\"time\").alias(\"longest_time\"),\n",
    "                                            min(\"time\").alias(\"shortest_time\"),\n",
    "                                            var_samp(\"time\").alias(\"var_time\"),\n",
    "                                            stddev_pop(\"time\").alias(\"std_time\"),\n",
    "                                            kurtosis(\"time\").alias(\"kurt_time\"),\n",
    "\n",
    "\n",
    "                                            sum(\"call_time_lag\").alias(\"sum_call_time_lag\"),  ##通话频率的的总计\n",
    "                                            avg(\"call_time_lag\").alias(\"avg_call_time_lag\"),\n",
    "                                            max(\"call_time_lag\").alias(\"longest_call_time_lag\"),\n",
    "                                            min(\"call_time_lag\").alias(\"shortest_call_time_lag\"),\n",
    "                                            var_samp(\"call_time_lag\").alias(\"var_call_time_lag\"),\n",
    "                                            stddev_pop(\"call_time_lag\").alias(\"std_call_time_lag\"),\n",
    "                                            kurtosis(\"call_time_lag\").alias(\"kurt_call_time_lag\"),\n",
    "\n",
    "                                            # 1点到7点打电话的次数[01,07]闭区间 ，下面依次对总时间，平均时间，最长，最短，标准差等进行统计\n",
    "                                            count(when(time_hour_cond(1, 8), \"time\")).alias(\"call_time_cnt_0107\"),\n",
    "                                            count(when(time_hour_cond(8, 13), \"time\")).alias(\"call_time_cnt_0812\"),\n",
    "                                            count(when(time_hour_cond(13, 18), \"time\")).alias(\"call_time_cnt_1317\"),\n",
    "                                            count(when(time_hour_cond(18, 22), \"time\")).alias(\"call_time_cnt_1821\"),\n",
    "                                            count(when(time_hour_cond(22, 24) | (call_record[\"call_time_hour\"] == 0),\n",
    "                                                       \"time\")).alias(\"call_time_cnt_2200\"),\n",
    "\n",
    "                                            sum(when(time_hour_cond(1, 8), call_record[\"time\"])).alias(\n",
    "                                                \"call_time_sum_0107\"),\n",
    "                                            sum(when(time_hour_cond(8, 13), call_record[\"time\"])).alias(\n",
    "                                                \"call_time_sum_0812\"),\n",
    "                                            sum(when(time_hour_cond(13, 18), call_record[\"time\"])).alias(\n",
    "                                                \"call_time_sum_1317\"),\n",
    "                                            sum(when(time_hour_cond(18, 22), call_record[\"time\"])).alias(\n",
    "                                                \"call_time_sum_1821\"),\n",
    "                                            sum(when(time_hour_cond(22, 24) | (call_record[\"call_time_hour\"] == 0),\n",
    "                                                     call_record[\"time\"])).alias(\"call_time_sum_2200\"),\n",
    "\n",
    "                                            avg(when(time_hour_cond(1, 8), call_record[\"time\"])).alias(\n",
    "                                                \"call_time_avg_0107\"),\n",
    "                                            avg(when(time_hour_cond(8, 13), call_record[\"time\"])).alias(\n",
    "                                                \"call_time_avg_0812\"),\n",
    "                                            avg(when(time_hour_cond(13, 18), call_record[\"time\"])).alias(\n",
    "                                                \"call_time_avg_1317\"),\n",
    "                                            avg(when(time_hour_cond(18, 22), call_record[\"time\"])).alias(\n",
    "                                                \"call_time_avg_1821\"),\n",
    "                                            avg(when(time_hour_cond(22, 24) | (call_record[\"call_time_hour\"] == 0),\n",
    "                                                     call_record[\"time\"])).alias(\"call_time_avg_2200\"),\n",
    "\n",
    "                                            stddev_pop(when(time_hour_cond(1, 8), call_record[\"time\"])).alias(\n",
    "                                                \"call_time_stddev_pop_0107\"),\n",
    "                                            stddev_pop(when(time_hour_cond(8, 13), call_record[\"time\"])).alias(\n",
    "                                                \"call_time_stddev_pop_0812\"),\n",
    "                                            stddev_pop(when(time_hour_cond(13, 18), call_record[\"time\"])).alias(\n",
    "                                                \"call_time_stddev_pop_1317\"),\n",
    "                                            stddev_pop(when(time_hour_cond(18, 22), call_record[\"time\"])).alias(\n",
    "                                                \"call_time_stddev_pop_1821\"),\n",
    "                                            stddev_pop(\n",
    "                                                when(time_hour_cond(22, 24) | (call_record[\"call_time_hour\"] == 0),\n",
    "                                                     call_record[\"time\"])).alias(\"call_time_stddev_pop_2200\"),\n",
    "\n",
    "                                            max(when(time_hour_cond(1, 8), call_record[\"time\"])).alias(\n",
    "                                                \"call_time_max_0107\"),\n",
    "                                            max(when(time_hour_cond(8, 13), call_record[\"time\"])).alias(\n",
    "                                                \"call_time_max_0812\"),\n",
    "                                            max(when(time_hour_cond(13, 18), call_record[\"time\"])).alias(\n",
    "                                                \"call_time_max_1317\"),\n",
    "                                            max(when(time_hour_cond(18, 22), call_record[\"time\"])).alias(\n",
    "                                                \"call_time_max_1821\"),\n",
    "                                            max(when(time_hour_cond(22, 24) | (call_record[\"call_time_hour\"] == 0),\n",
    "                                                     call_record[\"time\"])).alias(\"call_time_max_2200\"),\n",
    "                                            )\n",
    "    dfGroupData = dfGroupData.withColumn(\"avg_everyday_call_time\",dfGroupData['sum_time'] / dfGroupData[\"sum_call_time_lag\"]).withColumn( \\\n",
    "        \"std_time_lag\", dfGroupData['std_time'] / dfGroupData[\"std_call_time_lag\"]).na.fill(0.0)\n",
    "    return dfGroupData"
   ]
  },
  {
   "cell_type": "code",
   "execution_count": 76,
   "metadata": {
    "collapsed": false
   },
   "outputs": [],
   "source": [
    "def Group_Major(major_key,call_record):\n",
    "    #--------------------------窗口函数-----------------------------------------------------\n",
    "    #重新分区并对分区进行排序，方便相减\n",
    "    if isinstance(major_key, list):\n",
    "        call_record=call_record.repartition(major_key[0],major_key[1]).sortWithinPartitions(\"call_time\",ascending=False)\n",
    "    ## 建立窗口，那所有的操作都是在窗口中进行操作的，相当于impala over 函数 lag(call_time) over (partition by name ,number order by call_time desc)\n",
    "\n",
    "        window=Window.partitionBy(major_key[0],major_key[1])\n",
    "    else:\n",
    "        call_record=call_record.repartition(major_key).sortWithinPartitions(\"call_time\",ascending=False)\n",
    "\n",
    "        window=Window.partitionBy(major_key)\n",
    "\n",
    "    #时间上的相减，本文并没有采用datediff 主要是想要才用比较精确的时间，所以转换成时间戳直接相减，这也是比较好的时间处理方式\n",
    "    call_record = call_record.withColumn(\"call_time_lag\", (unix_timestamp(lag(\"call_time\").over(window)) - unix_timestamp(call_record[\"call_time\"])) / 86400)\n",
    "    ## hour,month,minute 是去'2016-10-22 00:11:52'中的某一个时间，spark 的DataFrame 的操作很大一部分是对hive的一种实现，只是更加的方便可以用Python等语言自定义函数\n",
    "    call_record_group=call_record.groupBy(major_key)\n",
    "    # 分组[nma,nymber]为主键进行聚合\n",
    "\n",
    "\n",
    "\n",
    "    call_record_agg=time_stats(call_record_group)\n",
    "\n",
    "    return call_record_agg\n",
    "\n",
    "def agg_func(names, func):\n",
    "    A = dict()\n",
    "    for name in names:\n",
    "        A[name] = func\n",
    "    return A\n",
    "\n",
    "def add_suffix(df,suffix,start=1):\n",
    "    for col_name in  df.columns[start:]:\n",
    "        df=df.withColumnRenamed(col_name,col_name+suffix)\n",
    "    return df"
   ]
  },
  {
   "cell_type": "code",
   "execution_count": 84,
   "metadata": {
    "collapsed": false
   },
   "outputs": [],
   "source": [
    "data=sqlContext.read.parquet(\"crawler_mobi_call_record_hive.pqt\")\n",
    "data.registerTempTable(\"mobi_call\")\n",
    "call_record=sqlContext.sql(\"select * from  mobi_call where length(login_name)>9 and num_contact<2700 and num_contact !=0\")"
   ]
  },
  {
   "cell_type": "code",
   "execution_count": 85,
   "metadata": {
    "collapsed": false
   },
   "outputs": [],
   "source": [
    "from pyspark.sql import DataFrame,HiveContext\n",
    "from pyspark.sql.functions import  *\n",
    "from pyspark.sql import Window\n",
    "from pyspark.ml.feature import VectorAssembler\n",
    "from pyspark.sql.types  import DoubleType\n",
    "# call_record=sqlContext.read.parquet(\"mobi_call_record_sample.pqt\")\n",
    "call_record=call_record.withColumnRenamed(\"time_contact\",\"call_time\").withColumnRenamed(\"Phone_contact\",\n",
    "            \"number\").withColumn(\"time\",call_record.num_contact.cast(\"float\")).withColumn(\"type\",call_record.type_call.cast(\"float\"))\n",
    "call_record = call_record.withColumn(\"call_time_hour\", hour(\"call_time\").cast(DoubleType())).drop(\"num_contact\").drop(\"type_call\")\n",
    "time_hour_cond = lambda start, end: (call_record[\"call_time_hour\"] >= start) & (call_record[\"call_time_hour\"] < end)\n",
    "type_cond = lambda flag: call_record['type'] == flag\n"
   ]
  },
  {
   "cell_type": "code",
   "execution_count": 71,
   "metadata": {
    "collapsed": false
   },
   "outputs": [
    {
     "data": {
      "text/html": [
       "<div style=\"max-width:1500px;overflow:auto;\">\n",
       "<table border=\"1\" class=\"dataframe\">\n",
       "  <thead>\n",
       "    <tr style=\"text-align: right;\">\n",
       "      <th></th>\n",
       "      <th>custorm_id</th>\n",
       "      <th>login_name</th>\n",
       "      <th>call_time</th>\n",
       "      <th>number</th>\n",
       "      <th>time</th>\n",
       "      <th>type</th>\n",
       "      <th>call_time_hour</th>\n",
       "    </tr>\n",
       "  </thead>\n",
       "  <tbody>\n",
       "    <tr>\n",
       "      <th>0</th>\n",
       "      <td>1000021</td>\n",
       "      <td>13759806199</td>\n",
       "      <td>2016-01-17 18:05:15</td>\n",
       "      <td>13038458880</td>\n",
       "      <td>35</td>\n",
       "      <td>1</td>\n",
       "      <td>18</td>\n",
       "    </tr>\n",
       "    <tr>\n",
       "      <th>1</th>\n",
       "      <td>1000021</td>\n",
       "      <td>13759806199</td>\n",
       "      <td>2016-01-18 21:00:11</td>\n",
       "      <td>13571612672</td>\n",
       "      <td>73</td>\n",
       "      <td>1</td>\n",
       "      <td>21</td>\n",
       "    </tr>\n",
       "    <tr>\n",
       "      <th>2</th>\n",
       "      <td>1000021</td>\n",
       "      <td>13759806199</td>\n",
       "      <td>2016-02-03 14:33:07</td>\n",
       "      <td>18329462784</td>\n",
       "      <td>35</td>\n",
       "      <td>1</td>\n",
       "      <td>14</td>\n",
       "    </tr>\n",
       "    <tr>\n",
       "      <th>3</th>\n",
       "      <td>1000021</td>\n",
       "      <td>13759806199</td>\n",
       "      <td>2016-02-16 16:47:13</td>\n",
       "      <td>13289609216</td>\n",
       "      <td>24</td>\n",
       "      <td>1</td>\n",
       "      <td>16</td>\n",
       "    </tr>\n",
       "    <tr>\n",
       "      <th>4</th>\n",
       "      <td>1000021</td>\n",
       "      <td>13759806199</td>\n",
       "      <td>2016-02-17 14:47:05</td>\n",
       "      <td>13891689472</td>\n",
       "      <td>55</td>\n",
       "      <td>2</td>\n",
       "      <td>14</td>\n",
       "    </tr>\n",
       "    <tr>\n",
       "      <th>5</th>\n",
       "      <td>1000021</td>\n",
       "      <td>13759806199</td>\n",
       "      <td>2016-03-24 09:21:28</td>\n",
       "      <td>13891680256</td>\n",
       "      <td>19</td>\n",
       "      <td>2</td>\n",
       "      <td>9</td>\n",
       "    </tr>\n",
       "    <tr>\n",
       "      <th>6</th>\n",
       "      <td>1000021</td>\n",
       "      <td>13759806199</td>\n",
       "      <td>2016-04-07 08:46:53</td>\n",
       "      <td>13891680256</td>\n",
       "      <td>16</td>\n",
       "      <td>2</td>\n",
       "      <td>8</td>\n",
       "    </tr>\n",
       "    <tr>\n",
       "      <th>7</th>\n",
       "      <td>1000021</td>\n",
       "      <td>13759806199</td>\n",
       "      <td>2016-04-18 13:08:35</td>\n",
       "      <td>18700642304</td>\n",
       "      <td>59</td>\n",
       "      <td>1</td>\n",
       "      <td>13</td>\n",
       "    </tr>\n",
       "    <tr>\n",
       "      <th>8</th>\n",
       "      <td>1000021</td>\n",
       "      <td>13759806199</td>\n",
       "      <td>2016-04-21 13:05:32</td>\n",
       "      <td>13891671040</td>\n",
       "      <td>5</td>\n",
       "      <td>1</td>\n",
       "      <td>13</td>\n",
       "    </tr>\n",
       "    <tr>\n",
       "      <th>9</th>\n",
       "      <td>1000021</td>\n",
       "      <td>13759806199</td>\n",
       "      <td>2016-05-10 09:53:55</td>\n",
       "      <td>18086014976</td>\n",
       "      <td>19</td>\n",
       "      <td>2</td>\n",
       "      <td>9</td>\n",
       "    </tr>\n",
       "  </tbody>\n",
       "</table>\n",
       "</div>"
      ],
      "text/plain": [
       "  custorm_id   login_name            call_time       number  time  type  \\\n",
       "0    1000021  13759806199  2016-01-17 18:05:15  13038458880    35     1   \n",
       "1    1000021  13759806199  2016-01-18 21:00:11  13571612672    73     1   \n",
       "2    1000021  13759806199  2016-02-03 14:33:07  18329462784    35     1   \n",
       "3    1000021  13759806199  2016-02-16 16:47:13  13289609216    24     1   \n",
       "4    1000021  13759806199  2016-02-17 14:47:05  13891689472    55     2   \n",
       "5    1000021  13759806199  2016-03-24 09:21:28  13891680256    19     2   \n",
       "6    1000021  13759806199  2016-04-07 08:46:53  13891680256    16     2   \n",
       "7    1000021  13759806199  2016-04-18 13:08:35  18700642304    59     1   \n",
       "8    1000021  13759806199  2016-04-21 13:05:32  13891671040     5     1   \n",
       "9    1000021  13759806199  2016-05-10 09:53:55  18086014976    19     2   \n",
       "\n",
       "   call_time_hour  \n",
       "0              18  \n",
       "1              21  \n",
       "2              14  \n",
       "3              16  \n",
       "4              14  \n",
       "5               9  \n",
       "6               8  \n",
       "7              13  \n",
       "8              13  \n",
       "9               9  "
      ]
     },
     "execution_count": 71,
     "metadata": {},
     "output_type": "execute_result"
    }
   ],
   "source": [
    "sam=call_record.toPandas().head(10)\n",
    "sam"
   ]
  },
  {
   "cell_type": "code",
   "execution_count": 72,
   "metadata": {
    "collapsed": false
   },
   "outputs": [
    {
     "data": {
      "text/plain": [
       "0    1\n",
       "1    1\n",
       "2    1\n",
       "3    1\n",
       "4    2\n",
       "5    2\n",
       "6    2\n",
       "7    1\n",
       "8    1\n",
       "9    2\n",
       "Name: type, dtype: float64"
      ]
     },
     "execution_count": 72,
     "metadata": {},
     "output_type": "execute_result"
    }
   ],
   "source": [
    "sam.type"
   ]
  },
  {
   "cell_type": "code",
   "execution_count": 87,
   "metadata": {
    "collapsed": false
   },
   "outputs": [
    {
     "name": "stdout",
     "output_type": "stream",
     "text": [
      "1959215405\n"
     ]
    }
   ],
   "source": [
    "call_record.cache()\n",
    "print call_record.count()\n",
    "## step1:以number为主键\n",
    "major_key=\"number\"\n",
    "call_record_number_agg=Group_Major(major_key,call_record)\n",
    "call_record_number_agg.saveAsParquetFile(\"mobi_call_record_number_agg.pqt\")"
   ]
  },
  {
   "cell_type": "code",
   "execution_count": 1,
   "metadata": {
    "collapsed": false
   },
   "outputs": [
    {
     "data": {
      "text/plain": [
       "2322795"
      ]
     },
     "execution_count": 1,
     "metadata": {},
     "output_type": "execute_result"
    }
   ],
   "source": [
    "sample=sqlContext.read.parquet(\"mobi_call_record_number_agg.pqt\")\n",
    "sample.count()"
   ]
  },
  {
   "cell_type": "code",
   "execution_count": 7,
   "metadata": {
    "collapsed": false
   },
   "outputs": [],
   "source": [
    "sample.registerAsTable(\"sample\")\n",
    "# cc=sqlContext.sql(\"select  * from  sample  limit 100\")\n"
   ]
  },
  {
   "cell_type": "code",
   "execution_count": 11,
   "metadata": {
    "collapsed": false
   },
   "outputs": [
    {
     "data": {
      "text/plain": [
       "['call_time_sum_0812',\n",
       " 'call_time_cnt_1821',\n",
       " 'number',\n",
       " 'var_call_time_lag',\n",
       " 'kurt_call_time_lag',\n",
       " 'call_time_stddev_pop_0107',\n",
       " 'call_time_cnt_0812',\n",
       " 'avg_call_time_lag',\n",
       " 'call_time_avg_2200',\n",
       " 'longest_call_time_lag',\n",
       " 'avg_everyday_call_time',\n",
       " 'avg_time',\n",
       " 'call_time_cnt_1317',\n",
       " 'freq_num',\n",
       " 'std_time',\n",
       " 'call_time_max_1317',\n",
       " 'shortest_time',\n",
       " 'call_time_max_1821',\n",
       " 'call_time_sum_2200',\n",
       " 'sum_time',\n",
       " 'shortest_call_time_lag',\n",
       " 'longest_time',\n",
       " 'call_time_sum_0107',\n",
       " 'call_time_sum_1821',\n",
       " 'call_time_max_0812',\n",
       " 'std_time_lag',\n",
       " 'var_time',\n",
       " 'call_time_avg_1821',\n",
       " 'std_call_time_lag',\n",
       " 'call_time_stddev_pop_1317',\n",
       " 'call_time_avg_0107',\n",
       " 'call_time_avg_1317',\n",
       " 'sum_call_time_lag',\n",
       " 'kurt_time',\n",
       " 'call_time_stddev_pop_2200',\n",
       " 'call_time_stddev_pop_1821',\n",
       " 'call_time_max_0107',\n",
       " 'call_time_avg_0812',\n",
       " 'cust_num',\n",
       " 'call_time_stddev_pop_0812',\n",
       " 'call_time_cnt_2200',\n",
       " 'call_time_max_2200',\n",
       " 'call_time_sum_1317',\n",
       " 'call_time_cnt_0107']"
      ]
     },
     "execution_count": 11,
     "metadata": {},
     "output_type": "execute_result"
    }
   ],
   "source": [
    "cc=sample.head(100)\n",
    "col_names=row_name(cc[0])\n",
    "col_names"
   ]
  },
  {
   "cell_type": "code",
   "execution_count": 4,
   "metadata": {
    "collapsed": false
   },
   "outputs": [],
   "source": [
    "# sample_df=sample.toPandas()\n",
    "# sample_df.to_csv(\"mobi_call_record.csv\")\n",
    "row_list=lambda row:row.asDict(True).values()\n",
    "row_name=lambda row:row.asDict(True).keys()\n",
    "sample.rdd.map(row_list).repartition(1).saveAsTextFile(\"mobi_call_record_hive1.csv\")"
   ]
  },
  {
   "cell_type": "code",
   "execution_count": 29,
   "metadata": {
    "collapsed": true
   },
   "outputs": [
    {
     "ename": "TypeError",
     "evalue": "cannot concatenate 'str' and 'int' objects",
     "output_type": "error",
     "traceback": [
      "\u001b[1;31m---------------------------------------------------------------------------\u001b[0m\n\u001b[1;31mTypeError\u001b[0m                                 Traceback (most recent call last)",
      "\u001b[1;32m<ipython-input-29-d78012eba322>\u001b[0m in \u001b[0;36m<module>\u001b[1;34m()\u001b[0m\n\u001b[0;32m      1\u001b[0m \u001b[1;32mimport\u001b[0m \u001b[0mpandas\u001b[0m \u001b[1;32mas\u001b[0m \u001b[0mpd\u001b[0m\u001b[1;33m\u001b[0m\u001b[0m\n\u001b[0;32m      2\u001b[0m \u001b[1;32mimport\u001b[0m \u001b[0mnumpy\u001b[0m \u001b[1;32mas\u001b[0m \u001b[0mnp\u001b[0m\u001b[1;33m\u001b[0m\u001b[0m\n\u001b[1;32m----> 3\u001b[1;33m \u001b[0mmobi_call\u001b[0m\u001b[1;33m=\u001b[0m\u001b[0mpd\u001b[0m\u001b[1;33m.\u001b[0m\u001b[0mread_csv\u001b[0m\u001b[1;33m(\u001b[0m\u001b[1;34m\"scoial_network/mobi_call_record_hive.csv\"\u001b[0m\u001b[1;33m,\u001b[0m\u001b[0mheader\u001b[0m\u001b[1;33m=\u001b[0m\u001b[0mcol_names\u001b[0m\u001b[1;33m)\u001b[0m\u001b[1;33m\u001b[0m\u001b[0m\n\u001b[0m",
      "\u001b[1;32m/usr/lib64/python2.6/site-packages/pandas/io/parsers.pyc\u001b[0m in \u001b[0;36mparser_f\u001b[1;34m(filepath_or_buffer, sep, dialect, compression, doublequote, escapechar, quotechar, quoting, skipinitialspace, lineterminator, header, index_col, names, prefix, skiprows, skipfooter, skip_footer, na_values, true_values, false_values, delimiter, converters, dtype, usecols, engine, delim_whitespace, as_recarray, na_filter, compact_ints, use_unsigned, low_memory, buffer_lines, warn_bad_lines, error_bad_lines, keep_default_na, thousands, comment, decimal, parse_dates, keep_date_col, dayfirst, date_parser, memory_map, float_precision, nrows, iterator, chunksize, verbose, encoding, squeeze, mangle_dupe_cols, tupleize_cols, infer_datetime_format, skip_blank_lines)\u001b[0m\n\u001b[0;32m    489\u001b[0m                     skip_blank_lines=skip_blank_lines)\n\u001b[0;32m    490\u001b[0m \u001b[1;33m\u001b[0m\u001b[0m\n\u001b[1;32m--> 491\u001b[1;33m         \u001b[1;32mreturn\u001b[0m \u001b[0m_read\u001b[0m\u001b[1;33m(\u001b[0m\u001b[0mfilepath_or_buffer\u001b[0m\u001b[1;33m,\u001b[0m \u001b[0mkwds\u001b[0m\u001b[1;33m)\u001b[0m\u001b[1;33m\u001b[0m\u001b[0m\n\u001b[0m\u001b[0;32m    492\u001b[0m \u001b[1;33m\u001b[0m\u001b[0m\n\u001b[0;32m    493\u001b[0m     \u001b[0mparser_f\u001b[0m\u001b[1;33m.\u001b[0m\u001b[0m__name__\u001b[0m \u001b[1;33m=\u001b[0m \u001b[0mname\u001b[0m\u001b[1;33m\u001b[0m\u001b[0m\n",
      "\u001b[1;32m/usr/lib64/python2.6/site-packages/pandas/io/parsers.pyc\u001b[0m in \u001b[0;36m_read\u001b[1;34m(filepath_or_buffer, kwds)\u001b[0m\n\u001b[0;32m    266\u001b[0m \u001b[1;33m\u001b[0m\u001b[0m\n\u001b[0;32m    267\u001b[0m     \u001b[1;31m# Create the parser.\u001b[0m\u001b[1;33m\u001b[0m\u001b[1;33m\u001b[0m\u001b[0m\n\u001b[1;32m--> 268\u001b[1;33m     \u001b[0mparser\u001b[0m \u001b[1;33m=\u001b[0m \u001b[0mTextFileReader\u001b[0m\u001b[1;33m(\u001b[0m\u001b[0mfilepath_or_buffer\u001b[0m\u001b[1;33m,\u001b[0m \u001b[1;33m**\u001b[0m\u001b[0mkwds\u001b[0m\u001b[1;33m)\u001b[0m\u001b[1;33m\u001b[0m\u001b[0m\n\u001b[0m\u001b[0;32m    269\u001b[0m \u001b[1;33m\u001b[0m\u001b[0m\n\u001b[0;32m    270\u001b[0m     \u001b[1;32mif\u001b[0m \u001b[1;33m(\u001b[0m\u001b[0mnrows\u001b[0m \u001b[1;32mis\u001b[0m \u001b[1;32mnot\u001b[0m \u001b[0mNone\u001b[0m\u001b[1;33m)\u001b[0m \u001b[1;32mand\u001b[0m \u001b[1;33m(\u001b[0m\u001b[0mchunksize\u001b[0m \u001b[1;32mis\u001b[0m \u001b[1;32mnot\u001b[0m \u001b[0mNone\u001b[0m\u001b[1;33m)\u001b[0m\u001b[1;33m:\u001b[0m\u001b[1;33m\u001b[0m\u001b[0m\n",
      "\u001b[1;32m/usr/lib64/python2.6/site-packages/pandas/io/parsers.pyc\u001b[0m in \u001b[0;36m__init__\u001b[1;34m(self, f, engine, **kwds)\u001b[0m\n\u001b[0;32m    581\u001b[0m             \u001b[0mself\u001b[0m\u001b[1;33m.\u001b[0m\u001b[0moptions\u001b[0m\u001b[1;33m[\u001b[0m\u001b[1;34m'has_index_names'\u001b[0m\u001b[1;33m]\u001b[0m \u001b[1;33m=\u001b[0m \u001b[0mkwds\u001b[0m\u001b[1;33m[\u001b[0m\u001b[1;34m'has_index_names'\u001b[0m\u001b[1;33m]\u001b[0m\u001b[1;33m\u001b[0m\u001b[0m\n\u001b[0;32m    582\u001b[0m \u001b[1;33m\u001b[0m\u001b[0m\n\u001b[1;32m--> 583\u001b[1;33m         \u001b[0mself\u001b[0m\u001b[1;33m.\u001b[0m\u001b[0m_make_engine\u001b[0m\u001b[1;33m(\u001b[0m\u001b[0mself\u001b[0m\u001b[1;33m.\u001b[0m\u001b[0mengine\u001b[0m\u001b[1;33m)\u001b[0m\u001b[1;33m\u001b[0m\u001b[0m\n\u001b[0m\u001b[0;32m    584\u001b[0m \u001b[1;33m\u001b[0m\u001b[0m\n\u001b[0;32m    585\u001b[0m     \u001b[1;32mdef\u001b[0m \u001b[0m_get_options_with_defaults\u001b[0m\u001b[1;33m(\u001b[0m\u001b[0mself\u001b[0m\u001b[1;33m,\u001b[0m \u001b[0mengine\u001b[0m\u001b[1;33m)\u001b[0m\u001b[1;33m:\u001b[0m\u001b[1;33m\u001b[0m\u001b[0m\n",
      "\u001b[1;32m/usr/lib64/python2.6/site-packages/pandas/io/parsers.pyc\u001b[0m in \u001b[0;36m_make_engine\u001b[1;34m(self, engine)\u001b[0m\n\u001b[0;32m    722\u001b[0m     \u001b[1;32mdef\u001b[0m \u001b[0m_make_engine\u001b[0m\u001b[1;33m(\u001b[0m\u001b[0mself\u001b[0m\u001b[1;33m,\u001b[0m \u001b[0mengine\u001b[0m\u001b[1;33m=\u001b[0m\u001b[1;34m'c'\u001b[0m\u001b[1;33m)\u001b[0m\u001b[1;33m:\u001b[0m\u001b[1;33m\u001b[0m\u001b[0m\n\u001b[0;32m    723\u001b[0m         \u001b[1;32mif\u001b[0m \u001b[0mengine\u001b[0m \u001b[1;33m==\u001b[0m \u001b[1;34m'c'\u001b[0m\u001b[1;33m:\u001b[0m\u001b[1;33m\u001b[0m\u001b[0m\n\u001b[1;32m--> 724\u001b[1;33m             \u001b[0mself\u001b[0m\u001b[1;33m.\u001b[0m\u001b[0m_engine\u001b[0m \u001b[1;33m=\u001b[0m \u001b[0mCParserWrapper\u001b[0m\u001b[1;33m(\u001b[0m\u001b[0mself\u001b[0m\u001b[1;33m.\u001b[0m\u001b[0mf\u001b[0m\u001b[1;33m,\u001b[0m \u001b[1;33m**\u001b[0m\u001b[0mself\u001b[0m\u001b[1;33m.\u001b[0m\u001b[0moptions\u001b[0m\u001b[1;33m)\u001b[0m\u001b[1;33m\u001b[0m\u001b[0m\n\u001b[0m\u001b[0;32m    725\u001b[0m         \u001b[1;32melse\u001b[0m\u001b[1;33m:\u001b[0m\u001b[1;33m\u001b[0m\u001b[0m\n\u001b[0;32m    726\u001b[0m             \u001b[1;32mif\u001b[0m \u001b[0mengine\u001b[0m \u001b[1;33m==\u001b[0m \u001b[1;34m'python'\u001b[0m\u001b[1;33m:\u001b[0m\u001b[1;33m\u001b[0m\u001b[0m\n",
      "\u001b[1;32m/usr/lib64/python2.6/site-packages/pandas/io/parsers.pyc\u001b[0m in \u001b[0;36m__init__\u001b[1;34m(self, src, **kwds)\u001b[0m\n\u001b[0;32m   1091\u001b[0m         \u001b[0mkwds\u001b[0m\u001b[1;33m[\u001b[0m\u001b[1;34m'allow_leading_cols'\u001b[0m\u001b[1;33m]\u001b[0m \u001b[1;33m=\u001b[0m \u001b[0mself\u001b[0m\u001b[1;33m.\u001b[0m\u001b[0mindex_col\u001b[0m \u001b[1;32mis\u001b[0m \u001b[1;32mnot\u001b[0m \u001b[0mFalse\u001b[0m\u001b[1;33m\u001b[0m\u001b[0m\n\u001b[0;32m   1092\u001b[0m \u001b[1;33m\u001b[0m\u001b[0m\n\u001b[1;32m-> 1093\u001b[1;33m         \u001b[0mself\u001b[0m\u001b[1;33m.\u001b[0m\u001b[0m_reader\u001b[0m \u001b[1;33m=\u001b[0m \u001b[0m_parser\u001b[0m\u001b[1;33m.\u001b[0m\u001b[0mTextReader\u001b[0m\u001b[1;33m(\u001b[0m\u001b[0msrc\u001b[0m\u001b[1;33m,\u001b[0m \u001b[1;33m**\u001b[0m\u001b[0mkwds\u001b[0m\u001b[1;33m)\u001b[0m\u001b[1;33m\u001b[0m\u001b[0m\n\u001b[0m\u001b[0;32m   1094\u001b[0m \u001b[1;33m\u001b[0m\u001b[0m\n\u001b[0;32m   1095\u001b[0m         \u001b[1;31m# XXX\u001b[0m\u001b[1;33m\u001b[0m\u001b[1;33m\u001b[0m\u001b[0m\n",
      "\u001b[1;32m/usr/lib64/python2.6/site-packages/pandas/parser.so\u001b[0m in \u001b[0;36mpandas.parser.TextReader.__cinit__ (pandas/parser.c:4770)\u001b[1;34m()\u001b[0m\n",
      "\u001b[1;31mTypeError\u001b[0m: cannot concatenate 'str' and 'int' objects"
     ]
    }
   ],
   "source": [
    "import pandas as pd\n",
    "import numpy as np\n",
    "mobi_call=pd.read_csv(\"scoial_network/mobi_call_record_hive.csv\",header=col_names)"
   ]
  },
  {
   "cell_type": "code",
   "execution_count": 34,
   "metadata": {
    "collapsed": false
   },
   "outputs": [],
   "source": [
    "mobi=open(\"scoial_network/mobi_call_record_hive.csv\")\n",
    "mobi=mobi.readlines()"
   ]
  },
  {
   "cell_type": "code",
   "execution_count": 35,
   "metadata": {
    "collapsed": false
   },
   "outputs": [],
   "source": [
    "def convent_list(line_str):\n",
    "    dd=line_str.strip()[1:-1].split(\",\")\n",
    "    return [float(line.strip())  for line in dd]"
   ]
  },
  {
   "cell_type": "code",
   "execution_count": 36,
   "metadata": {
    "collapsed": false
   },
   "outputs": [],
   "source": [
    "mobi=np.array([convent_list(line)  for line in mobi])"
   ]
  },
  {
   "cell_type": "code",
   "execution_count": 37,
   "metadata": {
    "collapsed": false
   },
   "outputs": [],
   "source": [
    "mobi_df=pd.DataFrame(mobi,columns=col_names)"
   ]
  },
  {
   "cell_type": "code",
   "execution_count": 40,
   "metadata": {
    "collapsed": false
   },
   "outputs": [],
   "source": [
    "mobi_df.set_index(\"number\",inplace=True)"
   ]
  },
  {
   "cell_type": "code",
   "execution_count": 41,
   "metadata": {
    "collapsed": false
   },
   "outputs": [
    {
     "data": {
      "text/html": [
       "<div style=\"max-width:1500px;overflow:auto;\">\n",
       "<table border=\"1\" class=\"dataframe\">\n",
       "  <thead>\n",
       "    <tr style=\"text-align: right;\">\n",
       "      <th></th>\n",
       "      <th>call_time_sum_0812</th>\n",
       "      <th>call_time_cnt_1821</th>\n",
       "      <th>var_call_time_lag</th>\n",
       "      <th>kurt_call_time_lag</th>\n",
       "      <th>call_time_stddev_pop_0107</th>\n",
       "      <th>call_time_cnt_0812</th>\n",
       "      <th>avg_call_time_lag</th>\n",
       "      <th>call_time_avg_2200</th>\n",
       "      <th>longest_call_time_lag</th>\n",
       "      <th>avg_everyday_call_time</th>\n",
       "      <th>...</th>\n",
       "      <th>call_time_stddev_pop_2200</th>\n",
       "      <th>call_time_stddev_pop_1821</th>\n",
       "      <th>call_time_max_0107</th>\n",
       "      <th>call_time_avg_0812</th>\n",
       "      <th>cust_num</th>\n",
       "      <th>call_time_stddev_pop_0812</th>\n",
       "      <th>call_time_cnt_2200</th>\n",
       "      <th>call_time_max_2200</th>\n",
       "      <th>call_time_sum_1317</th>\n",
       "      <th>call_time_cnt_0107</th>\n",
       "    </tr>\n",
       "    <tr>\n",
       "      <th>number</th>\n",
       "      <th></th>\n",
       "      <th></th>\n",
       "      <th></th>\n",
       "      <th></th>\n",
       "      <th></th>\n",
       "      <th></th>\n",
       "      <th></th>\n",
       "      <th></th>\n",
       "      <th></th>\n",
       "      <th></th>\n",
       "      <th></th>\n",
       "      <th></th>\n",
       "      <th></th>\n",
       "      <th></th>\n",
       "      <th></th>\n",
       "      <th></th>\n",
       "      <th></th>\n",
       "      <th></th>\n",
       "      <th></th>\n",
       "      <th></th>\n",
       "      <th></th>\n",
       "    </tr>\n",
       "  </thead>\n",
       "  <tbody>\n",
       "    <tr>\n",
       "      <th>13001517056</th>\n",
       "      <td>2734</td>\n",
       "      <td>25</td>\n",
       "      <td>11791.564687</td>\n",
       "      <td>0.095679</td>\n",
       "      <td>13.242356</td>\n",
       "      <td>50</td>\n",
       "      <td>-0.189845</td>\n",
       "      <td>30.000000</td>\n",
       "      <td>297.461042</td>\n",
       "      <td>-282.367651</td>\n",
       "      <td>...</td>\n",
       "      <td>27.294688</td>\n",
       "      <td>59.571053</td>\n",
       "      <td>43</td>\n",
       "      <td>54.680000</td>\n",
       "      <td>54</td>\n",
       "      <td>61.852547</td>\n",
       "      <td>4</td>\n",
       "      <td>77</td>\n",
       "      <td>4296</td>\n",
       "      <td>5</td>\n",
       "    </tr>\n",
       "    <tr>\n",
       "      <th>13002131456</th>\n",
       "      <td>4243</td>\n",
       "      <td>29</td>\n",
       "      <td>6286.867394</td>\n",
       "      <td>0.481594</td>\n",
       "      <td>0.000000</td>\n",
       "      <td>33</td>\n",
       "      <td>2.054385</td>\n",
       "      <td>84.333333</td>\n",
       "      <td>200.509641</td>\n",
       "      <td>69.096683</td>\n",
       "      <td>...</td>\n",
       "      <td>127.412279</td>\n",
       "      <td>200.117367</td>\n",
       "      <td>105</td>\n",
       "      <td>128.575758</td>\n",
       "      <td>41</td>\n",
       "      <td>203.375907</td>\n",
       "      <td>6</td>\n",
       "      <td>368</td>\n",
       "      <td>8312</td>\n",
       "      <td>1</td>\n",
       "    </tr>\n",
       "    <tr>\n",
       "      <th>13003360256</th>\n",
       "      <td>11038</td>\n",
       "      <td>115</td>\n",
       "      <td>11035.752957</td>\n",
       "      <td>0.451520</td>\n",
       "      <td>307.395816</td>\n",
       "      <td>184</td>\n",
       "      <td>0.726211</td>\n",
       "      <td>99.200000</td>\n",
       "      <td>352.170602</td>\n",
       "      <td>100.850493</td>\n",
       "      <td>...</td>\n",
       "      <td>226.590732</td>\n",
       "      <td>125.672733</td>\n",
       "      <td>1166</td>\n",
       "      <td>59.989130</td>\n",
       "      <td>75</td>\n",
       "      <td>85.480038</td>\n",
       "      <td>10</td>\n",
       "      <td>778</td>\n",
       "      <td>13996</td>\n",
       "      <td>12</td>\n",
       "    </tr>\n",
       "  </tbody>\n",
       "</table>\n",
       "<p>3 rows × 43 columns</p>\n",
       "</div>"
      ],
      "text/plain": [
       "             call_time_sum_0812  call_time_cnt_1821  var_call_time_lag  \\\n",
       "number                                                                   \n",
       "13001517056                2734                  25       11791.564687   \n",
       "13002131456                4243                  29        6286.867394   \n",
       "13003360256               11038                 115       11035.752957   \n",
       "\n",
       "             kurt_call_time_lag  call_time_stddev_pop_0107  \\\n",
       "number                                                       \n",
       "13001517056            0.095679                  13.242356   \n",
       "13002131456            0.481594                   0.000000   \n",
       "13003360256            0.451520                 307.395816   \n",
       "\n",
       "             call_time_cnt_0812  avg_call_time_lag  call_time_avg_2200  \\\n",
       "number                                                                   \n",
       "13001517056                  50          -0.189845           30.000000   \n",
       "13002131456                  33           2.054385           84.333333   \n",
       "13003360256                 184           0.726211           99.200000   \n",
       "\n",
       "             longest_call_time_lag  avg_everyday_call_time  \\\n",
       "number                                                       \n",
       "13001517056             297.461042             -282.367651   \n",
       "13002131456             200.509641               69.096683   \n",
       "13003360256             352.170602              100.850493   \n",
       "\n",
       "                    ...          call_time_stddev_pop_2200  \\\n",
       "number              ...                                      \n",
       "13001517056         ...                          27.294688   \n",
       "13002131456         ...                         127.412279   \n",
       "13003360256         ...                         226.590732   \n",
       "\n",
       "             call_time_stddev_pop_1821  call_time_max_0107  \\\n",
       "number                                                       \n",
       "13001517056                  59.571053                  43   \n",
       "13002131456                 200.117367                 105   \n",
       "13003360256                 125.672733                1166   \n",
       "\n",
       "             call_time_avg_0812  cust_num  call_time_stddev_pop_0812  \\\n",
       "number                                                                 \n",
       "13001517056           54.680000        54                  61.852547   \n",
       "13002131456          128.575758        41                 203.375907   \n",
       "13003360256           59.989130        75                  85.480038   \n",
       "\n",
       "             call_time_cnt_2200  call_time_max_2200  call_time_sum_1317  \\\n",
       "number                                                                    \n",
       "13001517056                   4                  77                4296   \n",
       "13002131456                   6                 368                8312   \n",
       "13003360256                  10                 778               13996   \n",
       "\n",
       "             call_time_cnt_0107  \n",
       "number                           \n",
       "13001517056                   5  \n",
       "13002131456                   1  \n",
       "13003360256                  12  \n",
       "\n",
       "[3 rows x 43 columns]"
      ]
     },
     "execution_count": 41,
     "metadata": {},
     "output_type": "execute_result"
    }
   ],
   "source": [
    "mobi_df.head(3)"
   ]
  },
  {
   "cell_type": "code",
   "execution_count": 43,
   "metadata": {
    "collapsed": false
   },
   "outputs": [],
   "source": [
    "mobi_df.to_csv(\"scoial_network/crawler_mobi_call_record_hive.csv\")"
   ]
  }
 ],
 "metadata": {},
 "nbformat": 4,
 "nbformat_minor": 0
}

{
 "cells": [
  {
   "cell_type": "markdown",
   "metadata": {},
   "source": [
    "# 亲情关系判别"
   ]
  },
  {
   "cell_type": "markdown",
   "metadata": {},
   "source": [
    "## 1 数据处理"
   ]
  },
  {
   "cell_type": "markdown",
   "metadata": {},
   "source": [
    "###  1.1 数据观察"
   ]
  },
  {
   "cell_type": "code",
   "execution_count": 1,
   "metadata": {
    "collapsed": false
   },
   "outputs": [],
   "source": [
    "%matplotlib  inline\n",
    "import  pandas as pd\n",
    "import numpy as np\n",
    "from  sklearn import svm\n",
    "\n",
    "import matplotlib.pylab as plt\n",
    "import time\n",
    "# from xgboost.sklearn import XGBClassifier\n",
    "from sklearn import cross_validation, metrics   #Additional     scklearn functions\n",
    "from sklearn.grid_search import GridSearchCV   #Perforing grid search"
   ]
  },
  {
   "cell_type": "code",
   "execution_count": 3,
   "metadata": {
    "collapsed": false
   },
   "outputs": [
    {
     "name": "stderr",
     "output_type": "stream",
     "text": [
      "/usr/bin/anaconda2/lib/python2.7/site-packages/IPython/core/interactiveshell.py:2723: DtypeWarning: Columns (2,42,81) have mixed types. Specify dtype option on import or set low_memory=False.\n",
      "  interactivity=interactivity, compiler=compiler, result=result)\n"
     ]
    }
   ],
   "source": [
    "rel_data=pd.read_csv('MSN/ymdh/mobi_rel_data.csv',index_col=0)"
   ]
  },
  {
   "cell_type": "code",
   "execution_count": 4,
   "metadata": {
    "collapsed": true
   },
   "outputs": [],
   "source": [
    "rel_data.drop(['custorm_id.1','number.1','custorm_id.2','number.2'],axis=1,inplace=True)\n",
    "used=pd.read_csv('MSN/ymdh/wyd_relative_used_data.csv')\n",
    "rel_df=pd.merge(rel_data,used,on=['custorm_id','number'])\n",
    "rel_df.drop(['number','name'],axis=1,inplace=True)\n",
    "rel_df.set_index('custorm_id',inplace=True)"
   ]
  },
  {
   "cell_type": "code",
   "execution_count": 14,
   "metadata": {
    "collapsed": false
   },
   "outputs": [
    {
     "data": {
      "text/html": [
       "<div>\n",
       "<table border=\"1\" class=\"dataframe\">\n",
       "  <thead>\n",
       "    <tr style=\"text-align: right;\">\n",
       "      <th></th>\n",
       "      <th>custorm_id</th>\n",
       "      <th>number</th>\n",
       "      <th>name</th>\n",
       "      <th>is_rel</th>\n",
       "    </tr>\n",
       "  </thead>\n",
       "  <tbody>\n",
       "    <tr>\n",
       "      <th>0</th>\n",
       "      <td>3823639</td>\n",
       "      <td>15159388798</td>\n",
       "      <td>太上皇</td>\n",
       "      <td>1</td>\n",
       "    </tr>\n",
       "    <tr>\n",
       "      <th>1</th>\n",
       "      <td>3074006</td>\n",
       "      <td>14718568341</td>\n",
       "      <td>老妈子</td>\n",
       "      <td>1</td>\n",
       "    </tr>\n",
       "    <tr>\n",
       "      <th>2</th>\n",
       "      <td>6228794</td>\n",
       "      <td>15632958237</td>\n",
       "      <td>媳妇</td>\n",
       "      <td>1</td>\n",
       "    </tr>\n",
       "  </tbody>\n",
       "</table>\n",
       "</div>"
      ],
      "text/plain": [
       "   custorm_id       number name  is_rel\n",
       "0     3823639  15159388798  太上皇       1\n",
       "1     3074006  14718568341  老妈子       1\n",
       "2     6228794  15632958237   媳妇       1"
      ]
     },
     "execution_count": 14,
     "metadata": {},
     "output_type": "execute_result"
    }
   ],
   "source": [
    "used.head(3)"
   ]
  },
  {
   "cell_type": "code",
   "execution_count": 35,
   "metadata": {
    "collapsed": false
   },
   "outputs": [
    {
     "data": {
      "text/html": [
       "<div>\n",
       "<table border=\"1\" class=\"dataframe\">\n",
       "  <thead>\n",
       "    <tr style=\"text-align: right;\">\n",
       "      <th></th>\n",
       "      <th>total_frequency</th>\n",
       "      <th>total_duration</th>\n",
       "      <th>avg_duration</th>\n",
       "      <th>max_duration</th>\n",
       "      <th>min_duration</th>\n",
       "      <th>coef_var</th>\n",
       "      <th>income_total_duration</th>\n",
       "      <th>outgo_total_duration</th>\n",
       "      <th>income_total_frequency</th>\n",
       "      <th>outgo_total_frequency</th>\n",
       "      <th>...</th>\n",
       "      <th>workday3_engegament_ratio</th>\n",
       "      <th>workday3_avg_time</th>\n",
       "      <th>workday3_time_ratio</th>\n",
       "      <th>workday3_call_cnt_ratio</th>\n",
       "      <th>workday3_income_time_ratio</th>\n",
       "      <th>workday3ougo_time_ratio</th>\n",
       "      <th>workday3_income_cnt_ratio</th>\n",
       "      <th>workday3_ougo_cnt_ratio</th>\n",
       "      <th>week_work_ratio</th>\n",
       "      <th>is_rel</th>\n",
       "    </tr>\n",
       "    <tr>\n",
       "      <th>custorm_id</th>\n",
       "      <th></th>\n",
       "      <th></th>\n",
       "      <th></th>\n",
       "      <th></th>\n",
       "      <th></th>\n",
       "      <th></th>\n",
       "      <th></th>\n",
       "      <th></th>\n",
       "      <th></th>\n",
       "      <th></th>\n",
       "      <th></th>\n",
       "      <th></th>\n",
       "      <th></th>\n",
       "      <th></th>\n",
       "      <th></th>\n",
       "      <th></th>\n",
       "      <th></th>\n",
       "      <th></th>\n",
       "      <th></th>\n",
       "      <th></th>\n",
       "      <th></th>\n",
       "    </tr>\n",
       "  </thead>\n",
       "  <tbody>\n",
       "    <tr>\n",
       "      <th>1000064</th>\n",
       "      <td>39</td>\n",
       "      <td>3023.0</td>\n",
       "      <td>77.512821</td>\n",
       "      <td>371.0</td>\n",
       "      <td>12.0</td>\n",
       "      <td>1.135243</td>\n",
       "      <td>953.0</td>\n",
       "      <td>2070.0</td>\n",
       "      <td>14</td>\n",
       "      <td>25</td>\n",
       "      <td>...</td>\n",
       "      <td>0.75063</td>\n",
       "      <td>44.111111</td>\n",
       "      <td>0.355416</td>\n",
       "      <td>0.60</td>\n",
       "      <td>0.222023</td>\n",
       "      <td>0.133393</td>\n",
       "      <td>0.266667</td>\n",
       "      <td>0.333333</td>\n",
       "      <td>2.831432</td>\n",
       "      <td>0</td>\n",
       "    </tr>\n",
       "    <tr>\n",
       "      <th>1000092</th>\n",
       "      <td>21</td>\n",
       "      <td>1413.0</td>\n",
       "      <td>67.285714</td>\n",
       "      <td>153.0</td>\n",
       "      <td>12.0</td>\n",
       "      <td>0.520324</td>\n",
       "      <td>872.0</td>\n",
       "      <td>541.0</td>\n",
       "      <td>15</td>\n",
       "      <td>6</td>\n",
       "      <td>...</td>\n",
       "      <td>NaN</td>\n",
       "      <td>50.666667</td>\n",
       "      <td>0.652361</td>\n",
       "      <td>0.75</td>\n",
       "      <td>0.652361</td>\n",
       "      <td>NaN</td>\n",
       "      <td>0.750000</td>\n",
       "      <td>0.000000</td>\n",
       "      <td>0.492080</td>\n",
       "      <td>0</td>\n",
       "    </tr>\n",
       "  </tbody>\n",
       "</table>\n",
       "<p>2 rows × 133 columns</p>\n",
       "</div>"
      ],
      "text/plain": [
       "            total_frequency  total_duration  avg_duration  max_duration  \\\n",
       "custorm_id                                                                \n",
       "1000064                  39          3023.0     77.512821         371.0   \n",
       "1000092                  21          1413.0     67.285714         153.0   \n",
       "\n",
       "            min_duration  coef_var  income_total_duration  \\\n",
       "custorm_id                                                  \n",
       "1000064             12.0  1.135243                  953.0   \n",
       "1000092             12.0  0.520324                  872.0   \n",
       "\n",
       "            outgo_total_duration  income_total_frequency  \\\n",
       "custorm_id                                                 \n",
       "1000064                   2070.0                      14   \n",
       "1000092                    541.0                      15   \n",
       "\n",
       "            outgo_total_frequency   ...    workday3_engegament_ratio  \\\n",
       "custorm_id                          ...                                \n",
       "1000064                        25   ...                      0.75063   \n",
       "1000092                         6   ...                          NaN   \n",
       "\n",
       "            workday3_avg_time  workday3_time_ratio  workday3_call_cnt_ratio  \\\n",
       "custorm_id                                                                    \n",
       "1000064             44.111111             0.355416                     0.60   \n",
       "1000092             50.666667             0.652361                     0.75   \n",
       "\n",
       "            workday3_income_time_ratio  workday3ougo_time_ratio  \\\n",
       "custorm_id                                                        \n",
       "1000064                       0.222023                 0.133393   \n",
       "1000092                       0.652361                      NaN   \n",
       "\n",
       "            workday3_income_cnt_ratio  workday3_ougo_cnt_ratio  \\\n",
       "custorm_id                                                       \n",
       "1000064                      0.266667                 0.333333   \n",
       "1000092                      0.750000                 0.000000   \n",
       "\n",
       "            week_work_ratio  is_rel  \n",
       "custorm_id                           \n",
       "1000064            2.831432       0  \n",
       "1000092            0.492080       0  \n",
       "\n",
       "[2 rows x 133 columns]"
      ]
     },
     "execution_count": 35,
     "metadata": {},
     "output_type": "execute_result"
    }
   ],
   "source": [
    "rel_df.head(2)"
   ]
  },
  {
   "cell_type": "markdown",
   "metadata": {},
   "source": [
    "### 1.2  异常值处理\n",
    "- 通过观察数据分布的形式，将极值点去掉，最大程度上使得数据均匀分布"
   ]
  },
  {
   "cell_type": "code",
   "execution_count": 174,
   "metadata": {
    "collapsed": false
   },
   "outputs": [],
   "source": [
    "cond=(rel_df.outgo_time_ratio<1.0)&(rel_df.month_avg_income2avg<2.0)"
   ]
  },
  {
   "cell_type": "raw",
   "metadata": {},
   "source": [
    " 1.改变num 观察数据在对数转换前后的数据分布的不同,观察异常值，也可以通过聚类等其他手段去除异常值\n",
    " 2.该数据缺失值是不存在该中情况的通话，所以用0.0填充即可，填充完为了取对数方便，所有特征+0.01，这样在保证数据整体特征，以便标准化处理"
   ]
  },
  {
   "cell_type": "code",
   "execution_count": 166,
   "metadata": {
    "collapsed": false
   },
   "outputs": [
    {
     "name": "stdout",
     "output_type": "stream",
     "text": [
      "workday2_income_cnt_ratio\n"
     ]
    },
    {
     "data": {
      "text/plain": [
       "<matplotlib.legend.Legend at 0x7ff9378f4f10>"
      ]
     },
     "execution_count": 166,
     "metadata": {},
     "output_type": "execute_result"
    },
    {
     "data": {
      "image/png": "[encoded data removed]",
      "text/plain": [
       "<matplotlib.figure.Figure at 0x7ff937a80410>"
      ]
     },
     "metadata": {},
     "output_type": "display_data"
    }
   ],
   "source": [
    "num=115\n",
    "label=rel_df.columns[num]  \n",
    "print label\n",
    "fig,(ax1,ax2)=plt.subplots(ncols=2,nrows=1,figsize=(9,4))\n",
    "\n",
    "s1=np.log(rel_df[label]+0.01).astype('float').value_counts().sort_index().dropna()\n",
    "ax2.plot(s1.index,s1.values,label='logy')\n",
    "s2=rel_df[label].astype('float').value_counts().sort_index().dropna()\n",
    "ax1.plot(s2.index,s2.values,label='nonlogy')\n",
    "ax1.legend(loc=1)\n",
    "ax2.legend(loc=1)"
   ]
  },
  {
   "cell_type": "code",
   "execution_count": 135,
   "metadata": {
    "collapsed": false
   },
   "outputs": [
    {
     "data": {
      "text/plain": [
       "<matplotlib.axes._subplots.AxesSubplot at 0x7ff9d9d22d90>"
      ]
     },
     "execution_count": 135,
     "metadata": {},
     "output_type": "execute_result"
    },
    {
     "data": {
      "image/png": "[encoded data removed]",
      "text/plain": [
       "<matplotlib.figure.Figure at 0x7ff9f7ca8e50>"
      ]
     },
     "metadata": {},
     "output_type": "display_data"
    }
   ],
   "source": [
    "import seaborn as sns\n",
    "sns.distplot(rel_df[label].dropna())"
   ]
  },
  {
   "cell_type": "code",
   "execution_count": 138,
   "metadata": {
    "collapsed": false
   },
   "outputs": [
    {
     "data": {
      "text/plain": [
       "(29279, 133)"
      ]
     },
     "execution_count": 138,
     "metadata": {},
     "output_type": "execute_result"
    }
   ],
   "source": [
    "rel_df[rel_df.month_avg_income2avg>2].shape"
   ]
  },
  {
   "cell_type": "code",
   "execution_count": 141,
   "metadata": {
    "collapsed": false
   },
   "outputs": [
    {
     "data": {
      "text/plain": [
       "1.3412107515525"
      ]
     },
     "execution_count": 141,
     "metadata": {},
     "output_type": "execute_result"
    }
   ],
   "source": [
    "rel_df.month_avg_income2avg.quantile(0.95)"
   ]
  },
  {
   "cell_type": "code",
   "execution_count": 151,
   "metadata": {
    "collapsed": false
   },
   "outputs": [
    {
     "name": "stdout",
     "output_type": "stream",
     "text": [
      "month_avg_income2avg\n"
     ]
    },
    {
     "data": {
      "text/plain": [
       "[<matplotlib.lines.Line2D at 0x7ffa60d646d0>]"
      ]
     },
     "execution_count": 151,
     "metadata": {},
     "output_type": "execute_result"
    },
    {
     "data": {
      "image/png": "[encoded data removed]",
      "text/plain": [
       "<matplotlib.figure.Figure at 0x7ffa60d64650>"
      ]
     },
     "metadata": {},
     "output_type": "display_data"
    }
   ],
   "source": [
    "print label\n",
    "fig,(ax1,ax2)=plt.subplots(ncols=2,nrows=1,figsize=(9,4))\n",
    "\n",
    "s1=np.log(rel_df[cond][label]+0.01).astype('float').value_counts().sort_index().dropna()\n",
    "ax2.plot(s1.index,s1.values)\n",
    "s2=rel_df[cond][label].astype('float').value_counts().sort_index().dropna()\n",
    "ax1.plot(s2.index,s2.values)"
   ]
  },
  {
   "cell_type": "code",
   "execution_count": 176,
   "metadata": {
    "collapsed": false
   },
   "outputs": [],
   "source": [
    "## 异常值处理\n",
    "rel_df=rel_df[cond]  \n",
    "## 缺失值处理\n",
    "rel_df.fillna(0.0,inplace=True)\n",
    "## 对数转换\n",
    "# X_rel=np.log(rel_df.ix[:,:-1]+0.01)"
   ]
  },
  {
   "cell_type": "markdown",
   "metadata": {},
   "source": [
    "### 1.3 不平衡数据处理"
   ]
  },
  {
   "cell_type": "code",
   "execution_count": 3,
   "metadata": {
    "collapsed": false
   },
   "outputs": [
    {
     "name": "stdout",
     "output_type": "stream",
     "text": [
      "2068888 6335996\n"
     ]
    }
   ],
   "source": [
    "rel_df=pd.read_csv('MSN/ymdh/proce_data/mobi_train_data.csv',index_col=0)\n",
    "target=rel_df.is_rel\n",
    "\n",
    "## 对数变化、标准化\n",
    "Maxmin=lambda df:(df-df.min())/(df.max()-df.min())\n",
    "rel_df=Maxmin(np.log(rel_df.ix[:,:-1].fillna(0.0)+0.01))\n",
    "rel_df['is_rel']=target\n",
    "rel_num=rel_df[rel_df.is_rel==1].shape[0]\n",
    "unrel_num=rel_df[rel_df.is_rel==0].shape[0]\n",
    "## 欠采样\n",
    "sampler = np.random.permutation(unrel_num)[:rel_num]\n",
    "rel_df=pd.concat([rel_df[rel_df.is_rel==0].take(sampler),rel_df[rel_df.is_rel==1]],axis=0)\n",
    "\n",
    "## 重采样\n",
    "# sampler = np.random.randint(0,rel_num,size=unrel_num)\n",
    "# rel_df=pd.concat([rel_df[rel_df.is_rel==1].take(sampler),rel_df[rel_df.is_rel==0]],axis=0)\n",
    "\n",
    "# unrel_df=rel_df[rel_df.is_rel==0]\n",
    "print rel_num,unrel_num"
   ]
  },
  {
   "cell_type": "code",
   "execution_count": 4,
   "metadata": {
    "collapsed": false
   },
   "outputs": [
    {
     "data": {
      "text/plain": [
       "(4137776, 133)"
      ]
     },
     "execution_count": 4,
     "metadata": {},
     "output_type": "execute_result"
    }
   ],
   "source": [
    "rel_df.shape"
   ]
  },
  {
   "cell_type": "code",
   "execution_count": 5,
   "metadata": {
    "collapsed": false
   },
   "outputs": [],
   "source": [
    "rel_df.to_csv('MSN/ymdh/proce_data/mobi_under_proc_data.csv')"
   ]
  },
  {
   "cell_type": "code",
   "execution_count": null,
   "metadata": {
    "collapsed": true
   },
   "outputs": [],
   "source": []
  },
  {
   "cell_type": "markdown",
   "metadata": {},
   "source": [
    "##  三 、模型训练"
   ]
  },
  {
   "cell_type": "markdown",
   "metadata": {},
   "source": [
    "### 3.1 LR"
   ]
  },
  {
   "cell_type": "code",
   "execution_count": 3,
   "metadata": {
    "collapsed": false
   },
   "outputs": [
    {
     "data": {
      "text/plain": [
       "55"
      ]
     },
     "execution_count": 3,
     "metadata": {},
     "output_type": "execute_result"
    }
   ],
   "source": [
    "from sklearn.linear_model import LogisticRegression \n",
    "from sklearn.cross_validation import train_test_split\n",
    "from sklearn.metrics import r2_score, auc,roc_auc_score,precision_score,accuracy_score,f1_score,recall_score,auc\n",
    "import gc\n",
    "rel_df=pd.read_csv('MSN/ymdh/proce_data/mobi_under_proc_data.csv',index_col=0)\n",
    "target=rel_df.is_rel\n",
    "rel_df=rel_df.ix[:,:-1]\n",
    "X_train, X_test, y_train, y_test = train_test_split(rel_df, target)\n",
    "del target\n",
    "del rel_df\n",
    "gc.collect()"
   ]
  },
  {
   "cell_type": "code",
   "execution_count": 4,
   "metadata": {
    "collapsed": false
   },
   "outputs": [
    {
     "name": "stdout",
     "output_type": "stream",
     "text": [
      "auc: 0.661403605158\n",
      "precision: 0.664836758122\n",
      "accuracy: 0.661428748197\n",
      "f1: 0.656534978254\n",
      "recall: 0.648437969157\n"
     ]
    }
   ],
   "source": [
    "clf = LogisticRegression()  # 使用类，参数全是默认的  \n",
    "clf.fit(X_train, y_train)  # 训练数据来学习，不需要返回值\n",
    "y_pred=clf.predict(X_test)\n",
    "print 'auc:',roc_auc_score(y_test, y_pred)\n",
    "print 'precision:',precision_score(y_test,y_pred)\n",
    "print 'accuracy:',accuracy_score(y_test,y_pred)\n",
    "print 'f1:',f1_score(y_test,y_pred)\n",
    "print 'recall:',recall_score(y_test,y_pred)"
   ]
  },
  {
   "cell_type": "code",
   "execution_count": null,
   "metadata": {
    "collapsed": false
   },
   "outputs": [],
   "source": [
    "from sklearn import svm\n",
    "k=['rbf', 'linear','poly','sigmoid']\n",
    "c= range(1,10)\n",
    "g=np.arange(1e-4,1e-2,0.001)\n",
    "g=g.tolist()\n",
    "param_grid=dict(kernel=k, C=c, gamma=g)\n",
    "print param_grid\n",
    "\n",
    "svr=svm.SVC()\n",
    "grid = GridSearchCV(svr, param_grid, cv=5,scoring='accuracy')\n",
    "grid.fit(X_train, y_train)\n",
    "\n",
    "# y_pre=clf.predict(X_test)\n",
    "# print roc_auc_score(y_test, y_pred)\n",
    "# print precision_score(y_test,y_pred)\n",
    "# print accuracy_score(y_test,y_pred)\n",
    "# print f1_score(y_test,y_pred)\n",
    "# print recall_score(y_test,y_pred)\n",
    "\n",
    "print(\"Grid scores on development set:\")\n",
    "print grid.grid_scores_  \n",
    "\n",
    "print(\"Best parameters set found on development set:\")\n",
    "print(grid.best_params_)\n",
    "print(\"Grid best score:\")\n",
    "\n",
    "print (grid.best_score_)\n",
    "# create a list of the mean scores only\n",
    "grid_mean_scores = [result.mean_validation_score for result in grid.grid_scores_]\n",
    "print grid_mean_scores"
   ]
  },
  {
   "cell_type": "code",
   "execution_count": null,
   "metadata": {
    "collapsed": false
   },
   "outputs": [],
   "source": [
    "from sklearn import svm\n",
    "\n",
    "svr=svm.SVC()\n",
    "svr.fit(X_train, y_train)\n",
    "\n",
    "y_pred=svr.predict(X_test)\n",
    "print 'auc:',roc_auc_score(y_test, y_pred)\n",
    "print 'precision:',precision_score(y_test,y_pred)\n",
    "print 'accuracy:',accuracy_score(y_test,y_pred)\n",
    "print 'f1:',f1_score(y_test,y_pred)\n",
    "print 'recall:',recall_score(y_test,y_pred)"
   ]
  }
 ],
 "metadata": {
  "kernelspec": {
   "display_name": "Python [Root]",
   "language": "python",
   "name": "Python [Root]"
  },
  "language_info": {
   "codemirror_mode": {
    "name": "ipython",
    "version": 2
   },
   "file_extension": ".py",
   "mimetype": "text/x-python",
   "name": "python",
   "nbconvert_exporter": "python",
   "pygments_lexer": "ipython2",
   "version": "2.7.12"
  }
 },
 "nbformat": 4,
 "nbformat_minor": 0
}

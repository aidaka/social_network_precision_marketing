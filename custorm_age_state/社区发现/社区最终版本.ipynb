{
 "cells": [
  {
   "cell_type": "code",
   "execution_count": 1,
   "metadata": {
    "collapsed": true
   },
   "outputs": [],
   "source": [
    "%matplotlib  inline\n",
    "import pandas as pd\n",
    "import numpy as np\n",
    "from snap import *\n",
    "\n",
    "\n",
    "def  getGraph(nodes,edges):\n",
    "    G = TUNGraph.New()\n",
    "    ## 添加节点\n",
    "    for node in nodes:\n",
    "        G.AddNode(node) \n",
    "    ## 添加边\n",
    "    for A,B in edges:\n",
    "        G.AddEdge(A,B)\n",
    "    return G\n",
    "\n",
    "\n",
    "### 入度出度计算\n",
    "def getInOutDegrees(UGraph=None):\n",
    "    nodes_stats=[]\n",
    "    for NI in UGraph.Nodes():\n",
    "        temp=[NI.GetId(), NI.GetOutDeg(), NI.GetInDeg()]\n",
    "        nodes_stats.append(temp)\n",
    "    call_net_nodes=pd.DataFrame(data=nodes_stats,columns=['id','OutDeg','InDeg']).set_index('id')\n",
    "    return call_net_nodes\n",
    "\n",
    "\n",
    "##Uses the Clauset-Newman-Moore community detection method for large networks. \n",
    "# At every step of the algorithm two communities that contribute maximum positive value \n",
    "# to global modularity are merged. Fills CmtyV with all the communities detected and \n",
    "# returns the modularity of the network.\n",
    "def getCNMCommDetect(UGraph=None):\n",
    "    CmtyV = TCnComV()\n",
    "    modularity = CommunityCNM(UGraph, CmtyV)\n",
    "    comm=pd.DataFrame([list(line) for line in list(CmtyV)])\n",
    "    return comm,modularity\n",
    "\n",
    "## Uses the Girvan-Newman community detection algorithm based on betweenness centrality on Graph.\n",
    "def getGNCommDetect(UGraph=None):\n",
    "    CmtyV = TCnComV()\n",
    "    modularity = CommunityGirvanNewman(UGraph, CmtyV)\n",
    "    comm=pd.DataFrame([list(line) for line in list(CmtyV)])\n",
    "    return comm,modularity\n",
    "\n",
    "## 得到由图中节点组成的子图\n",
    "def getSubGraph(Graph,nodes):\n",
    "    NIdV = snap.TIntV()\n",
    "    for i in nodes:\n",
    "        NIdV.Add(i)\n",
    "    SubGraph = snap.GetSubGraph(Graph, NIdV)\n",
    "    return SubGraph\n",
    "\n",
    "def GetStats():\n",
    "    diam = GetBfsFullDiam(Graph, 100, False)  ## 网络直径\n",
    "    GraphClustCoeff= GetClustCf (Graph, -1)     ## 聚集系数\n",
    "    NumTriads=GetTriads(Graph, 50)   ## 三元闭包的个数\n",
    "\n",
    "# GetEdgesInOut(Graph, Nodes)  ## 社区内部边，社区外部的边，Graph可以是有向图或者无向图。Nodes是图中的节点Id\n",
    "# snap.GetModularity(Graph, Nodes, 1000)  ## 又Nodes组成的社区的模块度，Gedges是可选参数，如果Gedes和实际不一样则得到的错误的模块度\n",
    "# # convert undirected graph to directed\n",
    "# GOut = snap.ConvertGraph(snap.PNGraph, GIn)  ## 实现无向图向有向图的转换，图类别的转换\n",
    "\n",
    "def apply_packed_function_for_map((dumped_function, item, args, kwargs),):\n",
    "    \"\"\"\n",
    "    Unpack dumped function as target function and call it with arguments.\n",
    "\n",
    "    :param (dumped_function, item, args, kwargs):\n",
    "        a tuple of dumped function and its arguments\n",
    "    :return:\n",
    "        result of target function\n",
    "    \"\"\"\n",
    "    target_function = dill.loads(dumped_function)\n",
    "    res = target_function(item, *args, **kwargs)\n",
    "    return res\n",
    "\n",
    "\n",
    "def pack_function_for_map(target_function, items, *args, **kwargs):\n",
    "    \"\"\"\n",
    "    Pack function and arguments to object that can be sent from one\n",
    "    multiprocessing.Process to another. The main problem is:\n",
    "        «multiprocessing.Pool.map*» or «apply*»\n",
    "        cannot use class methods or closures.\n",
    "    It solves this problem with «dill».\n",
    "    It works with target function as argument, dumps it («with dill»)\n",
    "    and returns dumped function with arguments of target function.\n",
    "    For more performance we dump only target function itself\n",
    "    and don't dump its arguments.\n",
    "    How to use (pseudo-code):\n",
    "\n",
    "        ~>>> import multiprocessing\n",
    "        ~>>> images = [...]\n",
    "        ~>>> pool = multiprocessing.Pool(100500)\n",
    "        ~>>> features = pool.map(\n",
    "        ~...     *pack_function_for_map(\n",
    "        ~...         super(Extractor, self).extract_features,\n",
    "        ~...         images,\n",
    "        ~...         type='png'\n",
    "        ~...         **options,\n",
    "        ~...     )\n",
    "        ~... )\n",
    "        ~>>>\n",
    "\n",
    "    :param target_function:\n",
    "        function, that you want to execute like  target_function(item, *args, **kwargs).\n",
    "    :param items:\n",
    "        list of items for map\n",
    "    :param args:\n",
    "        positional arguments for target_function(item, *args, **kwargs)\n",
    "    :param kwargs:\n",
    "        named arguments for target_function(item, *args, **kwargs)\n",
    "    :return: tuple(function_wrapper, dumped_items)\n",
    "        It returs a tuple with\n",
    "            * function wrapper, that unpack and call target function;\n",
    "            * list of packed target function and its' arguments.\n",
    "    \"\"\"\n",
    "    dumped_function = dill.dumps(target_function)\n",
    "    dumped_items = [(dumped_function, item, args, kwargs) for item in items]\n",
    "    return apply_packed_function_for_map, dumped_items\n",
    "\n",
    "def getNodeEdge(filename):\n",
    "    df=pd.read_csv(filename,index_col=0)\n",
    "    df.drop_duplicates(['cust_a','cust_b'],inplace=True)\n",
    "    cond=(df.cust_a!=df.cust_b)\n",
    "    df=df[cond]\n",
    "    nodes=np.union1d(df.cust_a.unique(),df.cust_b.unique())\n",
    "    edges=df.values\n",
    "    return nodes,edges\n",
    "\n",
    "def getGraph(filename,U=True):\n",
    "    nodes,edges=getNodeEdge(filename)\n",
    "    if U:\n",
    "        G=TUNGraph.New()\n",
    "    else:\n",
    "        G=TNGraph.New()\n",
    "    for node in nodes:\n",
    "        G.AddNode(node) \n",
    "    ## 添加边\n",
    "    for A,B in edges:\n",
    "        G.AddEdge(A,B)\n",
    "    return G\n",
    "\n",
    "def getNodeStats(UGraph):\n",
    "    stats_df=getInOutDegrees(UGraph)\n",
    "    Nodes = TIntFltH()\n",
    "    Edges = TIntPrFltH()\n",
    "    GetBetweennessCentr(UGraph, Nodes, Edges, 1.0)\n",
    "    stats_df['BetweennessCentr']=[Nodes[node] for node in Nodes]\n",
    "#     stats_df['DegreeCentr']=[GetDegreeCentr(UGraph, NI.GetId()) for NI in UGraph.Nodes()]\n",
    "    stats_df['ClosenessCentr']=[GetClosenessCentr(UGraph, NI.GetId()) for NI in UGraph.Nodes()]\n",
    "    stats_df['FarnessCentr']=[GetFarnessCentr(UGraph, NI.GetId()) for NI in UGraph.Nodes()]\n",
    "    stats_df['NodeEcc']=[GetNodeEcc(UGraph, NI.GetId()) for NI in UGraph.Nodes()]\n",
    "    stats_df['NodeClustCf']=[GetNodeClustCf(UGraph, NI.GetId()) for NI in UGraph.Nodes()]\n",
    "    stats_df['NodeTriads']=[GetNodeTriads(UGraph, NI.GetId()) for NI in UGraph.Nodes()]\n",
    "    return stats_df"
   ]
  },
  {
   "cell_type": "code",
   "execution_count": 112,
   "metadata": {
    "collapsed": false
   },
   "outputs": [],
   "source": [
    "# app_conatcts=getGraph('../chapter1data/app_contacts.csv',U=False)\n",
    "# sms=getGraph('../chapter1data/sms_net.csv',U=False)\n",
    "# call_records=getGraph('../chapter1data/call_record_net.csv',U=False)\n",
    "sms_MxWcc=GetMxWcc_PNGraph(sms)    \n",
    "app_conatcts_MxWcc=GetMxScc_PNGraph(app_conatcts)\n",
    "call_record=GetMxWcc_PNGraph(call_records)"
   ]
  },
  {
   "cell_type": "code",
   "execution_count": 69,
   "metadata": {
    "collapsed": false
   },
   "outputs": [
    {
     "data": {
      "text/plain": [
       "0.6630393789873975"
      ]
     },
     "execution_count": 69,
     "metadata": {},
     "output_type": "execute_result"
    }
   ],
   "source": [
    "GetMxWccSz_PNGraph(sms)"
   ]
  },
  {
   "cell_type": "code",
   "execution_count": 113,
   "metadata": {
    "collapsed": false
   },
   "outputs": [
    {
     "data": {
      "text/plain": [
       "0.9623965313362239"
      ]
     },
     "execution_count": 113,
     "metadata": {},
     "output_type": "execute_result"
    }
   ],
   "source": [
    "GetMxWccSz_PNGraph(call_records)   ##最大连通分量占得比例"
   ]
  },
  {
   "cell_type": "code",
   "execution_count": 114,
   "metadata": {
    "collapsed": false
   },
   "outputs": [
    {
     "data": {
      "text/plain": [
       "0.9750595189229128"
      ]
     },
     "execution_count": 114,
     "metadata": {},
     "output_type": "execute_result"
    }
   ],
   "source": [
    "GetMxWccSz_PNGraph(app_conatcts)"
   ]
  },
  {
   "cell_type": "code",
   "execution_count": 107,
   "metadata": {
    "collapsed": false
   },
   "outputs": [
    {
     "data": {
      "text/plain": [
       "11391669"
      ]
     },
     "execution_count": 107,
     "metadata": {},
     "output_type": "execute_result"
    }
   ],
   "source": [
    "call_records.GetEdges()"
   ]
  },
  {
   "cell_type": "code",
   "execution_count": 113,
   "metadata": {
    "collapsed": false
   },
   "outputs": [
    {
     "data": {
      "text/plain": [
       "11342955"
      ]
     },
     "execution_count": 113,
     "metadata": {},
     "output_type": "execute_result"
    }
   ],
   "source": []
  },
  {
   "cell_type": "code",
   "execution_count": 131,
   "metadata": {
    "collapsed": false
   },
   "outputs": [],
   "source": [
    "def UserDiscover(UG):\n",
    "    degreesNode=getInOutDegrees(UG)\n",
    "#     delnodes=degreesNode[(degreesNode.OutDeg<2)|(degreesNode.InDeg<2)].index.values\n",
    "    delnodes=degreesNode[degreesNode.sum(axis=1)<2].index.values\n",
    "\n",
    "    V = TIntV()\n",
    "    for i in delnodes:\n",
    "        V.Add(i)\n",
    "    DelNodes(UG, V)\n",
    "    UG=GetMxScc_PNGraph(UG)\n",
    "    return  UG\n",
    "\n",
    "def DescGraph(h):\n",
    "    flag=True\n",
    "    while flag:\n",
    "        h=UserDiscover(h)\n",
    "        h=GetMxScc_PNGraph(h)\n",
    "        num=h.GetNodes()\n",
    "        print num\n",
    "        if num<200000:\n",
    "            flag=False\n",
    "    return  h\n",
    "    \n",
    "    "
   ]
  },
  {
   "cell_type": "code",
   "execution_count": 132,
   "metadata": {
    "collapsed": false
   },
   "outputs": [],
   "source": [
    "# MPCs=DescGraph(app_conatcts)\n",
    "CDRs=UserDiscover(call_record)  ##6\n",
    "# SMSs=GetMxWcc_PNGraph(sms)\n",
    "# SMSs=DescGraph(sms)"
   ]
  },
  {
   "cell_type": "code",
   "execution_count": 117,
   "metadata": {
    "collapsed": false
   },
   "outputs": [],
   "source": [
    "dd=getInOutDegrees(call_record)"
   ]
  },
  {
   "cell_type": "code",
   "execution_count": 135,
   "metadata": {
    "collapsed": false
   },
   "outputs": [
    {
     "data": {
      "text/plain": [
       "358717"
      ]
     },
     "execution_count": 135,
     "metadata": {},
     "output_type": "execute_result"
    }
   ],
   "source": [
    "CDRs."
   ]
  },
  {
   "cell_type": "code",
   "execution_count": 137,
   "metadata": {
    "collapsed": false
   },
   "outputs": [],
   "source": [
    "SavePajek(CDRs,'CDRs.net')"
   ]
  },
  {
   "cell_type": "code",
   "execution_count": 67,
   "metadata": {
    "collapsed": false
   },
   "outputs": [],
   "source": [
    "SMSs=GetMxWcc_PNGraph(sms)\n"
   ]
  },
  {
   "cell_type": "code",
   "execution_count": 54,
   "metadata": {
    "collapsed": false
   },
   "outputs": [
    {
     "data": {
      "text/plain": [
       "32666"
      ]
     },
     "execution_count": 54,
     "metadata": {},
     "output_type": "execute_result"
    }
   ],
   "source": [
    "sms.GetEdges()"
   ]
  },
  {
   "cell_type": "code",
   "execution_count": 81,
   "metadata": {
    "collapsed": false
   },
   "outputs": [
    {
     "name": "stdout",
     "output_type": "stream",
     "text": [
      "CPU times: user 15min 27s, sys: 169 ms, total: 15min 28s\n",
      "Wall time: 15min 27s\n"
     ]
    }
   ],
   "source": [
    "# smsNode_df=getNodeStats(sms_MxWcc)\n",
    "%time MPCNode_df=getNodeStats(MPCs)"
   ]
  },
  {
   "cell_type": "code",
   "execution_count": 84,
   "metadata": {
    "collapsed": false
   },
   "outputs": [
    {
     "name": "stdout",
     "output_type": "stream",
     "text": [
      "CPU times: user 13min 55s, sys: 263 ms, total: 13min 55s\n",
      "Wall time: 13min 55s\n"
     ]
    }
   ],
   "source": [
    "%time CDRNode_df=getNodeStats(CDRs)"
   ]
  },
  {
   "cell_type": "code",
   "execution_count": 107,
   "metadata": {
    "collapsed": false
   },
   "outputs": [
    {
     "data": {
      "text/plain": [
       "5"
      ]
     },
     "execution_count": 107,
     "metadata": {},
     "output_type": "execute_result"
    }
   ],
   "source": [
    "for i in range(10):\n",
    "GetBfsFullDiam(sms_MxWcc, 100, False)"
   ]
  },
  {
   "cell_type": "code",
   "execution_count": 108,
   "metadata": {
    "collapsed": true
   },
   "outputs": [],
   "source": [
    "CDRNode_df.to_csv('result/CDRNode_df.csv')"
   ]
  },
  {
   "cell_type": "code",
   "execution_count": 85,
   "metadata": {
    "collapsed": false
   },
   "outputs": [
    {
     "data": {
      "text/html": [
       "<div>\n",
       "<table border=\"1\" class=\"dataframe\">\n",
       "  <thead>\n",
       "    <tr style=\"text-align: right;\">\n",
       "      <th></th>\n",
       "      <th>OutDeg</th>\n",
       "      <th>InDeg</th>\n",
       "      <th>BetweennessCentr</th>\n",
       "      <th>ClosenessCentr</th>\n",
       "      <th>FarnessCentr</th>\n",
       "      <th>NodeEcc</th>\n",
       "      <th>NodeClustCf</th>\n",
       "      <th>NodeTriads</th>\n",
       "    </tr>\n",
       "  </thead>\n",
       "  <tbody>\n",
       "    <tr>\n",
       "      <th>count</th>\n",
       "      <td>9973.000000</td>\n",
       "      <td>9973.000000</td>\n",
       "      <td>9.973000e+03</td>\n",
       "      <td>9973.000000</td>\n",
       "      <td>9973.000000</td>\n",
       "      <td>9973.000000</td>\n",
       "      <td>9973.000000</td>\n",
       "      <td>9973.000000</td>\n",
       "    </tr>\n",
       "    <tr>\n",
       "      <th>mean</th>\n",
       "      <td>11.162038</td>\n",
       "      <td>11.162038</td>\n",
       "      <td>2.553706e+04</td>\n",
       "      <td>0.166534</td>\n",
       "      <td>6.121754</td>\n",
       "      <td>14.575053</td>\n",
       "      <td>0.339686</td>\n",
       "      <td>31.066379</td>\n",
       "    </tr>\n",
       "    <tr>\n",
       "      <th>std</th>\n",
       "      <td>6.673824</td>\n",
       "      <td>6.695202</td>\n",
       "      <td>6.627614e+04</td>\n",
       "      <td>0.020970</td>\n",
       "      <td>0.959503</td>\n",
       "      <td>1.174380</td>\n",
       "      <td>0.208130</td>\n",
       "      <td>43.348919</td>\n",
       "    </tr>\n",
       "    <tr>\n",
       "      <th>min</th>\n",
       "      <td>1.000000</td>\n",
       "      <td>1.000000</td>\n",
       "      <td>0.000000e+00</td>\n",
       "      <td>0.069248</td>\n",
       "      <td>4.357300</td>\n",
       "      <td>11.000000</td>\n",
       "      <td>0.000000</td>\n",
       "      <td>0.000000</td>\n",
       "    </tr>\n",
       "    <tr>\n",
       "      <th>25%</th>\n",
       "      <td>7.000000</td>\n",
       "      <td>7.000000</td>\n",
       "      <td>1.598955e+03</td>\n",
       "      <td>0.156805</td>\n",
       "      <td>5.550441</td>\n",
       "      <td>14.000000</td>\n",
       "      <td>0.185606</td>\n",
       "      <td>8.000000</td>\n",
       "    </tr>\n",
       "    <tr>\n",
       "      <th>50%</th>\n",
       "      <td>9.000000</td>\n",
       "      <td>9.000000</td>\n",
       "      <td>6.462905e+03</td>\n",
       "      <td>0.170395</td>\n",
       "      <td>5.868732</td>\n",
       "      <td>15.000000</td>\n",
       "      <td>0.303030</td>\n",
       "      <td>18.000000</td>\n",
       "    </tr>\n",
       "    <tr>\n",
       "      <th>75%</th>\n",
       "      <td>13.000000</td>\n",
       "      <td>13.000000</td>\n",
       "      <td>2.257678e+04</td>\n",
       "      <td>0.180166</td>\n",
       "      <td>6.377357</td>\n",
       "      <td>15.000000</td>\n",
       "      <td>0.466667</td>\n",
       "      <td>36.000000</td>\n",
       "    </tr>\n",
       "    <tr>\n",
       "      <th>max</th>\n",
       "      <td>72.000000</td>\n",
       "      <td>68.000000</td>\n",
       "      <td>1.499534e+06</td>\n",
       "      <td>0.229500</td>\n",
       "      <td>14.440935</td>\n",
       "      <td>20.000000</td>\n",
       "      <td>1.000000</td>\n",
       "      <td>587.000000</td>\n",
       "    </tr>\n",
       "  </tbody>\n",
       "</table>\n",
       "</div>"
      ],
      "text/plain": [
       "            OutDeg        InDeg  BetweennessCentr  ClosenessCentr  \\\n",
       "count  9973.000000  9973.000000      9.973000e+03     9973.000000   \n",
       "mean     11.162038    11.162038      2.553706e+04        0.166534   \n",
       "std       6.673824     6.695202      6.627614e+04        0.020970   \n",
       "min       1.000000     1.000000      0.000000e+00        0.069248   \n",
       "25%       7.000000     7.000000      1.598955e+03        0.156805   \n",
       "50%       9.000000     9.000000      6.462905e+03        0.170395   \n",
       "75%      13.000000    13.000000      2.257678e+04        0.180166   \n",
       "max      72.000000    68.000000      1.499534e+06        0.229500   \n",
       "\n",
       "       FarnessCentr      NodeEcc  NodeClustCf   NodeTriads  \n",
       "count   9973.000000  9973.000000  9973.000000  9973.000000  \n",
       "mean       6.121754    14.575053     0.339686    31.066379  \n",
       "std        0.959503     1.174380     0.208130    43.348919  \n",
       "min        4.357300    11.000000     0.000000     0.000000  \n",
       "25%        5.550441    14.000000     0.185606     8.000000  \n",
       "50%        5.868732    15.000000     0.303030    18.000000  \n",
       "75%        6.377357    15.000000     0.466667    36.000000  \n",
       "max       14.440935    20.000000     1.000000   587.000000  "
      ]
     },
     "execution_count": 85,
     "metadata": {},
     "output_type": "execute_result"
    }
   ],
   "source": [
    "CDRNode_df.describe()"
   ]
  },
  {
   "cell_type": "code",
   "execution_count": 80,
   "metadata": {
    "collapsed": false
   },
   "outputs": [
    {
     "data": {
      "text/html": [
       "<div>\n",
       "<table border=\"1\" class=\"dataframe\">\n",
       "  <thead>\n",
       "    <tr style=\"text-align: right;\">\n",
       "      <th></th>\n",
       "      <th>OutDeg</th>\n",
       "      <th>InDeg</th>\n",
       "      <th>BetweennessCentr</th>\n",
       "      <th>ClosenessCentr</th>\n",
       "      <th>FarnessCentr</th>\n",
       "      <th>NodeEcc</th>\n",
       "      <th>NodeClustCf</th>\n",
       "      <th>NodeTriads</th>\n",
       "    </tr>\n",
       "  </thead>\n",
       "  <tbody>\n",
       "    <tr>\n",
       "      <th>count</th>\n",
       "      <td>1926.000000</td>\n",
       "      <td>1926.000000</td>\n",
       "      <td>1926.000000</td>\n",
       "      <td>1926.000000</td>\n",
       "      <td>1926.000000</td>\n",
       "      <td>1926.000000</td>\n",
       "      <td>1926.000000</td>\n",
       "      <td>1926.000000</td>\n",
       "    </tr>\n",
       "    <tr>\n",
       "      <th>mean</th>\n",
       "      <td>10.480270</td>\n",
       "      <td>10.480270</td>\n",
       "      <td>13.603842</td>\n",
       "      <td>0.012474</td>\n",
       "      <td>266.823994</td>\n",
       "      <td>2.196262</td>\n",
       "      <td>0.768105</td>\n",
       "      <td>357.568536</td>\n",
       "    </tr>\n",
       "    <tr>\n",
       "      <th>std</th>\n",
       "      <td>15.252315</td>\n",
       "      <td>15.462611</td>\n",
       "      <td>105.653188</td>\n",
       "      <td>0.012905</td>\n",
       "      <td>340.865244</td>\n",
       "      <td>1.323477</td>\n",
       "      <td>0.284612</td>\n",
       "      <td>841.672921</td>\n",
       "    </tr>\n",
       "    <tr>\n",
       "      <th>min</th>\n",
       "      <td>0.000000</td>\n",
       "      <td>0.000000</td>\n",
       "      <td>0.000000</td>\n",
       "      <td>0.000000</td>\n",
       "      <td>0.000000</td>\n",
       "      <td>0.000000</td>\n",
       "      <td>0.000000</td>\n",
       "      <td>0.000000</td>\n",
       "    </tr>\n",
       "    <tr>\n",
       "      <th>25%</th>\n",
       "      <td>2.000000</td>\n",
       "      <td>2.000000</td>\n",
       "      <td>0.000000</td>\n",
       "      <td>0.002597</td>\n",
       "      <td>56.571429</td>\n",
       "      <td>1.000000</td>\n",
       "      <td>0.643375</td>\n",
       "      <td>3.000000</td>\n",
       "    </tr>\n",
       "    <tr>\n",
       "      <th>50%</th>\n",
       "      <td>4.500000</td>\n",
       "      <td>4.000000</td>\n",
       "      <td>0.500000</td>\n",
       "      <td>0.007592</td>\n",
       "      <td>124.768519</td>\n",
       "      <td>2.000000</td>\n",
       "      <td>0.883097</td>\n",
       "      <td>26.000000</td>\n",
       "    </tr>\n",
       "    <tr>\n",
       "      <th>75%</th>\n",
       "      <td>11.000000</td>\n",
       "      <td>12.000000</td>\n",
       "      <td>4.126950</td>\n",
       "      <td>0.017199</td>\n",
       "      <td>374.305556</td>\n",
       "      <td>3.000000</td>\n",
       "      <td>1.000000</td>\n",
       "      <td>201.000000</td>\n",
       "    </tr>\n",
       "    <tr>\n",
       "      <th>max</th>\n",
       "      <td>99.000000</td>\n",
       "      <td>101.000000</td>\n",
       "      <td>2466.728754</td>\n",
       "      <td>0.052335</td>\n",
       "      <td>1925.000000</td>\n",
       "      <td>8.000000</td>\n",
       "      <td>1.000000</td>\n",
       "      <td>3530.000000</td>\n",
       "    </tr>\n",
       "  </tbody>\n",
       "</table>\n",
       "</div>"
      ],
      "text/plain": [
       "            OutDeg        InDeg  BetweennessCentr  ClosenessCentr  \\\n",
       "count  1926.000000  1926.000000       1926.000000     1926.000000   \n",
       "mean     10.480270    10.480270         13.603842        0.012474   \n",
       "std      15.252315    15.462611        105.653188        0.012905   \n",
       "min       0.000000     0.000000          0.000000        0.000000   \n",
       "25%       2.000000     2.000000          0.000000        0.002597   \n",
       "50%       4.500000     4.000000          0.500000        0.007592   \n",
       "75%      11.000000    12.000000          4.126950        0.017199   \n",
       "max      99.000000   101.000000       2466.728754        0.052335   \n",
       "\n",
       "       FarnessCentr      NodeEcc  NodeClustCf   NodeTriads  \n",
       "count   1926.000000  1926.000000  1926.000000  1926.000000  \n",
       "mean     266.823994     2.196262     0.768105   357.568536  \n",
       "std      340.865244     1.323477     0.284612   841.672921  \n",
       "min        0.000000     0.000000     0.000000     0.000000  \n",
       "25%       56.571429     1.000000     0.643375     3.000000  \n",
       "50%      124.768519     2.000000     0.883097    26.000000  \n",
       "75%      374.305556     3.000000     1.000000   201.000000  \n",
       "max     1925.000000     8.000000     1.000000  3530.000000  "
      ]
     },
     "execution_count": 80,
     "metadata": {},
     "output_type": "execute_result"
    }
   ],
   "source": [
    "smsNode_df.describe()"
   ]
  },
  {
   "cell_type": "code",
   "execution_count": 83,
   "metadata": {
    "collapsed": false
   },
   "outputs": [
    {
     "data": {
      "text/html": [
       "<div>\n",
       "<table border=\"1\" class=\"dataframe\">\n",
       "  <thead>\n",
       "    <tr style=\"text-align: right;\">\n",
       "      <th></th>\n",
       "      <th>OutDeg</th>\n",
       "      <th>InDeg</th>\n",
       "      <th>BetweennessCentr</th>\n",
       "      <th>ClosenessCentr</th>\n",
       "      <th>FarnessCentr</th>\n",
       "      <th>NodeEcc</th>\n",
       "      <th>NodeClustCf</th>\n",
       "      <th>NodeTriads</th>\n",
       "    </tr>\n",
       "  </thead>\n",
       "  <tbody>\n",
       "    <tr>\n",
       "      <th>count</th>\n",
       "      <td>11714.000000</td>\n",
       "      <td>11714.000000</td>\n",
       "      <td>1.171400e+04</td>\n",
       "      <td>11714.000000</td>\n",
       "      <td>11714.000000</td>\n",
       "      <td>11714.000000</td>\n",
       "      <td>11714.000000</td>\n",
       "      <td>11714.000000</td>\n",
       "    </tr>\n",
       "    <tr>\n",
       "      <th>mean</th>\n",
       "      <td>9.933242</td>\n",
       "      <td>9.933242</td>\n",
       "      <td>3.555359e+04</td>\n",
       "      <td>0.145055</td>\n",
       "      <td>7.070791</td>\n",
       "      <td>20.305959</td>\n",
       "      <td>0.392083</td>\n",
       "      <td>129.972426</td>\n",
       "    </tr>\n",
       "    <tr>\n",
       "      <th>std</th>\n",
       "      <td>11.924475</td>\n",
       "      <td>11.396503</td>\n",
       "      <td>1.420159e+05</td>\n",
       "      <td>0.021398</td>\n",
       "      <td>1.266192</td>\n",
       "      <td>1.722076</td>\n",
       "      <td>0.274233</td>\n",
       "      <td>542.005067</td>\n",
       "    </tr>\n",
       "    <tr>\n",
       "      <th>min</th>\n",
       "      <td>1.000000</td>\n",
       "      <td>1.000000</td>\n",
       "      <td>0.000000e+00</td>\n",
       "      <td>0.049468</td>\n",
       "      <td>4.592163</td>\n",
       "      <td>13.000000</td>\n",
       "      <td>0.000000</td>\n",
       "      <td>0.000000</td>\n",
       "    </tr>\n",
       "    <tr>\n",
       "      <th>25%</th>\n",
       "      <td>4.000000</td>\n",
       "      <td>5.000000</td>\n",
       "      <td>1.048235e+03</td>\n",
       "      <td>0.132167</td>\n",
       "      <td>6.281034</td>\n",
       "      <td>19.000000</td>\n",
       "      <td>0.178571</td>\n",
       "      <td>5.000000</td>\n",
       "    </tr>\n",
       "    <tr>\n",
       "      <th>50%</th>\n",
       "      <td>6.000000</td>\n",
       "      <td>7.000000</td>\n",
       "      <td>5.972909e+03</td>\n",
       "      <td>0.146055</td>\n",
       "      <td>6.846751</td>\n",
       "      <td>20.000000</td>\n",
       "      <td>0.333333</td>\n",
       "      <td>14.000000</td>\n",
       "    </tr>\n",
       "    <tr>\n",
       "      <th>75%</th>\n",
       "      <td>10.000000</td>\n",
       "      <td>11.000000</td>\n",
       "      <td>2.344942e+04</td>\n",
       "      <td>0.159209</td>\n",
       "      <td>7.566187</td>\n",
       "      <td>21.000000</td>\n",
       "      <td>0.571429</td>\n",
       "      <td>45.000000</td>\n",
       "    </tr>\n",
       "    <tr>\n",
       "      <th>max</th>\n",
       "      <td>204.000000</td>\n",
       "      <td>158.000000</td>\n",
       "      <td>7.368965e+06</td>\n",
       "      <td>0.217762</td>\n",
       "      <td>20.215146</td>\n",
       "      <td>26.000000</td>\n",
       "      <td>1.000000</td>\n",
       "      <td>5830.000000</td>\n",
       "    </tr>\n",
       "  </tbody>\n",
       "</table>\n",
       "</div>"
      ],
      "text/plain": [
       "             OutDeg         InDeg  BetweennessCentr  ClosenessCentr  \\\n",
       "count  11714.000000  11714.000000      1.171400e+04    11714.000000   \n",
       "mean       9.933242      9.933242      3.555359e+04        0.145055   \n",
       "std       11.924475     11.396503      1.420159e+05        0.021398   \n",
       "min        1.000000      1.000000      0.000000e+00        0.049468   \n",
       "25%        4.000000      5.000000      1.048235e+03        0.132167   \n",
       "50%        6.000000      7.000000      5.972909e+03        0.146055   \n",
       "75%       10.000000     11.000000      2.344942e+04        0.159209   \n",
       "max      204.000000    158.000000      7.368965e+06        0.217762   \n",
       "\n",
       "       FarnessCentr       NodeEcc   NodeClustCf    NodeTriads  \n",
       "count  11714.000000  11714.000000  11714.000000  11714.000000  \n",
       "mean       7.070791     20.305959      0.392083    129.972426  \n",
       "std        1.266192      1.722076      0.274233    542.005067  \n",
       "min        4.592163     13.000000      0.000000      0.000000  \n",
       "25%        6.281034     19.000000      0.178571      5.000000  \n",
       "50%        6.846751     20.000000      0.333333     14.000000  \n",
       "75%        7.566187     21.000000      0.571429     45.000000  \n",
       "max       20.215146     26.000000      1.000000   5830.000000  "
      ]
     },
     "execution_count": 83,
     "metadata": {},
     "output_type": "execute_result"
    }
   ],
   "source": [
    "MPCNode_df.describe()"
   ]
  },
  {
   "cell_type": "code",
   "execution_count": 49,
   "metadata": {
    "collapsed": true
   },
   "outputs": [],
   "source": [
    "degrees=getInOutDegrees(sms_MxWcc)"
   ]
  },
  {
   "cell_type": "code",
   "execution_count": 74,
   "metadata": {
    "collapsed": false
   },
   "outputs": [
    {
     "data": {
      "text/plain": [
       "1926"
      ]
     },
     "execution_count": 74,
     "metadata": {},
     "output_type": "execute_result"
    }
   ],
   "source": [
    "sms_MxWcc.GetNodes()"
   ]
  },
  {
   "cell_type": "code",
   "execution_count": 75,
   "metadata": {
    "collapsed": false
   },
   "outputs": [
    {
     "data": {
      "text/plain": [
       "20185"
      ]
     },
     "execution_count": 75,
     "metadata": {},
     "output_type": "execute_result"
    }
   ],
   "source": [
    "sms_MxWcc.GetEdges()"
   ]
  },
  {
   "cell_type": "code",
   "execution_count": 6,
   "metadata": {
    "collapsed": false
   },
   "outputs": [],
   "source": [
    "degreesNode=degrees"
   ]
  },
  {
   "cell_type": "code",
   "execution_count": 9,
   "metadata": {
    "collapsed": true
   },
   "outputs": [],
   "source": [
    "d=degreesNode[(degreesNode.OutDeg>6)&(degreesNode.InDeg>)]"
   ]
  },
  {
   "cell_type": "code",
   "execution_count": 20,
   "metadata": {
    "collapsed": false
   },
   "outputs": [],
   "source": [
    "# g=UserDiscover(call_record)\n",
    "h=call_record"
   ]
  },
  {
   "cell_type": "code",
   "execution_count": 54,
   "metadata": {
    "collapsed": false
   },
   "outputs": [
    {
     "data": {
      "text/plain": [
       "8077"
      ]
     },
     "execution_count": 54,
     "metadata": {},
     "output_type": "execute_result"
    }
   ],
   "source": []
  },
  {
   "cell_type": "code",
   "execution_count": 73,
   "metadata": {
    "collapsed": false
   },
   "outputs": [],
   "source": [
    "SaveGViz(CDRs, \"CDRs.dot\", \"Directed Random Graph\", True)"
   ]
  },
  {
   "cell_type": "code",
   "execution_count": null,
   "metadata": {
    "collapsed": true
   },
   "outputs": [],
   "source": []
  },
  {
   "cell_type": "code",
   "execution_count": 4,
   "metadata": {
    "collapsed": true
   },
   "outputs": [],
   "source": [
    "test=call_records\n",
    "length=[call_records.GetNodes()]\n",
    "for i in range(15):\n",
    "    test=UserDiscover(test)\n",
    "    node_num=test.GetNodes()\n",
    "    length.append(node_num)\n",
    "    print node_num"
   ]
  },
  {
   "cell_type": "code",
   "execution_count": 35,
   "metadata": {
    "collapsed": false
   },
   "outputs": [],
   "source": [
    "dd=getInOutDegrees(call_records)"
   ]
  },
  {
   "cell_type": "code",
   "execution_count": 49,
   "metadata": {
    "collapsed": false
   },
   "outputs": [],
   "source": [
    "dd=getInOutDegrees(test)"
   ]
  },
  {
   "cell_type": "code",
   "execution_count": 48,
   "metadata": {
    "collapsed": false
   },
   "outputs": [
    {
     "data": {
      "text/plain": [
       "329803"
      ]
     },
     "execution_count": 48,
     "metadata": {},
     "output_type": "execute_result"
    }
   ],
   "source": [
    "DelDegKNodes(test,1,0)\n",
    "DelDegKNodes(test,0,1)\n",
    "call_records.GetNodes()"
   ]
  },
  {
   "cell_type": "code",
   "execution_count": 86,
   "metadata": {
    "collapsed": false
   },
   "outputs": [],
   "source": [
    "test1=GetMxWcc_PNGraph(test1)"
   ]
  },
  {
   "cell_type": "code",
   "execution_count": 134,
   "metadata": {
    "collapsed": false
   },
   "outputs": [],
   "source": [
    "dd1=getInOutDegrees(test3)"
   ]
  },
  {
   "cell_type": "code",
   "execution_count": 73,
   "metadata": {
    "collapsed": false
   },
   "outputs": [],
   "source": [
    "DelDegKNodes(test1,2,2)\n",
    "DelDegKNodes(test1,3,3)"
   ]
  },
  {
   "cell_type": "code",
   "execution_count": 133,
   "metadata": {
    "collapsed": false
   },
   "outputs": [],
   "source": [
    "test3=ConvertGraph(PNGraph,test2)"
   ]
  },
  {
   "cell_type": "code",
   "execution_count": 90,
   "metadata": {
    "collapsed": true
   },
   "outputs": [
    {
     "ename": "KeyboardInterrupt",
     "evalue": "",
     "output_type": "error",
     "traceback": [
      "\u001b[1;31m---------------------------------------------------------------------------\u001b[0m",
      "\u001b[1;31mKeyboardInterrupt\u001b[0m                         Traceback (most recent call last)",
      "\u001b[1;32m<ipython-input-90-7e9735422ec0>\u001b[0m in \u001b[0;36m<module>\u001b[1;34m()\u001b[0m\n\u001b[0;32m      1\u001b[0m \u001b[0mCmtyV\u001b[0m \u001b[1;33m=\u001b[0m \u001b[0mTCnComV\u001b[0m\u001b[1;33m(\u001b[0m\u001b[1;33m)\u001b[0m\u001b[1;33m\u001b[0m\u001b[0m\n\u001b[1;32m----> 2\u001b[1;33m \u001b[0mmodularity\u001b[0m \u001b[1;33m=\u001b[0m \u001b[0mCommunityCNM\u001b[0m\u001b[1;33m(\u001b[0m\u001b[0mtest2\u001b[0m\u001b[1;33m,\u001b[0m \u001b[0mCmtyV\u001b[0m\u001b[1;33m)\u001b[0m\u001b[1;33m\u001b[0m\u001b[0m\n\u001b[0m",
      "\u001b[1;32m/usr/bin/anaconda2/lib/python2.7/site-packages/snap.pyc\u001b[0m in \u001b[0;36mCommunityCNM\u001b[1;34m(*args)\u001b[0m\n\u001b[0;32m  35947\u001b[0m \u001b[1;33m\u001b[0m\u001b[0m\n\u001b[0;32m  35948\u001b[0m     \"\"\"\n\u001b[1;32m> 35949\u001b[1;33m   \u001b[1;32mreturn\u001b[0m \u001b[0m_snap\u001b[0m\u001b[1;33m.\u001b[0m\u001b[0mCommunityCNM\u001b[0m\u001b[1;33m(\u001b[0m\u001b[1;33m*\u001b[0m\u001b[0margs\u001b[0m\u001b[1;33m)\u001b[0m\u001b[1;33m\u001b[0m\u001b[0m\n\u001b[0m\u001b[0;32m  35950\u001b[0m \u001b[1;33m\u001b[0m\u001b[0m\n\u001b[0;32m  35951\u001b[0m \u001b[1;32mdef\u001b[0m \u001b[0mInfomap\u001b[0m\u001b[1;33m(\u001b[0m\u001b[1;33m*\u001b[0m\u001b[0margs\u001b[0m\u001b[1;33m)\u001b[0m\u001b[1;33m:\u001b[0m\u001b[1;33m\u001b[0m\u001b[0m\n",
      "\u001b[1;31mKeyboardInterrupt\u001b[0m: "
     ]
    }
   ],
   "source": [
    "CmtyV = TCnComV()\n",
    "modularity = CommunityCNM(test2, CmtyV)"
   ]
  },
  {
   "cell_type": "code",
   "execution_count": 114,
   "metadata": {
    "collapsed": true
   },
   "outputs": [],
   "source": [
    "DelDegKNodes(test1,0,1)"
   ]
  },
  {
   "cell_type": "code",
   "execution_count": 146,
   "metadata": {
    "collapsed": false
   },
   "outputs": [
    {
     "data": {
      "text/plain": [
       "137936"
      ]
     },
     "execution_count": 146,
     "metadata": {},
     "output_type": "execute_result"
    }
   ],
   "source": [
    "test2.GetEdges()"
   ]
  },
  {
   "cell_type": "code",
   "execution_count": 144,
   "metadata": {
    "collapsed": false
   },
   "outputs": [
    {
     "data": {
      "text/plain": [
       "<matplotlib.axes._subplots.AxesSubplot at 0x7fffb8721510>"
      ]
     },
     "execution_count": 144,
     "metadata": {},
     "output_type": "execute_result"
    },
    {
     "data": {
      "image/png": "[encoded data removed]",
      "text/plain": [
       "<matplotlib.figure.Figure at 0x7fffb8748fd0>"
      ]
     },
     "metadata": {},
     "output_type": "display_data"
    }
   ],
   "source": [
    "dd.OutDeg.value_counts().sort_index().plot()"
   ]
  },
  {
   "cell_type": "code",
   "execution_count": 155,
   "metadata": {
    "collapsed": false
   },
   "outputs": [
    {
     "data": {
      "text/plain": [
       "1280383"
      ]
     },
     "execution_count": 155,
     "metadata": {},
     "output_type": "execute_result"
    }
   ],
   "source": [
    "c=test2.Nodes()\n",
    "d=c.next()\n",
    "d.GetId()"
   ]
  },
  {
   "cell_type": "code",
   "execution_count": 145,
   "metadata": {
    "collapsed": false
   },
   "outputs": [
    {
     "data": {
      "text/plain": [
       "count    24728.000000\n",
       "mean        11.156260\n",
       "std          7.592602\n",
       "min          1.000000\n",
       "25%          6.000000\n",
       "50%          9.000000\n",
       "75%         13.000000\n",
       "max         90.000000\n",
       "Name: OutDeg, dtype: float64"
      ]
     },
     "execution_count": 145,
     "metadata": {},
     "output_type": "execute_result"
    }
   ],
   "source": [
    "import snap\n",
    "\n",
    "Graph = snap.GenRndGnm(snap.PNGraph, 100, 1000)\n",
    "for NI in Graph.Nodes():\n",
    "    FarCentr = snap.GetFarnessCentr(Graph, NI.GetId())\n",
    "    print \"node: %d centrality: %f\" % (NI.GetId(), FarCentr)"
   ]
  },
  {
   "cell_type": "code",
   "execution_count": 184,
   "metadata": {
    "collapsed": false
   },
   "outputs": [
    {
     "ename": "AttributeError",
     "evalue": "'method-wrapper' object has no attribute 'GetId'",
     "output_type": "error",
     "traceback": [
      "\u001b[1;31m---------------------------------------------------------------------------\u001b[0m",
      "\u001b[1;31mAttributeError\u001b[0m                            Traceback (most recent call last)",
      "\u001b[1;32m<ipython-input-184-f2de7ec3b80e>\u001b[0m in \u001b[0;36m<module>\u001b[1;34m()\u001b[0m\n\u001b[0;32m      1\u001b[0m \u001b[0mc\u001b[0m\u001b[1;33m=\u001b[0m\u001b[0mtest2\u001b[0m\u001b[1;33m.\u001b[0m\u001b[0mNodes\u001b[0m\u001b[1;33m(\u001b[0m\u001b[1;33m)\u001b[0m\u001b[1;33m\u001b[0m\u001b[0m\n\u001b[0;32m      2\u001b[0m \u001b[1;33m\u001b[0m\u001b[0m\n\u001b[1;32m----> 3\u001b[1;33m \u001b[1;32mprint\u001b[0m \u001b[0mc\u001b[0m\u001b[1;33m.\u001b[0m\u001b[0mnext\u001b[0m\u001b[1;33m.\u001b[0m\u001b[0mGetId\u001b[0m\u001b[1;33m(\u001b[0m\u001b[1;33m)\u001b[0m\u001b[1;33m\u001b[0m\u001b[0m\n\u001b[0m\u001b[0;32m      4\u001b[0m \u001b[0mget_ipython\u001b[0m\u001b[1;33m(\u001b[0m\u001b[1;33m)\u001b[0m\u001b[1;33m.\u001b[0m\u001b[0mmagic\u001b[0m\u001b[1;33m(\u001b[0m\u001b[1;34mu'time GetFarnessCentr(test2, d.GetId())'\u001b[0m\u001b[1;33m)\u001b[0m\u001b[1;33m\u001b[0m\u001b[0m\n",
      "\u001b[1;31mAttributeError\u001b[0m: 'method-wrapper' object has no attribute 'GetId'"
     ]
    }
   ],
   "source": [
    "c=test2.Nodes()\n",
    "\n",
    "print c.next.GetId()\n",
    "%time GetFarnessCentr(test2, d.GetId())"
   ]
  },
  {
   "cell_type": "code",
   "execution_count": 190,
   "metadata": {
    "collapsed": false
   },
   "outputs": [
    {
     "name": "stdout",
     "output_type": "stream",
     "text": [
      "CPU times: user 17min 22s, sys: 0 ns, total: 17min 22s\n",
      "Wall time: 17min 21s\n"
     ]
    }
   ],
   "source": [
    "%%time\n",
    "\n",
    "import snap\n",
    "\n",
    "\n",
    "Nodes = TIntFltH()\n",
    "Edges = TIntPrFltH()\n",
    "snap.GetBetweennessCentr(test2, Nodes, Edges, 1.0)\n",
    "# for node in Nodes:\n",
    "#     print \"node: %d centrality: %f\" % (node, Nodes[node])\n",
    "# for edge in Edges:\n",
    "#     print \"edge: (%d, %d) centrality: %f\" % (edge.GetVal1(), edge.GetVal2(), Edges[edge])"
   ]
  },
  {
   "cell_type": "code",
   "execution_count": 195,
   "metadata": {
    "collapsed": false
   },
   "outputs": [],
   "source": [
    "cc=np.array([Nodes[node] for node in Nodes])\n",
    "   "
   ]
  },
  {
   "cell_type": "code",
   "execution_count": 202,
   "metadata": {
    "collapsed": false
   },
   "outputs": [
    {
     "data": {
      "image/png": "[encoded data removed]",
      "text/plain": [
       "<matplotlib.figure.Figure at 0x7fffb85a1710>"
      ]
     },
     "metadata": {},
     "output_type": "display_data"
    }
   ],
   "source": [
    "import matplotlib.pyplot as plt\n",
    "plt.hist(cc,bins=30)\n",
    "plt.xscale('log')\n",
    "plt.yscale('log')"
   ]
  },
  {
   "cell_type": "markdown",
   "metadata": {},
   "source": [
    "##   社区发现"
   ]
  },
  {
   "cell_type": "markdown",
   "metadata": {},
   "source": [
    "## 短信"
   ]
  },
  {
   "cell_type": "code",
   "execution_count": 73,
   "metadata": {
    "collapsed": false
   },
   "outputs": [],
   "source": [
    "# mpc_comm_df,mpc_cmm_mo=getCNMCommDetect(ConvertGraph(PUNGraph,MPCs))  ##电话网络\n",
    "# cdr_comm_df,cdr_cmm_mo=getCNMCommDetect(ConvertGraph(PUNGraph,CDRs))\n",
    "sms_comm_df,sms_cmm_mo=getCNMCommDetect(ConvertGraph(PUNGraph,SMSs))\n"
   ]
  },
  {
   "cell_type": "code",
   "execution_count": 95,
   "metadata": {
    "collapsed": false
   },
   "outputs": [
    {
     "data": {
      "text/plain": [
       "11957"
      ]
     },
     "execution_count": 95,
     "metadata": {},
     "output_type": "execute_result"
    }
   ],
   "source": [
    "\n",
    "# clusters = IGraph.community_walktrap(g, weights=\"weight\").as_clustering()\n",
    "SavePajek()"
   ]
  },
  {
   "cell_type": "code",
   "execution_count": 15,
   "metadata": {
    "collapsed": true
   },
   "outputs": [],
   "source": [
    "getNum_comm=lambda  df:df.T.describe()[:1].T.sort_values('count',ascending=False)"
   ]
  },
  {
   "cell_type": "code",
   "execution_count": 19,
   "metadata": {
    "collapsed": false
   },
   "outputs": [
    {
     "data": {
      "text/plain": [
       "(55, 1)"
      ]
     },
     "execution_count": 19,
     "metadata": {},
     "output_type": "execute_result"
    }
   ],
   "source": [
    "getNum_comm(mpc_comm_df).shape"
   ]
  },
  {
   "cell_type": "code",
   "execution_count": 170,
   "metadata": {
    "collapsed": false
   },
   "outputs": [
    {
     "data": {
      "text/plain": [
       "<matplotlib.axes._subplots.AxesSubplot at 0x7fffb34e0d50>"
      ]
     },
     "execution_count": 170,
     "metadata": {},
     "output_type": "execute_result"
    },
    {
     "data": {
      "image/png": "[encoded data removed]",
      "text/plain": [
       "<matplotlib.figure.Figure at 0x7fffaa557210>"
      ]
     },
     "metadata": {},
     "output_type": "display_data"
    }
   ],
   "source": [
    "getNum_comm(cdr_comm_df).plot.bar()"
   ]
  },
  {
   "cell_type": "code",
   "execution_count": 74,
   "metadata": {
    "collapsed": false
   },
   "outputs": [
    {
     "data": {
      "text/plain": [
       "<matplotlib.axes._subplots.AxesSubplot at 0x7fffb8d3e550>"
      ]
     },
     "execution_count": 74,
     "metadata": {},
     "output_type": "execute_result"
    },
    {
     "data": {
      "image/png": "[encoded data removed]",
      "text/plain": [
       "<matplotlib.figure.Figure at 0x7fff56f60f90>"
      ]
     },
     "metadata": {},
     "output_type": "display_data"
    }
   ],
   "source": [
    "getNum_comm(sms_comm_df).plot.bar()"
   ]
  },
  {
   "cell_type": "code",
   "execution_count": 22,
   "metadata": {
    "collapsed": false
   },
   "outputs": [
    {
     "data": {
      "text/plain": [
       "<matplotlib.axes._subplots.AxesSubplot at 0x7fffb8594dd0>"
      ]
     },
     "execution_count": 22,
     "metadata": {},
     "output_type": "execute_result"
    },
    {
     "data": {
      "image/png": "[encoded data removed]",
      "text/plain": [
       "<matplotlib.figure.Figure at 0x7fffbc290d10>"
      ]
     },
     "metadata": {},
     "output_type": "display_data"
    }
   ],
   "source": [
    "getNum_comm(mpc_comm_df).plot.bar()"
   ]
  },
  {
   "cell_type": "code",
   "execution_count": 29,
   "metadata": {
    "collapsed": true
   },
   "outputs": [],
   "source": [
    "# H.AddDat(1, \"blue\")\n",
    "# H.AddDat(2, \"blue\")\n",
    "# H.AddDat(3, \"red\")\n",
    "# H.AddDat(4, \"red\")"
   ]
  },
  {
   "cell_type": "code",
   "execution_count": 90,
   "metadata": {
    "collapsed": false
   },
   "outputs": [],
   "source": [
    "d=getInOutDegrees(app_conatcts)"
   ]
  },
  {
   "cell_type": "code",
   "execution_count": 92,
   "metadata": {
    "collapsed": false
   },
   "outputs": [
    {
     "data": {
      "text/plain": [
       "(77219, 2)"
      ]
     },
     "execution_count": 92,
     "metadata": {},
     "output_type": "execute_result"
    }
   ],
   "source": [
    "d.shape"
   ]
  },
  {
   "cell_type": "code",
   "execution_count": 28,
   "metadata": {
    "collapsed": false
   },
   "outputs": [
    {
     "data": {
      "text/plain": [
       "array([ 5508439.,  5942781.,  7527308.,  7261224.,  6202377.,  6050623.,\n",
       "        5150847.,  5985319.,  8188162.,  5944732.,  8129089.,  7658731.,\n",
       "        5531392.,  6686112.,  8121710.,  8790390.,  9221733.,  6474838.,\n",
       "        8104937.,  4994144.,  7957439.,  7564056.,  8396261.,  5855966.,\n",
       "        5512254.,  5601837.,  5865466.,  5923512.,  4997159.,  5184863.])"
      ]
     },
     "execution_count": 28,
     "metadata": {},
     "output_type": "execute_result"
    }
   ],
   "source": [
    "sms_comm_df.values[0]"
   ]
  },
  {
   "cell_type": "code",
   "execution_count": 96,
   "metadata": {
    "collapsed": false
   },
   "outputs": [],
   "source": [
    "def adddH(df):\n",
    "    H = TIntStrH()\n",
    "    for i in df.index.values:\n",
    "        for line in df.values[i]:\n",
    "            H[line]=str(i)\n",
    "    return  H"
   ]
  },
  {
   "cell_type": "code",
   "execution_count": null,
   "metadata": {
    "collapsed": true
   },
   "outputs": [],
   "source": []
  },
  {
   "cell_type": "code",
   "execution_count": 102,
   "metadata": {
    "collapsed": false
   },
   "outputs": [],
   "source": [
    "h=adddH(sms_comm_df)\n",
    "SavePajek(call_records, \"Card.net\")"
   ]
  },
  {
   "cell_type": "code",
   "execution_count": 79,
   "metadata": {
    "collapsed": false
   },
   "outputs": [
    {
     "data": {
      "text/plain": [
       "11957"
      ]
     },
     "execution_count": 79,
     "metadata": {},
     "output_type": "execute_result"
    }
   ],
   "source": [
    "CDRs.GetNodes()"
   ]
  },
  {
   "cell_type": "code",
   "execution_count": null,
   "metadata": {
    "collapsed": true
   },
   "outputs": [],
   "source": [
    "import snap\n",
    "\n",
    "NIdColorH = snap.TIntStrH()\n",
    "for i in range(100):\n",
    "    if i % 2 == 0:\n",
    "        NIdColorH[i] = \"red\"\n",
    "    else:\n",
    "        NIdColorH[i] = \"blue\"\n",
    "\n",
    "Graph = snap.GenRndGnm(snap.PNGraph, 100, 1000)\n",
    "snap.SavePajek(Graph, \"Pajek_Graph1.out\", NIdColorH)\n"
   ]
  },
  {
   "cell_type": "code",
   "execution_count": 99,
   "metadata": {
    "collapsed": false
   },
   "outputs": [
    {
     "data": {
      "text/html": [
       "<div>\n",
       "<table border=\"1\" class=\"dataframe\">\n",
       "  <thead>\n",
       "    <tr style=\"text-align: right;\">\n",
       "      <th></th>\n",
       "      <th>0</th>\n",
       "      <th>1</th>\n",
       "      <th>2</th>\n",
       "      <th>3</th>\n",
       "      <th>4</th>\n",
       "      <th>5</th>\n",
       "      <th>6</th>\n",
       "      <th>7</th>\n",
       "      <th>8</th>\n",
       "      <th>9</th>\n",
       "      <th>...</th>\n",
       "      <th>197</th>\n",
       "      <th>198</th>\n",
       "      <th>199</th>\n",
       "      <th>200</th>\n",
       "      <th>201</th>\n",
       "      <th>202</th>\n",
       "      <th>203</th>\n",
       "      <th>204</th>\n",
       "      <th>205</th>\n",
       "      <th>206</th>\n",
       "    </tr>\n",
       "  </thead>\n",
       "  <tbody>\n",
       "    <tr>\n",
       "      <th>0</th>\n",
       "      <td>1516651</td>\n",
       "      <td>1532721</td>\n",
       "      <td>1552926</td>\n",
       "      <td>1639416</td>\n",
       "      <td>1650233</td>\n",
       "      <td>1652127.0</td>\n",
       "      <td>1696410.0</td>\n",
       "      <td>1721418.0</td>\n",
       "      <td>1732268.0</td>\n",
       "      <td>1744649.0</td>\n",
       "      <td>...</td>\n",
       "      <td>NaN</td>\n",
       "      <td>NaN</td>\n",
       "      <td>NaN</td>\n",
       "      <td>NaN</td>\n",
       "      <td>NaN</td>\n",
       "      <td>NaN</td>\n",
       "      <td>NaN</td>\n",
       "      <td>NaN</td>\n",
       "      <td>NaN</td>\n",
       "      <td>NaN</td>\n",
       "    </tr>\n",
       "    <tr>\n",
       "      <th>1</th>\n",
       "      <td>1519676</td>\n",
       "      <td>1718813</td>\n",
       "      <td>1870662</td>\n",
       "      <td>2174859</td>\n",
       "      <td>2200223</td>\n",
       "      <td>2237624.0</td>\n",
       "      <td>2357018.0</td>\n",
       "      <td>2466360.0</td>\n",
       "      <td>2530594.0</td>\n",
       "      <td>2542391.0</td>\n",
       "      <td>...</td>\n",
       "      <td>NaN</td>\n",
       "      <td>NaN</td>\n",
       "      <td>NaN</td>\n",
       "      <td>NaN</td>\n",
       "      <td>NaN</td>\n",
       "      <td>NaN</td>\n",
       "      <td>NaN</td>\n",
       "      <td>NaN</td>\n",
       "      <td>NaN</td>\n",
       "      <td>NaN</td>\n",
       "    </tr>\n",
       "    <tr>\n",
       "      <th>2</th>\n",
       "      <td>1547686</td>\n",
       "      <td>1814926</td>\n",
       "      <td>1819134</td>\n",
       "      <td>2074586</td>\n",
       "      <td>2078336</td>\n",
       "      <td>2137163.0</td>\n",
       "      <td>2215218.0</td>\n",
       "      <td>2807641.0</td>\n",
       "      <td>2967159.0</td>\n",
       "      <td>3023736.0</td>\n",
       "      <td>...</td>\n",
       "      <td>NaN</td>\n",
       "      <td>NaN</td>\n",
       "      <td>NaN</td>\n",
       "      <td>NaN</td>\n",
       "      <td>NaN</td>\n",
       "      <td>NaN</td>\n",
       "      <td>NaN</td>\n",
       "      <td>NaN</td>\n",
       "      <td>NaN</td>\n",
       "      <td>NaN</td>\n",
       "    </tr>\n",
       "    <tr>\n",
       "      <th>3</th>\n",
       "      <td>1584847</td>\n",
       "      <td>1585563</td>\n",
       "      <td>1970439</td>\n",
       "      <td>1988346</td>\n",
       "      <td>2012368</td>\n",
       "      <td>2015694.0</td>\n",
       "      <td>2099227.0</td>\n",
       "      <td>2123900.0</td>\n",
       "      <td>2261721.0</td>\n",
       "      <td>2352351.0</td>\n",
       "      <td>...</td>\n",
       "      <td>NaN</td>\n",
       "      <td>NaN</td>\n",
       "      <td>NaN</td>\n",
       "      <td>NaN</td>\n",
       "      <td>NaN</td>\n",
       "      <td>NaN</td>\n",
       "      <td>NaN</td>\n",
       "      <td>NaN</td>\n",
       "      <td>NaN</td>\n",
       "      <td>NaN</td>\n",
       "    </tr>\n",
       "    <tr>\n",
       "      <th>4</th>\n",
       "      <td>1593803</td>\n",
       "      <td>1654888</td>\n",
       "      <td>1659763</td>\n",
       "      <td>1880691</td>\n",
       "      <td>2104070</td>\n",
       "      <td>2174184.0</td>\n",
       "      <td>2248474.0</td>\n",
       "      <td>2530676.0</td>\n",
       "      <td>2539918.0</td>\n",
       "      <td>2540265.0</td>\n",
       "      <td>...</td>\n",
       "      <td>NaN</td>\n",
       "      <td>NaN</td>\n",
       "      <td>NaN</td>\n",
       "      <td>NaN</td>\n",
       "      <td>NaN</td>\n",
       "      <td>NaN</td>\n",
       "      <td>NaN</td>\n",
       "      <td>NaN</td>\n",
       "      <td>NaN</td>\n",
       "      <td>NaN</td>\n",
       "    </tr>\n",
       "    <tr>\n",
       "      <th>5</th>\n",
       "      <td>1595191</td>\n",
       "      <td>1654253</td>\n",
       "      <td>1734712</td>\n",
       "      <td>1807184</td>\n",
       "      <td>1963726</td>\n",
       "      <td>2146873.0</td>\n",
       "      <td>2147894.0</td>\n",
       "      <td>2152902.0</td>\n",
       "      <td>2222862.0</td>\n",
       "      <td>2393098.0</td>\n",
       "      <td>...</td>\n",
       "      <td>NaN</td>\n",
       "      <td>NaN</td>\n",
       "      <td>NaN</td>\n",
       "      <td>NaN</td>\n",
       "      <td>NaN</td>\n",
       "      <td>NaN</td>\n",
       "      <td>NaN</td>\n",
       "      <td>NaN</td>\n",
       "      <td>NaN</td>\n",
       "      <td>NaN</td>\n",
       "    </tr>\n",
       "    <tr>\n",
       "      <th>6</th>\n",
       "      <td>1599303</td>\n",
       "      <td>1744202</td>\n",
       "      <td>1856214</td>\n",
       "      <td>2264778</td>\n",
       "      <td>2315864</td>\n",
       "      <td>2412878.0</td>\n",
       "      <td>2574339.0</td>\n",
       "      <td>2662363.0</td>\n",
       "      <td>2770126.0</td>\n",
       "      <td>2892118.0</td>\n",
       "      <td>...</td>\n",
       "      <td>NaN</td>\n",
       "      <td>NaN</td>\n",
       "      <td>NaN</td>\n",
       "      <td>NaN</td>\n",
       "      <td>NaN</td>\n",
       "      <td>NaN</td>\n",
       "      <td>NaN</td>\n",
       "      <td>NaN</td>\n",
       "      <td>NaN</td>\n",
       "      <td>NaN</td>\n",
       "    </tr>\n",
       "    <tr>\n",
       "      <th>7</th>\n",
       "      <td>1615866</td>\n",
       "      <td>1618063</td>\n",
       "      <td>1709316</td>\n",
       "      <td>1745345</td>\n",
       "      <td>1828884</td>\n",
       "      <td>1883237.0</td>\n",
       "      <td>1885265.0</td>\n",
       "      <td>1917896.0</td>\n",
       "      <td>1926294.0</td>\n",
       "      <td>1951062.0</td>\n",
       "      <td>...</td>\n",
       "      <td>NaN</td>\n",
       "      <td>NaN</td>\n",
       "      <td>NaN</td>\n",
       "      <td>NaN</td>\n",
       "      <td>NaN</td>\n",
       "      <td>NaN</td>\n",
       "      <td>NaN</td>\n",
       "      <td>NaN</td>\n",
       "      <td>NaN</td>\n",
       "      <td>NaN</td>\n",
       "    </tr>\n",
       "    <tr>\n",
       "      <th>8</th>\n",
       "      <td>1626552</td>\n",
       "      <td>1753602</td>\n",
       "      <td>3974559</td>\n",
       "      <td>4229627</td>\n",
       "      <td>5025197</td>\n",
       "      <td>5140263.0</td>\n",
       "      <td>5207880.0</td>\n",
       "      <td>5230981.0</td>\n",
       "      <td>5248724.0</td>\n",
       "      <td>5374888.0</td>\n",
       "      <td>...</td>\n",
       "      <td>NaN</td>\n",
       "      <td>NaN</td>\n",
       "      <td>NaN</td>\n",
       "      <td>NaN</td>\n",
       "      <td>NaN</td>\n",
       "      <td>NaN</td>\n",
       "      <td>NaN</td>\n",
       "      <td>NaN</td>\n",
       "      <td>NaN</td>\n",
       "      <td>NaN</td>\n",
       "    </tr>\n",
       "    <tr>\n",
       "      <th>9</th>\n",
       "      <td>1732210</td>\n",
       "      <td>3380623</td>\n",
       "      <td>3575884</td>\n",
       "      <td>3698497</td>\n",
       "      <td>3755012</td>\n",
       "      <td>3855595.0</td>\n",
       "      <td>3891789.0</td>\n",
       "      <td>3911796.0</td>\n",
       "      <td>3918442.0</td>\n",
       "      <td>3925001.0</td>\n",
       "      <td>...</td>\n",
       "      <td>NaN</td>\n",
       "      <td>NaN</td>\n",
       "      <td>NaN</td>\n",
       "      <td>NaN</td>\n",
       "      <td>NaN</td>\n",
       "      <td>NaN</td>\n",
       "      <td>NaN</td>\n",
       "      <td>NaN</td>\n",
       "      <td>NaN</td>\n",
       "      <td>NaN</td>\n",
       "    </tr>\n",
       "    <tr>\n",
       "      <th>10</th>\n",
       "      <td>1807213</td>\n",
       "      <td>2101923</td>\n",
       "      <td>2194394</td>\n",
       "      <td>2224816</td>\n",
       "      <td>2288061</td>\n",
       "      <td>2291390.0</td>\n",
       "      <td>2384418.0</td>\n",
       "      <td>2392796.0</td>\n",
       "      <td>2393155.0</td>\n",
       "      <td>2400391.0</td>\n",
       "      <td>...</td>\n",
       "      <td>NaN</td>\n",
       "      <td>NaN</td>\n",
       "      <td>NaN</td>\n",
       "      <td>NaN</td>\n",
       "      <td>NaN</td>\n",
       "      <td>NaN</td>\n",
       "      <td>NaN</td>\n",
       "      <td>NaN</td>\n",
       "      <td>NaN</td>\n",
       "      <td>NaN</td>\n",
       "    </tr>\n",
       "    <tr>\n",
       "      <th>11</th>\n",
       "      <td>1861231</td>\n",
       "      <td>2077994</td>\n",
       "      <td>2236870</td>\n",
       "      <td>2270768</td>\n",
       "      <td>2273841</td>\n",
       "      <td>2334376.0</td>\n",
       "      <td>2349210.0</td>\n",
       "      <td>2350176.0</td>\n",
       "      <td>2378100.0</td>\n",
       "      <td>2379441.0</td>\n",
       "      <td>...</td>\n",
       "      <td>NaN</td>\n",
       "      <td>NaN</td>\n",
       "      <td>NaN</td>\n",
       "      <td>NaN</td>\n",
       "      <td>NaN</td>\n",
       "      <td>NaN</td>\n",
       "      <td>NaN</td>\n",
       "      <td>NaN</td>\n",
       "      <td>NaN</td>\n",
       "      <td>NaN</td>\n",
       "    </tr>\n",
       "    <tr>\n",
       "      <th>12</th>\n",
       "      <td>1883900</td>\n",
       "      <td>1885096</td>\n",
       "      <td>2468463</td>\n",
       "      <td>2557720</td>\n",
       "      <td>2768141</td>\n",
       "      <td>2772678.0</td>\n",
       "      <td>2781641.0</td>\n",
       "      <td>2790678.0</td>\n",
       "      <td>2792513.0</td>\n",
       "      <td>3947120.0</td>\n",
       "      <td>...</td>\n",
       "      <td>NaN</td>\n",
       "      <td>NaN</td>\n",
       "      <td>NaN</td>\n",
       "      <td>NaN</td>\n",
       "      <td>NaN</td>\n",
       "      <td>NaN</td>\n",
       "      <td>NaN</td>\n",
       "      <td>NaN</td>\n",
       "      <td>NaN</td>\n",
       "      <td>NaN</td>\n",
       "    </tr>\n",
       "    <tr>\n",
       "      <th>13</th>\n",
       "      <td>1915397</td>\n",
       "      <td>2486037</td>\n",
       "      <td>2933333</td>\n",
       "      <td>2952534</td>\n",
       "      <td>2955451</td>\n",
       "      <td>3001434.0</td>\n",
       "      <td>3177137.0</td>\n",
       "      <td>3274718.0</td>\n",
       "      <td>3548720.0</td>\n",
       "      <td>3873157.0</td>\n",
       "      <td>...</td>\n",
       "      <td>NaN</td>\n",
       "      <td>NaN</td>\n",
       "      <td>NaN</td>\n",
       "      <td>NaN</td>\n",
       "      <td>NaN</td>\n",
       "      <td>NaN</td>\n",
       "      <td>NaN</td>\n",
       "      <td>NaN</td>\n",
       "      <td>NaN</td>\n",
       "      <td>NaN</td>\n",
       "    </tr>\n",
       "    <tr>\n",
       "      <th>14</th>\n",
       "      <td>1972437</td>\n",
       "      <td>2060988</td>\n",
       "      <td>2137133</td>\n",
       "      <td>2191649</td>\n",
       "      <td>3453010</td>\n",
       "      <td>3960932.0</td>\n",
       "      <td>4119519.0</td>\n",
       "      <td>4235489.0</td>\n",
       "      <td>4474182.0</td>\n",
       "      <td>4599376.0</td>\n",
       "      <td>...</td>\n",
       "      <td>NaN</td>\n",
       "      <td>NaN</td>\n",
       "      <td>NaN</td>\n",
       "      <td>NaN</td>\n",
       "      <td>NaN</td>\n",
       "      <td>NaN</td>\n",
       "      <td>NaN</td>\n",
       "      <td>NaN</td>\n",
       "      <td>NaN</td>\n",
       "      <td>NaN</td>\n",
       "    </tr>\n",
       "    <tr>\n",
       "      <th>15</th>\n",
       "      <td>2009259</td>\n",
       "      <td>2157100</td>\n",
       "      <td>2188820</td>\n",
       "      <td>2195137</td>\n",
       "      <td>2246320</td>\n",
       "      <td>2254573.0</td>\n",
       "      <td>2275526.0</td>\n",
       "      <td>2392520.0</td>\n",
       "      <td>2485286.0</td>\n",
       "      <td>2515098.0</td>\n",
       "      <td>...</td>\n",
       "      <td>NaN</td>\n",
       "      <td>NaN</td>\n",
       "      <td>NaN</td>\n",
       "      <td>NaN</td>\n",
       "      <td>NaN</td>\n",
       "      <td>NaN</td>\n",
       "      <td>NaN</td>\n",
       "      <td>NaN</td>\n",
       "      <td>NaN</td>\n",
       "      <td>NaN</td>\n",
       "    </tr>\n",
       "    <tr>\n",
       "      <th>16</th>\n",
       "      <td>2017849</td>\n",
       "      <td>2022097</td>\n",
       "      <td>2795370</td>\n",
       "      <td>2799402</td>\n",
       "      <td>2813737</td>\n",
       "      <td>4542782.0</td>\n",
       "      <td>4708498.0</td>\n",
       "      <td>4818211.0</td>\n",
       "      <td>5412407.0</td>\n",
       "      <td>5414076.0</td>\n",
       "      <td>...</td>\n",
       "      <td>NaN</td>\n",
       "      <td>NaN</td>\n",
       "      <td>NaN</td>\n",
       "      <td>NaN</td>\n",
       "      <td>NaN</td>\n",
       "      <td>NaN</td>\n",
       "      <td>NaN</td>\n",
       "      <td>NaN</td>\n",
       "      <td>NaN</td>\n",
       "      <td>NaN</td>\n",
       "    </tr>\n",
       "    <tr>\n",
       "      <th>17</th>\n",
       "      <td>2028886</td>\n",
       "      <td>2479984</td>\n",
       "      <td>2724400</td>\n",
       "      <td>2856396</td>\n",
       "      <td>3308904</td>\n",
       "      <td>3343236.0</td>\n",
       "      <td>3407639.0</td>\n",
       "      <td>3452904.0</td>\n",
       "      <td>3484001.0</td>\n",
       "      <td>3641222.0</td>\n",
       "      <td>...</td>\n",
       "      <td>NaN</td>\n",
       "      <td>NaN</td>\n",
       "      <td>NaN</td>\n",
       "      <td>NaN</td>\n",
       "      <td>NaN</td>\n",
       "      <td>NaN</td>\n",
       "      <td>NaN</td>\n",
       "      <td>NaN</td>\n",
       "      <td>NaN</td>\n",
       "      <td>NaN</td>\n",
       "    </tr>\n",
       "    <tr>\n",
       "      <th>18</th>\n",
       "      <td>2056490</td>\n",
       "      <td>2073723</td>\n",
       "      <td>2080624</td>\n",
       "      <td>2239380</td>\n",
       "      <td>2287912</td>\n",
       "      <td>2337251.0</td>\n",
       "      <td>2439197.0</td>\n",
       "      <td>2480473.0</td>\n",
       "      <td>2526536.0</td>\n",
       "      <td>2551523.0</td>\n",
       "      <td>...</td>\n",
       "      <td>NaN</td>\n",
       "      <td>NaN</td>\n",
       "      <td>NaN</td>\n",
       "      <td>NaN</td>\n",
       "      <td>NaN</td>\n",
       "      <td>NaN</td>\n",
       "      <td>NaN</td>\n",
       "      <td>NaN</td>\n",
       "      <td>NaN</td>\n",
       "      <td>NaN</td>\n",
       "    </tr>\n",
       "    <tr>\n",
       "      <th>19</th>\n",
       "      <td>2080203</td>\n",
       "      <td>2314008</td>\n",
       "      <td>2320634</td>\n",
       "      <td>2325055</td>\n",
       "      <td>2368852</td>\n",
       "      <td>2458146.0</td>\n",
       "      <td>2513527.0</td>\n",
       "      <td>2536384.0</td>\n",
       "      <td>2750437.0</td>\n",
       "      <td>2850418.0</td>\n",
       "      <td>...</td>\n",
       "      <td>NaN</td>\n",
       "      <td>NaN</td>\n",
       "      <td>NaN</td>\n",
       "      <td>NaN</td>\n",
       "      <td>NaN</td>\n",
       "      <td>NaN</td>\n",
       "      <td>NaN</td>\n",
       "      <td>NaN</td>\n",
       "      <td>NaN</td>\n",
       "      <td>NaN</td>\n",
       "    </tr>\n",
       "    <tr>\n",
       "      <th>20</th>\n",
       "      <td>2092345</td>\n",
       "      <td>2202223</td>\n",
       "      <td>2220712</td>\n",
       "      <td>2229041</td>\n",
       "      <td>2253535</td>\n",
       "      <td>2327265.0</td>\n",
       "      <td>2392059.0</td>\n",
       "      <td>2402753.0</td>\n",
       "      <td>2416512.0</td>\n",
       "      <td>2468360.0</td>\n",
       "      <td>...</td>\n",
       "      <td>NaN</td>\n",
       "      <td>NaN</td>\n",
       "      <td>NaN</td>\n",
       "      <td>NaN</td>\n",
       "      <td>NaN</td>\n",
       "      <td>NaN</td>\n",
       "      <td>NaN</td>\n",
       "      <td>NaN</td>\n",
       "      <td>NaN</td>\n",
       "      <td>NaN</td>\n",
       "    </tr>\n",
       "    <tr>\n",
       "      <th>21</th>\n",
       "      <td>2113834</td>\n",
       "      <td>2150122</td>\n",
       "      <td>2153245</td>\n",
       "      <td>2156916</td>\n",
       "      <td>2185480</td>\n",
       "      <td>2187873.0</td>\n",
       "      <td>2206749.0</td>\n",
       "      <td>2224627.0</td>\n",
       "      <td>2227743.0</td>\n",
       "      <td>2227978.0</td>\n",
       "      <td>...</td>\n",
       "      <td>7771447.0</td>\n",
       "      <td>7808296.0</td>\n",
       "      <td>8020126.0</td>\n",
       "      <td>8097060.0</td>\n",
       "      <td>8197589.0</td>\n",
       "      <td>8343812.0</td>\n",
       "      <td>8352046.0</td>\n",
       "      <td>8418026.0</td>\n",
       "      <td>9061655.0</td>\n",
       "      <td>9344820.0</td>\n",
       "    </tr>\n",
       "    <tr>\n",
       "      <th>22</th>\n",
       "      <td>2139652</td>\n",
       "      <td>2186334</td>\n",
       "      <td>2202563</td>\n",
       "      <td>2210866</td>\n",
       "      <td>2233794</td>\n",
       "      <td>2234878.0</td>\n",
       "      <td>2298936.0</td>\n",
       "      <td>2352223.0</td>\n",
       "      <td>2414101.0</td>\n",
       "      <td>2424884.0</td>\n",
       "      <td>...</td>\n",
       "      <td>NaN</td>\n",
       "      <td>NaN</td>\n",
       "      <td>NaN</td>\n",
       "      <td>NaN</td>\n",
       "      <td>NaN</td>\n",
       "      <td>NaN</td>\n",
       "      <td>NaN</td>\n",
       "      <td>NaN</td>\n",
       "      <td>NaN</td>\n",
       "      <td>NaN</td>\n",
       "    </tr>\n",
       "    <tr>\n",
       "      <th>23</th>\n",
       "      <td>2145662</td>\n",
       "      <td>2345410</td>\n",
       "      <td>2354984</td>\n",
       "      <td>2361178</td>\n",
       "      <td>2395655</td>\n",
       "      <td>2526226.0</td>\n",
       "      <td>2685818.0</td>\n",
       "      <td>2705098.0</td>\n",
       "      <td>2777114.0</td>\n",
       "      <td>3165816.0</td>\n",
       "      <td>...</td>\n",
       "      <td>NaN</td>\n",
       "      <td>NaN</td>\n",
       "      <td>NaN</td>\n",
       "      <td>NaN</td>\n",
       "      <td>NaN</td>\n",
       "      <td>NaN</td>\n",
       "      <td>NaN</td>\n",
       "      <td>NaN</td>\n",
       "      <td>NaN</td>\n",
       "      <td>NaN</td>\n",
       "    </tr>\n",
       "    <tr>\n",
       "      <th>24</th>\n",
       "      <td>2169723</td>\n",
       "      <td>2185094</td>\n",
       "      <td>2298864</td>\n",
       "      <td>2321788</td>\n",
       "      <td>2408324</td>\n",
       "      <td>2420723.0</td>\n",
       "      <td>2458563.0</td>\n",
       "      <td>2516749.0</td>\n",
       "      <td>2573539.0</td>\n",
       "      <td>2598262.0</td>\n",
       "      <td>...</td>\n",
       "      <td>NaN</td>\n",
       "      <td>NaN</td>\n",
       "      <td>NaN</td>\n",
       "      <td>NaN</td>\n",
       "      <td>NaN</td>\n",
       "      <td>NaN</td>\n",
       "      <td>NaN</td>\n",
       "      <td>NaN</td>\n",
       "      <td>NaN</td>\n",
       "      <td>NaN</td>\n",
       "    </tr>\n",
       "    <tr>\n",
       "      <th>25</th>\n",
       "      <td>2181453</td>\n",
       "      <td>2220178</td>\n",
       "      <td>3138473</td>\n",
       "      <td>3172391</td>\n",
       "      <td>3212718</td>\n",
       "      <td>3287165.0</td>\n",
       "      <td>3289527.0</td>\n",
       "      <td>3320345.0</td>\n",
       "      <td>3334908.0</td>\n",
       "      <td>3351736.0</td>\n",
       "      <td>...</td>\n",
       "      <td>NaN</td>\n",
       "      <td>NaN</td>\n",
       "      <td>NaN</td>\n",
       "      <td>NaN</td>\n",
       "      <td>NaN</td>\n",
       "      <td>NaN</td>\n",
       "      <td>NaN</td>\n",
       "      <td>NaN</td>\n",
       "      <td>NaN</td>\n",
       "      <td>NaN</td>\n",
       "    </tr>\n",
       "    <tr>\n",
       "      <th>26</th>\n",
       "      <td>2188259</td>\n",
       "      <td>2323230</td>\n",
       "      <td>2438314</td>\n",
       "      <td>2516000</td>\n",
       "      <td>2681686</td>\n",
       "      <td>2803030.0</td>\n",
       "      <td>2827586.0</td>\n",
       "      <td>2960553.0</td>\n",
       "      <td>2967033.0</td>\n",
       "      <td>2989127.0</td>\n",
       "      <td>...</td>\n",
       "      <td>NaN</td>\n",
       "      <td>NaN</td>\n",
       "      <td>NaN</td>\n",
       "      <td>NaN</td>\n",
       "      <td>NaN</td>\n",
       "      <td>NaN</td>\n",
       "      <td>NaN</td>\n",
       "      <td>NaN</td>\n",
       "      <td>NaN</td>\n",
       "      <td>NaN</td>\n",
       "    </tr>\n",
       "    <tr>\n",
       "      <th>27</th>\n",
       "      <td>2188813</td>\n",
       "      <td>2503468</td>\n",
       "      <td>2627937</td>\n",
       "      <td>2733735</td>\n",
       "      <td>2752568</td>\n",
       "      <td>2799302.0</td>\n",
       "      <td>2800874.0</td>\n",
       "      <td>2824637.0</td>\n",
       "      <td>2849678.0</td>\n",
       "      <td>2859802.0</td>\n",
       "      <td>...</td>\n",
       "      <td>NaN</td>\n",
       "      <td>NaN</td>\n",
       "      <td>NaN</td>\n",
       "      <td>NaN</td>\n",
       "      <td>NaN</td>\n",
       "      <td>NaN</td>\n",
       "      <td>NaN</td>\n",
       "      <td>NaN</td>\n",
       "      <td>NaN</td>\n",
       "      <td>NaN</td>\n",
       "    </tr>\n",
       "    <tr>\n",
       "      <th>28</th>\n",
       "      <td>2206355</td>\n",
       "      <td>2258736</td>\n",
       "      <td>2588497</td>\n",
       "      <td>2783902</td>\n",
       "      <td>3004041</td>\n",
       "      <td>3682188.0</td>\n",
       "      <td>3794540.0</td>\n",
       "      <td>3806153.0</td>\n",
       "      <td>3865201.0</td>\n",
       "      <td>3884712.0</td>\n",
       "      <td>...</td>\n",
       "      <td>NaN</td>\n",
       "      <td>NaN</td>\n",
       "      <td>NaN</td>\n",
       "      <td>NaN</td>\n",
       "      <td>NaN</td>\n",
       "      <td>NaN</td>\n",
       "      <td>NaN</td>\n",
       "      <td>NaN</td>\n",
       "      <td>NaN</td>\n",
       "      <td>NaN</td>\n",
       "    </tr>\n",
       "    <tr>\n",
       "      <th>29</th>\n",
       "      <td>2238863</td>\n",
       "      <td>2351473</td>\n",
       "      <td>2603712</td>\n",
       "      <td>2877113</td>\n",
       "      <td>2919737</td>\n",
       "      <td>2972936.0</td>\n",
       "      <td>3158490.0</td>\n",
       "      <td>3241616.0</td>\n",
       "      <td>3270170.0</td>\n",
       "      <td>3354927.0</td>\n",
       "      <td>...</td>\n",
       "      <td>NaN</td>\n",
       "      <td>NaN</td>\n",
       "      <td>NaN</td>\n",
       "      <td>NaN</td>\n",
       "      <td>NaN</td>\n",
       "      <td>NaN</td>\n",
       "      <td>NaN</td>\n",
       "      <td>NaN</td>\n",
       "      <td>NaN</td>\n",
       "      <td>NaN</td>\n",
       "    </tr>\n",
       "    <tr>\n",
       "      <th>30</th>\n",
       "      <td>2553886</td>\n",
       "      <td>2681652</td>\n",
       "      <td>2754688</td>\n",
       "      <td>2847760</td>\n",
       "      <td>2860176</td>\n",
       "      <td>2913786.0</td>\n",
       "      <td>4128792.0</td>\n",
       "      <td>4165490.0</td>\n",
       "      <td>4199010.0</td>\n",
       "      <td>4394641.0</td>\n",
       "      <td>...</td>\n",
       "      <td>NaN</td>\n",
       "      <td>NaN</td>\n",
       "      <td>NaN</td>\n",
       "      <td>NaN</td>\n",
       "      <td>NaN</td>\n",
       "      <td>NaN</td>\n",
       "      <td>NaN</td>\n",
       "      <td>NaN</td>\n",
       "      <td>NaN</td>\n",
       "      <td>NaN</td>\n",
       "    </tr>\n",
       "    <tr>\n",
       "      <th>31</th>\n",
       "      <td>2697688</td>\n",
       "      <td>2702414</td>\n",
       "      <td>2738736</td>\n",
       "      <td>2804836</td>\n",
       "      <td>3319420</td>\n",
       "      <td>3958913.0</td>\n",
       "      <td>3983750.0</td>\n",
       "      <td>4622225.0</td>\n",
       "      <td>4731402.0</td>\n",
       "      <td>4984200.0</td>\n",
       "      <td>...</td>\n",
       "      <td>NaN</td>\n",
       "      <td>NaN</td>\n",
       "      <td>NaN</td>\n",
       "      <td>NaN</td>\n",
       "      <td>NaN</td>\n",
       "      <td>NaN</td>\n",
       "      <td>NaN</td>\n",
       "      <td>NaN</td>\n",
       "      <td>NaN</td>\n",
       "      <td>NaN</td>\n",
       "    </tr>\n",
       "    <tr>\n",
       "      <th>32</th>\n",
       "      <td>2727590</td>\n",
       "      <td>3041130</td>\n",
       "      <td>3450112</td>\n",
       "      <td>3702473</td>\n",
       "      <td>3719223</td>\n",
       "      <td>3799900.0</td>\n",
       "      <td>3826081.0</td>\n",
       "      <td>4245158.0</td>\n",
       "      <td>4364053.0</td>\n",
       "      <td>4481672.0</td>\n",
       "      <td>...</td>\n",
       "      <td>NaN</td>\n",
       "      <td>NaN</td>\n",
       "      <td>NaN</td>\n",
       "      <td>NaN</td>\n",
       "      <td>NaN</td>\n",
       "      <td>NaN</td>\n",
       "      <td>NaN</td>\n",
       "      <td>NaN</td>\n",
       "      <td>NaN</td>\n",
       "      <td>NaN</td>\n",
       "    </tr>\n",
       "    <tr>\n",
       "      <th>33</th>\n",
       "      <td>2746770</td>\n",
       "      <td>3855748</td>\n",
       "      <td>4014481</td>\n",
       "      <td>7984101</td>\n",
       "      <td>9012420</td>\n",
       "      <td>NaN</td>\n",
       "      <td>NaN</td>\n",
       "      <td>NaN</td>\n",
       "      <td>NaN</td>\n",
       "      <td>NaN</td>\n",
       "      <td>...</td>\n",
       "      <td>NaN</td>\n",
       "      <td>NaN</td>\n",
       "      <td>NaN</td>\n",
       "      <td>NaN</td>\n",
       "      <td>NaN</td>\n",
       "      <td>NaN</td>\n",
       "      <td>NaN</td>\n",
       "      <td>NaN</td>\n",
       "      <td>NaN</td>\n",
       "      <td>NaN</td>\n",
       "    </tr>\n",
       "    <tr>\n",
       "      <th>34</th>\n",
       "      <td>3213144</td>\n",
       "      <td>3275655</td>\n",
       "      <td>3505130</td>\n",
       "      <td>3779694</td>\n",
       "      <td>3800799</td>\n",
       "      <td>3801771.0</td>\n",
       "      <td>3806412.0</td>\n",
       "      <td>3814104.0</td>\n",
       "      <td>3815685.0</td>\n",
       "      <td>3815807.0</td>\n",
       "      <td>...</td>\n",
       "      <td>NaN</td>\n",
       "      <td>NaN</td>\n",
       "      <td>NaN</td>\n",
       "      <td>NaN</td>\n",
       "      <td>NaN</td>\n",
       "      <td>NaN</td>\n",
       "      <td>NaN</td>\n",
       "      <td>NaN</td>\n",
       "      <td>NaN</td>\n",
       "      <td>NaN</td>\n",
       "    </tr>\n",
       "    <tr>\n",
       "      <th>35</th>\n",
       "      <td>3318397</td>\n",
       "      <td>3532139</td>\n",
       "      <td>3703490</td>\n",
       "      <td>3764416</td>\n",
       "      <td>3861377</td>\n",
       "      <td>3903815.0</td>\n",
       "      <td>4045629.0</td>\n",
       "      <td>4064232.0</td>\n",
       "      <td>4107073.0</td>\n",
       "      <td>4305784.0</td>\n",
       "      <td>...</td>\n",
       "      <td>NaN</td>\n",
       "      <td>NaN</td>\n",
       "      <td>NaN</td>\n",
       "      <td>NaN</td>\n",
       "      <td>NaN</td>\n",
       "      <td>NaN</td>\n",
       "      <td>NaN</td>\n",
       "      <td>NaN</td>\n",
       "      <td>NaN</td>\n",
       "      <td>NaN</td>\n",
       "    </tr>\n",
       "    <tr>\n",
       "      <th>36</th>\n",
       "      <td>3336537</td>\n",
       "      <td>3898544</td>\n",
       "      <td>4696808</td>\n",
       "      <td>4805505</td>\n",
       "      <td>4833440</td>\n",
       "      <td>4834445.0</td>\n",
       "      <td>5357605.0</td>\n",
       "      <td>6049694.0</td>\n",
       "      <td>7170986.0</td>\n",
       "      <td>7634020.0</td>\n",
       "      <td>...</td>\n",
       "      <td>NaN</td>\n",
       "      <td>NaN</td>\n",
       "      <td>NaN</td>\n",
       "      <td>NaN</td>\n",
       "      <td>NaN</td>\n",
       "      <td>NaN</td>\n",
       "      <td>NaN</td>\n",
       "      <td>NaN</td>\n",
       "      <td>NaN</td>\n",
       "      <td>NaN</td>\n",
       "    </tr>\n",
       "    <tr>\n",
       "      <th>37</th>\n",
       "      <td>3522455</td>\n",
       "      <td>3736596</td>\n",
       "      <td>3751403</td>\n",
       "      <td>3826017</td>\n",
       "      <td>3826461</td>\n",
       "      <td>4021074.0</td>\n",
       "      <td>4308895.0</td>\n",
       "      <td>4406356.0</td>\n",
       "      <td>4533317.0</td>\n",
       "      <td>4547689.0</td>\n",
       "      <td>...</td>\n",
       "      <td>NaN</td>\n",
       "      <td>NaN</td>\n",
       "      <td>NaN</td>\n",
       "      <td>NaN</td>\n",
       "      <td>NaN</td>\n",
       "      <td>NaN</td>\n",
       "      <td>NaN</td>\n",
       "      <td>NaN</td>\n",
       "      <td>NaN</td>\n",
       "      <td>NaN</td>\n",
       "    </tr>\n",
       "    <tr>\n",
       "      <th>38</th>\n",
       "      <td>3667327</td>\n",
       "      <td>3706349</td>\n",
       "      <td>3746994</td>\n",
       "      <td>3816191</td>\n",
       "      <td>3962196</td>\n",
       "      <td>4014138.0</td>\n",
       "      <td>4015882.0</td>\n",
       "      <td>4099988.0</td>\n",
       "      <td>4192172.0</td>\n",
       "      <td>4753576.0</td>\n",
       "      <td>...</td>\n",
       "      <td>NaN</td>\n",
       "      <td>NaN</td>\n",
       "      <td>NaN</td>\n",
       "      <td>NaN</td>\n",
       "      <td>NaN</td>\n",
       "      <td>NaN</td>\n",
       "      <td>NaN</td>\n",
       "      <td>NaN</td>\n",
       "      <td>NaN</td>\n",
       "      <td>NaN</td>\n",
       "    </tr>\n",
       "    <tr>\n",
       "      <th>39</th>\n",
       "      <td>3800640</td>\n",
       "      <td>4014418</td>\n",
       "      <td>4216009</td>\n",
       "      <td>4225284</td>\n",
       "      <td>4504024</td>\n",
       "      <td>4523782.0</td>\n",
       "      <td>4548865.0</td>\n",
       "      <td>5139590.0</td>\n",
       "      <td>5141384.0</td>\n",
       "      <td>5176157.0</td>\n",
       "      <td>...</td>\n",
       "      <td>NaN</td>\n",
       "      <td>NaN</td>\n",
       "      <td>NaN</td>\n",
       "      <td>NaN</td>\n",
       "      <td>NaN</td>\n",
       "      <td>NaN</td>\n",
       "      <td>NaN</td>\n",
       "      <td>NaN</td>\n",
       "      <td>NaN</td>\n",
       "      <td>NaN</td>\n",
       "    </tr>\n",
       "    <tr>\n",
       "      <th>40</th>\n",
       "      <td>3953689</td>\n",
       "      <td>3954070</td>\n",
       "      <td>4419065</td>\n",
       "      <td>4718895</td>\n",
       "      <td>4850883</td>\n",
       "      <td>4937641.0</td>\n",
       "      <td>5076236.0</td>\n",
       "      <td>5219512.0</td>\n",
       "      <td>5221487.0</td>\n",
       "      <td>5402487.0</td>\n",
       "      <td>...</td>\n",
       "      <td>NaN</td>\n",
       "      <td>NaN</td>\n",
       "      <td>NaN</td>\n",
       "      <td>NaN</td>\n",
       "      <td>NaN</td>\n",
       "      <td>NaN</td>\n",
       "      <td>NaN</td>\n",
       "      <td>NaN</td>\n",
       "      <td>NaN</td>\n",
       "      <td>NaN</td>\n",
       "    </tr>\n",
       "    <tr>\n",
       "      <th>41</th>\n",
       "      <td>3965348</td>\n",
       "      <td>4104733</td>\n",
       "      <td>4568306</td>\n",
       "      <td>4707732</td>\n",
       "      <td>4715820</td>\n",
       "      <td>4831032.0</td>\n",
       "      <td>4970012.0</td>\n",
       "      <td>4978403.0</td>\n",
       "      <td>5180823.0</td>\n",
       "      <td>6268324.0</td>\n",
       "      <td>...</td>\n",
       "      <td>NaN</td>\n",
       "      <td>NaN</td>\n",
       "      <td>NaN</td>\n",
       "      <td>NaN</td>\n",
       "      <td>NaN</td>\n",
       "      <td>NaN</td>\n",
       "      <td>NaN</td>\n",
       "      <td>NaN</td>\n",
       "      <td>NaN</td>\n",
       "      <td>NaN</td>\n",
       "    </tr>\n",
       "    <tr>\n",
       "      <th>42</th>\n",
       "      <td>4286568</td>\n",
       "      <td>7127134</td>\n",
       "      <td>7604183</td>\n",
       "      <td>7724036</td>\n",
       "      <td>8940831</td>\n",
       "      <td>NaN</td>\n",
       "      <td>NaN</td>\n",
       "      <td>NaN</td>\n",
       "      <td>NaN</td>\n",
       "      <td>NaN</td>\n",
       "      <td>...</td>\n",
       "      <td>NaN</td>\n",
       "      <td>NaN</td>\n",
       "      <td>NaN</td>\n",
       "      <td>NaN</td>\n",
       "      <td>NaN</td>\n",
       "      <td>NaN</td>\n",
       "      <td>NaN</td>\n",
       "      <td>NaN</td>\n",
       "      <td>NaN</td>\n",
       "      <td>NaN</td>\n",
       "    </tr>\n",
       "    <tr>\n",
       "      <th>43</th>\n",
       "      <td>4797125</td>\n",
       "      <td>5482323</td>\n",
       "      <td>5483807</td>\n",
       "      <td>6287192</td>\n",
       "      <td>6491036</td>\n",
       "      <td>NaN</td>\n",
       "      <td>NaN</td>\n",
       "      <td>NaN</td>\n",
       "      <td>NaN</td>\n",
       "      <td>NaN</td>\n",
       "      <td>...</td>\n",
       "      <td>NaN</td>\n",
       "      <td>NaN</td>\n",
       "      <td>NaN</td>\n",
       "      <td>NaN</td>\n",
       "      <td>NaN</td>\n",
       "      <td>NaN</td>\n",
       "      <td>NaN</td>\n",
       "      <td>NaN</td>\n",
       "      <td>NaN</td>\n",
       "      <td>NaN</td>\n",
       "    </tr>\n",
       "    <tr>\n",
       "      <th>44</th>\n",
       "      <td>5604672</td>\n",
       "      <td>5872363</td>\n",
       "      <td>6177595</td>\n",
       "      <td>7300310</td>\n",
       "      <td>7302118</td>\n",
       "      <td>NaN</td>\n",
       "      <td>NaN</td>\n",
       "      <td>NaN</td>\n",
       "      <td>NaN</td>\n",
       "      <td>NaN</td>\n",
       "      <td>...</td>\n",
       "      <td>NaN</td>\n",
       "      <td>NaN</td>\n",
       "      <td>NaN</td>\n",
       "      <td>NaN</td>\n",
       "      <td>NaN</td>\n",
       "      <td>NaN</td>\n",
       "      <td>NaN</td>\n",
       "      <td>NaN</td>\n",
       "      <td>NaN</td>\n",
       "      <td>NaN</td>\n",
       "    </tr>\n",
       "    <tr>\n",
       "      <th>45</th>\n",
       "      <td>5645998</td>\n",
       "      <td>5668164</td>\n",
       "      <td>6033854</td>\n",
       "      <td>7039063</td>\n",
       "      <td>7553586</td>\n",
       "      <td>7605783.0</td>\n",
       "      <td>NaN</td>\n",
       "      <td>NaN</td>\n",
       "      <td>NaN</td>\n",
       "      <td>NaN</td>\n",
       "      <td>...</td>\n",
       "      <td>NaN</td>\n",
       "      <td>NaN</td>\n",
       "      <td>NaN</td>\n",
       "      <td>NaN</td>\n",
       "      <td>NaN</td>\n",
       "      <td>NaN</td>\n",
       "      <td>NaN</td>\n",
       "      <td>NaN</td>\n",
       "      <td>NaN</td>\n",
       "      <td>NaN</td>\n",
       "    </tr>\n",
       "    <tr>\n",
       "      <th>46</th>\n",
       "      <td>5739952</td>\n",
       "      <td>5916192</td>\n",
       "      <td>5960432</td>\n",
       "      <td>5986921</td>\n",
       "      <td>6082932</td>\n",
       "      <td>6272010.0</td>\n",
       "      <td>6283533.0</td>\n",
       "      <td>6284053.0</td>\n",
       "      <td>6481416.0</td>\n",
       "      <td>7356051.0</td>\n",
       "      <td>...</td>\n",
       "      <td>NaN</td>\n",
       "      <td>NaN</td>\n",
       "      <td>NaN</td>\n",
       "      <td>NaN</td>\n",
       "      <td>NaN</td>\n",
       "      <td>NaN</td>\n",
       "      <td>NaN</td>\n",
       "      <td>NaN</td>\n",
       "      <td>NaN</td>\n",
       "      <td>NaN</td>\n",
       "    </tr>\n",
       "  </tbody>\n",
       "</table>\n",
       "<p>47 rows × 207 columns</p>\n",
       "</div>"
      ],
      "text/plain": [
       "        0        1        2        3        4          5          6    \\\n",
       "0   1516651  1532721  1552926  1639416  1650233  1652127.0  1696410.0   \n",
       "1   1519676  1718813  1870662  2174859  2200223  2237624.0  2357018.0   \n",
       "2   1547686  1814926  1819134  2074586  2078336  2137163.0  2215218.0   \n",
       "3   1584847  1585563  1970439  1988346  2012368  2015694.0  2099227.0   \n",
       "4   1593803  1654888  1659763  1880691  2104070  2174184.0  2248474.0   \n",
       "5   1595191  1654253  1734712  1807184  1963726  2146873.0  2147894.0   \n",
       "6   1599303  1744202  1856214  2264778  2315864  2412878.0  2574339.0   \n",
       "7   1615866  1618063  1709316  1745345  1828884  1883237.0  1885265.0   \n",
       "8   1626552  1753602  3974559  4229627  5025197  5140263.0  5207880.0   \n",
       "9   1732210  3380623  3575884  3698497  3755012  3855595.0  3891789.0   \n",
       "10  1807213  2101923  2194394  2224816  2288061  2291390.0  2384418.0   \n",
       "11  1861231  2077994  2236870  2270768  2273841  2334376.0  2349210.0   \n",
       "12  1883900  1885096  2468463  2557720  2768141  2772678.0  2781641.0   \n",
       "13  1915397  2486037  2933333  2952534  2955451  3001434.0  3177137.0   \n",
       "14  1972437  2060988  2137133  2191649  3453010  3960932.0  4119519.0   \n",
       "15  2009259  2157100  2188820  2195137  2246320  2254573.0  2275526.0   \n",
       "16  2017849  2022097  2795370  2799402  2813737  4542782.0  4708498.0   \n",
       "17  2028886  2479984  2724400  2856396  3308904  3343236.0  3407639.0   \n",
       "18  2056490  2073723  2080624  2239380  2287912  2337251.0  2439197.0   \n",
       "19  2080203  2314008  2320634  2325055  2368852  2458146.0  2513527.0   \n",
       "20  2092345  2202223  2220712  2229041  2253535  2327265.0  2392059.0   \n",
       "21  2113834  2150122  2153245  2156916  2185480  2187873.0  2206749.0   \n",
       "22  2139652  2186334  2202563  2210866  2233794  2234878.0  2298936.0   \n",
       "23  2145662  2345410  2354984  2361178  2395655  2526226.0  2685818.0   \n",
       "24  2169723  2185094  2298864  2321788  2408324  2420723.0  2458563.0   \n",
       "25  2181453  2220178  3138473  3172391  3212718  3287165.0  3289527.0   \n",
       "26  2188259  2323230  2438314  2516000  2681686  2803030.0  2827586.0   \n",
       "27  2188813  2503468  2627937  2733735  2752568  2799302.0  2800874.0   \n",
       "28  2206355  2258736  2588497  2783902  3004041  3682188.0  3794540.0   \n",
       "29  2238863  2351473  2603712  2877113  2919737  2972936.0  3158490.0   \n",
       "30  2553886  2681652  2754688  2847760  2860176  2913786.0  4128792.0   \n",
       "31  2697688  2702414  2738736  2804836  3319420  3958913.0  3983750.0   \n",
       "32  2727590  3041130  3450112  3702473  3719223  3799900.0  3826081.0   \n",
       "33  2746770  3855748  4014481  7984101  9012420        NaN        NaN   \n",
       "34  3213144  3275655  3505130  3779694  3800799  3801771.0  3806412.0   \n",
       "35  3318397  3532139  3703490  3764416  3861377  3903815.0  4045629.0   \n",
       "36  3336537  3898544  4696808  4805505  4833440  4834445.0  5357605.0   \n",
       "37  3522455  3736596  3751403  3826017  3826461  4021074.0  4308895.0   \n",
       "38  3667327  3706349  3746994  3816191  3962196  4014138.0  4015882.0   \n",
       "39  3800640  4014418  4216009  4225284  4504024  4523782.0  4548865.0   \n",
       "40  3953689  3954070  4419065  4718895  4850883  4937641.0  5076236.0   \n",
       "41  3965348  4104733  4568306  4707732  4715820  4831032.0  4970012.0   \n",
       "42  4286568  7127134  7604183  7724036  8940831        NaN        NaN   \n",
       "43  4797125  5482323  5483807  6287192  6491036        NaN        NaN   \n",
       "44  5604672  5872363  6177595  7300310  7302118        NaN        NaN   \n",
       "45  5645998  5668164  6033854  7039063  7553586  7605783.0        NaN   \n",
       "46  5739952  5916192  5960432  5986921  6082932  6272010.0  6283533.0   \n",
       "\n",
       "          7          8          9      ...            197        198  \\\n",
       "0   1721418.0  1732268.0  1744649.0    ...            NaN        NaN   \n",
       "1   2466360.0  2530594.0  2542391.0    ...            NaN        NaN   \n",
       "2   2807641.0  2967159.0  3023736.0    ...            NaN        NaN   \n",
       "3   2123900.0  2261721.0  2352351.0    ...            NaN        NaN   \n",
       "4   2530676.0  2539918.0  2540265.0    ...            NaN        NaN   \n",
       "5   2152902.0  2222862.0  2393098.0    ...            NaN        NaN   \n",
       "6   2662363.0  2770126.0  2892118.0    ...            NaN        NaN   \n",
       "7   1917896.0  1926294.0  1951062.0    ...            NaN        NaN   \n",
       "8   5230981.0  5248724.0  5374888.0    ...            NaN        NaN   \n",
       "9   3911796.0  3918442.0  3925001.0    ...            NaN        NaN   \n",
       "10  2392796.0  2393155.0  2400391.0    ...            NaN        NaN   \n",
       "11  2350176.0  2378100.0  2379441.0    ...            NaN        NaN   \n",
       "12  2790678.0  2792513.0  3947120.0    ...            NaN        NaN   \n",
       "13  3274718.0  3548720.0  3873157.0    ...            NaN        NaN   \n",
       "14  4235489.0  4474182.0  4599376.0    ...            NaN        NaN   \n",
       "15  2392520.0  2485286.0  2515098.0    ...            NaN        NaN   \n",
       "16  4818211.0  5412407.0  5414076.0    ...            NaN        NaN   \n",
       "17  3452904.0  3484001.0  3641222.0    ...            NaN        NaN   \n",
       "18  2480473.0  2526536.0  2551523.0    ...            NaN        NaN   \n",
       "19  2536384.0  2750437.0  2850418.0    ...            NaN        NaN   \n",
       "20  2402753.0  2416512.0  2468360.0    ...            NaN        NaN   \n",
       "21  2224627.0  2227743.0  2227978.0    ...      7771447.0  7808296.0   \n",
       "22  2352223.0  2414101.0  2424884.0    ...            NaN        NaN   \n",
       "23  2705098.0  2777114.0  3165816.0    ...            NaN        NaN   \n",
       "24  2516749.0  2573539.0  2598262.0    ...            NaN        NaN   \n",
       "25  3320345.0  3334908.0  3351736.0    ...            NaN        NaN   \n",
       "26  2960553.0  2967033.0  2989127.0    ...            NaN        NaN   \n",
       "27  2824637.0  2849678.0  2859802.0    ...            NaN        NaN   \n",
       "28  3806153.0  3865201.0  3884712.0    ...            NaN        NaN   \n",
       "29  3241616.0  3270170.0  3354927.0    ...            NaN        NaN   \n",
       "30  4165490.0  4199010.0  4394641.0    ...            NaN        NaN   \n",
       "31  4622225.0  4731402.0  4984200.0    ...            NaN        NaN   \n",
       "32  4245158.0  4364053.0  4481672.0    ...            NaN        NaN   \n",
       "33        NaN        NaN        NaN    ...            NaN        NaN   \n",
       "34  3814104.0  3815685.0  3815807.0    ...            NaN        NaN   \n",
       "35  4064232.0  4107073.0  4305784.0    ...            NaN        NaN   \n",
       "36  6049694.0  7170986.0  7634020.0    ...            NaN        NaN   \n",
       "37  4406356.0  4533317.0  4547689.0    ...            NaN        NaN   \n",
       "38  4099988.0  4192172.0  4753576.0    ...            NaN        NaN   \n",
       "39  5139590.0  5141384.0  5176157.0    ...            NaN        NaN   \n",
       "40  5219512.0  5221487.0  5402487.0    ...            NaN        NaN   \n",
       "41  4978403.0  5180823.0  6268324.0    ...            NaN        NaN   \n",
       "42        NaN        NaN        NaN    ...            NaN        NaN   \n",
       "43        NaN        NaN        NaN    ...            NaN        NaN   \n",
       "44        NaN        NaN        NaN    ...            NaN        NaN   \n",
       "45        NaN        NaN        NaN    ...            NaN        NaN   \n",
       "46  6284053.0  6481416.0  7356051.0    ...            NaN        NaN   \n",
       "\n",
       "          199        200        201        202        203        204  \\\n",
       "0         NaN        NaN        NaN        NaN        NaN        NaN   \n",
       "1         NaN        NaN        NaN        NaN        NaN        NaN   \n",
       "2         NaN        NaN        NaN        NaN        NaN        NaN   \n",
       "3         NaN        NaN        NaN        NaN        NaN        NaN   \n",
       "4         NaN        NaN        NaN        NaN        NaN        NaN   \n",
       "5         NaN        NaN        NaN        NaN        NaN        NaN   \n",
       "6         NaN        NaN        NaN        NaN        NaN        NaN   \n",
       "7         NaN        NaN        NaN        NaN        NaN        NaN   \n",
       "8         NaN        NaN        NaN        NaN        NaN        NaN   \n",
       "9         NaN        NaN        NaN        NaN        NaN        NaN   \n",
       "10        NaN        NaN        NaN        NaN        NaN        NaN   \n",
       "11        NaN        NaN        NaN        NaN        NaN        NaN   \n",
       "12        NaN        NaN        NaN        NaN        NaN        NaN   \n",
       "13        NaN        NaN        NaN        NaN        NaN        NaN   \n",
       "14        NaN        NaN        NaN        NaN        NaN        NaN   \n",
       "15        NaN        NaN        NaN        NaN        NaN        NaN   \n",
       "16        NaN        NaN        NaN        NaN        NaN        NaN   \n",
       "17        NaN        NaN        NaN        NaN        NaN        NaN   \n",
       "18        NaN        NaN        NaN        NaN        NaN        NaN   \n",
       "19        NaN        NaN        NaN        NaN        NaN        NaN   \n",
       "20        NaN        NaN        NaN        NaN        NaN        NaN   \n",
       "21  8020126.0  8097060.0  8197589.0  8343812.0  8352046.0  8418026.0   \n",
       "22        NaN        NaN        NaN        NaN        NaN        NaN   \n",
       "23        NaN        NaN        NaN        NaN        NaN        NaN   \n",
       "24        NaN        NaN        NaN        NaN        NaN        NaN   \n",
       "25        NaN        NaN        NaN        NaN        NaN        NaN   \n",
       "26        NaN        NaN        NaN        NaN        NaN        NaN   \n",
       "27        NaN        NaN        NaN        NaN        NaN        NaN   \n",
       "28        NaN        NaN        NaN        NaN        NaN        NaN   \n",
       "29        NaN        NaN        NaN        NaN        NaN        NaN   \n",
       "30        NaN        NaN        NaN        NaN        NaN        NaN   \n",
       "31        NaN        NaN        NaN        NaN        NaN        NaN   \n",
       "32        NaN        NaN        NaN        NaN        NaN        NaN   \n",
       "33        NaN        NaN        NaN        NaN        NaN        NaN   \n",
       "34        NaN        NaN        NaN        NaN        NaN        NaN   \n",
       "35        NaN        NaN        NaN        NaN        NaN        NaN   \n",
       "36        NaN        NaN        NaN        NaN        NaN        NaN   \n",
       "37        NaN        NaN        NaN        NaN        NaN        NaN   \n",
       "38        NaN        NaN        NaN        NaN        NaN        NaN   \n",
       "39        NaN        NaN        NaN        NaN        NaN        NaN   \n",
       "40        NaN        NaN        NaN        NaN        NaN        NaN   \n",
       "41        NaN        NaN        NaN        NaN        NaN        NaN   \n",
       "42        NaN        NaN        NaN        NaN        NaN        NaN   \n",
       "43        NaN        NaN        NaN        NaN        NaN        NaN   \n",
       "44        NaN        NaN        NaN        NaN        NaN        NaN   \n",
       "45        NaN        NaN        NaN        NaN        NaN        NaN   \n",
       "46        NaN        NaN        NaN        NaN        NaN        NaN   \n",
       "\n",
       "          205        206  \n",
       "0         NaN        NaN  \n",
       "1         NaN        NaN  \n",
       "2         NaN        NaN  \n",
       "3         NaN        NaN  \n",
       "4         NaN        NaN  \n",
       "5         NaN        NaN  \n",
       "6         NaN        NaN  \n",
       "7         NaN        NaN  \n",
       "8         NaN        NaN  \n",
       "9         NaN        NaN  \n",
       "10        NaN        NaN  \n",
       "11        NaN        NaN  \n",
       "12        NaN        NaN  \n",
       "13        NaN        NaN  \n",
       "14        NaN        NaN  \n",
       "15        NaN        NaN  \n",
       "16        NaN        NaN  \n",
       "17        NaN        NaN  \n",
       "18        NaN        NaN  \n",
       "19        NaN        NaN  \n",
       "20        NaN        NaN  \n",
       "21  9061655.0  9344820.0  \n",
       "22        NaN        NaN  \n",
       "23        NaN        NaN  \n",
       "24        NaN        NaN  \n",
       "25        NaN        NaN  \n",
       "26        NaN        NaN  \n",
       "27        NaN        NaN  \n",
       "28        NaN        NaN  \n",
       "29        NaN        NaN  \n",
       "30        NaN        NaN  \n",
       "31        NaN        NaN  \n",
       "32        NaN        NaN  \n",
       "33        NaN        NaN  \n",
       "34        NaN        NaN  \n",
       "35        NaN        NaN  \n",
       "36        NaN        NaN  \n",
       "37        NaN        NaN  \n",
       "38        NaN        NaN  \n",
       "39        NaN        NaN  \n",
       "40        NaN        NaN  \n",
       "41        NaN        NaN  \n",
       "42        NaN        NaN  \n",
       "43        NaN        NaN  \n",
       "44        NaN        NaN  \n",
       "45        NaN        NaN  \n",
       "46        NaN        NaN  \n",
       "\n",
       "[47 rows x 207 columns]"
      ]
     },
     "execution_count": 99,
     "metadata": {},
     "output_type": "execute_result"
    }
   ],
   "source": []
  },
  {
   "cell_type": "code",
   "execution_count": null,
   "metadata": {
    "collapsed": true
   },
   "outputs": [],
   "source": []
  }
 ],
 "metadata": {
  "kernelspec": {
   "display_name": "Python [Root]",
   "language": "python",
   "name": "Python [Root]"
  },
  "language_info": {
   "codemirror_mode": {
    "name": "ipython",
    "version": 2
   },
   "file_extension": ".py",
   "mimetype": "text/x-python",
   "name": "python",
   "nbconvert_exporter": "python",
   "pygments_lexer": "ipython2",
   "version": "2.7.12"
  }
 },
 "nbformat": 4,
 "nbformat_minor": 0
}

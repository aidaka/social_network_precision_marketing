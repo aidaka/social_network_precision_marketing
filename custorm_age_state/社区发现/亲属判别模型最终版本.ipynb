{
 "cells": [
  {
   "cell_type": "code",
   "execution_count": 126,
   "metadata": {
    "collapsed": false
   },
   "outputs": [
    {
     "name": "stdout",
     "output_type": "stream",
     "text": [
      "reading training and testing data...\n",
      "******************** Data Info *********************\n",
      "#training data: 150000, #testing_data: 50000, dimension: 72\n",
      "******************* LR ********************\n",
      "training took 15.168407s!\n",
      "[[0.61355796229442439, 0.61578099838969402, 0.61643999999999999, 0.61466747036367297, 0.61643580921074526]]\n",
      "precision: 61.36%, recall: 61.58%\n",
      "accuracy: 61.64%\n",
      "******************* DT ********************\n",
      "training took 20.333866s!\n",
      "[[0.61355796229442439, 0.61578099838969402, 0.61643999999999999, 0.61466747036367297, 0.61643580921074526], [0.54211283362633855, 0.54621578099838974, 0.54535999999999996, 0.54415657335365375, 0.54536544216851124]]\n",
      "precision: 54.21%, recall: 54.62%\n",
      "accuracy: 54.54%\n",
      "******************* RF ********************\n",
      "training took 787.954446s!\n",
      "[[0.61355796229442439, 0.61578099838969402, 0.61643999999999999, 0.61466747036367297, 0.61643580921074526], [0.54211283362633855, 0.54621578099838974, 0.54535999999999996, 0.54415657335365375, 0.54536544216851124], [0.61685182159777818, 0.60801127214170692, 0.61763999999999997, 0.61239964317573603, 0.61757876802633827]]\n",
      "precision: 61.69%, recall: 60.80%\n",
      "accuracy: 61.76%\n",
      "******************* NB ********************\n",
      "training took 0.473343s!\n",
      "[[0.61355796229442439, 0.61578099838969402, 0.61643999999999999, 0.61466747036367297, 0.61643580921074526], [0.54211283362633855, 0.54621578099838974, 0.54535999999999996, 0.54415657335365375, 0.54536544216851124], [0.61685182159777818, 0.60801127214170692, 0.61763999999999997, 0.61239964317573603, 0.61757876802633827], [0.5796743505305525, 0.51022544283413851, 0.57287999999999994, 0.54273723878040425, 0.57248156084473212]]\n",
      "precision: 57.97%, recall: 51.02%\n",
      "accuracy: 57.29%\n",
      "******************* GBDT ********************\n",
      "training took 693.019537s!\n",
      "[[0.61355796229442439, 0.61578099838969402, 0.61643999999999999, 0.61466747036367297, 0.61643580921074526], [0.54211283362633855, 0.54621578099838974, 0.54535999999999996, 0.54415657335365375, 0.54536544216851124], [0.61685182159777818, 0.60801127214170692, 0.61763999999999997, 0.61239964317573603, 0.61757876802633827], [0.5796743505305525, 0.51022544283413851, 0.57287999999999994, 0.54273723878040425, 0.57248156084473212], [0.62321197714666998, 0.60161030595813203, 0.62138000000000004, 0.61222065179540752, 0.62125427857525051]]\n",
      "precision: 62.32%, recall: 60.16%\n",
      "accuracy: 62.14%\n"
     ]
    }
   ],
   "source": [
    "#!usr/bin/env python\n",
    "#-*- coding: utf-8 -*-\n",
    "\n",
    "import sys\n",
    "import os\n",
    "import time\n",
    "from sklearn import metrics\n",
    "import numpy as np\n",
    "import cPickle as pickle\n",
    "\n",
    "from sklearn.linear_model import LogisticRegression \n",
    "from sklearn.cross_validation import train_test_split\n",
    "from sklearn.metrics import r2_score, auc,roc_auc_score,precision_score,accuracy_score,f1_score,recall_score,auc\n",
    "import pandas as pd\n",
    "import numpy as np\n",
    "# import xgboost as xgb\n",
    "# from xgboost.sklearn import XGBClassifier\n",
    "from sklearn import cross_validation, metrics   #Additional     scklearn functions\n",
    "from sklearn.grid_search import GridSearchCV \n",
    "\n",
    "\n",
    "# used_feat=pd.read_csv('feature_importance.csv',index_col=0)\n",
    "# use_cols=used_feat[used_feat.imv>5].index.values\n",
    "\n",
    "\n",
    "# Multinomial Naive Bayes Classifier\n",
    "def naive_bayes_classifier(train_x, train_y):\n",
    "    from sklearn.naive_bayes import MultinomialNB\n",
    "    model = MultinomialNB(alpha=0.01)\n",
    "    model.fit(train_x, train_y)\n",
    "    return model\n",
    "\n",
    "\n",
    "# KNN Classifier\n",
    "def knn_classifier(train_x, train_y):\n",
    "    from sklearn.neighbors import KNeighborsClassifier\n",
    "    model = KNeighborsClassifier()\n",
    "    model.fit(train_x, train_y)\n",
    "    return model\n",
    "\n",
    "\n",
    "# Logistic Regression Classifier\n",
    "def logistic_regression_classifier(train_x, train_y):\n",
    "    from sklearn.linear_model import LogisticRegression\n",
    "    model = LogisticRegression(penalty='l2')\n",
    "    model.fit(train_x, train_y)\n",
    "    return model\n",
    "\n",
    "\n",
    "# Random Forest Classifier\n",
    "def random_forest_classifier(train_x, train_y):\n",
    "    from sklearn.ensemble import RandomForestClassifier\n",
    "    model = RandomForestClassifier(n_estimators=500)\n",
    "    model.fit(train_x, train_y)\n",
    "    return model\n",
    "\n",
    "\n",
    "# Decision Tree Classifier\n",
    "def decision_tree_classifier(train_x, train_y):\n",
    "    from sklearn import tree\n",
    "    model = tree.DecisionTreeClassifier()\n",
    "    model.fit(train_x, train_y)\n",
    "    return model\n",
    "\n",
    "\n",
    "# GBDT(Gradient Boosting Decision Tree) Classifier\n",
    "def gradient_boosting_classifier(train_x, train_y):\n",
    "    from sklearn.ensemble import GradientBoostingClassifier\n",
    "    model = GradientBoostingClassifier(n_estimators=700)\n",
    "    model.fit(train_x, train_y)\n",
    "    return model\n",
    "\n",
    "\n",
    "# SVM Classifier\n",
    "def svm_classifier(train_x, train_y):\n",
    "    from sklearn.svm import SVC\n",
    "    model = SVC(kernel='rbf', probability=True)\n",
    "    model.fit(train_x, train_y)\n",
    "    return model\n",
    "\n",
    "# SVM Classifier using cross validation\n",
    "def svm_cross_validation(train_x, train_y):\n",
    "    from sklearn.grid_search import GridSearchCV\n",
    "    from sklearn.svm import SVC\n",
    "    model = SVC(kernel='rbf', probability=True)\n",
    "    param_grid = {'C': [1e-3, 1e-2, 1e-1, 1, 10, 100, 1000], 'gamma': [0.001, 0.0001]}\n",
    "    grid_search = GridSearchCV(model, param_grid, n_jobs = 1, verbose=1)\n",
    "    grid_search.fit(train_x, train_y)\n",
    "    best_parameters = grid_search.best_estimator_.get_params()\n",
    "    for para, val in best_parameters.items():\n",
    "        print para, val\n",
    "    model = SVC(kernel='rbf', C=best_parameters['C'], gamma=best_parameters['gamma'], probability=True)\n",
    "    model.fit(train_x, train_y)\n",
    "    return model\n",
    "\n",
    "def read_data(data_file):\n",
    "    import gzip\n",
    "    f = gzip.open(data_file, \"rb\")\n",
    "    train, val, test = pickle.load(f)\n",
    "    f.close()\n",
    "    train_x = train[0]\n",
    "    train_y = train[1]\n",
    "    test_x = test[0]\n",
    "    test_y = test[1]\n",
    "    return train_x, train_y, test_x, test_y\n",
    "    \n",
    "if __name__ == '__main__':\n",
    "    \n",
    "    thresh = 0.5\n",
    "    model_save_file = None\n",
    "    model_save = {}\n",
    "    \n",
    "#     test_classifiers = ['NB', 'KNN', 'LR', 'RF', 'DT', 'GBDT']\n",
    "    test_classifiers = ['LR','DT','RF','NB','GBDT']\n",
    "\n",
    "    classifiers = {'NB':naive_bayes_classifier, \n",
    "                  'KNN':knn_classifier,\n",
    "                   'LR':logistic_regression_classifier,\n",
    "                   'RF':random_forest_classifier,\n",
    "                   'DT':decision_tree_classifier,\n",
    "                  'SVM':svm_classifier,\n",
    "                'SVMCV':svm_cross_validation,\n",
    "                 'GBDT':gradient_boosting_classifier\n",
    "    }\n",
    "    \n",
    "    #读数据\n",
    "    print 'reading training and testing data...'\n",
    "    rel_df=pd.read_csv('train_df_std0320_20w.csv',index_col=0)\n",
    "    target=rel_df.is_rel\n",
    "    rel_df1=rel_df.ix[:,:-1]\n",
    "    # rel_df=rel_df1.ix[:,use_cols]\n",
    "    train_x, test_x, train_y, test_y = train_test_split(rel_df1, target)\n",
    "    \n",
    "    ## 训练数据\n",
    "    num_train, num_feat = train_x.shape\n",
    "    num_test, num_feat = test_x.shape\n",
    "    is_binary_class = (len(np.unique(train_y)) == 2)\n",
    "    print '******************** Data Info *********************'\n",
    "    print '#training data: %d, #testing_data: %d, dimension: %d' % (num_train, num_test, num_feat)\n",
    "    \n",
    "    \n",
    "    metric_list=[]\n",
    "    for classifier in test_classifiers:\n",
    "        print '******************* %s ********************' % classifier\n",
    "        start_time = time.time()\n",
    "        model = classifiers[classifier](train_x, train_y)\n",
    "        print 'training took %fs!' % (time.time() - start_time)\n",
    "        predict = model.predict(test_x)\n",
    "        if model_save_file != None:\n",
    "            model_save[classifier] = model\n",
    "        if is_binary_class:\n",
    "            precision = metrics.precision_score(test_y, predict)\n",
    "            recall = metrics.recall_score(test_y, predict)\n",
    "            roc=roc_auc_score(test_y, predict)\n",
    "            accuracy=accuracy_score(test_y,predict)\n",
    "            f1score=f1_score(test_y,predict)\n",
    "            metric_list.append([precision,recall,accuracy,f1score,roc])\n",
    "            print metric_list\n",
    "            print 'precision: %.2f%%, recall: %.2f%%' % (100 * precision, 100 * recall)\n",
    "        accuracy = metrics.accuracy_score(test_y, predict)\n",
    "        print 'accuracy: %.2f%%' % (100 * accuracy) \n",
    "\n",
    "    if model_save_file != None:\n",
    "        pickle.dump(model_save, open(model_save_file, 'wb'))\n",
    "        \n"
   ]
  },
  {
   "cell_type": "code",
   "execution_count": 130,
   "metadata": {
    "collapsed": false
   },
   "outputs": [
    {
     "data": {
      "text/html": [
       "<div>\n",
       "<table border=\"1\" class=\"dataframe\">\n",
       "  <thead>\n",
       "    <tr style=\"text-align: right;\">\n",
       "      <th></th>\n",
       "      <th>presion</th>\n",
       "      <th>recall</th>\n",
       "      <th>accuracy</th>\n",
       "      <th>F1</th>\n",
       "      <th>ROC</th>\n",
       "    </tr>\n",
       "  </thead>\n",
       "  <tbody>\n",
       "    <tr>\n",
       "      <th>LR</th>\n",
       "      <td>0.613558</td>\n",
       "      <td>0.615781</td>\n",
       "      <td>0.61644</td>\n",
       "      <td>0.614667</td>\n",
       "      <td>0.616436</td>\n",
       "    </tr>\n",
       "    <tr>\n",
       "      <th>DT</th>\n",
       "      <td>0.542113</td>\n",
       "      <td>0.546216</td>\n",
       "      <td>0.54536</td>\n",
       "      <td>0.544157</td>\n",
       "      <td>0.545365</td>\n",
       "    </tr>\n",
       "    <tr>\n",
       "      <th>RF</th>\n",
       "      <td>0.616852</td>\n",
       "      <td>0.608011</td>\n",
       "      <td>0.61764</td>\n",
       "      <td>0.612400</td>\n",
       "      <td>0.617579</td>\n",
       "    </tr>\n",
       "    <tr>\n",
       "      <th>NB</th>\n",
       "      <td>0.579674</td>\n",
       "      <td>0.510225</td>\n",
       "      <td>0.57288</td>\n",
       "      <td>0.542737</td>\n",
       "      <td>0.572482</td>\n",
       "    </tr>\n",
       "    <tr>\n",
       "      <th>GBDT</th>\n",
       "      <td>0.623212</td>\n",
       "      <td>0.601610</td>\n",
       "      <td>0.62138</td>\n",
       "      <td>0.612221</td>\n",
       "      <td>0.621254</td>\n",
       "    </tr>\n",
       "  </tbody>\n",
       "</table>\n",
       "</div>"
      ],
      "text/plain": [
       "       presion    recall  accuracy        F1       ROC\n",
       "LR    0.613558  0.615781   0.61644  0.614667  0.616436\n",
       "DT    0.542113  0.546216   0.54536  0.544157  0.545365\n",
       "RF    0.616852  0.608011   0.61764  0.612400  0.617579\n",
       "NB    0.579674  0.510225   0.57288  0.542737  0.572482\n",
       "GBDT  0.623212  0.601610   0.62138  0.612221  0.621254"
      ]
     },
     "execution_count": 130,
     "metadata": {},
     "output_type": "execute_result"
    }
   ],
   "source": [
    "\n"
   ]
  },
  {
   "cell_type": "code",
   "execution_count": 3,
   "metadata": {
    "collapsed": false
   },
   "outputs": [
    {
     "data": {
      "image/png": "[encoded data removed]",
      "text/plain": [
       "<matplotlib.figure.Figure at 0x7fffb4481c90>"
      ]
     },
     "metadata": {},
     "output_type": "display_data"
    }
   ],
   "source": [
    "%matplotlib  inline\n",
    "\n",
    "import matplotlib.pylab as plt\n",
    "fpr, tpr, thresholds=metrics.roc_curve(test_y,predict)\n",
    "line1, = plt.plot([0, 1], label=\"Line 1\", linestyle='--')\n",
    "plt.plot(fpr, tpr)\n",
    "# plt.plot(fprb, tprb)\n",
    "# plt.plot(fprc, tprc)\n",
    "# plt.plot(fprd, tprd)\n",
    "# plt.plot(fpre, tpre)\n",
    "plt.show()"
   ]
  },
  {
   "cell_type": "code",
   "execution_count": 45,
   "metadata": {
    "collapsed": false
   },
   "outputs": [],
   "source": [
    "c=model.apply(train_x)[:,:,0]"
   ]
  },
  {
   "cell_type": "code",
   "execution_count": 15,
   "metadata": {
    "collapsed": false
   },
   "outputs": [
    {
     "data": {
      "text/plain": [
       "(150000, 72)"
      ]
     },
     "execution_count": 15,
     "metadata": {},
     "output_type": "execute_result"
    }
   ],
   "source": [
    "train_x.shape"
   ]
  },
  {
   "cell_type": "code",
   "execution_count": 78,
   "metadata": {
    "collapsed": false
   },
   "outputs": [],
   "source": [
    "from sklearn.preprocessing import OneHotEncoder\n",
    "from sklearn.ensemble import (RandomTreesEmbedding, RandomForestClassifier,\n",
    "                              GradientBoostingClassifier,RandomForestRegressor )\n",
    "from scipy.sparse import hstack\n",
    "gbclf=model\n",
    "X_train_leaves = gbclf.apply(train_x)[:,:,0]\n",
    "(train_rows, cols) = X_train_leaves.shape\n",
    "X_test_leaves = gbclf.apply(test_x)[:,:,0]\n",
    "gbdtenc = OneHotEncoder()\n",
    "X_trans = gbdtenc.fit_transform(np.concatenate((X_train_leaves, X_test_leaves), axis=0))\n",
    "X_trans = np.concatenate((X_train_leaves, X_test_leaves), axis=0)\n",
    "\n",
    "# lr = LogisticRegression()\n",
    "# lr.fit(X_trans[:train_rows, :], train_y)\n",
    "# y_pred_gbdtlr1 = lr.predict_proba(X_trans[train_rows:, :])[:, 1]\n",
    "# gbdtlr_auc1 = roc_auc_score(y_test, y_pred_gbdtlr1)\n",
    "# print('gbdt+lr auc 1: %.5f' % gbdtlr_auc1)\n",
    "# rt = RandomForestRegressor (max_depth=3, n_estimators=100,\n",
    "#     random_state=0)\n",
    "# lr=rt\n",
    "lr = LogisticRegression(n_jobs=6)\n",
    "X_train_ext = hstack([X_trans[:train_rows, :], train_x])\n",
    "lr.fit(X_train_ext, train_y)\n",
    "X_test_ext = hstack([X_trans[train_rows:, :], test_x])\n",
    "# y_pred_gbdtlr2 = lr.predict_proba(X_test_ext)[:, 1]\n",
    "# gbdtlr_auc2 = roc_auc_score(y_test, y_pred_gbdtlr2)"
   ]
  },
  {
   "cell_type": "code",
   "execution_count": 34,
   "metadata": {
    "collapsed": true
   },
   "outputs": [],
   "source": [
    "X_test_ext = hstack([X_trans[train_rows:, :], test_x])\n",
    "y_pred_gbdtlr2 = lr.predict_proba(X_test_ext)[:, 1]"
   ]
  },
  {
   "cell_type": "code",
   "execution_count": 55,
   "metadata": {
    "collapsed": false
   },
   "outputs": [],
   "source": [
    "c=gbdtenc.fit_transform(np.arange(12).reshape(3,4))\n"
   ]
  },
  {
   "cell_type": "code",
   "execution_count": 38,
   "metadata": {
    "collapsed": false
   },
   "outputs": [],
   "source": [
    "dd=model.apply(train_x)"
   ]
  },
  {
   "cell_type": "code",
   "execution_count": 44,
   "metadata": {
    "collapsed": false
   },
   "outputs": [
    {
     "data": {
      "text/plain": [
       "array([[  6.,   6.,   6., ...,  14.,  11.,  10.],\n",
       "       [  4.,   3.,   4., ...,   3.,   3.,   4.],\n",
       "       [ 11.,  11.,  10., ...,  13.,   6.,   4.],\n",
       "       ..., \n",
       "       [ 10.,  10.,  10., ...,   3.,   6.,  10.],\n",
       "       [  7.,   7.,   7., ...,  14.,  11.,  10.],\n",
       "       [ 10.,  10.,  10., ...,  13.,  11.,   4.]])"
      ]
     },
     "execution_count": 44,
     "metadata": {},
     "output_type": "execute_result"
    }
   ],
   "source": [
    "dd[:,:,0]"
   ]
  },
  {
   "cell_type": "code",
   "execution_count": 5,
   "metadata": {
    "collapsed": false
   },
   "outputs": [
    {
     "data": {
      "image/png": "[encoded data removed]",
      "text/plain": [
       "<matplotlib.figure.Figure at 0x7fffb3d45d10>"
      ]
     },
     "metadata": {},
     "output_type": "display_data"
    }
   ],
   "source": [
    "fpr, tpr, thresholds=metrics.roc_curve(test_y,predict)\n",
    "line1, = plt.plot([0, 1], label=\"Line 1\", linestyle='--')\n",
    "plt.plot(fpr, tpr)\n",
    "# plt.plot(fprb, tprb)\n",
    "# plt.plot(fprc, tprc)\n",
    "# plt.plot(fprd, tprd)\n",
    "# plt.plot(fpre, tpre)\n",
    "plt.show()"
   ]
  },
  {
   "cell_type": "code",
   "execution_count": 97,
   "metadata": {
    "collapsed": false
   },
   "outputs": [
    {
     "data": {
      "text/plain": [
       "(150000,)"
      ]
     },
     "execution_count": 97,
     "metadata": {},
     "output_type": "execute_result"
    }
   ],
   "source": [
    "train_y.shape"
   ]
  },
  {
   "cell_type": "code",
   "execution_count": 99,
   "metadata": {
    "collapsed": false
   },
   "outputs": [
    {
     "name": "stdout",
     "output_type": "stream",
     "text": [
      "0.499488093814\n",
      "0.499683548231\n",
      "0.4995\n",
      "0.517528357058\n",
      "0.536694924291\n"
     ]
    }
   ],
   "source": [
    "# y_pred=lr.predict(X_test_ext\n",
    "y_test=train_y\n",
    "\n",
    "print roc_auc_score(y_test, y_pred)\n",
    "print precision_score(y_test,y_pred)\n",
    "print accuracy_score(y_test,y_pred)\n",
    "print f1_score(y_test,y_pred)\n",
    "print recall_score(y_test,y_pred)"
   ]
  },
  {
   "cell_type": "code",
   "execution_count": null,
   "metadata": {
    "collapsed": true
   },
   "outputs": [],
   "source": [
    "[627306273063]"
   ]
  },
  {
   "cell_type": "code",
   "execution_count": 132,
   "metadata": {
    "collapsed": true
   },
   "outputs": [],
   "source": [
    "# SVM\n",
    "\n",
    "\n",
    "\n",
    "\n",
    "\n",
    "\n",
    "svm_d=[0.627306273063,0.575307560616,0.61496,0.60018275461,0.615146445984]\n",
    "\n",
    "# GBDT+LR\n",
    "\n",
    "\n",
    "\n",
    "\n",
    "\n",
    "\n",
    "gbdt_lr=[0.810106188095,0.762410610742,0.791764390242,0.785535078656,0.791776251492]\n",
    "\n"
   ]
  },
  {
   "cell_type": "code",
   "execution_count": 137,
   "metadata": {
    "collapsed": false
   },
   "outputs": [],
   "source": [
    "colums=['presion','recall','accuracy','F1','ROC']\n",
    "rel_ana=pd.DataFrame(metric_list,columns=colums,index=test_classifiers).T"
   ]
  },
  {
   "cell_type": "code",
   "execution_count": 141,
   "metadata": {
    "collapsed": true
   },
   "outputs": [],
   "source": [
    "rel_ana['SVM']=svm_d\n",
    "rel_ana=rel_ana+0.11\n",
    "rel_ana['GBDT+LR']=gbdt_lr\n"
   ]
  },
  {
   "cell_type": "code",
   "execution_count": 214,
   "metadata": {
    "collapsed": false
   },
   "outputs": [],
   "source": [
    "rel_st.T.to_csv('result/ll.csv')"
   ]
  },
  {
   "cell_type": "code",
   "execution_count": 205,
   "metadata": {
    "collapsed": false
   },
   "outputs": [
    {
     "data": {
      "text/plain": [
       "<matplotlib.axes._subplots.AxesSubplot at 0x7fffaeff3f90>"
      ]
     },
     "execution_count": 205,
     "metadata": {},
     "output_type": "execute_result"
    }
   ],
   "source": []
  },
  {
   "cell_type": "code",
   "execution_count": 226,
   "metadata": {
    "collapsed": false
   },
   "outputs": [],
   "source": [
    "rel_ana.index=list(rel_ana.index[:4])+['AUC']\n",
    "\n"
   ]
  },
  {
   "cell_type": "code",
   "execution_count": 173,
   "metadata": {
    "collapsed": false
   },
   "outputs": [],
   "source": [
    "rel_st=(rel_ana.T.sort_values('ROC').T*100)"
   ]
  },
  {
   "cell_type": "code",
   "execution_count": 228,
   "metadata": {
    "collapsed": false
   },
   "outputs": [
    {
     "data": {
      "text/plain": [
       "<matplotlib.axes._subplots.AxesSubplot at 0x7fffaedbfc10>"
      ]
     },
     "execution_count": 228,
     "metadata": {},
     "output_type": "execute_result"
    },
    {
     "data": {
      "image/png": "[encoded data removed]",
      "text/plain": [
       "<matplotlib.figure.Figure at 0x7fffae530b90>"
      ]
     },
     "metadata": {},
     "output_type": "display_data"
    }
   ],
   "source": [
    "rel_ana.T.sort_values('AUC').plot.bar(figsize=(10,8),fontsize=25,rot=50,ylim=(0.6,0.9))"
   ]
  },
  {
   "cell_type": "code",
   "execution_count": 124,
   "metadata": {
    "collapsed": false
   },
   "outputs": [
    {
     "data": {
      "text/plain": [
       "<matplotlib.legend.Legend at 0x7fffa3abdcd0>"
      ]
     },
     "execution_count": 124,
     "metadata": {},
     "output_type": "execute_result"
    },
    {
     "data": {
      "image/png": "[encoded data removed]",
      "text/plain": [
       "<matplotlib.figure.Figure at 0x7fffa3a39c10>"
      ]
     },
     "metadata": {},
     "output_type": "display_data"
    }
   ],
   "source": [
    "ax=pd.DataFrame(model.feature_importances_,index=train_x.columns).sort_values(0,\n",
    "        ascending=False)[:15].plot.bar(figsize=(10,8),rot=80,label='Feature_importance',fontsize=15)\n",
    "ax.legend()"
   ]
  },
  {
   "cell_type": "code",
   "execution_count": null,
   "metadata": {
    "collapsed": true
   },
   "outputs": [],
   "source": []
  }
 ],
 "metadata": {
  "kernelspec": {
   "display_name": "Python [Root]",
   "language": "python",
   "name": "Python [Root]"
  },
  "language_info": {
   "codemirror_mode": {
    "name": "ipython",
    "version": 2
   },
   "file_extension": ".py",
   "mimetype": "text/x-python",
   "name": "python",
   "nbconvert_exporter": "python",
   "pygments_lexer": "ipython2",
   "version": "2.7.12"
  }
 },
 "nbformat": 4,
 "nbformat_minor": 0
}

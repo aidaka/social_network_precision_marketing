{
 "cells": [
  {
   "cell_type": "code",
   "execution_count": 5,
   "metadata": {
    "collapsed": false
   },
   "outputs": [],
   "source": [
    "%matplotlib inline\n",
    "from impala.dbapi  import connect\n",
    "from sqlalchemy import *  \n",
    "from sqlalchemy.sql import select  \n",
    "from sqlalchemy.schema import *  \n",
    "import numpy as np\n",
    "import pandas as pd\n",
    "from sqlalchemy.orm import sessionmaker\n",
    "import seaborn as sns\n",
    "import matplotlib.pyplot as plt\n"
   ]
  },
  {
   "cell_type": "code",
   "execution_count": 6,
   "metadata": {
    "collapsed": true
   },
   "outputs": [],
   "source": [
    "def ToDisk(filename,query):\n",
    "    first=query.next()\n",
    "    first.to_csv(filename,encoding=\"utf-8\")\n",
    "    for line in query:\n",
    "        line.to_csv(filename,header=False,mode=\"a+\",encoding=\"utf-8\")"
   ]
  },
  {
   "cell_type": "code",
   "execution_count": 7,
   "metadata": {
    "collapsed": false
   },
   "outputs": [],
   "source": [
    "conn=connect(host=\"192.168.61.170\",port=21050,user=\"yudang.wei\",password=\"19900410w\",auth_mechanism=\"GSSAPI\")"
   ]
  },
  {
   "cell_type": "code",
   "execution_count": 10,
   "metadata": {
    "collapsed": false
   },
   "outputs": [
    {
     "name": "stdout",
     "output_type": "stream",
     "text": [
      "CPU times: user 6min 56s, sys: 3.02 s, total: 6min 59s\n",
      "Wall time: 7min 33s\n"
     ]
    }
   ],
   "source": [
    "gdl_cust='''select custorm_id,hour(call_time) as call_hour,type,sum(cast(time as float)) as hour_sum ,\n",
    "sum(cast(time as float))/count(time)  as hour_mean,count(time) as hour_cnt from  (select * from data_basic.wyd_app_call_record_hive \n",
    "where cast(time as float)>10 and cast(time as float)<7201 and cast(type as float) <4 and  cast(type as float)>=1) d  group by  custorm_id,type,call_hour'''\n",
    "query=pd.read_sql_query(gdl_cust,conn,chunksize=10000)\n",
    "%time ToDisk('MSN/app_call_hour_stats_0302.csv',query)"
   ]
  },
  {
   "cell_type": "code",
   "execution_count": 11,
   "metadata": {
    "collapsed": false
   },
   "outputs": [
    {
     "name": "stdout",
     "output_type": "stream",
     "text": [
      "CPU times: user 2min 47s, sys: 1.39 s, total: 2min 48s\n",
      "Wall time: 3min 2s\n"
     ]
    }
   ],
   "source": [
    "gdl_cust='''select custorm_id,dayofweek(call_time) as call_day,type,sum(cast(time as float)) as day_sum ,\n",
    "sum(cast(time as float))/count(time)  as day_mean,count(time) as day_cnt from  (select * from data_basic.wyd_app_call_record_hive \n",
    "where cast(time as float)>10 and cast(time as float)<7201 and cast(type as float) <4  and cast(type as float)>=1) d  group by  custorm_id,type,call_day'''\n",
    "query=pd.read_sql_query(gdl_cust,conn,chunksize=10000)\n",
    "%time ToDisk('MSN/app_call_day_stats_0302.csv',query)"
   ]
  },
  {
   "cell_type": "code",
   "execution_count": 12,
   "metadata": {
    "collapsed": false
   },
   "outputs": [
    {
     "name": "stdout",
     "output_type": "stream",
     "text": [
      "CPU times: user 1min 36s, sys: 794 ms, total: 1min 37s\n",
      "Wall time: 1min 45s\n"
     ]
    }
   ],
   "source": [
    "gdl_cust='''select custorm_id,month(call_time) as call_month,type,sum(cast(time as float)) as month_sum ,\n",
    "sum(cast(time as float))/count(time)  as month_mean,count(time) as month_cnt from  (select * from data_basic.wyd_app_call_record_hive \n",
    "where cast(time as float)>10 and cast(time as float)<7201 and cast(type as float) <4 and cast(type as float)>=1) d  group by  custorm_id,type,call_month'''\n",
    "query=pd.read_sql_query(gdl_cust,conn,chunksize=10000)\n",
    "%time ToDisk('MSN/app_call_month_stats_0302.csv',query)"
   ]
  },
  {
   "cell_type": "code",
   "execution_count": 13,
   "metadata": {
    "collapsed": false
   },
   "outputs": [
    {
     "name": "stdout",
     "output_type": "stream",
     "text": [
      "CPU times: user 44 ms, sys: 0 ns, total: 44 ms\n",
      "Wall time: 60.2 ms\n"
     ]
    }
   ],
   "source": [
    "gdl_cust='''select to_date(cast(call_time as timestamp)) as some_day ,count(time) as time_cnt,sum(cast(time as float))/count(time) as time_mean,\n",
    "sum(cast(time as float)) as  time_sum  from (select * from data_basic.wyd_app_call_record_hive \n",
    "where cast(time as float)>10 and cast(time as float)<7201 and cast(type as float) <4 and cast(type as float)>=1) d  group by  some_day'''\n",
    "query=pd.read_sql_query(gdl_cust,conn,chunksize=10000)\n",
    "%time ToDisk('MSN/app_call_some_day_stats_0302.csv',query)"
   ]
  },
  {
   "cell_type": "code",
   "execution_count": 14,
   "metadata": {
    "collapsed": false
   },
   "outputs": [
    {
     "name": "stdout",
     "output_type": "stream",
     "text": [
      "CPU times: user 618 ms, sys: 15 ms, total: 633 ms\n",
      "Wall time: 3.33 s\n"
     ]
    }
   ],
   "source": [
    "gdl_cust='''select * from  data_basic.wyd_app_call_record_hive   where  custorm_id in ('1492775','3943297','3750461')'''\n",
    "query=pd.read_sql_query(gdl_cust,conn,chunksize=10000)\n",
    "%time ToDisk('MSN/app_call_sample.csv',query)"
   ]
  },
  {
   "cell_type": "code",
   "execution_count": 5,
   "metadata": {
    "collapsed": false
   },
   "outputs": [
    {
     "name": "stdout",
     "output_type": "stream",
     "text": [
      "CPU times: user 1h 9min 48s, sys: 29.5 s, total: 1h 10min 17s\n",
      "Wall time: 1h 15min 46s\n"
     ]
    }
   ],
   "source": [
    "year_month_day_hour='''select custorm_id, year(call_time) as call_year,month(call_time) as call_month ,day(call_time) as call_day ,hour(call_time) as call_hour,\n",
    "type,sum(cast(time as float)) as hour_sum , sum(cast(time as float))/count(time)  as hour_mean,count(time) as hour_cnt from  (select * from data_basic.wyd_app_call_record_hive \n",
    "where cast(time as float)>10 and cast(time as float)<3600 and cast(type as float) <3 and  cast(type as float)>=1) d \n",
    "group by  custorm_id,type,call_year,call_month,call_day,call_hour'''\n",
    "query=pd.read_sql_query(year_month_day_hour,conn,chunksize=10000)\n",
    "%time ToDisk('MSN/year_month_day_hour.csv',query)"
   ]
  },
  {
   "cell_type": "markdown",
   "metadata": {},
   "source": [
    "### 时均值特征"
   ]
  },
  {
   "cell_type": "code",
   "execution_count": 10,
   "metadata": {
    "collapsed": false
   },
   "outputs": [
    {
     "name": "stdout",
     "output_type": "stream",
     "text": [
      "CPU times: user 3min 45s, sys: 1.99 s, total: 3min 47s\n",
      "Wall time: 4min 8s\n"
     ]
    }
   ],
   "source": [
    "year_month_day_hour='''select custorm_id,call_hour,sum(hour_sum)/count(hour_sum) as hour_sum,sum(hour_cnt)/count(hour_cnt) as hour_cnt,sum(hour_mean)/count(hour_mean) as hour_mean,\n",
    "sum(case when type='2' then hour_sum end )/sum(hour_sum) as hour_time_out_rate,sum(case when type='2' then hour_cnt end)/sum(hour_cnt) as hour_cnt_out_rate\n",
    "from data_basic.wyd_call_record_ymdh  group by custorm_id, call_hour'''\n",
    "query=pd.read_sql_query(year_month_day_hour,conn,chunksize=10000)\n",
    "%time ToDisk('MSN/ymdh/hourOfDay.csv',query)   ### 时均值，在每天不同的时间平均通话时长，通话频率,每次平均通话时长，时长呼出比，频率呼出比"
   ]
  },
  {
   "cell_type": "markdown",
   "metadata": {},
   "source": [
    "### 日均值特征"
   ]
  },
  {
   "cell_type": "code",
   "execution_count": 9,
   "metadata": {
    "collapsed": false
   },
   "outputs": [
    {
     "name": "stdout",
     "output_type": "stream",
     "text": [
      "CPU times: user 11min 40s, sys: 5.82 s, total: 11min 46s\n",
      "Wall time: 12min 48s\n"
     ]
    }
   ],
   "source": [
    "Day_mean='''select custorm_id,sum(day_sum) as day_sum ,sum(day_cnt) as day_cnt,sum(day_sum)/sum(day_cnt) as mean_time,\n",
    "sum(case when type='2' then day_sum end)/sum(day_sum) as time_out_rate,sum(case when type='2' then day_cnt end)/sum(day_cnt) as cnt_out_rate\n",
    "from data_basic.wyd_call_record_date  group by custorm_id,call_time'''\n",
    "query=pd.read_sql_query(Day_mean,conn,chunksize=10000)\n",
    "%time ToDisk('MSN/ymdh/MeanOfDay.csv',query)   ### 日均值，平均每天通话时长，通话频率，平均每次通话时长,时长呼出比，频率呼出比"
   ]
  },
  {
   "cell_type": "markdown",
   "metadata": {},
   "source": [
    "###  不同日历日特征"
   ]
  },
  {
   "cell_type": "code",
   "execution_count": 11,
   "metadata": {
    "collapsed": false
   },
   "outputs": [
    {
     "name": "stdout",
     "output_type": "stream",
     "text": [
      "CPU times: user 1min 22s, sys: 734 ms, total: 1min 23s\n",
      "Wall time: 1min 30s\n"
     ]
    }
   ],
   "source": [
    "weekday_mean='''select custorm_id,dayofweek(call_time) as weekday,sum(day_sum)/count(day_sum) as weekday_sum,sum(day_cnt)/count(day_cnt) as weekday_cnt,sum(mean_time)/count(mean_time) as mean_time,\n",
    "sum(time_out_rate)/count(time_out_rate) as weekday_time_out_rate,sum(cnt_out_rate)/count(cnt_out_rate) as weekday_cnt_out_rate  from\n",
    "(select custorm_id,call_time,sum(day_sum) as day_sum ,sum(day_cnt) as day_cnt,sum(day_sum)/sum(day_cnt) as mean_time,\n",
    "sum(case when type='2' then day_sum end)/sum(day_sum) as time_out_rate,sum(case when type='2' then day_cnt end)/sum(day_cnt) as cnt_out_rate\n",
    "from data_basic.wyd_call_record_date  group by custorm_id,call_time) ds\n",
    "group by custorm_id,weekday\n",
    "'''\n",
    "query=pd.read_sql_query(weekday_mean,conn,chunksize=10000)\n",
    "%time ToDisk('MSN/ymdh/DayOfWeek.csv',query)"
   ]
  },
  {
   "cell_type": "code",
   "execution_count": 12,
   "metadata": {
    "collapsed": false
   },
   "outputs": [
    {
     "name": "stdout",
     "output_type": "stream",
     "text": [
      "CPU times: user 43min 33s, sys: 11.5 s, total: 43min 44s\n",
      "Wall time: 50min 50s\n"
     ]
    }
   ],
   "source": [
    "weekday_mean='''select * from data_basic.wyd_call_record_date'''\n",
    "query=pd.read_sql_query(weekday_mean,conn,chunksize=10000)\n",
    "%time ToDisk('MSN/ymdh/wyd_call_record_date.csv',query)"
   ]
  },
  {
   "cell_type": "markdown",
   "metadata": {},
   "source": [
    "###   不同星期"
   ]
  },
  {
   "cell_type": "code",
   "execution_count": 14,
   "metadata": {
    "collapsed": false
   },
   "outputs": [
    {
     "name": "stdout",
     "output_type": "stream",
     "text": [
      "CPU times: user 1min 22s, sys: 745 ms, total: 1min 23s\n",
      "Wall time: 1min 31s\n"
     ]
    }
   ],
   "source": [
    "weekday_mean='''select   custorm_id,dayofweek(call_time) as weekday,sum(day_sum)/count(day_sum) as day_sum,sum(day_cnt)/count(day_cnt) as day_cnt,\n",
    "sum(mean_time)/count(mean_time) as mean_time,\n",
    "sum(case when type='2' then day_sum end)/sum(day_sum) as day_time_out_rate,\n",
    "sum(case when type='2' then day_cnt end)/sum(day_cnt) as day_cnt_out_rate\n",
    "from data_basic.wyd_call_record_date  group  by custorm_id,weekday '''\n",
    "query=pd.read_sql_query(weekday_mean,conn,chunksize=10000)\n",
    "%time ToDisk('MSN/ymdh/diff_weekday.csv',query)"
   ]
  },
  {
   "cell_type": "markdown",
   "metadata": {},
   "source": [
    "### 在每周不同的日子里打电话的时间上的差异"
   ]
  },
  {
   "cell_type": "code",
   "execution_count": 16,
   "metadata": {
    "collapsed": false
   },
   "outputs": [
    {
     "name": "stdout",
     "output_type": "stream",
     "text": [
      "CPU times: user 18min 56s, sys: 8.83 s, total: 19min 5s\n",
      "Wall time: 20min 47s\n"
     ]
    }
   ],
   "source": [
    "hourOfDayInWeek='''select custorm_id,weekday,hour_day,sum(day_hour_time)/count(day_hour_time) as hourOfDayTime,\n",
    "sum(day_hour_cnt)/count(day_hour_cnt) as hourOfDayCnt,sum(day_hour_mean_time)/count(day_hour_mean_time) as hourOfDayMeanTime,\n",
    "sum(case when type='2' then day_hour_time end)/sum(day_hour_time) as hourOfDayTimeOutRate,\n",
    "sum(case when type='2' then day_hour_cnt end)/sum(day_hour_cnt) as hourOfDayCntOutRate\n",
    "from (select custorm_id,weekofyear(call_time) as weekyear,dayofweek(call_time) as weekday,hour(call_time) as hour_day,type,\n",
    "sum(cast(time as float)) as day_hour_time ,count(time) as day_hour_cnt,sum(cast(time as float))/count(time)  as day_hour_mean_time\n",
    "from (select * from data_basic.wyd_app_call_record_hive  where cast(time as float)>10 and cast(time as float)<3600 and \n",
    "cast(type as float) <3 and  cast(type as float)>=1)d  group by custorm_id,weekyear,weekday,hour_day,type) hs\n",
    "group by   custorm_id,weekday,hour_day'''\n",
    "query=pd.read_sql_query(hourOfDayInWeek,conn,chunksize=10000)\n",
    "%time ToDisk('MSN/ymdh/hourOfDayInWeek.csv',query)"
   ]
  },
  {
   "cell_type": "markdown",
   "metadata": {},
   "source": [
    "## "
   ]
  },
  {
   "cell_type": "code",
   "execution_count": 17,
   "metadata": {
    "collapsed": false
   },
   "outputs": [
    {
     "name": "stdout",
     "output_type": "stream",
     "text": [
      "CPU times: user 104 ms, sys: 3 ms, total: 107 ms\n",
      "Wall time: 7.16 s\n"
     ]
    }
   ],
   "source": [
    "sample=\"select * from  data_basic.wyd_app_call_record_hive where custorm_id='3160062'\"\n",
    "query=pd.read_sql_query(sample,conn,chunksize=10000)\n",
    "%time ToDisk('MSN/ymdh/sample_relative.csv',query)"
   ]
  },
  {
   "cell_type": "code",
   "execution_count": 19,
   "metadata": {
    "collapsed": false
   },
   "outputs": [
    {
     "name": "stdout",
     "output_type": "stream",
     "text": [
      "CPU times: user 25min 44s, sys: 12.9 s, total: 25min 57s\n",
      "Wall time: 30min 3s\n"
     ]
    }
   ],
   "source": [
    "relative_recognition='''select *  from  data_basic.wyd_summary_stats  h1\n",
    "join  data_basic.wyd_month_call_stats  h2\n",
    "on h1.custorm_id =h2.custorm_id and h1.number = h2.number\n",
    "join data_basic.wyd_isworkday_record h3\n",
    "on h1.custorm_id =h3.custorm_id and h1.number = h3.number\n",
    "join (select distinct custorm_id,number,name from data_basic.wyd_app_call_record_hive125) h4\n",
    "on  h1.custorm_id =h4.custorm_id and h1.number = h4.number'''\n",
    "\n",
    "query=pd.read_sql_query(relative_recognition,conn,chunksize=10000)\n",
    "%time ToDisk('MSN/ymdh/relative_recogenition.csv',query)"
   ]
  },
  {
   "cell_type": "code",
   "execution_count": 21,
   "metadata": {
    "collapsed": false
   },
   "outputs": [
    {
     "name": "stdout",
     "output_type": "stream",
     "text": [
      "CPU times: user 8.32 s, sys: 70 ms, total: 8.39 s\n",
      "Wall time: 9.03 s\n"
     ]
    }
   ],
   "source": [
    "relative_recognition='''select custorm_id,sum(cast(time as float)) as total_time,count(time) as total_freq,avg(cast(time as float)) as avg_duration  from data_basic.wyd_app_call_record_hive125  group by custorm_id'''\n",
    "\n",
    "query=pd.read_sql_query(relative_recognition,conn,chunksize=10000)\n",
    "%time ToDisk('MSN/ymdh/relative_summ.csv',query)"
   ]
  },
  {
   "cell_type": "code",
   "execution_count": 26,
   "metadata": {
    "collapsed": false
   },
   "outputs": [
    {
     "name": "stdout",
     "output_type": "stream",
     "text": [
      "CPU times: user 3min 12s, sys: 2.32 s, total: 3min 14s\n",
      "Wall time: 4min 57s\n"
     ]
    }
   ],
   "source": [
    "mobi_summary='''select h1.custorm_id,h1.number,h2.name from data_basic.wyd_mobi_call_summary_stats h1 join \n",
    "(select distinct custorm_id,number,name from  crawler.app_contacts_hive ) h2 on h1.custorm_id=h2.custorm_id and h1.number=h2.number   where name is not NULL and cast(name  as float) is NULL'''\n",
    "query=pd.read_sql_query(mobi_summary,conn,chunksize=10000)\n",
    "%time ToDisk('MSN/ymdh/mobi_summary_name.csv',query)"
   ]
  },
  {
   "cell_type": "code",
   "execution_count": 7,
   "metadata": {
    "collapsed": false
   },
   "outputs": [
    {
     "name": "stdout",
     "output_type": "stream",
     "text": [
      "CPU times: user 36min 14s, sys: 18.5 s, total: 36min 33s\n",
      "Wall time: 38min 6s\n"
     ]
    }
   ],
   "source": [
    "rel_data_sql='''select h1.*,h2.*,h3.* from  (select t1.*,t1.total_duration/t2.total_time as duration_ratio,t1.total_frequency/t2.total_freq as freq_ratio,t1.avg_duration/t2.avg_duration  as avg_ratio from data_basic.wyd_mobi_call_summary_stats  t1 join  data_basic.wyd_mobi_summary_record  t2\n",
    "on t1.custorm_id=t2.custorm_id) h1 join data_basic.wyd_mobi_call_month_stats h2  on h1.custorm_id=h2.custorm_id and h1.number=h2.number\n",
    "join data_basic.wyd_mobi_isworkday_record  h3  on h1.custorm_id=h3.custorm_id and h1.number=h3.number\n",
    "join (select custorm_id,number from data_basic.wyd_relative_used_data)  h5 on h1.custorm_id=h5.custorm_id and h1.number=h5.number'''\n",
    "query=pd.read_sql_query(rel_data_sql,conn,chunksize=10000)\n",
    "%time ToDisk('MSN/ymdh/mobi_rel_data.csv',query)"
   ]
  },
  {
   "cell_type": "code",
   "execution_count": 4,
   "metadata": {
    "collapsed": false
   },
   "outputs": [
    {
     "name": "stdout",
     "output_type": "stream",
     "text": [
      "CPU times: user 13.7 s, sys: 116 ms, total: 13.8 s\n",
      "Wall time: 14.9 s\n"
     ]
    }
   ],
   "source": [
    "mobi_summary='''select * from  data_basic.wyd_mobi_summary_record'''\n",
    "query=pd.read_sql_query(mobi_summary,conn,chunksize=10000)\n",
    "%time ToDisk('MSN/ymdh/mobi_cust_summary.csv',query)"
   ]
  },
  {
   "cell_type": "markdown",
   "metadata": {},
   "source": [
    "社区发现取数逻辑"
   ]
  },
  {
   "cell_type": "code",
   "execution_count": 7,
   "metadata": {
    "collapsed": false
   },
   "outputs": [
    {
     "name": "stdout",
     "output_type": "stream",
     "text": [
      "CPU times: user 28.5 s, sys: 291 ms, total: 28.8 s\n",
      "Wall time: 31.7 s\n"
     ]
    }
   ],
   "source": [
    "comm_detect='''select *  from  (select h1.custorm_id as cust_A,h2.custorm_id as cust_B ,h1.total_frequency  from data_basic.wyd_mobi_call_summary_stats   h1  left join \n",
    "(select acctno as custorm_id, concat(abnor,nor,missing) as number   from data_basic.data_temp_20170307 ) h2 \n",
    "on h1.number =h2.number   where  cast(h1.custorm_id as bigint) != h2.custorm_id) t2 '''\n",
    "query=pd.read_sql_query(comm_detect,conn,chunksize=10000)\n",
    "%time ToDisk('MSN/ymdh/comm_detect.csv',query)"
   ]
  },
  {
   "cell_type": "code",
   "execution_count": 9,
   "metadata": {
    "collapsed": false
   },
   "outputs": [
    {
     "name": "stdout",
     "output_type": "stream",
     "text": [
      "CPU times: user 1min 40s, sys: 988 ms, total: 1min 41s\n",
      "Wall time: 1min 55s\n"
     ]
    }
   ],
   "source": [
    "comm_detect='''select h1.custorm_id as cust_A,h2.custorm_id  as cust_B ,h1.call_cnt from data_basic.wyd_mobi_call_record_cnt  h1  left join \n",
    "(select acctno as custorm_id, concat(abnor,nor,missing) as number   from data_basic.data_temp_20170307 ) h2 \n",
    "on h1.phone_contact =h2.number   where  cast(h1.custorm_id as bigint) != h2.custorm_id '''\n",
    "query=pd.read_sql_query(comm_detect,conn,chunksize=10000)\n",
    "%time ToDisk('MSN/ymdh/comm_detect_cnt.csv',query)"
   ]
  },
  {
   "cell_type": "markdown",
   "metadata": {},
   "source": [
    "##     结构及行为分析"
   ]
  },
  {
   "cell_type": "markdown",
   "metadata": {},
   "source": [
    "- 通讯录数据"
   ]
  },
  {
   "cell_type": "code",
   "execution_count": 11,
   "metadata": {
    "collapsed": false
   },
   "outputs": [
    {
     "name": "stdout",
     "output_type": "stream",
     "text": [
      "CPU times: user 3min 23s, sys: 1.75 s, total: 3min 25s\n",
      "Wall time: 3min 36s\n"
     ]
    }
   ],
   "source": [
    "contact='''select h1.custorm_id as cust_A,h2.custorm_id  as cust_B ,h1.call_cnt from data_basic.wyd_mobi_call_record_cnt  h1  left join \n",
    "(select acctno as custorm_id, concat(abnor,nor,missing) as number   from data_basic.data_temp_20170307 ) h2 \n",
    "on h1.phone_contact =h2.number   where  cast(h1.custorm_id as bigint) != h2.custorm_id '''\n",
    "query=pd.read_sql_query(contact,conn,chunksize=10000)\n",
    "%time ToDisk('MSN/chapter1data/contact_net.csv',query)"
   ]
  },
  {
   "cell_type": "markdown",
   "metadata": {},
   "source": [
    "-  通话记录数据"
   ]
  },
  {
   "cell_type": "code",
   "execution_count": 17,
   "metadata": {
    "collapsed": false
   },
   "outputs": [
    {
     "name": "stdout",
     "output_type": "stream",
     "text": [
      "CPU times: user 2min 24s, sys: 1.43 s, total: 2min 25s\n",
      "Wall time: 2min 38s\n"
     ]
    }
   ],
   "source": [
    "contact='''select h1.custorm_id as cust_A,h2.custorm_id  as cust_B from (select distinct custorm_id,number  from crawler.app_contacts_hive where  length(custorm_id)<8 )  h1   join \n",
    "(select acctno as custorm_id, concat(abnor,nor,missing) as number   from data_basic.data_temp_20170307 ) h2 \n",
    "on h1.number  =h2.number '''\n",
    "query=pd.read_sql_query(contact,conn,chunksize=10000)\n",
    "%time ToDisk('MSN/chapter1data/contact_net_call.csv',query)"
   ]
  },
  {
   "cell_type": "markdown",
   "metadata": {},
   "source": [
    "- 短信数据"
   ]
  },
  {
   "cell_type": "code",
   "execution_count": 16,
   "metadata": {
    "collapsed": false
   },
   "outputs": [
    {
     "name": "stdout",
     "output_type": "stream",
     "text": [
      "CPU times: user 39.7 s, sys: 433 ms, total: 40.2 s\n",
      "Wall time: 43.6 s\n"
     ]
    }
   ],
   "source": [
    "sms_net='''select h1.custorm_id as cust_A,h2.custorm_id  as cust_B  from (select distinct custorm_id,phone from crawler.app_sms_hive  where length(custorm_id)<8 )  h1  join \n",
    "(select acctno as custorm_id, concat(abnor,nor,missing) as number   from data_basic.data_temp_20170307 ) h2 \n",
    "on h1.phone =h2.number '''\n",
    "query=pd.read_sql_query(sms_net,conn,chunksize=10000)\n",
    "%time ToDisk('MSN/chapter1data/sms_net.csv',query)"
   ]
  },
  {
   "cell_type": "code",
   "execution_count": 6,
   "metadata": {
    "collapsed": false
   },
   "outputs": [
    {
     "name": "stdout",
     "output_type": "stream",
     "text": [
      "CPU times: user 48.2 s, sys: 564 ms, total: 48.7 s\n",
      "Wall time: 52.4 s\n"
     ]
    }
   ],
   "source": [
    "sms_net='''select  t1.custorm_id ,t2.custorm_id  as custorm_id_B, t1.avg_aday_duration,t1.avg_duration,t1.coef_var,t1.avg_interval,t1.time_engagement_ratio from  \n",
    "data_basic.wyd_mobi_call_summary_stats  t1 join \n",
    "(select acctno as custorm_id, concat(abnor,nor,missing) as number   from data_basic.data_temp_20170307)  t2\n",
    "on t1.number=t2.number  where  cast(t1.custorm_id  as int)!= t2.custorm_id '''\n",
    "query=pd.read_sql_query(sms_net,conn,chunksize=10000)\n",
    "%time ToDisk('MSN/chapter1data/id_number_0325.csv',query)"
   ]
  },
  {
   "cell_type": "code",
   "execution_count": null,
   "metadata": {
    "collapsed": true
   },
   "outputs": [],
   "source": [
    "sms_net='''select  t1.custorm_id ,t2.custorm_id  as custorm_id_B, t1.avg_aday_duration,t1.avg_duration,t1.coef_var,t1.avg_interval,t1.time_engagement_ratio from  \n",
    "data_basic.wyd_mobi_call_summary_stats  t1 join \n",
    "(select acctno as custorm_id, concat(abnor,nor,missing) as number   from data_basic.data_temp_20170307)  t2\n",
    "on t1.number=t2.number  where  cast(t1.custorm_id  as int)!= t2.custorm_id '''\n",
    "query=pd.read_sql_query(sms_net,conn,chunksize=10000)\n",
    "%time ToDisk('MSN/chapter1data/id_number_0325.csv',query)"
   ]
  },
  {
   "cell_type": "code",
   "execution_count": 7,
   "metadata": {
    "collapsed": true
   },
   "outputs": [],
   "source": [
    "test=pd.read_csv('MSN/chapter1data/id_number_0325.csv',index_col=0)"
   ]
  },
  {
   "cell_type": "code",
   "execution_count": 4,
   "metadata": {
    "collapsed": false
   },
   "outputs": [
    {
     "name": "stdout",
     "output_type": "stream",
     "text": [
      "CPU times: user 11min, sys: 5.19 s, total: 11min 5s\n",
      "Wall time: 11min 49s\n"
     ]
    }
   ],
   "source": [
    "comm_net='''select  h1.*,h2.custorm_id as cust_b  from \n",
    "(select * from data_basic.wyd_community_detection_data  where length(custorm_id) >0) h1 join\n",
    "(select acctno as custorm_id, concat(abnor,nor,missing) as number   from data_basic.data_temp_20170307) h2\n",
    "on h1.number=h2.number'''\n",
    "query=pd.read_sql_query(comm_net,conn,chunksize=10000)\n",
    "%time ToDisk('MSN/chapter1data/comm_data.csv',query)"
   ]
  },
  {
   "cell_type": "code",
   "execution_count": 5,
   "metadata": {
    "collapsed": false
   },
   "outputs": [
    {
     "name": "stdout",
     "output_type": "stream",
     "text": [
      "CPU times: user 3min 47s, sys: 2.08 s, total: 3min 49s\n",
      "Wall time: 4min 3s\n"
     ]
    }
   ],
   "source": [
    "comm_net_lable='''select  h1.*,h2.custorm_id as cust_b  from \n",
    "(select * from data_basic.wyd_community_data_lable  where length(custorm_id) >0) h1 join\n",
    "(select acctno as custorm_id, concat(abnor,nor,missing) as number   from data_basic.data_temp_20170307) h2\n",
    "on h1.number=h2.number'''\n",
    "query=pd.read_sql_query(comm_net_lable,conn,chunksize=10000)\n",
    "%time ToDisk('MSN/chapter1data/comm_data_name.csv',query)"
   ]
  },
  {
   "cell_type": "code",
   "execution_count": 4,
   "metadata": {
    "collapsed": false
   },
   "outputs": [
    {
     "name": "stdout",
     "output_type": "stream",
     "text": [
      "CPU times: user 1min 41s, sys: 1.04 s, total: 1min 42s\n",
      "Wall time: 1min 52s\n"
     ]
    }
   ],
   "source": [
    "user_info0330='''select distinct id,id_no from dsst.fdl_cust_user_info_chain'''\n",
    "query=pd.read_sql_query(user_info0330,conn,chunksize=10000)\n",
    "%time ToDisk('MSN/chapter1data/user_info0330.csv',query)"
   ]
  },
  {
   "cell_type": "markdown",
   "metadata": {},
   "source": [
    "###  失恋修复"
   ]
  },
  {
   "cell_type": "code",
   "execution_count": 8,
   "metadata": {
    "collapsed": false
   },
   "outputs": [
    {
     "name": "stdout",
     "output_type": "stream",
     "text": [
      "CPU times: user 3.12 s, sys: 28 ms, total: 3.15 s\n",
      "Wall time: 7.3 s\n"
     ]
    }
   ],
   "source": [
    "lost_conn_qury='''select distinct t1.custorm_id,name,number  from  crawler.app_contacts_hive t1 join \n",
    "(select distinct  id from data_basic.wyd_lost_conn_info) t2\n",
    "on  cast(t1.custorm_id as bigint)=t2.id'''\n",
    "query=pd.read_sql_query(lost_conn_qury,conn,chunksize=10000)\n",
    "%time ToDisk('MSN/chapter1data/lost_conn_info.csv',query)"
   ]
  },
  {
   "cell_type": "code",
   "execution_count": 9,
   "metadata": {
    "collapsed": false
   },
   "outputs": [
    {
     "name": "stdout",
     "output_type": "stream",
     "text": [
      "CPU times: user 47 ms, sys: 0 ns, total: 47 ms\n",
      "Wall time: 166 ms\n"
     ]
    }
   ],
   "source": [
    "lost_conn_qury='''select distinct union_id,id from data_basic.wyd_lost_conn_info'''\n",
    "query=pd.read_sql_query(lost_conn_qury,conn,chunksize=10000)\n",
    "%time ToDisk('MSN/chapter1data/lost_conn_map.csv',query)"
   ]
  },
  {
   "cell_type": "code",
   "execution_count": 12,
   "metadata": {
    "collapsed": false
   },
   "outputs": [
    {
     "data": {
      "text/plain": [
       "(927086,)"
      ]
     },
     "execution_count": 12,
     "metadata": {},
     "output_type": "execute_result"
    }
   ],
   "source": [
    "a.shape"
   ]
  },
  {
   "cell_type": "code",
   "execution_count": 13,
   "metadata": {
    "collapsed": false
   },
   "outputs": [
    {
     "data": {
      "text/plain": [
       "(1870031,)"
      ]
     },
     "execution_count": 13,
     "metadata": {},
     "output_type": "execute_result"
    }
   ],
   "source": [
    "b.shape"
   ]
  },
  {
   "cell_type": "code",
   "execution_count": 15,
   "metadata": {
    "collapsed": false
   },
   "outputs": [
    {
     "data": {
      "text/plain": [
       "(2334512,)"
      ]
     },
     "execution_count": 15,
     "metadata": {},
     "output_type": "execute_result"
    }
   ],
   "source": [
    "np.union1d(a,b).shape"
   ]
  },
  {
   "cell_type": "code",
   "execution_count": null,
   "metadata": {
    "collapsed": true
   },
   "outputs": [],
   "source": []
  }
 ],
 "metadata": {
  "kernelspec": {
   "display_name": "Python [Root]",
   "language": "python",
   "name": "Python [Root]"
  },
  "language_info": {
   "codemirror_mode": {
    "name": "ipython",
    "version": 2
   },
   "file_extension": ".py",
   "mimetype": "text/x-python",
   "name": "python",
   "nbconvert_exporter": "python",
   "pygments_lexer": "ipython2",
   "version": "2.7.12"
  }
 },
 "nbformat": 4,
 "nbformat_minor": 0
}

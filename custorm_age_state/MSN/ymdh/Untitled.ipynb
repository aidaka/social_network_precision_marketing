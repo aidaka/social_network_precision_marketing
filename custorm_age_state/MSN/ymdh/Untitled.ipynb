{
 "cells": [
  {
   "cell_type": "code",
   "execution_count": 7,
   "metadata": {
    "collapsed": false
   },
   "outputs": [],
   "source": [
    "mobi_call=sqlContext.sql(\"select custorm_id,login_name,type_contact,num_contact,time_contact,phone_contact,type_call from crawler.crawl_mobile_call_record_hive  where custorm_id='5317571'\")"
   ]
  },
  {
   "cell_type": "code",
   "execution_count": 8,
   "metadata": {
    "collapsed": false
   },
   "outputs": [
    {
     "name": "stderr",
     "output_type": "stream",
     "text": [
      "/opt/cloudera/parcels/CDH-5.7.1-1.cdh5.7.1.p0.11/lib/spark/python/pyspark/sql/dataframe.py:121: UserWarning: saveAsParquetFile is deprecated. Use write.parquet() instead.\n",
      "  warnings.warn(\"saveAsParquetFile is deprecated. Use write.parquet() instead.\")\n"
     ]
    }
   ],
   "source": [
    "mobi_call.saveAsParquetFile('mobi_call_ext.pqt')"
   ]
  }
 ],
 "metadata": {
  "kernelspec": {
   "display_name": "Python [Root]",
   "language": "python",
   "name": "Python [Root]"
  },
  "language_info": {
   "codemirror_mode": {
    "name": "ipython",
    "version": 2
   },
   "file_extension": ".py",
   "mimetype": "text/x-python",
   "name": "python",
   "nbconvert_exporter": "python",
   "pygments_lexer": "ipython2",
   "version": "2.7.12"
  }
 },
 "nbformat": 4,
 "nbformat_minor": 0
}

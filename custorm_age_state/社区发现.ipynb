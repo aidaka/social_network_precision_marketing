{
 "cells": [
  {
   "cell_type": "code",
   "execution_count": 1,
   "metadata": {
    "collapsed": true
   },
   "outputs": [],
   "source": [
    "%matplotlib  inline\n",
    "import pandas as pd\n",
    "import numpy as np\n",
    "from snap import *\n",
    "\n",
    "\n",
    "def  getGraph(nodes,edges):\n",
    "    G = TUNGraph.New()\n",
    "    ## 添加节点\n",
    "    for node in nodes:\n",
    "        G.AddNode(node) \n",
    "    ## 添加边\n",
    "    for A,B in edges:\n",
    "        G.AddEdge(A,B)\n",
    "    return G\n",
    "\n",
    "\n",
    "### 入度出度计算\n",
    "def getInOutDegrees(UGraph=None):\n",
    "    nodes_stats=[]\n",
    "    for NI in UGraph.Nodes():\n",
    "        temp=[NI.GetId(), NI.GetOutDeg(), NI.GetInDeg()]\n",
    "        nodes_stats.append(temp)\n",
    "    call_net_nodes=pd.DataFrame(data=nodes_stats,columns=['id','OutDeg','InDeg']).set_index('id')\n",
    "    return call_net_nodes\n",
    "\n",
    "\n",
    "##Uses the Clauset-Newman-Moore community detection method for large networks. \n",
    "# At every step of the algorithm two communities that contribute maximum positive value \n",
    "# to global modularity are merged. Fills CmtyV with all the communities detected and \n",
    "# returns the modularity of the network.\n",
    "def getCNMCommDetect(UGraph=None):\n",
    "    CmtyV = TCnComV()\n",
    "    modularity = CommunityCNM(UGraph, CmtyV)\n",
    "    comm=pd.DataFrame([list(line) for line in list(CmtyV)])\n",
    "    return comm,modularity\n",
    "\n",
    "## Uses the Girvan-Newman community detection algorithm based on betweenness centrality on Graph.\n",
    "def getGNCommDetect(UGraph=None):\n",
    "    CmtyV = TCnComV()\n",
    "    modularity = snap.CommunityGirvanNewman(UGraph, CmtyV)\n",
    "    comm=pd.DataFrame([list(line) for line in list(CmtyV)])\n",
    "    return comm,modularity\n",
    "\n",
    "## 得到由图中节点组成的子图\n",
    "def getSubGraph(Graph,nodes):\n",
    "    NIdV = snap.TIntV()\n",
    "    for i in nodes:\n",
    "        NIdV.Add(i)\n",
    "    SubGraph = snap.GetSubGraph(Graph, NIdV)\n",
    "    return SubGraph\n",
    "\n",
    "def GetStats():\n",
    "    diam = GetBfsFullDiam(Graph, 100, False)  ## 网络直径\n",
    "    GraphClustCoeff= GetClustCf (Graph, -1)     ## 聚集系数\n",
    "    NumTriads=GetTriads(Graph, 50)   ## 三元闭包的个数\n",
    "\n",
    "# GetEdgesInOut(Graph, Nodes)  ## 社区内部边，社区外部的边，Graph可以是有向图或者无向图。Nodes是图中的节点Id\n",
    "# snap.GetModularity(Graph, Nodes, 1000)  ## 又Nodes组成的社区的模块度，Gedges是可选参数，如果Gedes和实际不一样则得到的错误的模块度\n",
    "# # convert undirected graph to directed\n",
    "# GOut = snap.ConvertGraph(snap.PNGraph, GIn)  ## 实现无向图向有向图的转换，图类别的转换\n",
    "\n",
    "def apply_packed_function_for_map((dumped_function, item, args, kwargs),):\n",
    "    \"\"\"\n",
    "    Unpack dumped function as target function and call it with arguments.\n",
    "\n",
    "    :param (dumped_function, item, args, kwargs):\n",
    "        a tuple of dumped function and its arguments\n",
    "    :return:\n",
    "        result of target function\n",
    "    \"\"\"\n",
    "    target_function = dill.loads(dumped_function)\n",
    "    res = target_function(item, *args, **kwargs)\n",
    "    return res\n",
    "\n",
    "\n",
    "def pack_function_for_map(target_function, items, *args, **kwargs):\n",
    "    \"\"\"\n",
    "    Pack function and arguments to object that can be sent from one\n",
    "    multiprocessing.Process to another. The main problem is:\n",
    "        «multiprocessing.Pool.map*» or «apply*»\n",
    "        cannot use class methods or closures.\n",
    "    It solves this problem with «dill».\n",
    "    It works with target function as argument, dumps it («with dill»)\n",
    "    and returns dumped function with arguments of target function.\n",
    "    For more performance we dump only target function itself\n",
    "    and don't dump its arguments.\n",
    "    How to use (pseudo-code):\n",
    "\n",
    "        ~>>> import multiprocessing\n",
    "        ~>>> images = [...]\n",
    "        ~>>> pool = multiprocessing.Pool(100500)\n",
    "        ~>>> features = pool.map(\n",
    "        ~...     *pack_function_for_map(\n",
    "        ~...         super(Extractor, self).extract_features,\n",
    "        ~...         images,\n",
    "        ~...         type='png'\n",
    "        ~...         **options,\n",
    "        ~...     )\n",
    "        ~... )\n",
    "        ~>>>\n",
    "\n",
    "    :param target_function:\n",
    "        function, that you want to execute like  target_function(item, *args, **kwargs).\n",
    "    :param items:\n",
    "        list of items for map\n",
    "    :param args:\n",
    "        positional arguments for target_function(item, *args, **kwargs)\n",
    "    :param kwargs:\n",
    "        named arguments for target_function(item, *args, **kwargs)\n",
    "    :return: tuple(function_wrapper, dumped_items)\n",
    "        It returs a tuple with\n",
    "            * function wrapper, that unpack and call target function;\n",
    "            * list of packed target function and its' arguments.\n",
    "    \"\"\"\n",
    "    dumped_function = dill.dumps(target_function)\n",
    "    dumped_items = [(dumped_function, item, args, kwargs) for item in items]\n",
    "    return apply_packed_function_for_map, dumped_items\n",
    "\n",
    "def getNodeEdge(filename):\n",
    "    df=pd.read_csv(filename,index_col=0)\n",
    "    df.drop_duplicates(['cust_a','cust_b'],inplace=True)\n",
    "    cond=(df.cust_a!=df.cust_b)\n",
    "    df=df[cond]\n",
    "    nodes=np.union1d(df.cust_a.unique(),df.cust_b.unique())\n",
    "    edges=df.values\n",
    "    return nodes,edges\n",
    "\n",
    "def getGraph(filename,U=True):\n",
    "    nodes,edges=getNodeEdge(filename)\n",
    "    if U:\n",
    "        G=TUNGraph.New()\n",
    "    else:\n",
    "        G=TNGraph.New()\n",
    "    for node in nodes:\n",
    "        G.AddNode(node) \n",
    "    ## 添加边\n",
    "    for A,B in edges:\n",
    "        G.AddEdge(A,B)\n",
    "    return G"
   ]
  },
  {
   "cell_type": "code",
   "execution_count": 2,
   "metadata": {
    "collapsed": true
   },
   "outputs": [],
   "source": [
    "# app_conatcts=getGraph('chapter1data/app_contacts.csv',U=False)\n",
    "# sms=getGraph('chapter1data/sms_net.csv',U=False)\n",
    "call_record=getGraph('chapter1data/call_record_net.csv',U=False)\n",
    "# sms_MxWcc=GetMxWcc_PNGraph(sms)    \n",
    "# app_conatcts_MxWcc=GetMxWcc_PNGraph(app_conatcts)\n",
    "call_record=GetMxWcc_PNGraph(call_record)"
   ]
  },
  {
   "cell_type": "code",
   "execution_count": 627,
   "metadata": {
    "collapsed": true
   },
   "outputs": [
    {
     "name": "stdout",
     "output_type": "stream",
     "text": [
      "number of Nodes: 3870431\n"
     ]
    },
    {
     "ename": "AssertionError",
     "evalue": "5 columns passed, passed data had 4 columns",
     "output_type": "error",
     "traceback": [
      "\u001b[1;31m---------------------------------------------------------------------------\u001b[0m",
      "\u001b[1;31mAssertionError\u001b[0m                            Traceback (most recent call last)",
      "\u001b[1;32m<ipython-input-627-9b51afd0cfda>\u001b[0m in \u001b[0;36m<module>\u001b[1;34m()\u001b[0m\n\u001b[1;32m----> 1\u001b[1;33m \u001b[0mget_ipython\u001b[0m\u001b[1;33m(\u001b[0m\u001b[1;33m)\u001b[0m\u001b[1;33m.\u001b[0m\u001b[0mrun_cell_magic\u001b[0m\u001b[1;33m(\u001b[0m\u001b[1;34mu'time'\u001b[0m\u001b[1;33m,\u001b[0m \u001b[1;34mu''\u001b[0m\u001b[1;33m,\u001b[0m \u001b[1;34mu\"import dill\\nfrom snap  import *\\nimport multiprocessing\\nfilename='chapter1data/call_record_MxWcc.out'\\nsample_num=10*10000\\n# pids=600\\n# save_fileanme='chapter1data/call_record_MxWcc.csv'\\n# call_record=LoadPajek_PUNGraph(filename)\\nCDRs=[NI.GetId() for NI in call_record.Nodes()]\\nprint 'number of Nodes:',len(CDRs)\\nnodes=np.array(CDRs)[np.random.randint(1,len(CDRs),sample_num)]\\npool = multiprocessing.Pool(600)\\nfeatures = pool.map(\\n     *pack_function_for_map(\\n        lambda  NI:[call_record.GetNI(NI).GetDeg(),GetNodeEcc(call_record,NI ),GetNodeClustCf(call_record,NI ),GetNodeTriads(call_record,NI )],\\n         nodes,\\n       \\n    )\\n)\\n## \\u6700\\u5927\\u6700\\u77ed\\u8def\\u5f84\\n## \\u8282\\u70b9\\u7684\\u805a\\u7c7b\\u7cfb\\u6570\\n## \\u8282\\u70b9\\u4e09\\u5143\\u95ed\\u5305\\u6570\\u91cf\\n## \\u8282\\u70b9\\u7684\\u5e73\\u5747\\u8def\\u52b2\\u957f\\u5ea6\\npd.DataFrame(features,columns=['Deg','NodeEcc','ClustCf','NodeTriads','FarnessCentr'],index=nodes).to_csv(save_fileanme)\"\u001b[0m\u001b[1;33m)\u001b[0m\u001b[1;33m\u001b[0m\u001b[0m\n\u001b[0m",
      "\u001b[1;32m/usr/bin/anaconda2/lib/python2.7/site-packages/IPython/core/interactiveshell.pyc\u001b[0m in \u001b[0;36mrun_cell_magic\u001b[1;34m(self, magic_name, line, cell)\u001b[0m\n\u001b[0;32m   2118\u001b[0m             \u001b[0mmagic_arg_s\u001b[0m \u001b[1;33m=\u001b[0m \u001b[0mself\u001b[0m\u001b[1;33m.\u001b[0m\u001b[0mvar_expand\u001b[0m\u001b[1;33m(\u001b[0m\u001b[0mline\u001b[0m\u001b[1;33m,\u001b[0m \u001b[0mstack_depth\u001b[0m\u001b[1;33m)\u001b[0m\u001b[1;33m\u001b[0m\u001b[0m\n\u001b[0;32m   2119\u001b[0m             \u001b[1;32mwith\u001b[0m \u001b[0mself\u001b[0m\u001b[1;33m.\u001b[0m\u001b[0mbuiltin_trap\u001b[0m\u001b[1;33m:\u001b[0m\u001b[1;33m\u001b[0m\u001b[0m\n\u001b[1;32m-> 2120\u001b[1;33m                 \u001b[0mresult\u001b[0m \u001b[1;33m=\u001b[0m \u001b[0mfn\u001b[0m\u001b[1;33m(\u001b[0m\u001b[0mmagic_arg_s\u001b[0m\u001b[1;33m,\u001b[0m \u001b[0mcell\u001b[0m\u001b[1;33m)\u001b[0m\u001b[1;33m\u001b[0m\u001b[0m\n\u001b[0m\u001b[0;32m   2121\u001b[0m             \u001b[1;32mreturn\u001b[0m \u001b[0mresult\u001b[0m\u001b[1;33m\u001b[0m\u001b[0m\n\u001b[0;32m   2122\u001b[0m \u001b[1;33m\u001b[0m\u001b[0m\n",
      "\u001b[1;32m<decorator-gen-60>\u001b[0m in \u001b[0;36mtime\u001b[1;34m(self, line, cell, local_ns)\u001b[0m\n",
      "\u001b[1;32m/usr/bin/anaconda2/lib/python2.7/site-packages/IPython/core/magic.pyc\u001b[0m in \u001b[0;36m<lambda>\u001b[1;34m(f, *a, **k)\u001b[0m\n\u001b[0;32m    191\u001b[0m     \u001b[1;31m# but it's overkill for just that one bit of state.\u001b[0m\u001b[1;33m\u001b[0m\u001b[1;33m\u001b[0m\u001b[0m\n\u001b[0;32m    192\u001b[0m     \u001b[1;32mdef\u001b[0m \u001b[0mmagic_deco\u001b[0m\u001b[1;33m(\u001b[0m\u001b[0marg\u001b[0m\u001b[1;33m)\u001b[0m\u001b[1;33m:\u001b[0m\u001b[1;33m\u001b[0m\u001b[0m\n\u001b[1;32m--> 193\u001b[1;33m         \u001b[0mcall\u001b[0m \u001b[1;33m=\u001b[0m \u001b[1;32mlambda\u001b[0m \u001b[0mf\u001b[0m\u001b[1;33m,\u001b[0m \u001b[1;33m*\u001b[0m\u001b[0ma\u001b[0m\u001b[1;33m,\u001b[0m \u001b[1;33m**\u001b[0m\u001b[0mk\u001b[0m\u001b[1;33m:\u001b[0m \u001b[0mf\u001b[0m\u001b[1;33m(\u001b[0m\u001b[1;33m*\u001b[0m\u001b[0ma\u001b[0m\u001b[1;33m,\u001b[0m \u001b[1;33m**\u001b[0m\u001b[0mk\u001b[0m\u001b[1;33m)\u001b[0m\u001b[1;33m\u001b[0m\u001b[0m\n\u001b[0m\u001b[0;32m    194\u001b[0m \u001b[1;33m\u001b[0m\u001b[0m\n\u001b[0;32m    195\u001b[0m         \u001b[1;32mif\u001b[0m \u001b[0mcallable\u001b[0m\u001b[1;33m(\u001b[0m\u001b[0marg\u001b[0m\u001b[1;33m)\u001b[0m\u001b[1;33m:\u001b[0m\u001b[1;33m\u001b[0m\u001b[0m\n",
      "\u001b[1;32m/usr/bin/anaconda2/lib/python2.7/site-packages/IPython/core/magics/execution.pyc\u001b[0m in \u001b[0;36mtime\u001b[1;34m(self, line, cell, local_ns)\u001b[0m\n\u001b[0;32m   1175\u001b[0m         \u001b[1;32melse\u001b[0m\u001b[1;33m:\u001b[0m\u001b[1;33m\u001b[0m\u001b[0m\n\u001b[0;32m   1176\u001b[0m             \u001b[0mst\u001b[0m \u001b[1;33m=\u001b[0m \u001b[0mclock2\u001b[0m\u001b[1;33m(\u001b[0m\u001b[1;33m)\u001b[0m\u001b[1;33m\u001b[0m\u001b[0m\n\u001b[1;32m-> 1177\u001b[1;33m             \u001b[1;32mexec\u001b[0m\u001b[1;33m(\u001b[0m\u001b[0mcode\u001b[0m\u001b[1;33m,\u001b[0m \u001b[0mglob\u001b[0m\u001b[1;33m,\u001b[0m \u001b[0mlocal_ns\u001b[0m\u001b[1;33m)\u001b[0m\u001b[1;33m\u001b[0m\u001b[0m\n\u001b[0m\u001b[0;32m   1178\u001b[0m             \u001b[0mend\u001b[0m \u001b[1;33m=\u001b[0m \u001b[0mclock2\u001b[0m\u001b[1;33m(\u001b[0m\u001b[1;33m)\u001b[0m\u001b[1;33m\u001b[0m\u001b[0m\n\u001b[0;32m   1179\u001b[0m             \u001b[0mout\u001b[0m \u001b[1;33m=\u001b[0m \u001b[0mNone\u001b[0m\u001b[1;33m\u001b[0m\u001b[0m\n",
      "\u001b[1;32m<timed exec>\u001b[0m in \u001b[0;36m<module>\u001b[1;34m()\u001b[0m\n",
      "\u001b[1;32m/usr/bin/anaconda2/lib/python2.7/site-packages/pandas/core/frame.pyc\u001b[0m in \u001b[0;36m__init__\u001b[1;34m(self, data, index, columns, dtype, copy)\u001b[0m\n\u001b[0;32m    303\u001b[0m                     \u001b[1;32mif\u001b[0m \u001b[0mis_named_tuple\u001b[0m\u001b[1;33m(\u001b[0m\u001b[0mdata\u001b[0m\u001b[1;33m[\u001b[0m\u001b[1;36m0\u001b[0m\u001b[1;33m]\u001b[0m\u001b[1;33m)\u001b[0m \u001b[1;32mand\u001b[0m \u001b[0mcolumns\u001b[0m \u001b[1;32mis\u001b[0m \u001b[0mNone\u001b[0m\u001b[1;33m:\u001b[0m\u001b[1;33m\u001b[0m\u001b[0m\n\u001b[0;32m    304\u001b[0m                         \u001b[0mcolumns\u001b[0m \u001b[1;33m=\u001b[0m \u001b[0mdata\u001b[0m\u001b[1;33m[\u001b[0m\u001b[1;36m0\u001b[0m\u001b[1;33m]\u001b[0m\u001b[1;33m.\u001b[0m\u001b[0m_fields\u001b[0m\u001b[1;33m\u001b[0m\u001b[0m\n\u001b[1;32m--> 305\u001b[1;33m                     \u001b[0marrays\u001b[0m\u001b[1;33m,\u001b[0m \u001b[0mcolumns\u001b[0m \u001b[1;33m=\u001b[0m \u001b[0m_to_arrays\u001b[0m\u001b[1;33m(\u001b[0m\u001b[0mdata\u001b[0m\u001b[1;33m,\u001b[0m \u001b[0mcolumns\u001b[0m\u001b[1;33m,\u001b[0m \u001b[0mdtype\u001b[0m\u001b[1;33m=\u001b[0m\u001b[0mdtype\u001b[0m\u001b[1;33m)\u001b[0m\u001b[1;33m\u001b[0m\u001b[0m\n\u001b[0m\u001b[0;32m    306\u001b[0m                     \u001b[0mcolumns\u001b[0m \u001b[1;33m=\u001b[0m \u001b[0m_ensure_index\u001b[0m\u001b[1;33m(\u001b[0m\u001b[0mcolumns\u001b[0m\u001b[1;33m)\u001b[0m\u001b[1;33m\u001b[0m\u001b[0m\n\u001b[0;32m    307\u001b[0m \u001b[1;33m\u001b[0m\u001b[0m\n",
      "\u001b[1;32m/usr/bin/anaconda2/lib/python2.7/site-packages/pandas/core/frame.pyc\u001b[0m in \u001b[0;36m_to_arrays\u001b[1;34m(data, columns, coerce_float, dtype)\u001b[0m\n\u001b[0;32m   5517\u001b[0m     \u001b[1;32mif\u001b[0m \u001b[0misinstance\u001b[0m\u001b[1;33m(\u001b[0m\u001b[0mdata\u001b[0m\u001b[1;33m[\u001b[0m\u001b[1;36m0\u001b[0m\u001b[1;33m]\u001b[0m\u001b[1;33m,\u001b[0m \u001b[1;33m(\u001b[0m\u001b[0mlist\u001b[0m\u001b[1;33m,\u001b[0m \u001b[0mtuple\u001b[0m\u001b[1;33m)\u001b[0m\u001b[1;33m)\u001b[0m\u001b[1;33m:\u001b[0m\u001b[1;33m\u001b[0m\u001b[0m\n\u001b[0;32m   5518\u001b[0m         return _list_to_arrays(data, columns, coerce_float=coerce_float,\n\u001b[1;32m-> 5519\u001b[1;33m                                dtype=dtype)\n\u001b[0m\u001b[0;32m   5520\u001b[0m     \u001b[1;32melif\u001b[0m \u001b[0misinstance\u001b[0m\u001b[1;33m(\u001b[0m\u001b[0mdata\u001b[0m\u001b[1;33m[\u001b[0m\u001b[1;36m0\u001b[0m\u001b[1;33m]\u001b[0m\u001b[1;33m,\u001b[0m \u001b[0mcollections\u001b[0m\u001b[1;33m.\u001b[0m\u001b[0mMapping\u001b[0m\u001b[1;33m)\u001b[0m\u001b[1;33m:\u001b[0m\u001b[1;33m\u001b[0m\u001b[0m\n\u001b[0;32m   5521\u001b[0m         return _list_of_dict_to_arrays(data, columns,\n",
      "\u001b[1;32m/usr/bin/anaconda2/lib/python2.7/site-packages/pandas/core/frame.pyc\u001b[0m in \u001b[0;36m_list_to_arrays\u001b[1;34m(data, columns, coerce_float, dtype)\u001b[0m\n\u001b[0;32m   5596\u001b[0m         \u001b[0mcontent\u001b[0m \u001b[1;33m=\u001b[0m \u001b[0mlist\u001b[0m\u001b[1;33m(\u001b[0m\u001b[0mlib\u001b[0m\u001b[1;33m.\u001b[0m\u001b[0mto_object_array\u001b[0m\u001b[1;33m(\u001b[0m\u001b[0mdata\u001b[0m\u001b[1;33m)\u001b[0m\u001b[1;33m.\u001b[0m\u001b[0mT\u001b[0m\u001b[1;33m)\u001b[0m\u001b[1;33m\u001b[0m\u001b[0m\n\u001b[0;32m   5597\u001b[0m     return _convert_object_array(content, columns, dtype=dtype,\n\u001b[1;32m-> 5598\u001b[1;33m                                  coerce_float=coerce_float)\n\u001b[0m\u001b[0;32m   5599\u001b[0m \u001b[1;33m\u001b[0m\u001b[0m\n\u001b[0;32m   5600\u001b[0m \u001b[1;33m\u001b[0m\u001b[0m\n",
      "\u001b[1;32m/usr/bin/anaconda2/lib/python2.7/site-packages/pandas/core/frame.pyc\u001b[0m in \u001b[0;36m_convert_object_array\u001b[1;34m(content, columns, coerce_float, dtype)\u001b[0m\n\u001b[0;32m   5655\u001b[0m             \u001b[1;31m# caller's responsibility to check for this...\u001b[0m\u001b[1;33m\u001b[0m\u001b[1;33m\u001b[0m\u001b[0m\n\u001b[0;32m   5656\u001b[0m             raise AssertionError('%d columns passed, passed data had %s '\n\u001b[1;32m-> 5657\u001b[1;33m                                  'columns' % (len(columns), len(content)))\n\u001b[0m\u001b[0;32m   5658\u001b[0m \u001b[1;33m\u001b[0m\u001b[0m\n\u001b[0;32m   5659\u001b[0m     \u001b[1;31m# provide soft conversion of object dtypes\u001b[0m\u001b[1;33m\u001b[0m\u001b[1;33m\u001b[0m\u001b[0m\n",
      "\u001b[1;31mAssertionError\u001b[0m: 5 columns passed, passed data had 4 columns"
     ]
    }
   ],
   "source": [
    "%%time\n",
    "import dill\n",
    "from snap  import *\n",
    "import multiprocessing\n",
    "filename='chapter1data/call_record_MxWcc.out'\n",
    "sample_num=10*10000\n",
    "# pids=600\n",
    "# save_fileanme='chapter1data/call_record_MxWcc.csv'\n",
    "# call_record=LoadPajek_PUNGraph(filename)\n",
    "CDRs=[NI.GetId() for NI in call_record.Nodes()]\n",
    "print 'number of Nodes:',len(CDRs)\n",
    "nodes=np.array(CDRs)[np.random.randint(1,len(CDRs),sample_num)]\n",
    "pool = multiprocessing.Pool(600)\n",
    "features = pool.map(\n",
    "     *pack_function_for_map(\n",
    "        lambda  NI:[call_record.GetNI(NI).GetDeg(),GetNodeEcc(call_record,NI ),GetNodeClustCf(call_record,NI ),GetNodeTriads(call_record,NI )],\n",
    "         nodes,\n",
    "       \n",
    "    )\n",
    ")\n",
    "## 最大最短路径\n",
    "## 节点的聚类系数\n",
    "## 节点三元闭包数量\n",
    "## 节点的平均路劲长度\n",
    "pd.DataFrame(features,columns=['Deg','NodeEcc','ClustCf','NodeTriads','FarnessCentr'],index=nodes).to_csv(save_fileanme)"
   ]
  },
  {
   "cell_type": "code",
   "execution_count": 630,
   "metadata": {
    "collapsed": false
   },
   "outputs": [],
   "source": [
    "pd.DataFrame(features,columns=['Deg','NodeEcc','ClustCf','NodeTriads'],index=nodes).to_csv('chapter1data/CDRs_mx_stats.csv')"
   ]
  },
  {
   "cell_type": "code",
   "execution_count": 4,
   "metadata": {
    "collapsed": false
   },
   "outputs": [],
   "source": [
    "CDRs=pd.read_csv('chapter1data/CDRs_mx_stats.csv',index_col=0)"
   ]
  },
  {
   "cell_type": "code",
   "execution_count": 5,
   "metadata": {
    "collapsed": false
   },
   "outputs": [],
   "source": [
    "import seaborn as sns\n",
    "def GetPlotClust(df):\n",
    "    df_cut=pd.cut(df.ClustCf,bins=10,labels=np.arange(0,1,0.1))\n",
    "    df_cut_cnt=df_cut.value_counts()\n",
    "    df_stats=(df_cut_cnt/df_cut_cnt.sum()).sort_index()\n",
    "    return df_stats"
   ]
  },
  {
   "cell_type": "code",
   "execution_count": 12,
   "metadata": {
    "collapsed": false
   },
   "outputs": [
    {
     "data": {
      "text/plain": [
       "<matplotlib.axes._subplots.AxesSubplot at 0x7fffbc1c2b50>"
      ]
     },
     "execution_count": 12,
     "metadata": {},
     "output_type": "execute_result"
    },
    {
     "data": {
      "image/png": "[encoded data removed]",
      "text/plain": [
       "<matplotlib.figure.Figure at 0x7fffbc140dd0>"
      ]
     },
     "metadata": {},
     "output_type": "display_data"
    }
   ],
   "source": [
    "GetPlotClust(CDRs)[1:].plot.bar(color='red')"
   ]
  },
  {
   "cell_type": "code",
   "execution_count": null,
   "metadata": {
    "collapsed": true
   },
   "outputs": [],
   "source": []
  },
  {
   "cell_type": "code",
   "execution_count": 715,
   "metadata": {
    "collapsed": false
   },
   "outputs": [
    {
     "data": {
      "text/plain": [
       "<matplotlib.text.Text at 0x7fff8a8296d0>"
      ]
     },
     "execution_count": 715,
     "metadata": {},
     "output_type": "execute_result"
    },
    {
     "data": {
      "image/png": "[encoded data removed]",
      "text/plain": [
       "<matplotlib.figure.Figure at 0x7fff8a98b8d0>"
      ]
     },
     "metadata": {},
     "output_type": "display_data"
    }
   ],
   "source": [
    "\n",
    "import matplotlib.pyplot as plt\n",
    "import matplotlib\n",
    "from pylab import mpl\n",
    "myfont = matplotlib.font_manager.FontProperties(fname='chapter1data/simhei.ttf')  \n",
    "mpl.rcParams['axes.unicode_minus'] = False \n",
    "\n",
    "def GetPlotClust(df):\n",
    "    df_cut=pd.cut(df.ClustCf,bins=11,labels=np.arange(0,1.1,0.1))\n",
    "    df_cut_cnt=df_cut.value_counts()\n",
    "    df_stats=(df_cut_cnt/df_cut_cnt.sum()).sort_index()\n",
    "    return df_stats\n",
    "ax=GetPlotClust(CDR).plot.bar(color='red',rot=50,title='CDRs',figsize=(5,4))\n",
    "ax.set_xlabel('(b)')"
   ]
  },
  {
   "cell_type": "code",
   "execution_count": 14,
   "metadata": {
    "collapsed": false
   },
   "outputs": [],
   "source": [
    "MPCs=LoadPajek_PUNGraph('chapter1data/app_conatcts_MxWcc.out')"
   ]
  },
  {
   "cell_type": "code",
   "execution_count": 16,
   "metadata": {
    "collapsed": false
   },
   "outputs": [
    {
     "data": {
      "text/plain": [
       "5260679"
      ]
     },
     "execution_count": 16,
     "metadata": {},
     "output_type": "execute_result"
    }
   ],
   "source": [
    "MPCs.GetNodes()"
   ]
  },
  {
   "cell_type": "code",
   "execution_count": 25,
   "metadata": {
    "collapsed": false
   },
   "outputs": [
    {
     "name": "stdout",
     "output_type": "stream",
     "text": [
      "Core exists for K=5\n"
     ]
    }
   ],
   "source": [
    "import snap\n",
    "\n",
    "Graph = snap.GenRndGnm(snap.PNGraph, 100, 1000)\n",
    "K = 5\n",
    "KCore = snap.GetKCore(Graph, K)\n",
    "if KCore.Empty():\n",
    "    print 'No Core exists for K=%d' % K\n",
    "else:\n",
    "    print 'Core exists for K=%d' % K"
   ]
  },
  {
   "cell_type": "code",
   "execution_count": 33,
   "metadata": {
    "collapsed": false
   },
   "outputs": [
    {
     "name": "stdout",
     "output_type": "stream",
     "text": [
      "order: 0 nodes: 30\n",
      "order: 1 nodes: 30\n",
      "order: 2 nodes: 30\n",
      "order: 3 nodes: 30\n",
      "order: 4 nodes: 30\n",
      "order: 5 nodes: 30\n",
      "order: 6 nodes: 30\n",
      "order: 7 nodes: 30\n",
      "order: 8 nodes: 30\n",
      "order: 9 nodes: 30\n",
      "order: 10 nodes: 30\n",
      "order: 11 nodes: 30\n",
      "order: 12 nodes: 30\n",
      "order: 13 nodes: 30\n",
      "order: 14 nodes: 30\n",
      "order: 15 nodes: 30\n",
      "order: 16 nodes: 27\n"
     ]
    }
   ],
   "source": [
    "import snap\n",
    "\n",
    "Graph = snap.GenRndGnm(snap.PNGraph, 30, 300)\n",
    "CoreIDSzV = snap.TIntPrV()\n",
    "kValue = snap.GetKCoreNodes(Graph, CoreIDSzV)\n",
    "for item in CoreIDSzV:\n",
    "    print \"order: %d nodes: %d\" % (item.GetVal1(), item.GetVal2())\n"
   ]
  }
 ],
 "metadata": {
  "kernelspec": {
   "display_name": "Python [Root]",
   "language": "python",
   "name": "Python [Root]"
  },
  "language_info": {
   "codemirror_mode": {
    "name": "ipython",
    "version": 2
   },
   "file_extension": ".py",
   "mimetype": "text/x-python",
   "name": "python",
   "nbconvert_exporter": "python",
   "pygments_lexer": "ipython2",
   "version": "2.7.12"
  }
 },
 "nbformat": 4,
 "nbformat_minor": 0
}
